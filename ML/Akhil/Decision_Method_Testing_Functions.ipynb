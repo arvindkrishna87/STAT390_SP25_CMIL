{
 "cells": [
  {
   "cell_type": "markdown",
   "id": "FcfjBWuOaDG9",
   "metadata": {
    "id": "FcfjBWuOaDG9"
   },
   "source": [
    "**1) Import Dependencies and mount drive**"
   ]
  },
  {
   "cell_type": "code",
   "execution_count": 1,
   "id": "Ltck71bOCMrq",
   "metadata": {
    "executionInfo": {
     "elapsed": 5957,
     "status": "ok",
     "timestamp": 1746469615635,
     "user": {
      "displayName": "David Gormley",
      "userId": "01598674270120528744"
     },
     "user_tz": 300
    },
    "id": "Ltck71bOCMrq"
   },
   "outputs": [],
   "source": [
    "# stdlib\n",
    "import os, re, struct\n",
    "import glob\n",
    "import numpy as np\n",
    "from concurrent.futures import ThreadPoolExecutor, as_completed\n",
    "import numpy as np\n",
    "from PIL import Image\n",
    "from tqdm import tqdm\n",
    "\n",
    "# data & imaging\n",
    "import pandas as pd\n",
    "from sklearn.svm import SVC, LinearSVC\n",
    "from sklearn.pipeline import make_pipeline, Pipeline\n",
    "from sklearn.preprocessing import StandardScaler\n",
    "from sklearn.model_selection import train_test_split, GridSearchCV\n",
    "from PIL import Image\n",
    "from tqdm.auto import tqdm\n",
    "\n",
    "# PyTorch\n",
    "import torch\n",
    "import torch.nn as nn\n",
    "from torch.nn.functional import softmax\n",
    "import torch.optim as optim\n",
    "import torch.backends.cudnn as cudnn\n",
    "from torch.utils.data import Dataset, DataLoader, WeightedRandomSampler\n",
    "\n",
    "# torchvision\n",
    "import torchvision\n",
    "from torchvision import transforms\n",
    "\n",
    "# metrics & plotting\n",
    "from sklearn.metrics import accuracy_score, precision_score, recall_score, f1_score, confusion_matrix, ConfusionMatrixDisplay\n",
    "import seaborn as sns\n",
    "import matplotlib.pyplot as plt\n",
    "\n",
    "# Colab\n",
    "#from google.colab import drive"
   ]
  },
  {
   "cell_type": "code",
   "execution_count": 2,
   "id": "2ER8V-OcCPS7",
   "metadata": {
    "colab": {
     "base_uri": "https://localhost:8080/"
    },
    "executionInfo": {
     "elapsed": 2660,
     "status": "ok",
     "timestamp": 1746469618302,
     "user": {
      "displayName": "David Gormley",
      "userId": "01598674270120528744"
     },
     "user_tz": 300
    },
    "id": "2ER8V-OcCPS7",
    "outputId": "d1dd02ea-512f-4cde-f258-c20c9c2a1529"
   },
   "outputs": [],
   "source": [
    "# ─── 1) MOUNT GOOGLE DRIVE ──────────────────────────────────────────────\n",
    "# drive.mount('/content/drive', force_remount=True)\n",
    "\n",
    "# ─── 2) DEVICE & CUDNN ──────────────────────────────────────────────────\n",
    "device = torch.device('cuda' if torch.cuda.is_available() else 'cpu')\n",
    "cudnn.benchmark = True  # auto‐tune for fixed input sizes"
   ]
  },
  {
   "cell_type": "markdown",
   "id": "8_PH8UCdaHRR",
   "metadata": {
    "id": "8_PH8UCdaHRR"
   },
   "source": [
    "**2. Train Model**\n",
    "- We can adjust the following\n",
    "    - Restricting image size: min and max image width used for training and evaluation\n",
    "    - Stain type\n",
    "    - Train and test cases"
   ]
  },
  {
   "cell_type": "code",
   "execution_count": 11,
   "id": "c46b8aa2-82e1-4710-8483-14068810ab3e",
   "metadata": {},
   "outputs": [],
   "source": [
    "case_lab = []\n",
    "for case in labels_df[labels_df['Class'].isin([1,4])]['Case']:\n",
    "    case_lab.append(class_map[case])\n",
    "case_df = pd.DataFrame({'Case': labels_df[labels_df['Class'].isin([1,4])]['Case'], 'Class': case_lab})"
   ]
  },
  {
   "cell_type": "code",
   "execution_count": 13,
   "id": "0570137e-50ef-47af-9751-76d074167a8c",
   "metadata": {},
   "outputs": [],
   "source": [
    "tr_cases, tst_cases = train_test_split(case_df, train_size = 0.8)\n",
    "tr_cases = tr_cases['Case'].to_list()\n",
    "tst_cases = tst_cases['Case'].to_list()"
   ]
  },
  {
   "cell_type": "code",
   "execution_count": 25,
   "id": "VrpkXhHMS9aF",
   "metadata": {
    "colab": {
     "base_uri": "https://localhost:8080/",
     "height": 402,
     "referenced_widgets": [
      "60257e79487a4a6190e73eab9ca3f15b",
      "d940fcf646c241a1815a06fa894501a8",
      "b8fd8e0ac6e341f2a2083cef713ff41e",
      "82d3cba2227d4c24845400829cca7bd9",
      "8686da8b25a14800b7ac6fa47ca05b09",
      "21b959811b3f4ba2ae6758d4d8726c26",
      "292130b8271d4fa48fabc7e64a0646f0",
      "64fcd841f16449e19eac28752b1a3d56",
      "6d0389d4c4ba4a3bbc4055f85deec892",
      "ebc5da7747e04f569f678458e0abd241",
      "e16f730eb6c64f5199af87d7c9f40493",
      "4a1820def8574605ba6cdb29427026ed",
      "0509e2003d874f74bd46c723591b835d",
      "fde31fb02ac74404800697f3a9641b5b",
      "71d6a80a9d694d849589be7c696952ea",
      "f8407cef6eaa43f1a353b6c467e4c1a1",
      "80f47a533069412cbd7ded3f3c10d472",
      "a343aec2b1d947b3a0acfdb5b721fa9f",
      "e5588530bd7f43a58544050433da28a5",
      "00b84febfbd94f13898cb7daaf73a167",
      "052dd5045c3b41339bf57aec3b2d6f19",
      "6f24112efd5045439f6f196f5223ca32",
      "4acc1d42956842cc9b5570aa418da701",
      "4b93685be50c41b784d9ca9013bd2cc3",
      "b630101f0bdb41bca7c7db52ac4bf979",
      "55a364754842404fb800894486de9f0a",
      "c9c45f3be878462cb29c88599e471751",
      "a02c233991694ca6b9fd4b73ee412120",
      "163a9e16e6d94d64ac59858476875521",
      "66785ea6333648ceb1af135d00bf86ea",
      "abdbf15ee03647808fcaeb945b83edb4",
      "74d345e0ae434c358a1311db1b2057bd",
      "4cfd5a8c40e64c1aaf3bc632024bef94",
      "60e989cf3ade4fdbbb15e1868de12c48",
      "8c0ca1d7736141fdbec27ffe020c878a",
      "8cf58014529e4376af8e66013db20dc6",
      "b16d624a0697456ea851d13c491e0795",
      "822815cb8f4949ca9fb89887ee47d178",
      "04e806e80034429b84c0d1f673070ab2",
      "bedf0418d1a84ed99875a8397e9a2ad0",
      "5322685885e54ffb815c96547b8ccee2",
      "4745dc9b30ce46729b7080d7b52760d2",
      "d046e1dcebce46c7bc544d4fa38c2273",
      "7e24c6cbd49248838796a8dd462dd297",
      "41126bcb5dfa49d1b68f248ea89aea98",
      "cbca1e1a0986456dab9057cecddb4959",
      "7356ceb517b844cfbea197cf61cf0461",
      "d44ca3b0864141c298cdd6033c124d43",
      "dad27de1ebc643fe9316b4cf1a9d40d2",
      "ab9a42b5b94f446d866e64f421b55b56",
      "a46d1d2633bf4a40877bf6820aad7967",
      "515daa71984d487885a92f8270ea4df9",
      "dff0065cc3fb4968a616006a3bc5c994",
      "87536a50750249c499a316a91e129f13",
      "9c60aab6cd654869aee622b402a731e2",
      "b80d1dcc25b143e5ab9e479e39cf1549",
      "60a1e7e398394a3b896311ff5c906212",
      "0216af7a1edd4f4d931daf73530fdc27",
      "6cbdc46f634643b0aba4867df26c6266",
      "bc20347a6a5b4d609974931f2bff91ec",
      "0e32f3f5903e433c99c17bbfaf486583",
      "6a6bcacf321b4073bdb102492b71b151",
      "f05626765a5c44979892b83bc3ea9390",
      "4d98003d209e41de8f5b9b13198f2788",
      "9bd0c3cb0e644125986a7aca61a97ab4",
      "749b9c70ee3a4c0abd2a2dd6fdb23f6c",
      "e2646a1249be4b7b8aaf882a55bc827f",
      "f0976bd017cb4ec78c6d7de83c7bf6e4",
      "3b94a14962de4b50978e55f9ab481a98",
      "f21ba90e23d54a6c8275ee69333429fa",
      "9e45d414ce4048ffb4198745a6d9fecc",
      "cb8ce45aa6164fa78e81e4e389b70541",
      "27e9aa707f2a4955b8cadd0462adde23",
      "a89820636c1d426f94e07262d70bc619",
      "d78589f1c21247ddb1397b62219fb0ae",
      "48cc17dce4e64dca941370f033b68322",
      "4bb069fa05d24193a715e19463454838",
      "2a8949c9c3be467fbda11b90a787328f",
      "a23d3b1159024cb6beefa01a18476d17",
      "559fb8636aec471284b7e25b7e29cf35",
      "b01f3c784bfc490396835db4cf44663b",
      "6d5e02f6b34b450fadba2d19e10ff081",
      "868e0ee249eb4557a87d2586774934ab",
      "e0945e41bb90410dabd50893902fc635",
      "9713a48363734ff09057aa06e8ca0206",
      "c13b7d77abe04ca19a4f456cbbb79766",
      "02064be8af8040c9a9810d52c415260d",
      "6e9c3ec260a74328b268447b88ba09c7",
      "b5f7806d475b48ba99011b7cb22bbcae",
      "e82202d8b493480eb1ce8200b03a37d2",
      "555c2f474a6b4bd7a2e7daf42730a71e",
      "0e3889ea43da463d84e4cae45e7e0869",
      "224b1f5a76c54742991001999530e92d",
      "3e4dcff607914fe993a71d20dbb12a33",
      "2b27206bdd4c444c883ec6d26a29a4af",
      "103b5eb847774c019737060849d950e9",
      "d5cc6b5083b04385acaf1c6e5a5dd0a2",
      "4a630ef6af5e433296771d1f930ed847",
      "e7b12082db10412795b9f4faee70982a",
      "a913d0e61cc94e139ce9b58bf7afb420",
      "3005becb15dc40ada5e4eec04e1bbb37",
      "bd02bf1f0c2645d1976e4cee786c597d",
      "5b290fbf1de741168f0c0195b32cbdc3",
      "6754c7c05b0c4e658d3c69f1f851426d",
      "f786985069664a2fb078e944816be074",
      "ae2e54a21e744bf7b4c38e094df4ea59",
      "7651d807478c41e5a9801947e03d7768",
      "b22b63691a554ffc991e04e38ebdb72d",
      "0bea4e60253441e3990c09ebdf37bfd0",
      "2a7999ce68c84aebbb3a6382bb7815f8"
     ]
    },
    "executionInfo": {
     "elapsed": 33965,
     "status": "ok",
     "timestamp": 1746469652266,
     "user": {
      "displayName": "David Gormley",
      "userId": "01598674270120528744"
     },
     "user_tz": 300
    },
    "id": "VrpkXhHMS9aF",
    "outputId": "1853f598-e6c0-4bcc-dc4e-41d4709e53e0"
   },
   "outputs": [
    {
     "name": "stderr",
     "output_type": "stream",
     "text": [
      "C:\\Users\\akhil\\anaconda3\\Lib\\site-packages\\torchvision\\models\\_utils.py:208: UserWarning: The parameter 'pretrained' is deprecated since 0.13 and may be removed in the future, please use 'weights' instead.\n",
      "  warnings.warn(\n",
      "C:\\Users\\akhil\\anaconda3\\Lib\\site-packages\\torchvision\\models\\_utils.py:223: UserWarning: Arguments other than a weight enum or `None` for 'weights' are deprecated since 0.13 and may be removed in the future. The current behavior is equivalent to passing `weights=AlexNet_Weights.IMAGENET1K_V1`. You can also use `weights=AlexNet_Weights.DEFAULT` to get the most up-to-date weights.\n",
      "  warnings.warn(msg)\n",
      "C:\\Users\\akhil\\AppData\\Local\\Temp\\ipykernel_17548\\2066604481.py:134: FutureWarning: `torch.cuda.amp.GradScaler(args...)` is deprecated. Please use `torch.amp.GradScaler('cuda', args...)` instead.\n",
      "  scaler = torch.cuda.amp.GradScaler()\n"
     ]
    },
    {
     "data": {
      "application/vnd.jupyter.widget-view+json": {
       "model_id": "e70769d4d1784daebc451c9129f6de26",
       "version_major": 2,
       "version_minor": 0
      },
      "text/plain": [
       "Epoch 1/10:   0%|          | 0/81 [00:00<?, ?it/s]"
      ]
     },
     "metadata": {},
     "output_type": "display_data"
    },
    {
     "name": "stderr",
     "output_type": "stream",
     "text": [
      "C:\\Users\\akhil\\AppData\\Local\\Temp\\ipykernel_17548\\2066604481.py:144: FutureWarning: `torch.cuda.amp.autocast(args...)` is deprecated. Please use `torch.amp.autocast('cuda', args...)` instead.\n",
      "  with torch.cuda.amp.autocast(): outputs = model(imgs); loss = criterion(outputs, lbls)\n"
     ]
    },
    {
     "name": "stdout",
     "output_type": "stream",
     "text": [
      "Epoch 1: Train Loss = 0.4993\n"
     ]
    },
    {
     "data": {
      "application/vnd.jupyter.widget-view+json": {
       "model_id": "c8404a8c2f4c4fa78b9bc96054355035",
       "version_major": 2,
       "version_minor": 0
      },
      "text/plain": [
       "Epoch 2/10:   0%|          | 0/81 [00:00<?, ?it/s]"
      ]
     },
     "metadata": {},
     "output_type": "display_data"
    },
    {
     "name": "stdout",
     "output_type": "stream",
     "text": [
      "Epoch 2: Train Loss = 0.4073\n"
     ]
    },
    {
     "data": {
      "application/vnd.jupyter.widget-view+json": {
       "model_id": "b6171950fe3f4fdba8de6c53ef8d1572",
       "version_major": 2,
       "version_minor": 0
      },
      "text/plain": [
       "Epoch 3/10:   0%|          | 0/81 [00:00<?, ?it/s]"
      ]
     },
     "metadata": {},
     "output_type": "display_data"
    },
    {
     "name": "stdout",
     "output_type": "stream",
     "text": [
      "Epoch 3: Train Loss = 0.3862\n"
     ]
    },
    {
     "data": {
      "application/vnd.jupyter.widget-view+json": {
       "model_id": "7db1a99b455640d5b4a635a357d482b8",
       "version_major": 2,
       "version_minor": 0
      },
      "text/plain": [
       "Epoch 4/10:   0%|          | 0/81 [00:00<?, ?it/s]"
      ]
     },
     "metadata": {},
     "output_type": "display_data"
    },
    {
     "name": "stdout",
     "output_type": "stream",
     "text": [
      "Epoch 4: Train Loss = 0.3842\n"
     ]
    },
    {
     "data": {
      "application/vnd.jupyter.widget-view+json": {
       "model_id": "a80ea2a6c6214f2d848aade40d01f5ce",
       "version_major": 2,
       "version_minor": 0
      },
      "text/plain": [
       "Epoch 5/10:   0%|          | 0/81 [00:00<?, ?it/s]"
      ]
     },
     "metadata": {},
     "output_type": "display_data"
    },
    {
     "name": "stdout",
     "output_type": "stream",
     "text": [
      "Epoch 5: Train Loss = 0.3584\n"
     ]
    },
    {
     "data": {
      "application/vnd.jupyter.widget-view+json": {
       "model_id": "2a0499f6f84c44b89652d4e8762ff9c0",
       "version_major": 2,
       "version_minor": 0
      },
      "text/plain": [
       "Epoch 6/10:   0%|          | 0/81 [00:00<?, ?it/s]"
      ]
     },
     "metadata": {},
     "output_type": "display_data"
    },
    {
     "name": "stdout",
     "output_type": "stream",
     "text": [
      "Epoch 6: Train Loss = 0.3785\n"
     ]
    },
    {
     "data": {
      "application/vnd.jupyter.widget-view+json": {
       "model_id": "d1c42105f7c64ff1b481b85412d11f85",
       "version_major": 2,
       "version_minor": 0
      },
      "text/plain": [
       "Epoch 7/10:   0%|          | 0/81 [00:00<?, ?it/s]"
      ]
     },
     "metadata": {},
     "output_type": "display_data"
    },
    {
     "name": "stdout",
     "output_type": "stream",
     "text": [
      "Epoch 7: Train Loss = 0.3585\n"
     ]
    },
    {
     "data": {
      "application/vnd.jupyter.widget-view+json": {
       "model_id": "fc14355029394e3bba45ef9ed28b0d31",
       "version_major": 2,
       "version_minor": 0
      },
      "text/plain": [
       "Epoch 8/10:   0%|          | 0/81 [00:00<?, ?it/s]"
      ]
     },
     "metadata": {},
     "output_type": "display_data"
    },
    {
     "name": "stdout",
     "output_type": "stream",
     "text": [
      "Epoch 8: Train Loss = 0.3567\n"
     ]
    },
    {
     "data": {
      "application/vnd.jupyter.widget-view+json": {
       "model_id": "7abfa457c99649cdbb28c49977b8e314",
       "version_major": 2,
       "version_minor": 0
      },
      "text/plain": [
       "Epoch 9/10:   0%|          | 0/81 [00:00<?, ?it/s]"
      ]
     },
     "metadata": {},
     "output_type": "display_data"
    },
    {
     "name": "stdout",
     "output_type": "stream",
     "text": [
      "Epoch 9: Train Loss = 0.3537\n"
     ]
    },
    {
     "data": {
      "application/vnd.jupyter.widget-view+json": {
       "model_id": "50c29a7bb2214990ba39727cf207511e",
       "version_major": 2,
       "version_minor": 0
      },
      "text/plain": [
       "Epoch 10/10:   0%|          | 0/81 [00:00<?, ?it/s]"
      ]
     },
     "metadata": {},
     "output_type": "display_data"
    },
    {
     "name": "stdout",
     "output_type": "stream",
     "text": [
      "Epoch 10: Train Loss = 0.3630\n",
      "Test Accuracy: 67.02%\n"
     ]
    }
   ],
   "source": [
    "# ─── 1) CONFIG ──────────────────────────────────────────────────────────\n",
    "image_folder = 'Patches_Apr27'\n",
    "train_cases  = [2,1,22,9,34,38,53,55,78,62,85,89,21,3,45,49]\n",
    "test_cases   = [77,60,79,70,90,92,25,12]\n",
    "train_cases  = [2,1,22,34,53,55,78,62,85,89,21,3,45,49] # Change train cases for ones w/ more patches\n",
    "test_cases   = [9,38,77,60,79,70,90,92,25,12] # Change test cases for ones w/ more patches\n",
    "train_cases = tr_cases\n",
    "test_cases = tst_cases\n",
    "batch_size   = 64\n",
    "num_workers  = 0\n",
    "lr           = 1e-3\n",
    "num_epochs   = 10\n",
    "stains       = ['sox10']               # adjust list as needed\n",
    "min_width    = 4\n",
    "max_width    = 2048\n",
    "meta_csv     = 'patch_metadata.csv'\n",
    "\n",
    "device = torch.device('cuda' if torch.cuda.is_available() else 'cpu')\n",
    "\n",
    "# ─── 2) LABEL CSV & MAP ─────────────────────────────────────────────────\n",
    "labels_df = pd.read_csv(\n",
    "    \"case_grade_match.csv\"\n",
    ").drop(index=64, errors='ignore').reset_index(drop=True)\n",
    "class_map = {int(r.Case): (0 if r.Class == 1 else 1) for _, r in labels_df.iterrows()}\n",
    "\n",
    "# ─── 3) METADATA BUILD/LOAD ──────────────────────────────────────────────\n",
    "def build_metadata():\n",
    "    #if os.path.exists(meta_csv):\n",
    "        #return pd.read_csv(meta_csv)\n",
    "    # gather all files\n",
    "    all_files = [os.path.join(dp, f)\n",
    "                 for dp, _, fs in os.walk(image_folder)\n",
    "                 for f in fs if f.lower().endswith('.png')]\n",
    "\n",
    "    def process(p):\n",
    "        basename = os.path.basename(p)\n",
    "        cid_m    = re.search(r'case_(\\d+)_', basename, re.IGNORECASE)\n",
    "        if not cid_m:\n",
    "            return None\n",
    "        cid = int(cid_m.group(1))\n",
    "        # case filter\n",
    "        if cid not in set(train_cases + test_cases):\n",
    "            return None\n",
    "        # stain filter\n",
    "        name_low = basename.lower()\n",
    "        stain = next((s for s in stains if s in name_low), None)\n",
    "        if not stain:\n",
    "            return None\n",
    "        # header parse\n",
    "        try:\n",
    "            with open(p, 'rb') as f:\n",
    "                hdr = f.read(24)\n",
    "            w = struct.unpack('>I', hdr[16:20])[0]\n",
    "            h = struct.unpack('>I', hdr[20:24])[0]\n",
    "        except:\n",
    "            return None\n",
    "        label = class_map.get(cid)\n",
    "        return {'path': p, 'case_number': cid, 'stain': stain,\n",
    "                'width': w, 'height': h, 'label': label}\n",
    "\n",
    "    with ThreadPoolExecutor(max_workers=8) as exe:\n",
    "        results = list(exe.map(process, all_files))\n",
    "    df_meta = pd.DataFrame([r for r in results if r])\n",
    "    df_meta.to_csv(meta_csv, index=False)\n",
    "    return df_meta\n",
    "\n",
    "df_meta = build_metadata()\n",
    "\n",
    "# ─── 4) FILTER FOR TRAIN/TEST ────────────────────────────────────────────\n",
    "def filter_meta(df, cases):\n",
    "    df2 = df[df.case_number.isin(cases)]\n",
    "    df2 = df2[(df2.width > min_width) & (df2.width < max_width)]\n",
    "    df2 = df2[df2.stain.isin(stains)]\n",
    "    return df2\n",
    "\n",
    "df_train = filter_meta(df_meta, train_cases)\n",
    "df_test  = filter_meta(df_meta, test_cases)\n",
    "\n",
    "train_labels = df_train['label'].values\n",
    "class_counts = np.bincount(train_labels)\n",
    "class_weights = 1.0 / class_counts\n",
    "sample_weights = class_weights[train_labels]\n",
    "# sampler = WeightedRandomSampler(sample_weights, num_samples=len(sample_weights), replacement=True)\n",
    "\n",
    "train_paths = df_train['path'].tolist()\n",
    "test_paths  = df_test['path'].tolist()\n",
    "\n",
    "# ─── 5) TRANSFORMS & DATASETS ─────────────────────────────────────────────\n",
    "train_transform = transforms.Compose([\n",
    "    transforms.Resize((224,224)), transforms.RandomHorizontalFlip(0.5),\n",
    "    transforms.ToTensor(), transforms.Normalize([0.485,0.456,0.406],[0.229,0.224,0.225])\n",
    "])\n",
    "\n",
    "test_transform = transforms.Compose([\n",
    "    transforms.Resize((224,224)), transforms.ToTensor(),\n",
    "    transforms.Normalize([0.485,0.456,0.406],[0.229,0.224,0.225])\n",
    "])\n",
    "\n",
    "class CaseDataset(Dataset):\n",
    "    def __init__(self, paths, transform=None):\n",
    "        self.paths = paths\n",
    "        self.transform = transform\n",
    "    def __len__(self):\n",
    "        return len(self.paths)\n",
    "    def __getitem__(self, idx):\n",
    "        p = self.paths[idx]\n",
    "        try:\n",
    "            img = Image.open(p).convert('RGB')\n",
    "        except Exception as e:\n",
    "            print(f\"Failed to load image {p}: {e}\")\n",
    "        # You could raise an error, return a dummy image, or skip\n",
    "        #img = Image.open(p).convert('RGB')\n",
    "        if self.transform: img = self.transform(img)\n",
    "        cid = int(re.search(r'case_(\\d+)_', os.path.basename(p), re.IGNORECASE).group(1))\n",
    "        lbl = class_map[cid]\n",
    "        return img, lbl\n",
    "\n",
    "train_ds = CaseDataset(train_paths, transform=train_transform)\n",
    "test_ds  = CaseDataset(test_paths,  transform=test_transform)\n",
    "\n",
    "train_loader = DataLoader(train_ds, batch_size=batch_size, shuffle=True,\n",
    "                          num_workers=num_workers, pin_memory=True, persistent_workers=False)\n",
    "test_loader  = DataLoader(test_ds,  batch_size=batch_size, shuffle=False,\n",
    "                          num_workers=num_workers, pin_memory=True, persistent_workers=False)\n",
    "\n",
    "# ─── 6) MODEL SETUP ──────────────────────────────────────────────────────\n",
    "model = torchvision.models.alexnet(pretrained=True)\n",
    "for param in model.parameters(): param.requires_grad=False\n",
    "in_ftrs = model.classifier[6].in_features\n",
    "model.classifier[6] = nn.Linear(in_ftrs, 2)\n",
    "model = model.to(device)\n",
    "criterion = nn.CrossEntropyLoss()\n",
    "optimizer = optim.Adam(model.classifier[6].parameters(), lr=lr)\n",
    "scaler = torch.cuda.amp.GradScaler()\n",
    "\n",
    "# ─── 7) TRAIN LOOP ───────────────────────────────────────────────────────\n",
    "for epoch in range(1, num_epochs+1):\n",
    "    model.train()\n",
    "    running = 0.0\n",
    "    pbar = tqdm(train_loader, desc=f'Epoch {epoch}/{num_epochs}', leave=False)\n",
    "    for imgs, lbls in pbar:\n",
    "        imgs, lbls = imgs.to(device), lbls.to(device)\n",
    "        optimizer.zero_grad()\n",
    "        with torch.cuda.amp.autocast(): outputs = model(imgs); loss = criterion(outputs, lbls)\n",
    "        scaler.scale(loss).backward(); scaler.step(optimizer); scaler.update()\n",
    "        running += loss.item()*lbls.size(0)\n",
    "        pbar.set_postfix(loss=running/((pbar.n+1)*batch_size))\n",
    "    print(f'Epoch {epoch}: Train Loss = {running/len(train_ds):.4f}')\n",
    "\n",
    "# ─── 8) EVALUATION ───────────────────────────────────────────────────────\n",
    "model.eval(); correct=total=0\n",
    "with torch.no_grad():\n",
    "    for imgs, lbls in test_loader:\n",
    "        imgs, lbls = imgs.to(device), lbls.to(device)\n",
    "        preds = model(imgs).argmax(1)\n",
    "        correct += (preds==lbls).sum().item(); total += lbls.size(0)\n",
    "print(f'Test Accuracy: {100*correct/total:.2f}%') "
   ]
  },
  {
   "cell_type": "code",
   "execution_count": 17,
   "id": "42d839c3-b1d0-429b-8fbc-a05027957e36",
   "metadata": {},
   "outputs": [],
   "source": [
    "def case_level_pred_svc(model, df_train, df_test, train_loader, test_loader, k=25, tune_svc = False, return_pred = False):\n",
    "\n",
    "    # Collect model predictions for train and test datasets\n",
    "    model.eval()\n",
    "    all_probs_tr, all_probs_tst = [], []\n",
    "    \n",
    "    for images, labels in train_loader:\n",
    "        images= (images.to(device, non_blocking=True))\n",
    "        outputs = model(images)\n",
    "        probs   = softmax(outputs, dim=1)\n",
    "        all_probs_tr.extend(probs.detach().cpu().numpy())\n",
    "\n",
    "    for images, labels in test_loader:\n",
    "        images = (images.to(device, non_blocking=True))\n",
    "        outputs = model(images)\n",
    "        probs   = softmax(outputs, dim=1)\n",
    "        all_probs_tst.extend(probs.detach().cpu().numpy())\n",
    "    train_prob = [arr[0] for arr in all_probs_tr]\n",
    "    test_prob = [arr[0] for arr in all_probs_tst]\n",
    "    \n",
    "    # Produce top k predicted probability dataframe for train data\n",
    "    top_k_prob = pd.DataFrame({'case_number': df_train.case_number.values, 'prob': train_prob}).groupby('case_number', group_keys=False)[['case_number','prob']].apply(lambda x: x.nlargest(k, columns='prob')).reset_index(drop=True)\n",
    "    top_k_prob['rank'] = top_k_prob.groupby('case_number').cumcount()\n",
    "    top_k_prob = top_k_prob.pivot(index='case_number', columns='rank', values='prob').dropna()\n",
    "    case_label = df_train[df_train.case_number.isin(top_k_prob.index)].groupby('case_number')['label'].mean()\n",
    "\n",
    "    # Make and fit SVC to train predicted probabilities\n",
    "    if tune_svc:\n",
    "        pipeline = Pipeline([('scaler', StandardScaler()), ('svc', SVC())])\n",
    "        param_grid = [\n",
    "            {'svc__kernel': ['linear'], 'svc__C': [0.01, 0.1, 1, 10, 100]},\n",
    "            {'svc__kernel': ['rbf'], 'svc__C': [0.1, 1, 10], 'svc__gamma': ['scale', 0.01, 0.001, 0.0001]}\n",
    "        ]\n",
    "        svc = GridSearchCV(estimator=pipeline, param_grid=param_grid, cv=5, scoring='accuracy')\n",
    "        svc.fit(top_k_prob, case_label)\n",
    "        print('Selected parameters: ' + str(svc.best_params_))\n",
    "    else:\n",
    "        svc = make_pipeline(StandardScaler(), LinearSVC())\n",
    "        svc.fit(top_k_prob, case_label)\n",
    "\n",
    "    # Produce top k predicted probability dataframe for test data\n",
    "    top_k_prob_tst = pd.DataFrame({'case_number': df_test.case_number.values, 'prob': test_prob}).groupby('case_number', group_keys=False)[['case_number','prob']].apply(lambda x: x.nlargest(k, columns='prob')).reset_index(drop=True)\n",
    "    top_k_prob_tst['rank'] = top_k_prob_tst.groupby('case_number').cumcount()\n",
    "    top_k_prob_tst = top_k_prob_tst.pivot(index='case_number', columns='rank', values='prob').dropna()\n",
    "    case_label_tst = df_test[df_test.case_number.isin(top_k_prob_tst.index)].groupby('case_number')['label'].mean()\n",
    "\n",
    "    # Calculate and print train metrics\n",
    "    train_acc = accuracy_score(case_label, svc.predict(top_k_prob))\n",
    "    train_rec = recall_score(case_label, svc.predict(top_k_prob))\n",
    "    train_pre = precision_score(case_label, svc.predict(top_k_prob), zero_division=0)\n",
    "    print('Train Accuracy: ' + str(train_acc))\n",
    "    print('Train Recall: ' + str(train_rec))\n",
    "    print('Train Precision ' + str(train_pre))\n",
    "\n",
    "    # Calculate and print test metrics\n",
    "    test_acc = accuracy_score(case_label_tst, svc.predict(top_k_prob_tst))\n",
    "    test_rec = recall_score(case_label_tst, svc.predict(top_k_prob_tst))\n",
    "    test_pre = precision_score(case_label_tst, svc.predict(top_k_prob_tst), zero_division=0)\n",
    "    print('Test Accuracy: ' + str(test_acc))\n",
    "    print('Test Recall: ' + str(test_rec))\n",
    "    print('Test Precision ' + str(test_pre))\n",
    "\n",
    "    # Produce and plot confusion matrix for test data\n",
    "    cm = confusion_matrix(case_label_tst, svc.predict(top_k_prob_tst))\n",
    "    disp = ConfusionMatrixDisplay(confusion_matrix=cm)\n",
    "    disp.plot()\n",
    "    plt.xticks(ticks=[0,1], labels=['Low-Grade', 'High-Grade'])\n",
    "    plt.yticks(ticks=[0,1], labels=['Low-Grade', 'High-Grade'])\n",
    "    plt.xlabel('Predicted Case Grade')\n",
    "    plt.ylabel('Actual Case Grade')\n",
    "    plt.show()\n",
    "\n",
    "    if return_pred:\n",
    "        return svc.predict(top_k_prob_tst)\n",
    "    else: \n",
    "        return None"
   ]
  },
  {
   "cell_type": "code",
   "execution_count": 69,
   "id": "659ff3f6-e707-4993-abf3-c4a9b57a44d3",
   "metadata": {},
   "outputs": [],
   "source": [
    "def case_level_pred_top_k(model, df_train, df_test, train_loader, test_loader, k=25, return_pred = False):\n",
    "\n",
    "    # Collect model predictions for train and test datasets\n",
    "    model.eval()\n",
    "    all_probs_tr, all_probs_tst = [], []\n",
    "    \n",
    "    for images, labels in train_loader:\n",
    "        images= (images.to(device, non_blocking=True))\n",
    "        outputs = model(images)\n",
    "        probs   = softmax(outputs, dim=1)\n",
    "        all_probs_tr.extend(probs.detach().cpu().numpy())\n",
    "\n",
    "    for images, labels in test_loader:\n",
    "        images = (images.to(device, non_blocking=True))\n",
    "        outputs = model(images)\n",
    "        probs   = softmax(outputs, dim=1)\n",
    "        all_probs_tst.extend(probs.detach().cpu().numpy())\n",
    "    train_prob = [arr[0] for arr in all_probs_tr]\n",
    "    test_prob = [arr[0] for arr in all_probs_tst]\n",
    "\n",
    "    # Create train and test dataframes for case-wise average top-k predicted probability\n",
    "    case_prob_train = pd.concat([pd.DataFrame({'case_number': df_train.case_number.values, 'prob': train_prob}).groupby('case_number')['prob'].apply(lambda x: x.nlargest(25).mean()).reset_index(),df_train.groupby('case_number')['label'].mean().reset_index()], axis=1).iloc[:,[0,1,3]]\n",
    "    case_prob_tst = pd.concat([pd.DataFrame({'case_number': df_test.case_number.values, 'prob': test_prob}).groupby('case_number')['prob'].apply(lambda x: x.nlargest(25).mean()).reset_index(),df_test.groupby('case_number')['label'].mean().reset_index()], axis=1).iloc[:,[0,1,3]]\n",
    "\n",
    "    # Produce top k predicted probability dataframe for train data\n",
    "    # Train decision threshold for k-max probabilities by case\n",
    "    acc, rec, pre, thresh = [], [], [], []\n",
    "    for t in np.arange(0.90,1,0.00001):\n",
    "        acc.append(accuracy_score(case_prob_train.label, (case_prob_train.prob > t).astype(int)))\n",
    "        rec.append(recall_score(case_prob_train.label, (case_prob_train.prob > t).astype(int)))\n",
    "        pre.append(precision_score(case_prob_train.label, (case_prob_train.prob > t).astype(int), zero_division=0))\n",
    "        thresh.append(t)\n",
    "\n",
    "    print('Tuned Decision Threshold: ' + str(thresh[acc.index(max(acc))]))\n",
    "    print('Train Accuracy: ' + str(accuracy_score(case_prob_train.label,(case_prob_train.prob > thresh[acc.index(max(acc))]).astype(int))))\n",
    "    print('Train Recall: ' + str(recall_score(case_prob_train.label,(case_prob_train.prob > thresh[acc.index(max(acc))]).astype(int))))\n",
    "    print('Train Precision: ' + str(precision_score(case_prob_train.label,(case_prob_train.prob > thresh[acc.index(max(acc))]).astype(int), zero_division=0)))\n",
    "\n",
    "    print('Test Accuracy: ' + str(accuracy_score(case_prob_tst.label,(case_prob_tst.prob > thresh[acc.index(max(acc))]).astype(int))))\n",
    "    print('Test Recall: ' + str(recall_score(case_prob_tst.label,(case_prob_tst.prob > thresh[acc.index(max(acc))]).astype(int))))\n",
    "    print('Test Precision: ' + str(precision_score(case_prob_tst.label,(case_prob_tst.prob > thresh[acc.index(max(acc))]).astype(int), zero_division=0)))\n",
    "\n",
    "    # Produce and plot confusion matrix for test data\n",
    "    cm = confusion_matrix(case_prob_tst.label,(case_prob_tst.prob > thresh[acc.index(max(acc))]).astype(int))\n",
    "    disp = ConfusionMatrixDisplay(confusion_matrix=cm)\n",
    "    disp.plot()\n",
    "    plt.xticks(ticks=[0,1], labels=['Low-Grade', 'High-Grade'])\n",
    "    plt.yticks(ticks=[0,1], labels=['Low-Grade', 'High-Grade'])\n",
    "    plt.xlabel('Predicted Case Grade')\n",
    "    plt.ylabel('Actual Case Grade')\n",
    "    plt.show()\n",
    "\n",
    "    if return_pred:\n",
    "        (case_prob_tst.prob > thresh[acc.index(max(acc))]).astype(int)\n",
    "    else: \n",
    "        return None"
   ]
  },
  {
   "cell_type": "code",
   "execution_count": 425,
   "id": "6f0d18a2-beb9-47f6-a688-be75b73be1e2",
   "metadata": {},
   "outputs": [
    {
     "name": "stdout",
     "output_type": "stream",
     "text": [
      "Train Accuracy: 0.7777777777777778\n",
      "Train Recall: 0.7647058823529411\n",
      "Train Precision 0.7647058823529411\n",
      "Test Accuracy: 0.2222222222222222\n",
      "Test Recall: 0.5\n",
      "Test Precision 0.14285714285714285\n"
     ]
    },
    {
     "data": {
      "image/png": "[encoded data removed]",
      "text/plain": [
       "<Figure size 640x480 with 2 Axes>"
      ]
     },
     "metadata": {},
     "output_type": "display_data"
    }
   ],
   "source": [
    "# All stains test, k = 10\n",
    "case_level_pred_svc(model, df_train, df_test, train_loader, test_loader, 10)"
   ]
  },
  {
   "cell_type": "code",
   "execution_count": 426,
   "id": "232470f5-33b2-448c-a681-1dda3666d51a",
   "metadata": {},
   "outputs": [
    {
     "name": "stdout",
     "output_type": "stream",
     "text": [
      "Train Accuracy: 0.6944444444444444\n",
      "Train Recall: 0.7058823529411765\n",
      "Train Precision 0.6666666666666666\n",
      "Test Accuracy: 0.6666666666666666\n",
      "Test Recall: 0.5\n",
      "Test Precision 0.3333333333333333\n"
     ]
    },
    {
     "data": {
      "image/png": "[encoded data removed]",
      "text/plain": [
       "<Figure size 640x480 with 2 Axes>"
      ]
     },
     "metadata": {},
     "output_type": "display_data"
    }
   ],
   "source": [
    "# All stains test, k = 25\n",
    "case_level_pred_svc(model, df_train, df_test, train_loader, test_loader, 25)"
   ]
  },
  {
   "cell_type": "code",
   "execution_count": 427,
   "id": "0b8626fb-8664-4098-ba5e-93ec74c68193",
   "metadata": {},
   "outputs": [
    {
     "name": "stdout",
     "output_type": "stream",
     "text": [
      "Train Accuracy: 0.75\n",
      "Train Recall: 0.7058823529411765\n",
      "Train Precision 0.75\n",
      "Test Accuracy: 0.5\n",
      "Test Recall: 0.0\n",
      "Test Precision 0.0\n"
     ]
    },
    {
     "data": {
      "image/png": "[encoded data removed]",
      "text/plain": [
       "<Figure size 640x480 with 2 Axes>"
      ]
     },
     "metadata": {},
     "output_type": "display_data"
    }
   ],
   "source": [
    "# All stains test, k = 50\n",
    "case_level_pred_svc(model, df_train, df_test, train_loader, test_loader, 50)"
   ]
  },
  {
   "cell_type": "code",
   "execution_count": 408,
   "id": "bf6e0152-2710-4c78-b8a4-888a1b8aeafc",
   "metadata": {},
   "outputs": [
    {
     "name": "stdout",
     "output_type": "stream",
     "text": [
      "Train Accuracy: 0.6774193548387096\n",
      "Train Recall: 0.7058823529411765\n",
      "Train Precision 0.7058823529411765\n",
      "Test Accuracy: 0.5\n",
      "Test Recall: 0.5\n",
      "Test Precision 0.25\n"
     ]
    },
    {
     "data": {
      "image/png": "[encoded data removed]",
      "text/plain": [
       "<Figure size 640x480 with 2 Axes>"
      ]
     },
     "metadata": {},
     "output_type": "display_data"
    }
   ],
   "source": [
    "# H&E only test, k = 10\n",
    "case_level_pred_svc(model, df_train, df_test, train_loader, test_loader, 10)"
   ]
  },
  {
   "cell_type": "code",
   "execution_count": 410,
   "id": "8f592542-d3ba-4861-9768-8be239552a7e",
   "metadata": {},
   "outputs": [
    {
     "name": "stdout",
     "output_type": "stream",
     "text": [
      "Train Accuracy: 0.6774193548387096\n",
      "Train Recall: 0.47058823529411764\n",
      "Train Precision 0.8888888888888888\n",
      "Test Accuracy: 0.5\n",
      "Test Recall: 1.0\n",
      "Test Precision 0.3333333333333333\n"
     ]
    },
    {
     "data": {
      "image/png": "[encoded data removed]",
      "text/plain": [
       "<Figure size 640x480 with 2 Axes>"
      ]
     },
     "metadata": {},
     "output_type": "display_data"
    }
   ],
   "source": [
    "# H&E only test, k = 25\n",
    "case_level_pred_svc(model, df_train, df_test, train_loader, test_loader, 10)"
   ]
  },
  {
   "cell_type": "code",
   "execution_count": 412,
   "id": "595edd72-3300-4bce-851e-409c94854f7c",
   "metadata": {},
   "outputs": [
    {
     "name": "stdout",
     "output_type": "stream",
     "text": [
      "Train Accuracy: 0.5806451612903226\n",
      "Train Recall: 0.8823529411764706\n",
      "Train Precision 0.5769230769230769\n",
      "Test Accuracy: 0.375\n",
      "Test Recall: 1.0\n",
      "Test Precision 0.2857142857142857\n"
     ]
    },
    {
     "data": {
      "image/png": "[encoded data removed]",
      "text/plain": [
       "<Figure size 640x480 with 2 Axes>"
      ]
     },
     "metadata": {},
     "output_type": "display_data"
    }
   ],
   "source": [
    "# H&E only test, k = 50\n",
    "case_level_pred_svc(model, df_train, df_test, train_loader, test_loader, 10)"
   ]
  },
  {
   "cell_type": "code",
   "execution_count": 396,
   "id": "59e9bac8-ae57-4386-8dfb-f20cad7acc2e",
   "metadata": {},
   "outputs": [
    {
     "name": "stdout",
     "output_type": "stream",
     "text": [
      "Train Accuracy: 0.7647058823529411\n",
      "Train Recall: 0.4666666666666667\n",
      "Train Precision 1.0\n",
      "Test Accuracy: 0.5714285714285714\n",
      "Test Recall: 0.3333333333333333\n",
      "Test Precision 0.5\n"
     ]
    },
    {
     "data": {
      "image/png": "[encoded data removed]",
      "text/plain": [
       "<Figure size 640x480 with 2 Axes>"
      ]
     },
     "metadata": {},
     "output_type": "display_data"
    }
   ],
   "source": [
    "# Melan only test, k = 10\n",
    "case_level_pred_svc(model, df_train, df_test, train_loader, test_loader, 10)"
   ]
  },
  {
   "cell_type": "code",
   "execution_count": 394,
   "id": "83312129-e8bb-4a5d-8117-fe44aac265a0",
   "metadata": {},
   "outputs": [
    {
     "name": "stdout",
     "output_type": "stream",
     "text": [
      "Train Accuracy: 0.7352941176470589\n",
      "Train Recall: 0.5333333333333333\n",
      "Train Precision 0.8\n",
      "Test Accuracy: 0.7142857142857143\n",
      "Test Recall: 0.3333333333333333\n",
      "Test Precision 1.0\n"
     ]
    },
    {
     "data": {
      "image/png": "[encoded data removed]",
      "text/plain": [
       "<Figure size 640x480 with 2 Axes>"
      ]
     },
     "metadata": {},
     "output_type": "display_data"
    }
   ],
   "source": [
    "# Melan only test, k = 25\n",
    "case_level_pred_svc(model, df_train, df_test, train_loader, test_loader, 25)"
   ]
  },
  {
   "cell_type": "code",
   "execution_count": 404,
   "id": "8a0f4a3f-f0b1-469f-9557-2123872702b0",
   "metadata": {},
   "outputs": [
    {
     "name": "stdout",
     "output_type": "stream",
     "text": [
      "Train Accuracy: 0.8387096774193549\n",
      "Train Recall: 0.6666666666666666\n",
      "Train Precision 0.8888888888888888\n",
      "Test Accuracy: 0.2857142857142857\n",
      "Test Recall: 0.6666666666666666\n",
      "Test Precision 0.3333333333333333\n"
     ]
    },
    {
     "data": {
      "image/png": "[encoded data removed]",
      "text/plain": [
       "<Figure size 640x480 with 2 Axes>"
      ]
     },
     "metadata": {},
     "output_type": "display_data"
    }
   ],
   "source": [
    "# Melan only test, k = 50\n",
    "case_level_pred_svc(model, df_train, df_test, train_loader, test_loader, 50)"
   ]
  },
  {
   "cell_type": "code",
   "execution_count": 416,
   "id": "4002729a-92eb-4939-9eb4-e48f02ede7e1",
   "metadata": {},
   "outputs": [
    {
     "name": "stdout",
     "output_type": "stream",
     "text": [
      "Train Accuracy: 0.6060606060606061\n",
      "Train Recall: 0.47058823529411764\n",
      "Train Precision 0.6666666666666666\n",
      "Test Accuracy: 0.625\n",
      "Test Recall: 0.5\n",
      "Test Precision 0.3333333333333333\n"
     ]
    },
    {
     "data": {
      "image/png": "[encoded data removed]",
      "text/plain": [
       "<Figure size 640x480 with 2 Axes>"
      ]
     },
     "metadata": {},
     "output_type": "display_data"
    }
   ],
   "source": [
    "# Sox10 only test, k = 10\n",
    "case_level_pred_svc(model, df_train, df_test, train_loader, test_loader, 10)"
   ]
  },
  {
   "cell_type": "code",
   "execution_count": 418,
   "id": "5410ea7a-6a7a-4f9e-acc1-2d9149912579",
   "metadata": {},
   "outputs": [
    {
     "name": "stdout",
     "output_type": "stream",
     "text": [
      "Train Accuracy: 0.696969696969697\n",
      "Train Recall: 0.4117647058823529\n",
      "Train Precision 1.0\n",
      "Test Accuracy: 0.7142857142857143\n",
      "Test Recall: 0.0\n",
      "Test Precision 0.0\n"
     ]
    },
    {
     "data": {
      "image/png": "[encoded data removed]",
      "text/plain": [
       "<Figure size 640x480 with 2 Axes>"
      ]
     },
     "metadata": {},
     "output_type": "display_data"
    }
   ],
   "source": [
    "# Sox10 only test, k = 25\n",
    "case_level_pred_svc(model, df_train, df_test, train_loader, test_loader, 25)"
   ]
  },
  {
   "cell_type": "code",
   "execution_count": 419,
   "id": "e26c043d-1154-458e-9754-afbefe141631",
   "metadata": {},
   "outputs": [
    {
     "name": "stdout",
     "output_type": "stream",
     "text": [
      "Train Accuracy: 0.8333333333333334\n",
      "Train Recall: 0.8571428571428571\n",
      "Train Precision 0.8\n",
      "Test Accuracy: 0.2857142857142857\n",
      "Test Recall: 1.0\n",
      "Test Precision 0.16666666666666666\n"
     ]
    },
    {
     "data": {
      "image/png": "[encoded data removed]",
      "text/plain": [
       "<Figure size 640x480 with 2 Axes>"
      ]
     },
     "metadata": {},
     "output_type": "display_data"
    }
   ],
   "source": [
    "# Sox10 only test, k = 50\n",
    "case_level_pred_svc(model, df_train, df_test, train_loader, test_loader, 50)"
   ]
  },
  {
   "cell_type": "code",
   "execution_count": 439,
   "id": "564a89c2-133b-49e5-8431-17211d494896",
   "metadata": {},
   "outputs": [
    {
     "data": {
      "text/html": [
       "<div>\n",
       "<style scoped>\n",
       "    .dataframe tbody tr th:only-of-type {\n",
       "        vertical-align: middle;\n",
       "    }\n",
       "\n",
       "    .dataframe tbody tr th {\n",
       "        vertical-align: top;\n",
       "    }\n",
       "\n",
       "    .dataframe thead th {\n",
       "        text-align: right;\n",
       "    }\n",
       "</style>\n",
       "<table border=\"1\" class=\"dataframe\">\n",
       "  <thead>\n",
       "    <tr style=\"text-align: right;\">\n",
       "      <th></th>\n",
       "      <th>Stain</th>\n",
       "      <th>K</th>\n",
       "      <th>Test Accuracy</th>\n",
       "      <th>Test Recall</th>\n",
       "      <th>Test Precision</th>\n",
       "    </tr>\n",
       "  </thead>\n",
       "  <tbody>\n",
       "    <tr>\n",
       "      <th>0</th>\n",
       "      <td>all</td>\n",
       "      <td>10</td>\n",
       "      <td>0.222</td>\n",
       "      <td>0.5</td>\n",
       "      <td>0.143</td>\n",
       "    </tr>\n",
       "    <tr>\n",
       "      <th>1</th>\n",
       "      <td>all</td>\n",
       "      <td>25</td>\n",
       "      <td>0.667</td>\n",
       "      <td>0.5</td>\n",
       "      <td>0.333</td>\n",
       "    </tr>\n",
       "    <tr>\n",
       "      <th>2</th>\n",
       "      <td>all</td>\n",
       "      <td>50</td>\n",
       "      <td>0.500</td>\n",
       "      <td>0.0</td>\n",
       "      <td>0.000</td>\n",
       "    </tr>\n",
       "    <tr>\n",
       "      <th>3</th>\n",
       "      <td>h&amp;e</td>\n",
       "      <td>10</td>\n",
       "      <td>0.500</td>\n",
       "      <td>0.5</td>\n",
       "      <td>0.250</td>\n",
       "    </tr>\n",
       "    <tr>\n",
       "      <th>4</th>\n",
       "      <td>h&amp;e</td>\n",
       "      <td>25</td>\n",
       "      <td>0.500</td>\n",
       "      <td>1.0</td>\n",
       "      <td>0.333</td>\n",
       "    </tr>\n",
       "  </tbody>\n",
       "</table>\n",
       "</div>"
      ],
      "text/plain": [
       "  Stain   K  Test Accuracy  Test Recall  Test Precision\n",
       "0   all  10          0.222          0.5           0.143\n",
       "1   all  25          0.667          0.5           0.333\n",
       "2   all  50          0.500          0.0           0.000\n",
       "3   h&e  10          0.500          0.5           0.250\n",
       "4   h&e  25          0.500          1.0           0.333"
      ]
     },
     "execution_count": 439,
     "metadata": {},
     "output_type": "execute_result"
    }
   ],
   "source": [
    "tests = pd.read_csv('decision_method_testing.csv')\n",
    "tests.head()"
   ]
  },
  {
   "cell_type": "code",
   "execution_count": 503,
   "id": "707a915f-f208-4512-8811-378f64c858e9",
   "metadata": {},
   "outputs": [
    {
     "data": {
      "image/png": "[encoded data removed]",
      "text/plain": [
       "<Figure size 640x480 with 1 Axes>"
      ]
     },
     "metadata": {},
     "output_type": "display_data"
    }
   ],
   "source": [
    "palette = {'all': 'blue', 'h&e': 'red', 'melan': 'orange', 'sox10': 'green'}\n",
    "sns.lineplot(x = 'K', y = 'Test Accuracy', data = tests[tests['Stain']=='all'])\n",
    "plt.title('Case Accuracy for All Stain Data by K-Value')\n",
    "plt.show()"
   ]
  },
  {
   "cell_type": "code",
   "execution_count": 497,
   "id": "6e2f3cc2-e25b-491c-ab0c-0dfbede942b6",
   "metadata": {},
   "outputs": [
    {
     "data": {
      "image/png": "[encoded data removed]",
      "text/plain": [
       "<Figure size 640x480 with 1 Axes>"
      ]
     },
     "metadata": {},
     "output_type": "display_data"
    }
   ],
   "source": [
    "sns.lineplot(x = 'K', y = 'Test Accuracy', data = tests[tests['Stain'].isin(['h&e','melan','sox10'])], hue = 'Stain', palette = palette)\n",
    "plt.title('Case Accuracy for Individual Stain Data by K-Value')\n",
    "plt.show()"
   ]
  },
  {
   "cell_type": "code",
   "execution_count": 505,
   "id": "7f48049b-8f24-4be4-9e29-433cf95a74d1",
   "metadata": {},
   "outputs": [
    {
     "data": {
      "image/png": "[encoded data removed]",
      "text/plain": [
       "<Figure size 640x480 with 1 Axes>"
      ]
     },
     "metadata": {},
     "output_type": "display_data"
    }
   ],
   "source": [
    "sns.barplot(x = 'Stain', y = 'Test Accuracy', data = tests[tests['K'] == 25], hue = 'Stain')\n",
    "plt.title('Accuracy by Dataset')\n",
    "plt.show()"
   ]
  },
  {
   "cell_type": "code",
   "execution_count": 507,
   "id": "6cb9dccd-4de1-4a85-adac-9c24266f318c",
   "metadata": {},
   "outputs": [
    {
     "data": {
      "image/png": "[encoded data removed]",
      "text/plain": [
       "<Figure size 640x480 with 1 Axes>"
      ]
     },
     "metadata": {},
     "output_type": "display_data"
    }
   ],
   "source": [
    "sns.barplot(x = 'Stain', y = 'Test Recall', data = tests[tests['K'] == 25], hue = 'Stain')\n",
    "plt.title('Recall by Dataset')\n",
    "plt.show()"
   ]
  },
  {
   "cell_type": "code",
   "execution_count": 511,
   "id": "a00695b7-a412-436a-ba50-466930c1e0c5",
   "metadata": {},
   "outputs": [
    {
     "data": {
      "image/png": "[encoded data removed]",
      "text/plain": [
       "<Figure size 640x480 with 1 Axes>"
      ]
     },
     "metadata": {},
     "output_type": "display_data"
    }
   ],
   "source": [
    "sns.barplot(x = 'Stain', y = 'Test Precision', data = tests[tests['K'] == 25], hue = 'Stain')\n",
    "plt.title('Precision by Dataset')\n",
    "plt.show()"
   ]
  },
  {
   "cell_type": "code",
   "execution_count": 547,
   "id": "cd444a86-c1d3-4ccf-aa66-5816a8a5cd4d",
   "metadata": {},
   "outputs": [
    {
     "name": "stdout",
     "output_type": "stream",
     "text": [
      "Selected parameters: {'svc__C': 0.1, 'svc__gamma': 'scale', 'svc__kernel': 'rbf'}\n",
      "Train Accuracy: 0.5277777777777778\n",
      "Train Recall: 0.0\n",
      "Train Precision 0.0\n",
      "Test Accuracy: 0.7777777777777778\n",
      "Test Recall: 0.0\n",
      "Test Precision 0.0\n"
     ]
    },
    {
     "data": {
      "image/png": "[encoded data removed]",
      "text/plain": [
       "<Figure size 640x480 with 2 Axes>"
      ]
     },
     "metadata": {},
     "output_type": "display_data"
    }
   ],
   "source": [
    "# Tuned SVC all stains\n",
    "case_level_pred_svc(model, df_train, df_test, train_loader, test_loader, 25, tune_svc=True)"
   ]
  },
  {
   "cell_type": "code",
   "execution_count": 19,
   "id": "cabdbfef-fb88-49f8-a207-d4e6d94e9467",
   "metadata": {},
   "outputs": [
    {
     "name": "stdout",
     "output_type": "stream",
     "text": [
      "Selected parameters: {'svc__C': 0.01, 'svc__kernel': 'linear'}\n",
      "Train Accuracy: 0.6129032258064516\n",
      "Train Recall: 0.14285714285714285\n",
      "Train Precision 1.0\n",
      "Test Accuracy: 0.42857142857142855\n",
      "Test Recall: 0.0\n",
      "Test Precision 0.0\n"
     ]
    },
    {
     "data": {
      "image/png": "[encoded data removed]",
      "text/plain": [
       "<Figure size 640x480 with 2 Axes>"
      ]
     },
     "metadata": {},
     "output_type": "display_data"
    }
   ],
   "source": [
    "# Tuned SVC h&e\n",
    "case_level_pred_svc(model, df_train, df_test, train_loader, test_loader, 25, tune_svc=True)"
   ]
  },
  {
   "cell_type": "code",
   "execution_count": 23,
   "id": "e171da2e-3b75-46cc-912b-44364e298d8f",
   "metadata": {},
   "outputs": [
    {
     "name": "stdout",
     "output_type": "stream",
     "text": [
      "Selected parameters: {'svc__C': 0.01, 'svc__kernel': 'linear'}\n",
      "Train Accuracy: 0.7058823529411765\n",
      "Train Recall: 0.35714285714285715\n",
      "Train Precision 0.8333333333333334\n",
      "Test Accuracy: 0.7142857142857143\n",
      "Test Recall: 0.5\n",
      "Test Precision 1.0\n"
     ]
    },
    {
     "data": {
      "image/png": "[encoded data removed]",
      "text/plain": [
       "<Figure size 640x480 with 2 Axes>"
      ]
     },
     "metadata": {},
     "output_type": "display_data"
    }
   ],
   "source": [
    "# Tuned SVC melan\n",
    "case_level_pred_svc(model, df_train, df_test, train_loader, test_loader, 25, tune_svc=True)"
   ]
  },
  {
   "cell_type": "code",
   "execution_count": 27,
   "id": "79418832-d129-40b1-a4a6-5e04bab8d8fd",
   "metadata": {},
   "outputs": [
    {
     "name": "stdout",
     "output_type": "stream",
     "text": [
      "Selected parameters: {'svc__C': 10, 'svc__gamma': 'scale', 'svc__kernel': 'rbf'}\n",
      "Train Accuracy: 0.8787878787878788\n",
      "Train Recall: 0.7142857142857143\n",
      "Train Precision 1.0\n",
      "Test Accuracy: 0.5714285714285714\n",
      "Test Recall: 0.75\n",
      "Test Precision 0.6\n"
     ]
    },
    {
     "data": {
      "image/png": "[encoded data removed]",
      "text/plain": [
       "<Figure size 640x480 with 2 Axes>"
      ]
     },
     "metadata": {},
     "output_type": "display_data"
    }
   ],
   "source": [
    "# Tuned SVC sox10\n",
    "case_level_pred_svc(model, df_train, df_test, train_loader, test_loader, 25, tune_svc=True)"
   ]
  }
 ],
 "metadata": {
  "accelerator": "GPU",
  "colab": {
   "gpuType": "T4",
   "provenance": [
    {
     "file_id": "1WnK4VN_IpEFtRLeRy8g0Nky25ggENcM-",
     "timestamp": 1746293946963
    }
   ]
  },
  "kernelspec": {
   "display_name": "Python [conda env:base] *",
   "language": "python",
   "name": "conda-base-py"
  },
  "language_info": {
   "codemirror_mode": {
    "name": "ipython",
    "version": 3
   },
   "file_extension": ".py",
   "mimetype": "text/x-python",
   "name": "python",
   "nbconvert_exporter": "python",
   "pygments_lexer": "ipython3",
   "version": "3.12.7"
  },
  "widgets": {
   "application/vnd.jupyter.widget-state+json": {
    "00b84febfbd94f13898cb7daaf73a167": {
     "model_module": "@jupyter-widgets/controls",
     "model_module_version": "1.5.0",
     "model_name": "ProgressStyleModel",
     "state": {
      "_model_module": "@jupyter-widgets/controls",
      "_model_module_version": "1.5.0",
      "_model_name": "ProgressStyleModel",
      "_view_count": null,
      "_view_module": "@jupyter-widgets/base",
      "_view_module_version": "1.2.0",
      "_view_name": "StyleView",
      "bar_color": null,
      "description_width": ""
     }
    },
    "02064be8af8040c9a9810d52c415260d": {
     "model_module": "@jupyter-widgets/base",
     "model_module_version": "1.2.0",
     "model_name": "LayoutModel",
     "state": {
      "_model_module": "@jupyter-widgets/base",
      "_model_module_version": "1.2.0",
      "_model_name": "LayoutModel",
      "_view_count": null,
      "_view_module": "@jupyter-widgets/base",
      "_view_module_version": "1.2.0",
      "_view_name": "LayoutView",
      "align_content": null,
      "align_items": null,
      "align_self": null,
      "border": null,
      "bottom": null,
      "display": null,
      "flex": null,
      "flex_flow": null,
      "grid_area": null,
      "grid_auto_columns": null,
      "grid_auto_flow": null,
      "grid_auto_rows": null,
      "grid_column": null,
      "grid_gap": null,
      "grid_row": null,
      "grid_template_areas": null,
      "grid_template_columns": null,
      "grid_template_rows": null,
      "height": null,
      "justify_content": null,
      "justify_items": null,
      "left": null,
      "margin": null,
      "max_height": null,
      "max_width": null,
      "min_height": null,
      "min_width": null,
      "object_fit": null,
      "object_position": null,
      "order": null,
      "overflow": null,
      "overflow_x": null,
      "overflow_y": null,
      "padding": null,
      "right": null,
      "top": null,
      "visibility": null,
      "width": null
     }
    },
    "0216af7a1edd4f4d931daf73530fdc27": {
     "model_module": "@jupyter-widgets/controls",
     "model_module_version": "1.5.0",
     "model_name": "FloatProgressModel",
     "state": {
      "_dom_classes": [],
      "_model_module": "@jupyter-widgets/controls",
      "_model_module_version": "1.5.0",
      "_model_name": "FloatProgressModel",
      "_view_count": null,
      "_view_module": "@jupyter-widgets/controls",
      "_view_module_version": "1.5.0",
      "_view_name": "ProgressView",
      "bar_style": "",
      "description": "",
      "description_tooltip": null,
      "layout": "IPY_MODEL_f05626765a5c44979892b83bc3ea9390",
      "max": 2,
      "min": 0,
      "orientation": "horizontal",
      "style": "IPY_MODEL_4d98003d209e41de8f5b9b13198f2788",
      "value": 2
     }
    },
    "04e806e80034429b84c0d1f673070ab2": {
     "model_module": "@jupyter-widgets/base",
     "model_module_version": "1.2.0",
     "model_name": "LayoutModel",
     "state": {
      "_model_module": "@jupyter-widgets/base",
      "_model_module_version": "1.2.0",
      "_model_name": "LayoutModel",
      "_view_count": null,
      "_view_module": "@jupyter-widgets/base",
      "_view_module_version": "1.2.0",
      "_view_name": "LayoutView",
      "align_content": null,
      "align_items": null,
      "align_self": null,
      "border": null,
      "bottom": null,
      "display": null,
      "flex": null,
      "flex_flow": null,
      "grid_area": null,
      "grid_auto_columns": null,
      "grid_auto_flow": null,
      "grid_auto_rows": null,
      "grid_column": null,
      "grid_gap": null,
      "grid_row": null,
      "grid_template_areas": null,
      "grid_template_columns": null,
      "grid_template_rows": null,
      "height": null,
      "justify_content": null,
      "justify_items": null,
      "left": null,
      "margin": null,
      "max_height": null,
      "max_width": null,
      "min_height": null,
      "min_width": null,
      "object_fit": null,
      "object_position": null,
      "order": null,
      "overflow": null,
      "overflow_x": null,
      "overflow_y": null,
      "padding": null,
      "right": null,
      "top": null,
      "visibility": null,
      "width": null
     }
    },
    "0509e2003d874f74bd46c723591b835d": {
     "model_module": "@jupyter-widgets/controls",
     "model_module_version": "1.5.0",
     "model_name": "HTMLModel",
     "state": {
      "_dom_classes": [],
      "_model_module": "@jupyter-widgets/controls",
      "_model_module_version": "1.5.0",
      "_model_name": "HTMLModel",
      "_view_count": null,
      "_view_module": "@jupyter-widgets/controls",
      "_view_module_version": "1.5.0",
      "_view_name": "HTMLView",
      "description": "",
      "description_tooltip": null,
      "layout": "IPY_MODEL_80f47a533069412cbd7ded3f3c10d472",
      "placeholder": "​",
      "style": "IPY_MODEL_a343aec2b1d947b3a0acfdb5b721fa9f",
      "value": "Epoch 2/10:  50%"
     }
    },
    "052dd5045c3b41339bf57aec3b2d6f19": {
     "model_module": "@jupyter-widgets/base",
     "model_module_version": "1.2.0",
     "model_name": "LayoutModel",
     "state": {
      "_model_module": "@jupyter-widgets/base",
      "_model_module_version": "1.2.0",
      "_model_name": "LayoutModel",
      "_view_count": null,
      "_view_module": "@jupyter-widgets/base",
      "_view_module_version": "1.2.0",
      "_view_name": "LayoutView",
      "align_content": null,
      "align_items": null,
      "align_self": null,
      "border": null,
      "bottom": null,
      "display": null,
      "flex": null,
      "flex_flow": null,
      "grid_area": null,
      "grid_auto_columns": null,
      "grid_auto_flow": null,
      "grid_auto_rows": null,
      "grid_column": null,
      "grid_gap": null,
      "grid_row": null,
      "grid_template_areas": null,
      "grid_template_columns": null,
      "grid_template_rows": null,
      "height": null,
      "justify_content": null,
      "justify_items": null,
      "left": null,
      "margin": null,
      "max_height": null,
      "max_width": null,
      "min_height": null,
      "min_width": null,
      "object_fit": null,
      "object_position": null,
      "order": null,
      "overflow": null,
      "overflow_x": null,
      "overflow_y": null,
      "padding": null,
      "right": null,
      "top": null,
      "visibility": null,
      "width": null
     }
    },
    "0bea4e60253441e3990c09ebdf37bfd0": {
     "model_module": "@jupyter-widgets/base",
     "model_module_version": "1.2.0",
     "model_name": "LayoutModel",
     "state": {
      "_model_module": "@jupyter-widgets/base",
      "_model_module_version": "1.2.0",
      "_model_name": "LayoutModel",
      "_view_count": null,
      "_view_module": "@jupyter-widgets/base",
      "_view_module_version": "1.2.0",
      "_view_name": "LayoutView",
      "align_content": null,
      "align_items": null,
      "align_self": null,
      "border": null,
      "bottom": null,
      "display": null,
      "flex": null,
      "flex_flow": null,
      "grid_area": null,
      "grid_auto_columns": null,
      "grid_auto_flow": null,
      "grid_auto_rows": null,
      "grid_column": null,
      "grid_gap": null,
      "grid_row": null,
      "grid_template_areas": null,
      "grid_template_columns": null,
      "grid_template_rows": null,
      "height": null,
      "justify_content": null,
      "justify_items": null,
      "left": null,
      "margin": null,
      "max_height": null,
      "max_width": null,
      "min_height": null,
      "min_width": null,
      "object_fit": null,
      "object_position": null,
      "order": null,
      "overflow": null,
      "overflow_x": null,
      "overflow_y": null,
      "padding": null,
      "right": null,
      "top": null,
      "visibility": null,
      "width": null
     }
    },
    "0e32f3f5903e433c99c17bbfaf486583": {
     "model_module": "@jupyter-widgets/base",
     "model_module_version": "1.2.0",
     "model_name": "LayoutModel",
     "state": {
      "_model_module": "@jupyter-widgets/base",
      "_model_module_version": "1.2.0",
      "_model_name": "LayoutModel",
      "_view_count": null,
      "_view_module": "@jupyter-widgets/base",
      "_view_module_version": "1.2.0",
      "_view_name": "LayoutView",
      "align_content": null,
      "align_items": null,
      "align_self": null,
      "border": null,
      "bottom": null,
      "display": null,
      "flex": null,
      "flex_flow": null,
      "grid_area": null,
      "grid_auto_columns": null,
      "grid_auto_flow": null,
      "grid_auto_rows": null,
      "grid_column": null,
      "grid_gap": null,
      "grid_row": null,
      "grid_template_areas": null,
      "grid_template_columns": null,
      "grid_template_rows": null,
      "height": null,
      "justify_content": null,
      "justify_items": null,
      "left": null,
      "margin": null,
      "max_height": null,
      "max_width": null,
      "min_height": null,
      "min_width": null,
      "object_fit": null,
      "object_position": null,
      "order": null,
      "overflow": null,
      "overflow_x": null,
      "overflow_y": null,
      "padding": null,
      "right": null,
      "top": null,
      "visibility": null,
      "width": null
     }
    },
    "0e3889ea43da463d84e4cae45e7e0869": {
     "model_module": "@jupyter-widgets/controls",
     "model_module_version": "1.5.0",
     "model_name": "HTMLModel",
     "state": {
      "_dom_classes": [],
      "_model_module": "@jupyter-widgets/controls",
      "_model_module_version": "1.5.0",
      "_model_name": "HTMLModel",
      "_view_count": null,
      "_view_module": "@jupyter-widgets/controls",
      "_view_module_version": "1.5.0",
      "_view_name": "HTMLView",
      "description": "",
      "description_tooltip": null,
      "layout": "IPY_MODEL_4a630ef6af5e433296771d1f930ed847",
      "placeholder": "​",
      "style": "IPY_MODEL_e7b12082db10412795b9f4faee70982a",
      "value": " 1/2 [00:04&lt;00:04,  4.12s/it, loss=0.0825]"
     }
    },
    "103b5eb847774c019737060849d950e9": {
     "model_module": "@jupyter-widgets/base",
     "model_module_version": "1.2.0",
     "model_name": "LayoutModel",
     "state": {
      "_model_module": "@jupyter-widgets/base",
      "_model_module_version": "1.2.0",
      "_model_name": "LayoutModel",
      "_view_count": null,
      "_view_module": "@jupyter-widgets/base",
      "_view_module_version": "1.2.0",
      "_view_name": "LayoutView",
      "align_content": null,
      "align_items": null,
      "align_self": null,
      "border": null,
      "bottom": null,
      "display": null,
      "flex": null,
      "flex_flow": null,
      "grid_area": null,
      "grid_auto_columns": null,
      "grid_auto_flow": null,
      "grid_auto_rows": null,
      "grid_column": null,
      "grid_gap": null,
      "grid_row": null,
      "grid_template_areas": null,
      "grid_template_columns": null,
      "grid_template_rows": null,
      "height": null,
      "justify_content": null,
      "justify_items": null,
      "left": null,
      "margin": null,
      "max_height": null,
      "max_width": null,
      "min_height": null,
      "min_width": null,
      "object_fit": null,
      "object_position": null,
      "order": null,
      "overflow": null,
      "overflow_x": null,
      "overflow_y": null,
      "padding": null,
      "right": null,
      "top": null,
      "visibility": null,
      "width": null
     }
    },
    "163a9e16e6d94d64ac59858476875521": {
     "model_module": "@jupyter-widgets/controls",
     "model_module_version": "1.5.0",
     "model_name": "DescriptionStyleModel",
     "state": {
      "_model_module": "@jupyter-widgets/controls",
      "_model_module_version": "1.5.0",
      "_model_name": "DescriptionStyleModel",
      "_view_count": null,
      "_view_module": "@jupyter-widgets/base",
      "_view_module_version": "1.2.0",
      "_view_name": "StyleView",
      "description_width": ""
     }
    },
    "21b959811b3f4ba2ae6758d4d8726c26": {
     "model_module": "@jupyter-widgets/base",
     "model_module_version": "1.2.0",
     "model_name": "LayoutModel",
     "state": {
      "_model_module": "@jupyter-widgets/base",
      "_model_module_version": "1.2.0",
      "_model_name": "LayoutModel",
      "_view_count": null,
      "_view_module": "@jupyter-widgets/base",
      "_view_module_version": "1.2.0",
      "_view_name": "LayoutView",
      "align_content": null,
      "align_items": null,
      "align_self": null,
      "border": null,
      "bottom": null,
      "display": null,
      "flex": null,
      "flex_flow": null,
      "grid_area": null,
      "grid_auto_columns": null,
      "grid_auto_flow": null,
      "grid_auto_rows": null,
      "grid_column": null,
      "grid_gap": null,
      "grid_row": null,
      "grid_template_areas": null,
      "grid_template_columns": null,
      "grid_template_rows": null,
      "height": null,
      "justify_content": null,
      "justify_items": null,
      "left": null,
      "margin": null,
      "max_height": null,
      "max_width": null,
      "min_height": null,
      "min_width": null,
      "object_fit": null,
      "object_position": null,
      "order": null,
      "overflow": null,
      "overflow_x": null,
      "overflow_y": null,
      "padding": null,
      "right": null,
      "top": null,
      "visibility": null,
      "width": null
     }
    },
    "224b1f5a76c54742991001999530e92d": {
     "model_module": "@jupyter-widgets/base",
     "model_module_version": "1.2.0",
     "model_name": "LayoutModel",
     "state": {
      "_model_module": "@jupyter-widgets/base",
      "_model_module_version": "1.2.0",
      "_model_name": "LayoutModel",
      "_view_count": null,
      "_view_module": "@jupyter-widgets/base",
      "_view_module_version": "1.2.0",
      "_view_name": "LayoutView",
      "align_content": null,
      "align_items": null,
      "align_self": null,
      "border": null,
      "bottom": null,
      "display": null,
      "flex": null,
      "flex_flow": null,
      "grid_area": null,
      "grid_auto_columns": null,
      "grid_auto_flow": null,
      "grid_auto_rows": null,
      "grid_column": null,
      "grid_gap": null,
      "grid_row": null,
      "grid_template_areas": null,
      "grid_template_columns": null,
      "grid_template_rows": null,
      "height": null,
      "justify_content": null,
      "justify_items": null,
      "left": null,
      "margin": null,
      "max_height": null,
      "max_width": null,
      "min_height": null,
      "min_width": null,
      "object_fit": null,
      "object_position": null,
      "order": null,
      "overflow": null,
      "overflow_x": null,
      "overflow_y": null,
      "padding": null,
      "right": null,
      "top": null,
      "visibility": "hidden",
      "width": null
     }
    },
    "27e9aa707f2a4955b8cadd0462adde23": {
     "model_module": "@jupyter-widgets/controls",
     "model_module_version": "1.5.0",
     "model_name": "DescriptionStyleModel",
     "state": {
      "_model_module": "@jupyter-widgets/controls",
      "_model_module_version": "1.5.0",
      "_model_name": "DescriptionStyleModel",
      "_view_count": null,
      "_view_module": "@jupyter-widgets/base",
      "_view_module_version": "1.2.0",
      "_view_name": "StyleView",
      "description_width": ""
     }
    },
    "292130b8271d4fa48fabc7e64a0646f0": {
     "model_module": "@jupyter-widgets/controls",
     "model_module_version": "1.5.0",
     "model_name": "DescriptionStyleModel",
     "state": {
      "_model_module": "@jupyter-widgets/controls",
      "_model_module_version": "1.5.0",
      "_model_name": "DescriptionStyleModel",
      "_view_count": null,
      "_view_module": "@jupyter-widgets/base",
      "_view_module_version": "1.2.0",
      "_view_name": "StyleView",
      "description_width": ""
     }
    },
    "2a7999ce68c84aebbb3a6382bb7815f8": {
     "model_module": "@jupyter-widgets/controls",
     "model_module_version": "1.5.0",
     "model_name": "DescriptionStyleModel",
     "state": {
      "_model_module": "@jupyter-widgets/controls",
      "_model_module_version": "1.5.0",
      "_model_name": "DescriptionStyleModel",
      "_view_count": null,
      "_view_module": "@jupyter-widgets/base",
      "_view_module_version": "1.2.0",
      "_view_name": "StyleView",
      "description_width": ""
     }
    },
    "2a8949c9c3be467fbda11b90a787328f": {
     "model_module": "@jupyter-widgets/controls",
     "model_module_version": "1.5.0",
     "model_name": "HBoxModel",
     "state": {
      "_dom_classes": [],
      "_model_module": "@jupyter-widgets/controls",
      "_model_module_version": "1.5.0",
      "_model_name": "HBoxModel",
      "_view_count": null,
      "_view_module": "@jupyter-widgets/controls",
      "_view_module_version": "1.5.0",
      "_view_name": "HBoxView",
      "box_style": "",
      "children": [
       "IPY_MODEL_a23d3b1159024cb6beefa01a18476d17",
       "IPY_MODEL_559fb8636aec471284b7e25b7e29cf35",
       "IPY_MODEL_b01f3c784bfc490396835db4cf44663b"
      ],
      "layout": "IPY_MODEL_6d5e02f6b34b450fadba2d19e10ff081"
     }
    },
    "2b27206bdd4c444c883ec6d26a29a4af": {
     "model_module": "@jupyter-widgets/controls",
     "model_module_version": "1.5.0",
     "model_name": "DescriptionStyleModel",
     "state": {
      "_model_module": "@jupyter-widgets/controls",
      "_model_module_version": "1.5.0",
      "_model_name": "DescriptionStyleModel",
      "_view_count": null,
      "_view_module": "@jupyter-widgets/base",
      "_view_module_version": "1.2.0",
      "_view_name": "StyleView",
      "description_width": ""
     }
    },
    "3005becb15dc40ada5e4eec04e1bbb37": {
     "model_module": "@jupyter-widgets/controls",
     "model_module_version": "1.5.0",
     "model_name": "HTMLModel",
     "state": {
      "_dom_classes": [],
      "_model_module": "@jupyter-widgets/controls",
      "_model_module_version": "1.5.0",
      "_model_name": "HTMLModel",
      "_view_count": null,
      "_view_module": "@jupyter-widgets/controls",
      "_view_module_version": "1.5.0",
      "_view_name": "HTMLView",
      "description": "",
      "description_tooltip": null,
      "layout": "IPY_MODEL_f786985069664a2fb078e944816be074",
      "placeholder": "​",
      "style": "IPY_MODEL_ae2e54a21e744bf7b4c38e094df4ea59",
      "value": "Epoch 10/10:  50%"
     }
    },
    "3b94a14962de4b50978e55f9ab481a98": {
     "model_module": "@jupyter-widgets/controls",
     "model_module_version": "1.5.0",
     "model_name": "FloatProgressModel",
     "state": {
      "_dom_classes": [],
      "_model_module": "@jupyter-widgets/controls",
      "_model_module_version": "1.5.0",
      "_model_name": "FloatProgressModel",
      "_view_count": null,
      "_view_module": "@jupyter-widgets/controls",
      "_view_module_version": "1.5.0",
      "_view_name": "ProgressView",
      "bar_style": "",
      "description": "",
      "description_tooltip": null,
      "layout": "IPY_MODEL_a89820636c1d426f94e07262d70bc619",
      "max": 2,
      "min": 0,
      "orientation": "horizontal",
      "style": "IPY_MODEL_d78589f1c21247ddb1397b62219fb0ae",
      "value": 2
     }
    },
    "3e4dcff607914fe993a71d20dbb12a33": {
     "model_module": "@jupyter-widgets/base",
     "model_module_version": "1.2.0",
     "model_name": "LayoutModel",
     "state": {
      "_model_module": "@jupyter-widgets/base",
      "_model_module_version": "1.2.0",
      "_model_name": "LayoutModel",
      "_view_count": null,
      "_view_module": "@jupyter-widgets/base",
      "_view_module_version": "1.2.0",
      "_view_name": "LayoutView",
      "align_content": null,
      "align_items": null,
      "align_self": null,
      "border": null,
      "bottom": null,
      "display": null,
      "flex": null,
      "flex_flow": null,
      "grid_area": null,
      "grid_auto_columns": null,
      "grid_auto_flow": null,
      "grid_auto_rows": null,
      "grid_column": null,
      "grid_gap": null,
      "grid_row": null,
      "grid_template_areas": null,
      "grid_template_columns": null,
      "grid_template_rows": null,
      "height": null,
      "justify_content": null,
      "justify_items": null,
      "left": null,
      "margin": null,
      "max_height": null,
      "max_width": null,
      "min_height": null,
      "min_width": null,
      "object_fit": null,
      "object_position": null,
      "order": null,
      "overflow": null,
      "overflow_x": null,
      "overflow_y": null,
      "padding": null,
      "right": null,
      "top": null,
      "visibility": null,
      "width": null
     }
    },
    "41126bcb5dfa49d1b68f248ea89aea98": {
     "model_module": "@jupyter-widgets/controls",
     "model_module_version": "1.5.0",
     "model_name": "HBoxModel",
     "state": {
      "_dom_classes": [],
      "_model_module": "@jupyter-widgets/controls",
      "_model_module_version": "1.5.0",
      "_model_name": "HBoxModel",
      "_view_count": null,
      "_view_module": "@jupyter-widgets/controls",
      "_view_module_version": "1.5.0",
      "_view_name": "HBoxView",
      "box_style": "",
      "children": [
       "IPY_MODEL_cbca1e1a0986456dab9057cecddb4959",
       "IPY_MODEL_7356ceb517b844cfbea197cf61cf0461",
       "IPY_MODEL_d44ca3b0864141c298cdd6033c124d43"
      ],
      "layout": "IPY_MODEL_dad27de1ebc643fe9316b4cf1a9d40d2"
     }
    },
    "4745dc9b30ce46729b7080d7b52760d2": {
     "model_module": "@jupyter-widgets/controls",
     "model_module_version": "1.5.0",
     "model_name": "ProgressStyleModel",
     "state": {
      "_model_module": "@jupyter-widgets/controls",
      "_model_module_version": "1.5.0",
      "_model_name": "ProgressStyleModel",
      "_view_count": null,
      "_view_module": "@jupyter-widgets/base",
      "_view_module_version": "1.2.0",
      "_view_name": "StyleView",
      "bar_color": null,
      "description_width": ""
     }
    },
    "48cc17dce4e64dca941370f033b68322": {
     "model_module": "@jupyter-widgets/base",
     "model_module_version": "1.2.0",
     "model_name": "LayoutModel",
     "state": {
      "_model_module": "@jupyter-widgets/base",
      "_model_module_version": "1.2.0",
      "_model_name": "LayoutModel",
      "_view_count": null,
      "_view_module": "@jupyter-widgets/base",
      "_view_module_version": "1.2.0",
      "_view_name": "LayoutView",
      "align_content": null,
      "align_items": null,
      "align_self": null,
      "border": null,
      "bottom": null,
      "display": null,
      "flex": null,
      "flex_flow": null,
      "grid_area": null,
      "grid_auto_columns": null,
      "grid_auto_flow": null,
      "grid_auto_rows": null,
      "grid_column": null,
      "grid_gap": null,
      "grid_row": null,
      "grid_template_areas": null,
      "grid_template_columns": null,
      "grid_template_rows": null,
      "height": null,
      "justify_content": null,
      "justify_items": null,
      "left": null,
      "margin": null,
      "max_height": null,
      "max_width": null,
      "min_height": null,
      "min_width": null,
      "object_fit": null,
      "object_position": null,
      "order": null,
      "overflow": null,
      "overflow_x": null,
      "overflow_y": null,
      "padding": null,
      "right": null,
      "top": null,
      "visibility": null,
      "width": null
     }
    },
    "4a1820def8574605ba6cdb29427026ed": {
     "model_module": "@jupyter-widgets/controls",
     "model_module_version": "1.5.0",
     "model_name": "HBoxModel",
     "state": {
      "_dom_classes": [],
      "_model_module": "@jupyter-widgets/controls",
      "_model_module_version": "1.5.0",
      "_model_name": "HBoxModel",
      "_view_count": null,
      "_view_module": "@jupyter-widgets/controls",
      "_view_module_version": "1.5.0",
      "_view_name": "HBoxView",
      "box_style": "",
      "children": [
       "IPY_MODEL_0509e2003d874f74bd46c723591b835d",
       "IPY_MODEL_fde31fb02ac74404800697f3a9641b5b",
       "IPY_MODEL_71d6a80a9d694d849589be7c696952ea"
      ],
      "layout": "IPY_MODEL_f8407cef6eaa43f1a353b6c467e4c1a1"
     }
    },
    "4a630ef6af5e433296771d1f930ed847": {
     "model_module": "@jupyter-widgets/base",
     "model_module_version": "1.2.0",
     "model_name": "LayoutModel",
     "state": {
      "_model_module": "@jupyter-widgets/base",
      "_model_module_version": "1.2.0",
      "_model_name": "LayoutModel",
      "_view_count": null,
      "_view_module": "@jupyter-widgets/base",
      "_view_module_version": "1.2.0",
      "_view_name": "LayoutView",
      "align_content": null,
      "align_items": null,
      "align_self": null,
      "border": null,
      "bottom": null,
      "display": null,
      "flex": null,
      "flex_flow": null,
      "grid_area": null,
      "grid_auto_columns": null,
      "grid_auto_flow": null,
      "grid_auto_rows": null,
      "grid_column": null,
      "grid_gap": null,
      "grid_row": null,
      "grid_template_areas": null,
      "grid_template_columns": null,
      "grid_template_rows": null,
      "height": null,
      "justify_content": null,
      "justify_items": null,
      "left": null,
      "margin": null,
      "max_height": null,
      "max_width": null,
      "min_height": null,
      "min_width": null,
      "object_fit": null,
      "object_position": null,
      "order": null,
      "overflow": null,
      "overflow_x": null,
      "overflow_y": null,
      "padding": null,
      "right": null,
      "top": null,
      "visibility": null,
      "width": null
     }
    },
    "4acc1d42956842cc9b5570aa418da701": {
     "model_module": "@jupyter-widgets/controls",
     "model_module_version": "1.5.0",
     "model_name": "HBoxModel",
     "state": {
      "_dom_classes": [],
      "_model_module": "@jupyter-widgets/controls",
      "_model_module_version": "1.5.0",
      "_model_name": "HBoxModel",
      "_view_count": null,
      "_view_module": "@jupyter-widgets/controls",
      "_view_module_version": "1.5.0",
      "_view_name": "HBoxView",
      "box_style": "",
      "children": [
       "IPY_MODEL_4b93685be50c41b784d9ca9013bd2cc3",
       "IPY_MODEL_b630101f0bdb41bca7c7db52ac4bf979",
       "IPY_MODEL_55a364754842404fb800894486de9f0a"
      ],
      "layout": "IPY_MODEL_c9c45f3be878462cb29c88599e471751"
     }
    },
    "4b93685be50c41b784d9ca9013bd2cc3": {
     "model_module": "@jupyter-widgets/controls",
     "model_module_version": "1.5.0",
     "model_name": "HTMLModel",
     "state": {
      "_dom_classes": [],
      "_model_module": "@jupyter-widgets/controls",
      "_model_module_version": "1.5.0",
      "_model_name": "HTMLModel",
      "_view_count": null,
      "_view_module": "@jupyter-widgets/controls",
      "_view_module_version": "1.5.0",
      "_view_name": "HTMLView",
      "description": "",
      "description_tooltip": null,
      "layout": "IPY_MODEL_a02c233991694ca6b9fd4b73ee412120",
      "placeholder": "​",
      "style": "IPY_MODEL_163a9e16e6d94d64ac59858476875521",
      "value": "Epoch 3/10:  50%"
     }
    },
    "4bb069fa05d24193a715e19463454838": {
     "model_module": "@jupyter-widgets/controls",
     "model_module_version": "1.5.0",
     "model_name": "DescriptionStyleModel",
     "state": {
      "_model_module": "@jupyter-widgets/controls",
      "_model_module_version": "1.5.0",
      "_model_name": "DescriptionStyleModel",
      "_view_count": null,
      "_view_module": "@jupyter-widgets/base",
      "_view_module_version": "1.2.0",
      "_view_name": "StyleView",
      "description_width": ""
     }
    },
    "4cfd5a8c40e64c1aaf3bc632024bef94": {
     "model_module": "@jupyter-widgets/controls",
     "model_module_version": "1.5.0",
     "model_name": "DescriptionStyleModel",
     "state": {
      "_model_module": "@jupyter-widgets/controls",
      "_model_module_version": "1.5.0",
      "_model_name": "DescriptionStyleModel",
      "_view_count": null,
      "_view_module": "@jupyter-widgets/base",
      "_view_module_version": "1.2.0",
      "_view_name": "StyleView",
      "description_width": ""
     }
    },
    "4d98003d209e41de8f5b9b13198f2788": {
     "model_module": "@jupyter-widgets/controls",
     "model_module_version": "1.5.0",
     "model_name": "ProgressStyleModel",
     "state": {
      "_model_module": "@jupyter-widgets/controls",
      "_model_module_version": "1.5.0",
      "_model_name": "ProgressStyleModel",
      "_view_count": null,
      "_view_module": "@jupyter-widgets/base",
      "_view_module_version": "1.2.0",
      "_view_name": "StyleView",
      "bar_color": null,
      "description_width": ""
     }
    },
    "515daa71984d487885a92f8270ea4df9": {
     "model_module": "@jupyter-widgets/base",
     "model_module_version": "1.2.0",
     "model_name": "LayoutModel",
     "state": {
      "_model_module": "@jupyter-widgets/base",
      "_model_module_version": "1.2.0",
      "_model_name": "LayoutModel",
      "_view_count": null,
      "_view_module": "@jupyter-widgets/base",
      "_view_module_version": "1.2.0",
      "_view_name": "LayoutView",
      "align_content": null,
      "align_items": null,
      "align_self": null,
      "border": null,
      "bottom": null,
      "display": null,
      "flex": null,
      "flex_flow": null,
      "grid_area": null,
      "grid_auto_columns": null,
      "grid_auto_flow": null,
      "grid_auto_rows": null,
      "grid_column": null,
      "grid_gap": null,
      "grid_row": null,
      "grid_template_areas": null,
      "grid_template_columns": null,
      "grid_template_rows": null,
      "height": null,
      "justify_content": null,
      "justify_items": null,
      "left": null,
      "margin": null,
      "max_height": null,
      "max_width": null,
      "min_height": null,
      "min_width": null,
      "object_fit": null,
      "object_position": null,
      "order": null,
      "overflow": null,
      "overflow_x": null,
      "overflow_y": null,
      "padding": null,
      "right": null,
      "top": null,
      "visibility": null,
      "width": null
     }
    },
    "5322685885e54ffb815c96547b8ccee2": {
     "model_module": "@jupyter-widgets/base",
     "model_module_version": "1.2.0",
     "model_name": "LayoutModel",
     "state": {
      "_model_module": "@jupyter-widgets/base",
      "_model_module_version": "1.2.0",
      "_model_name": "LayoutModel",
      "_view_count": null,
      "_view_module": "@jupyter-widgets/base",
      "_view_module_version": "1.2.0",
      "_view_name": "LayoutView",
      "align_content": null,
      "align_items": null,
      "align_self": null,
      "border": null,
      "bottom": null,
      "display": null,
      "flex": null,
      "flex_flow": null,
      "grid_area": null,
      "grid_auto_columns": null,
      "grid_auto_flow": null,
      "grid_auto_rows": null,
      "grid_column": null,
      "grid_gap": null,
      "grid_row": null,
      "grid_template_areas": null,
      "grid_template_columns": null,
      "grid_template_rows": null,
      "height": null,
      "justify_content": null,
      "justify_items": null,
      "left": null,
      "margin": null,
      "max_height": null,
      "max_width": null,
      "min_height": null,
      "min_width": null,
      "object_fit": null,
      "object_position": null,
      "order": null,
      "overflow": null,
      "overflow_x": null,
      "overflow_y": null,
      "padding": null,
      "right": null,
      "top": null,
      "visibility": null,
      "width": null
     }
    },
    "555c2f474a6b4bd7a2e7daf42730a71e": {
     "model_module": "@jupyter-widgets/controls",
     "model_module_version": "1.5.0",
     "model_name": "FloatProgressModel",
     "state": {
      "_dom_classes": [],
      "_model_module": "@jupyter-widgets/controls",
      "_model_module_version": "1.5.0",
      "_model_name": "FloatProgressModel",
      "_view_count": null,
      "_view_module": "@jupyter-widgets/controls",
      "_view_module_version": "1.5.0",
      "_view_name": "ProgressView",
      "bar_style": "",
      "description": "",
      "description_tooltip": null,
      "layout": "IPY_MODEL_103b5eb847774c019737060849d950e9",
      "max": 2,
      "min": 0,
      "orientation": "horizontal",
      "style": "IPY_MODEL_d5cc6b5083b04385acaf1c6e5a5dd0a2",
      "value": 2
     }
    },
    "559fb8636aec471284b7e25b7e29cf35": {
     "model_module": "@jupyter-widgets/controls",
     "model_module_version": "1.5.0",
     "model_name": "FloatProgressModel",
     "state": {
      "_dom_classes": [],
      "_model_module": "@jupyter-widgets/controls",
      "_model_module_version": "1.5.0",
      "_model_name": "FloatProgressModel",
      "_view_count": null,
      "_view_module": "@jupyter-widgets/controls",
      "_view_module_version": "1.5.0",
      "_view_name": "ProgressView",
      "bar_style": "",
      "description": "",
      "description_tooltip": null,
      "layout": "IPY_MODEL_9713a48363734ff09057aa06e8ca0206",
      "max": 2,
      "min": 0,
      "orientation": "horizontal",
      "style": "IPY_MODEL_c13b7d77abe04ca19a4f456cbbb79766",
      "value": 2
     }
    },
    "55a364754842404fb800894486de9f0a": {
     "model_module": "@jupyter-widgets/controls",
     "model_module_version": "1.5.0",
     "model_name": "HTMLModel",
     "state": {
      "_dom_classes": [],
      "_model_module": "@jupyter-widgets/controls",
      "_model_module_version": "1.5.0",
      "_model_name": "HTMLModel",
      "_view_count": null,
      "_view_module": "@jupyter-widgets/controls",
      "_view_module_version": "1.5.0",
      "_view_name": "HTMLView",
      "description": "",
      "description_tooltip": null,
      "layout": "IPY_MODEL_74d345e0ae434c358a1311db1b2057bd",
      "placeholder": "​",
      "style": "IPY_MODEL_4cfd5a8c40e64c1aaf3bc632024bef94",
      "value": " 1/2 [00:01&lt;00:01,  1.61s/it, loss=0.328]"
     }
    },
    "5b290fbf1de741168f0c0195b32cbdc3": {
     "model_module": "@jupyter-widgets/controls",
     "model_module_version": "1.5.0",
     "model_name": "HTMLModel",
     "state": {
      "_dom_classes": [],
      "_model_module": "@jupyter-widgets/controls",
      "_model_module_version": "1.5.0",
      "_model_name": "HTMLModel",
      "_view_count": null,
      "_view_module": "@jupyter-widgets/controls",
      "_view_module_version": "1.5.0",
      "_view_name": "HTMLView",
      "description": "",
      "description_tooltip": null,
      "layout": "IPY_MODEL_0bea4e60253441e3990c09ebdf37bfd0",
      "placeholder": "​",
      "style": "IPY_MODEL_2a7999ce68c84aebbb3a6382bb7815f8",
      "value": " 1/2 [00:02&lt;00:02,  2.82s/it, loss=0.0798]"
     }
    },
    "60257e79487a4a6190e73eab9ca3f15b": {
     "model_module": "@jupyter-widgets/controls",
     "model_module_version": "1.5.0",
     "model_name": "HBoxModel",
     "state": {
      "_dom_classes": [],
      "_model_module": "@jupyter-widgets/controls",
      "_model_module_version": "1.5.0",
      "_model_name": "HBoxModel",
      "_view_count": null,
      "_view_module": "@jupyter-widgets/controls",
      "_view_module_version": "1.5.0",
      "_view_name": "HBoxView",
      "box_style": "",
      "children": [
       "IPY_MODEL_d940fcf646c241a1815a06fa894501a8",
       "IPY_MODEL_b8fd8e0ac6e341f2a2083cef713ff41e",
       "IPY_MODEL_82d3cba2227d4c24845400829cca7bd9"
      ],
      "layout": "IPY_MODEL_8686da8b25a14800b7ac6fa47ca05b09"
     }
    },
    "60a1e7e398394a3b896311ff5c906212": {
     "model_module": "@jupyter-widgets/controls",
     "model_module_version": "1.5.0",
     "model_name": "HTMLModel",
     "state": {
      "_dom_classes": [],
      "_model_module": "@jupyter-widgets/controls",
      "_model_module_version": "1.5.0",
      "_model_name": "HTMLModel",
      "_view_count": null,
      "_view_module": "@jupyter-widgets/controls",
      "_view_module_version": "1.5.0",
      "_view_name": "HTMLView",
      "description": "",
      "description_tooltip": null,
      "layout": "IPY_MODEL_0e32f3f5903e433c99c17bbfaf486583",
      "placeholder": "​",
      "style": "IPY_MODEL_6a6bcacf321b4073bdb102492b71b151",
      "value": "Epoch 6/10:  50%"
     }
    },
    "60e989cf3ade4fdbbb15e1868de12c48": {
     "model_module": "@jupyter-widgets/controls",
     "model_module_version": "1.5.0",
     "model_name": "HBoxModel",
     "state": {
      "_dom_classes": [],
      "_model_module": "@jupyter-widgets/controls",
      "_model_module_version": "1.5.0",
      "_model_name": "HBoxModel",
      "_view_count": null,
      "_view_module": "@jupyter-widgets/controls",
      "_view_module_version": "1.5.0",
      "_view_name": "HBoxView",
      "box_style": "",
      "children": [
       "IPY_MODEL_8c0ca1d7736141fdbec27ffe020c878a",
       "IPY_MODEL_8cf58014529e4376af8e66013db20dc6",
       "IPY_MODEL_b16d624a0697456ea851d13c491e0795"
      ],
      "layout": "IPY_MODEL_822815cb8f4949ca9fb89887ee47d178"
     }
    },
    "64fcd841f16449e19eac28752b1a3d56": {
     "model_module": "@jupyter-widgets/base",
     "model_module_version": "1.2.0",
     "model_name": "LayoutModel",
     "state": {
      "_model_module": "@jupyter-widgets/base",
      "_model_module_version": "1.2.0",
      "_model_name": "LayoutModel",
      "_view_count": null,
      "_view_module": "@jupyter-widgets/base",
      "_view_module_version": "1.2.0",
      "_view_name": "LayoutView",
      "align_content": null,
      "align_items": null,
      "align_self": null,
      "border": null,
      "bottom": null,
      "display": null,
      "flex": null,
      "flex_flow": null,
      "grid_area": null,
      "grid_auto_columns": null,
      "grid_auto_flow": null,
      "grid_auto_rows": null,
      "grid_column": null,
      "grid_gap": null,
      "grid_row": null,
      "grid_template_areas": null,
      "grid_template_columns": null,
      "grid_template_rows": null,
      "height": null,
      "justify_content": null,
      "justify_items": null,
      "left": null,
      "margin": null,
      "max_height": null,
      "max_width": null,
      "min_height": null,
      "min_width": null,
      "object_fit": null,
      "object_position": null,
      "order": null,
      "overflow": null,
      "overflow_x": null,
      "overflow_y": null,
      "padding": null,
      "right": null,
      "top": null,
      "visibility": null,
      "width": null
     }
    },
    "66785ea6333648ceb1af135d00bf86ea": {
     "model_module": "@jupyter-widgets/base",
     "model_module_version": "1.2.0",
     "model_name": "LayoutModel",
     "state": {
      "_model_module": "@jupyter-widgets/base",
      "_model_module_version": "1.2.0",
      "_model_name": "LayoutModel",
      "_view_count": null,
      "_view_module": "@jupyter-widgets/base",
      "_view_module_version": "1.2.0",
      "_view_name": "LayoutView",
      "align_content": null,
      "align_items": null,
      "align_self": null,
      "border": null,
      "bottom": null,
      "display": null,
      "flex": null,
      "flex_flow": null,
      "grid_area": null,
      "grid_auto_columns": null,
      "grid_auto_flow": null,
      "grid_auto_rows": null,
      "grid_column": null,
      "grid_gap": null,
      "grid_row": null,
      "grid_template_areas": null,
      "grid_template_columns": null,
      "grid_template_rows": null,
      "height": null,
      "justify_content": null,
      "justify_items": null,
      "left": null,
      "margin": null,
      "max_height": null,
      "max_width": null,
      "min_height": null,
      "min_width": null,
      "object_fit": null,
      "object_position": null,
      "order": null,
      "overflow": null,
      "overflow_x": null,
      "overflow_y": null,
      "padding": null,
      "right": null,
      "top": null,
      "visibility": null,
      "width": null
     }
    },
    "6754c7c05b0c4e658d3c69f1f851426d": {
     "model_module": "@jupyter-widgets/base",
     "model_module_version": "1.2.0",
     "model_name": "LayoutModel",
     "state": {
      "_model_module": "@jupyter-widgets/base",
      "_model_module_version": "1.2.0",
      "_model_name": "LayoutModel",
      "_view_count": null,
      "_view_module": "@jupyter-widgets/base",
      "_view_module_version": "1.2.0",
      "_view_name": "LayoutView",
      "align_content": null,
      "align_items": null,
      "align_self": null,
      "border": null,
      "bottom": null,
      "display": null,
      "flex": null,
      "flex_flow": null,
      "grid_area": null,
      "grid_auto_columns": null,
      "grid_auto_flow": null,
      "grid_auto_rows": null,
      "grid_column": null,
      "grid_gap": null,
      "grid_row": null,
      "grid_template_areas": null,
      "grid_template_columns": null,
      "grid_template_rows": null,
      "height": null,
      "justify_content": null,
      "justify_items": null,
      "left": null,
      "margin": null,
      "max_height": null,
      "max_width": null,
      "min_height": null,
      "min_width": null,
      "object_fit": null,
      "object_position": null,
      "order": null,
      "overflow": null,
      "overflow_x": null,
      "overflow_y": null,
      "padding": null,
      "right": null,
      "top": null,
      "visibility": "hidden",
      "width": null
     }
    },
    "6a6bcacf321b4073bdb102492b71b151": {
     "model_module": "@jupyter-widgets/controls",
     "model_module_version": "1.5.0",
     "model_name": "DescriptionStyleModel",
     "state": {
      "_model_module": "@jupyter-widgets/controls",
      "_model_module_version": "1.5.0",
      "_model_name": "DescriptionStyleModel",
      "_view_count": null,
      "_view_module": "@jupyter-widgets/base",
      "_view_module_version": "1.2.0",
      "_view_name": "StyleView",
      "description_width": ""
     }
    },
    "6cbdc46f634643b0aba4867df26c6266": {
     "model_module": "@jupyter-widgets/controls",
     "model_module_version": "1.5.0",
     "model_name": "HTMLModel",
     "state": {
      "_dom_classes": [],
      "_model_module": "@jupyter-widgets/controls",
      "_model_module_version": "1.5.0",
      "_model_name": "HTMLModel",
      "_view_count": null,
      "_view_module": "@jupyter-widgets/controls",
      "_view_module_version": "1.5.0",
      "_view_name": "HTMLView",
      "description": "",
      "description_tooltip": null,
      "layout": "IPY_MODEL_9bd0c3cb0e644125986a7aca61a97ab4",
      "placeholder": "​",
      "style": "IPY_MODEL_749b9c70ee3a4c0abd2a2dd6fdb23f6c",
      "value": " 1/2 [00:03&lt;00:03,  3.72s/it, loss=0.122]"
     }
    },
    "6d0389d4c4ba4a3bbc4055f85deec892": {
     "model_module": "@jupyter-widgets/controls",
     "model_module_version": "1.5.0",
     "model_name": "ProgressStyleModel",
     "state": {
      "_model_module": "@jupyter-widgets/controls",
      "_model_module_version": "1.5.0",
      "_model_name": "ProgressStyleModel",
      "_view_count": null,
      "_view_module": "@jupyter-widgets/base",
      "_view_module_version": "1.2.0",
      "_view_name": "StyleView",
      "bar_color": null,
      "description_width": ""
     }
    },
    "6d5e02f6b34b450fadba2d19e10ff081": {
     "model_module": "@jupyter-widgets/base",
     "model_module_version": "1.2.0",
     "model_name": "LayoutModel",
     "state": {
      "_model_module": "@jupyter-widgets/base",
      "_model_module_version": "1.2.0",
      "_model_name": "LayoutModel",
      "_view_count": null,
      "_view_module": "@jupyter-widgets/base",
      "_view_module_version": "1.2.0",
      "_view_name": "LayoutView",
      "align_content": null,
      "align_items": null,
      "align_self": null,
      "border": null,
      "bottom": null,
      "display": null,
      "flex": null,
      "flex_flow": null,
      "grid_area": null,
      "grid_auto_columns": null,
      "grid_auto_flow": null,
      "grid_auto_rows": null,
      "grid_column": null,
      "grid_gap": null,
      "grid_row": null,
      "grid_template_areas": null,
      "grid_template_columns": null,
      "grid_template_rows": null,
      "height": null,
      "justify_content": null,
      "justify_items": null,
      "left": null,
      "margin": null,
      "max_height": null,
      "max_width": null,
      "min_height": null,
      "min_width": null,
      "object_fit": null,
      "object_position": null,
      "order": null,
      "overflow": null,
      "overflow_x": null,
      "overflow_y": null,
      "padding": null,
      "right": null,
      "top": null,
      "visibility": "hidden",
      "width": null
     }
    },
    "6e9c3ec260a74328b268447b88ba09c7": {
     "model_module": "@jupyter-widgets/controls",
     "model_module_version": "1.5.0",
     "model_name": "DescriptionStyleModel",
     "state": {
      "_model_module": "@jupyter-widgets/controls",
      "_model_module_version": "1.5.0",
      "_model_name": "DescriptionStyleModel",
      "_view_count": null,
      "_view_module": "@jupyter-widgets/base",
      "_view_module_version": "1.2.0",
      "_view_name": "StyleView",
      "description_width": ""
     }
    },
    "6f24112efd5045439f6f196f5223ca32": {
     "model_module": "@jupyter-widgets/controls",
     "model_module_version": "1.5.0",
     "model_name": "DescriptionStyleModel",
     "state": {
      "_model_module": "@jupyter-widgets/controls",
      "_model_module_version": "1.5.0",
      "_model_name": "DescriptionStyleModel",
      "_view_count": null,
      "_view_module": "@jupyter-widgets/base",
      "_view_module_version": "1.2.0",
      "_view_name": "StyleView",
      "description_width": ""
     }
    },
    "71d6a80a9d694d849589be7c696952ea": {
     "model_module": "@jupyter-widgets/controls",
     "model_module_version": "1.5.0",
     "model_name": "HTMLModel",
     "state": {
      "_dom_classes": [],
      "_model_module": "@jupyter-widgets/controls",
      "_model_module_version": "1.5.0",
      "_model_name": "HTMLModel",
      "_view_count": null,
      "_view_module": "@jupyter-widgets/controls",
      "_view_module_version": "1.5.0",
      "_view_name": "HTMLView",
      "description": "",
      "description_tooltip": null,
      "layout": "IPY_MODEL_052dd5045c3b41339bf57aec3b2d6f19",
      "placeholder": "​",
      "style": "IPY_MODEL_6f24112efd5045439f6f196f5223ca32",
      "value": " 1/2 [00:01&lt;00:01,  1.61s/it, loss=0.537]"
     }
    },
    "7356ceb517b844cfbea197cf61cf0461": {
     "model_module": "@jupyter-widgets/controls",
     "model_module_version": "1.5.0",
     "model_name": "FloatProgressModel",
     "state": {
      "_dom_classes": [],
      "_model_module": "@jupyter-widgets/controls",
      "_model_module_version": "1.5.0",
      "_model_name": "FloatProgressModel",
      "_view_count": null,
      "_view_module": "@jupyter-widgets/controls",
      "_view_module_version": "1.5.0",
      "_view_name": "ProgressView",
      "bar_style": "",
      "description": "",
      "description_tooltip": null,
      "layout": "IPY_MODEL_515daa71984d487885a92f8270ea4df9",
      "max": 2,
      "min": 0,
      "orientation": "horizontal",
      "style": "IPY_MODEL_dff0065cc3fb4968a616006a3bc5c994",
      "value": 2
     }
    },
    "749b9c70ee3a4c0abd2a2dd6fdb23f6c": {
     "model_module": "@jupyter-widgets/controls",
     "model_module_version": "1.5.0",
     "model_name": "DescriptionStyleModel",
     "state": {
      "_model_module": "@jupyter-widgets/controls",
      "_model_module_version": "1.5.0",
      "_model_name": "DescriptionStyleModel",
      "_view_count": null,
      "_view_module": "@jupyter-widgets/base",
      "_view_module_version": "1.2.0",
      "_view_name": "StyleView",
      "description_width": ""
     }
    },
    "74d345e0ae434c358a1311db1b2057bd": {
     "model_module": "@jupyter-widgets/base",
     "model_module_version": "1.2.0",
     "model_name": "LayoutModel",
     "state": {
      "_model_module": "@jupyter-widgets/base",
      "_model_module_version": "1.2.0",
      "_model_name": "LayoutModel",
      "_view_count": null,
      "_view_module": "@jupyter-widgets/base",
      "_view_module_version": "1.2.0",
      "_view_name": "LayoutView",
      "align_content": null,
      "align_items": null,
      "align_self": null,
      "border": null,
      "bottom": null,
      "display": null,
      "flex": null,
      "flex_flow": null,
      "grid_area": null,
      "grid_auto_columns": null,
      "grid_auto_flow": null,
      "grid_auto_rows": null,
      "grid_column": null,
      "grid_gap": null,
      "grid_row": null,
      "grid_template_areas": null,
      "grid_template_columns": null,
      "grid_template_rows": null,
      "height": null,
      "justify_content": null,
      "justify_items": null,
      "left": null,
      "margin": null,
      "max_height": null,
      "max_width": null,
      "min_height": null,
      "min_width": null,
      "object_fit": null,
      "object_position": null,
      "order": null,
      "overflow": null,
      "overflow_x": null,
      "overflow_y": null,
      "padding": null,
      "right": null,
      "top": null,
      "visibility": null,
      "width": null
     }
    },
    "7651d807478c41e5a9801947e03d7768": {
     "model_module": "@jupyter-widgets/base",
     "model_module_version": "1.2.0",
     "model_name": "LayoutModel",
     "state": {
      "_model_module": "@jupyter-widgets/base",
      "_model_module_version": "1.2.0",
      "_model_name": "LayoutModel",
      "_view_count": null,
      "_view_module": "@jupyter-widgets/base",
      "_view_module_version": "1.2.0",
      "_view_name": "LayoutView",
      "align_content": null,
      "align_items": null,
      "align_self": null,
      "border": null,
      "bottom": null,
      "display": null,
      "flex": null,
      "flex_flow": null,
      "grid_area": null,
      "grid_auto_columns": null,
      "grid_auto_flow": null,
      "grid_auto_rows": null,
      "grid_column": null,
      "grid_gap": null,
      "grid_row": null,
      "grid_template_areas": null,
      "grid_template_columns": null,
      "grid_template_rows": null,
      "height": null,
      "justify_content": null,
      "justify_items": null,
      "left": null,
      "margin": null,
      "max_height": null,
      "max_width": null,
      "min_height": null,
      "min_width": null,
      "object_fit": null,
      "object_position": null,
      "order": null,
      "overflow": null,
      "overflow_x": null,
      "overflow_y": null,
      "padding": null,
      "right": null,
      "top": null,
      "visibility": null,
      "width": null
     }
    },
    "7e24c6cbd49248838796a8dd462dd297": {
     "model_module": "@jupyter-widgets/controls",
     "model_module_version": "1.5.0",
     "model_name": "DescriptionStyleModel",
     "state": {
      "_model_module": "@jupyter-widgets/controls",
      "_model_module_version": "1.5.0",
      "_model_name": "DescriptionStyleModel",
      "_view_count": null,
      "_view_module": "@jupyter-widgets/base",
      "_view_module_version": "1.2.0",
      "_view_name": "StyleView",
      "description_width": ""
     }
    },
    "80f47a533069412cbd7ded3f3c10d472": {
     "model_module": "@jupyter-widgets/base",
     "model_module_version": "1.2.0",
     "model_name": "LayoutModel",
     "state": {
      "_model_module": "@jupyter-widgets/base",
      "_model_module_version": "1.2.0",
      "_model_name": "LayoutModel",
      "_view_count": null,
      "_view_module": "@jupyter-widgets/base",
      "_view_module_version": "1.2.0",
      "_view_name": "LayoutView",
      "align_content": null,
      "align_items": null,
      "align_self": null,
      "border": null,
      "bottom": null,
      "display": null,
      "flex": null,
      "flex_flow": null,
      "grid_area": null,
      "grid_auto_columns": null,
      "grid_auto_flow": null,
      "grid_auto_rows": null,
      "grid_column": null,
      "grid_gap": null,
      "grid_row": null,
      "grid_template_areas": null,
      "grid_template_columns": null,
      "grid_template_rows": null,
      "height": null,
      "justify_content": null,
      "justify_items": null,
      "left": null,
      "margin": null,
      "max_height": null,
      "max_width": null,
      "min_height": null,
      "min_width": null,
      "object_fit": null,
      "object_position": null,
      "order": null,
      "overflow": null,
      "overflow_x": null,
      "overflow_y": null,
      "padding": null,
      "right": null,
      "top": null,
      "visibility": null,
      "width": null
     }
    },
    "822815cb8f4949ca9fb89887ee47d178": {
     "model_module": "@jupyter-widgets/base",
     "model_module_version": "1.2.0",
     "model_name": "LayoutModel",
     "state": {
      "_model_module": "@jupyter-widgets/base",
      "_model_module_version": "1.2.0",
      "_model_name": "LayoutModel",
      "_view_count": null,
      "_view_module": "@jupyter-widgets/base",
      "_view_module_version": "1.2.0",
      "_view_name": "LayoutView",
      "align_content": null,
      "align_items": null,
      "align_self": null,
      "border": null,
      "bottom": null,
      "display": null,
      "flex": null,
      "flex_flow": null,
      "grid_area": null,
      "grid_auto_columns": null,
      "grid_auto_flow": null,
      "grid_auto_rows": null,
      "grid_column": null,
      "grid_gap": null,
      "grid_row": null,
      "grid_template_areas": null,
      "grid_template_columns": null,
      "grid_template_rows": null,
      "height": null,
      "justify_content": null,
      "justify_items": null,
      "left": null,
      "margin": null,
      "max_height": null,
      "max_width": null,
      "min_height": null,
      "min_width": null,
      "object_fit": null,
      "object_position": null,
      "order": null,
      "overflow": null,
      "overflow_x": null,
      "overflow_y": null,
      "padding": null,
      "right": null,
      "top": null,
      "visibility": "hidden",
      "width": null
     }
    },
    "82d3cba2227d4c24845400829cca7bd9": {
     "model_module": "@jupyter-widgets/controls",
     "model_module_version": "1.5.0",
     "model_name": "HTMLModel",
     "state": {
      "_dom_classes": [],
      "_model_module": "@jupyter-widgets/controls",
      "_model_module_version": "1.5.0",
      "_model_name": "HTMLModel",
      "_view_count": null,
      "_view_module": "@jupyter-widgets/controls",
      "_view_module_version": "1.5.0",
      "_view_name": "HTMLView",
      "description": "",
      "description_tooltip": null,
      "layout": "IPY_MODEL_ebc5da7747e04f569f678458e0abd241",
      "placeholder": "​",
      "style": "IPY_MODEL_e16f730eb6c64f5199af87d7c9f40493",
      "value": " 2/2 [00:02&lt;00:00,  1.22s/it, loss=0.714]"
     }
    },
    "8686da8b25a14800b7ac6fa47ca05b09": {
     "model_module": "@jupyter-widgets/base",
     "model_module_version": "1.2.0",
     "model_name": "LayoutModel",
     "state": {
      "_model_module": "@jupyter-widgets/base",
      "_model_module_version": "1.2.0",
      "_model_name": "LayoutModel",
      "_view_count": null,
      "_view_module": "@jupyter-widgets/base",
      "_view_module_version": "1.2.0",
      "_view_name": "LayoutView",
      "align_content": null,
      "align_items": null,
      "align_self": null,
      "border": null,
      "bottom": null,
      "display": null,
      "flex": null,
      "flex_flow": null,
      "grid_area": null,
      "grid_auto_columns": null,
      "grid_auto_flow": null,
      "grid_auto_rows": null,
      "grid_column": null,
      "grid_gap": null,
      "grid_row": null,
      "grid_template_areas": null,
      "grid_template_columns": null,
      "grid_template_rows": null,
      "height": null,
      "justify_content": null,
      "justify_items": null,
      "left": null,
      "margin": null,
      "max_height": null,
      "max_width": null,
      "min_height": null,
      "min_width": null,
      "object_fit": null,
      "object_position": null,
      "order": null,
      "overflow": null,
      "overflow_x": null,
      "overflow_y": null,
      "padding": null,
      "right": null,
      "top": null,
      "visibility": "hidden",
      "width": null
     }
    },
    "868e0ee249eb4557a87d2586774934ab": {
     "model_module": "@jupyter-widgets/base",
     "model_module_version": "1.2.0",
     "model_name": "LayoutModel",
     "state": {
      "_model_module": "@jupyter-widgets/base",
      "_model_module_version": "1.2.0",
      "_model_name": "LayoutModel",
      "_view_count": null,
      "_view_module": "@jupyter-widgets/base",
      "_view_module_version": "1.2.0",
      "_view_name": "LayoutView",
      "align_content": null,
      "align_items": null,
      "align_self": null,
      "border": null,
      "bottom": null,
      "display": null,
      "flex": null,
      "flex_flow": null,
      "grid_area": null,
      "grid_auto_columns": null,
      "grid_auto_flow": null,
      "grid_auto_rows": null,
      "grid_column": null,
      "grid_gap": null,
      "grid_row": null,
      "grid_template_areas": null,
      "grid_template_columns": null,
      "grid_template_rows": null,
      "height": null,
      "justify_content": null,
      "justify_items": null,
      "left": null,
      "margin": null,
      "max_height": null,
      "max_width": null,
      "min_height": null,
      "min_width": null,
      "object_fit": null,
      "object_position": null,
      "order": null,
      "overflow": null,
      "overflow_x": null,
      "overflow_y": null,
      "padding": null,
      "right": null,
      "top": null,
      "visibility": null,
      "width": null
     }
    },
    "87536a50750249c499a316a91e129f13": {
     "model_module": "@jupyter-widgets/base",
     "model_module_version": "1.2.0",
     "model_name": "LayoutModel",
     "state": {
      "_model_module": "@jupyter-widgets/base",
      "_model_module_version": "1.2.0",
      "_model_name": "LayoutModel",
      "_view_count": null,
      "_view_module": "@jupyter-widgets/base",
      "_view_module_version": "1.2.0",
      "_view_name": "LayoutView",
      "align_content": null,
      "align_items": null,
      "align_self": null,
      "border": null,
      "bottom": null,
      "display": null,
      "flex": null,
      "flex_flow": null,
      "grid_area": null,
      "grid_auto_columns": null,
      "grid_auto_flow": null,
      "grid_auto_rows": null,
      "grid_column": null,
      "grid_gap": null,
      "grid_row": null,
      "grid_template_areas": null,
      "grid_template_columns": null,
      "grid_template_rows": null,
      "height": null,
      "justify_content": null,
      "justify_items": null,
      "left": null,
      "margin": null,
      "max_height": null,
      "max_width": null,
      "min_height": null,
      "min_width": null,
      "object_fit": null,
      "object_position": null,
      "order": null,
      "overflow": null,
      "overflow_x": null,
      "overflow_y": null,
      "padding": null,
      "right": null,
      "top": null,
      "visibility": null,
      "width": null
     }
    },
    "8c0ca1d7736141fdbec27ffe020c878a": {
     "model_module": "@jupyter-widgets/controls",
     "model_module_version": "1.5.0",
     "model_name": "HTMLModel",
     "state": {
      "_dom_classes": [],
      "_model_module": "@jupyter-widgets/controls",
      "_model_module_version": "1.5.0",
      "_model_name": "HTMLModel",
      "_view_count": null,
      "_view_module": "@jupyter-widgets/controls",
      "_view_module_version": "1.5.0",
      "_view_name": "HTMLView",
      "description": "",
      "description_tooltip": null,
      "layout": "IPY_MODEL_04e806e80034429b84c0d1f673070ab2",
      "placeholder": "​",
      "style": "IPY_MODEL_bedf0418d1a84ed99875a8397e9a2ad0",
      "value": "Epoch 4/10:  50%"
     }
    },
    "8cf58014529e4376af8e66013db20dc6": {
     "model_module": "@jupyter-widgets/controls",
     "model_module_version": "1.5.0",
     "model_name": "FloatProgressModel",
     "state": {
      "_dom_classes": [],
      "_model_module": "@jupyter-widgets/controls",
      "_model_module_version": "1.5.0",
      "_model_name": "FloatProgressModel",
      "_view_count": null,
      "_view_module": "@jupyter-widgets/controls",
      "_view_module_version": "1.5.0",
      "_view_name": "ProgressView",
      "bar_style": "",
      "description": "",
      "description_tooltip": null,
      "layout": "IPY_MODEL_5322685885e54ffb815c96547b8ccee2",
      "max": 2,
      "min": 0,
      "orientation": "horizontal",
      "style": "IPY_MODEL_4745dc9b30ce46729b7080d7b52760d2",
      "value": 2
     }
    },
    "9713a48363734ff09057aa06e8ca0206": {
     "model_module": "@jupyter-widgets/base",
     "model_module_version": "1.2.0",
     "model_name": "LayoutModel",
     "state": {
      "_model_module": "@jupyter-widgets/base",
      "_model_module_version": "1.2.0",
      "_model_name": "LayoutModel",
      "_view_count": null,
      "_view_module": "@jupyter-widgets/base",
      "_view_module_version": "1.2.0",
      "_view_name": "LayoutView",
      "align_content": null,
      "align_items": null,
      "align_self": null,
      "border": null,
      "bottom": null,
      "display": null,
      "flex": null,
      "flex_flow": null,
      "grid_area": null,
      "grid_auto_columns": null,
      "grid_auto_flow": null,
      "grid_auto_rows": null,
      "grid_column": null,
      "grid_gap": null,
      "grid_row": null,
      "grid_template_areas": null,
      "grid_template_columns": null,
      "grid_template_rows": null,
      "height": null,
      "justify_content": null,
      "justify_items": null,
      "left": null,
      "margin": null,
      "max_height": null,
      "max_width": null,
      "min_height": null,
      "min_width": null,
      "object_fit": null,
      "object_position": null,
      "order": null,
      "overflow": null,
      "overflow_x": null,
      "overflow_y": null,
      "padding": null,
      "right": null,
      "top": null,
      "visibility": null,
      "width": null
     }
    },
    "9bd0c3cb0e644125986a7aca61a97ab4": {
     "model_module": "@jupyter-widgets/base",
     "model_module_version": "1.2.0",
     "model_name": "LayoutModel",
     "state": {
      "_model_module": "@jupyter-widgets/base",
      "_model_module_version": "1.2.0",
      "_model_name": "LayoutModel",
      "_view_count": null,
      "_view_module": "@jupyter-widgets/base",
      "_view_module_version": "1.2.0",
      "_view_name": "LayoutView",
      "align_content": null,
      "align_items": null,
      "align_self": null,
      "border": null,
      "bottom": null,
      "display": null,
      "flex": null,
      "flex_flow": null,
      "grid_area": null,
      "grid_auto_columns": null,
      "grid_auto_flow": null,
      "grid_auto_rows": null,
      "grid_column": null,
      "grid_gap": null,
      "grid_row": null,
      "grid_template_areas": null,
      "grid_template_columns": null,
      "grid_template_rows": null,
      "height": null,
      "justify_content": null,
      "justify_items": null,
      "left": null,
      "margin": null,
      "max_height": null,
      "max_width": null,
      "min_height": null,
      "min_width": null,
      "object_fit": null,
      "object_position": null,
      "order": null,
      "overflow": null,
      "overflow_x": null,
      "overflow_y": null,
      "padding": null,
      "right": null,
      "top": null,
      "visibility": null,
      "width": null
     }
    },
    "9c60aab6cd654869aee622b402a731e2": {
     "model_module": "@jupyter-widgets/controls",
     "model_module_version": "1.5.0",
     "model_name": "DescriptionStyleModel",
     "state": {
      "_model_module": "@jupyter-widgets/controls",
      "_model_module_version": "1.5.0",
      "_model_name": "DescriptionStyleModel",
      "_view_count": null,
      "_view_module": "@jupyter-widgets/base",
      "_view_module_version": "1.2.0",
      "_view_name": "StyleView",
      "description_width": ""
     }
    },
    "9e45d414ce4048ffb4198745a6d9fecc": {
     "model_module": "@jupyter-widgets/base",
     "model_module_version": "1.2.0",
     "model_name": "LayoutModel",
     "state": {
      "_model_module": "@jupyter-widgets/base",
      "_model_module_version": "1.2.0",
      "_model_name": "LayoutModel",
      "_view_count": null,
      "_view_module": "@jupyter-widgets/base",
      "_view_module_version": "1.2.0",
      "_view_name": "LayoutView",
      "align_content": null,
      "align_items": null,
      "align_self": null,
      "border": null,
      "bottom": null,
      "display": null,
      "flex": null,
      "flex_flow": null,
      "grid_area": null,
      "grid_auto_columns": null,
      "grid_auto_flow": null,
      "grid_auto_rows": null,
      "grid_column": null,
      "grid_gap": null,
      "grid_row": null,
      "grid_template_areas": null,
      "grid_template_columns": null,
      "grid_template_rows": null,
      "height": null,
      "justify_content": null,
      "justify_items": null,
      "left": null,
      "margin": null,
      "max_height": null,
      "max_width": null,
      "min_height": null,
      "min_width": null,
      "object_fit": null,
      "object_position": null,
      "order": null,
      "overflow": null,
      "overflow_x": null,
      "overflow_y": null,
      "padding": null,
      "right": null,
      "top": null,
      "visibility": "hidden",
      "width": null
     }
    },
    "a02c233991694ca6b9fd4b73ee412120": {
     "model_module": "@jupyter-widgets/base",
     "model_module_version": "1.2.0",
     "model_name": "LayoutModel",
     "state": {
      "_model_module": "@jupyter-widgets/base",
      "_model_module_version": "1.2.0",
      "_model_name": "LayoutModel",
      "_view_count": null,
      "_view_module": "@jupyter-widgets/base",
      "_view_module_version": "1.2.0",
      "_view_name": "LayoutView",
      "align_content": null,
      "align_items": null,
      "align_self": null,
      "border": null,
      "bottom": null,
      "display": null,
      "flex": null,
      "flex_flow": null,
      "grid_area": null,
      "grid_auto_columns": null,
      "grid_auto_flow": null,
      "grid_auto_rows": null,
      "grid_column": null,
      "grid_gap": null,
      "grid_row": null,
      "grid_template_areas": null,
      "grid_template_columns": null,
      "grid_template_rows": null,
      "height": null,
      "justify_content": null,
      "justify_items": null,
      "left": null,
      "margin": null,
      "max_height": null,
      "max_width": null,
      "min_height": null,
      "min_width": null,
      "object_fit": null,
      "object_position": null,
      "order": null,
      "overflow": null,
      "overflow_x": null,
      "overflow_y": null,
      "padding": null,
      "right": null,
      "top": null,
      "visibility": null,
      "width": null
     }
    },
    "a23d3b1159024cb6beefa01a18476d17": {
     "model_module": "@jupyter-widgets/controls",
     "model_module_version": "1.5.0",
     "model_name": "HTMLModel",
     "state": {
      "_dom_classes": [],
      "_model_module": "@jupyter-widgets/controls",
      "_model_module_version": "1.5.0",
      "_model_name": "HTMLModel",
      "_view_count": null,
      "_view_module": "@jupyter-widgets/controls",
      "_view_module_version": "1.5.0",
      "_view_name": "HTMLView",
      "description": "",
      "description_tooltip": null,
      "layout": "IPY_MODEL_868e0ee249eb4557a87d2586774934ab",
      "placeholder": "​",
      "style": "IPY_MODEL_e0945e41bb90410dabd50893902fc635",
      "value": "Epoch 8/10:  50%"
     }
    },
    "a343aec2b1d947b3a0acfdb5b721fa9f": {
     "model_module": "@jupyter-widgets/controls",
     "model_module_version": "1.5.0",
     "model_name": "DescriptionStyleModel",
     "state": {
      "_model_module": "@jupyter-widgets/controls",
      "_model_module_version": "1.5.0",
      "_model_name": "DescriptionStyleModel",
      "_view_count": null,
      "_view_module": "@jupyter-widgets/base",
      "_view_module_version": "1.2.0",
      "_view_name": "StyleView",
      "description_width": ""
     }
    },
    "a46d1d2633bf4a40877bf6820aad7967": {
     "model_module": "@jupyter-widgets/controls",
     "model_module_version": "1.5.0",
     "model_name": "DescriptionStyleModel",
     "state": {
      "_model_module": "@jupyter-widgets/controls",
      "_model_module_version": "1.5.0",
      "_model_name": "DescriptionStyleModel",
      "_view_count": null,
      "_view_module": "@jupyter-widgets/base",
      "_view_module_version": "1.2.0",
      "_view_name": "StyleView",
      "description_width": ""
     }
    },
    "a89820636c1d426f94e07262d70bc619": {
     "model_module": "@jupyter-widgets/base",
     "model_module_version": "1.2.0",
     "model_name": "LayoutModel",
     "state": {
      "_model_module": "@jupyter-widgets/base",
      "_model_module_version": "1.2.0",
      "_model_name": "LayoutModel",
      "_view_count": null,
      "_view_module": "@jupyter-widgets/base",
      "_view_module_version": "1.2.0",
      "_view_name": "LayoutView",
      "align_content": null,
      "align_items": null,
      "align_self": null,
      "border": null,
      "bottom": null,
      "display": null,
      "flex": null,
      "flex_flow": null,
      "grid_area": null,
      "grid_auto_columns": null,
      "grid_auto_flow": null,
      "grid_auto_rows": null,
      "grid_column": null,
      "grid_gap": null,
      "grid_row": null,
      "grid_template_areas": null,
      "grid_template_columns": null,
      "grid_template_rows": null,
      "height": null,
      "justify_content": null,
      "justify_items": null,
      "left": null,
      "margin": null,
      "max_height": null,
      "max_width": null,
      "min_height": null,
      "min_width": null,
      "object_fit": null,
      "object_position": null,
      "order": null,
      "overflow": null,
      "overflow_x": null,
      "overflow_y": null,
      "padding": null,
      "right": null,
      "top": null,
      "visibility": null,
      "width": null
     }
    },
    "a913d0e61cc94e139ce9b58bf7afb420": {
     "model_module": "@jupyter-widgets/controls",
     "model_module_version": "1.5.0",
     "model_name": "HBoxModel",
     "state": {
      "_dom_classes": [],
      "_model_module": "@jupyter-widgets/controls",
      "_model_module_version": "1.5.0",
      "_model_name": "HBoxModel",
      "_view_count": null,
      "_view_module": "@jupyter-widgets/controls",
      "_view_module_version": "1.5.0",
      "_view_name": "HBoxView",
      "box_style": "",
      "children": [
       "IPY_MODEL_3005becb15dc40ada5e4eec04e1bbb37",
       "IPY_MODEL_bd02bf1f0c2645d1976e4cee786c597d",
       "IPY_MODEL_5b290fbf1de741168f0c0195b32cbdc3"
      ],
      "layout": "IPY_MODEL_6754c7c05b0c4e658d3c69f1f851426d"
     }
    },
    "ab9a42b5b94f446d866e64f421b55b56": {
     "model_module": "@jupyter-widgets/base",
     "model_module_version": "1.2.0",
     "model_name": "LayoutModel",
     "state": {
      "_model_module": "@jupyter-widgets/base",
      "_model_module_version": "1.2.0",
      "_model_name": "LayoutModel",
      "_view_count": null,
      "_view_module": "@jupyter-widgets/base",
      "_view_module_version": "1.2.0",
      "_view_name": "LayoutView",
      "align_content": null,
      "align_items": null,
      "align_self": null,
      "border": null,
      "bottom": null,
      "display": null,
      "flex": null,
      "flex_flow": null,
      "grid_area": null,
      "grid_auto_columns": null,
      "grid_auto_flow": null,
      "grid_auto_rows": null,
      "grid_column": null,
      "grid_gap": null,
      "grid_row": null,
      "grid_template_areas": null,
      "grid_template_columns": null,
      "grid_template_rows": null,
      "height": null,
      "justify_content": null,
      "justify_items": null,
      "left": null,
      "margin": null,
      "max_height": null,
      "max_width": null,
      "min_height": null,
      "min_width": null,
      "object_fit": null,
      "object_position": null,
      "order": null,
      "overflow": null,
      "overflow_x": null,
      "overflow_y": null,
      "padding": null,
      "right": null,
      "top": null,
      "visibility": null,
      "width": null
     }
    },
    "abdbf15ee03647808fcaeb945b83edb4": {
     "model_module": "@jupyter-widgets/controls",
     "model_module_version": "1.5.0",
     "model_name": "ProgressStyleModel",
     "state": {
      "_model_module": "@jupyter-widgets/controls",
      "_model_module_version": "1.5.0",
      "_model_name": "ProgressStyleModel",
      "_view_count": null,
      "_view_module": "@jupyter-widgets/base",
      "_view_module_version": "1.2.0",
      "_view_name": "StyleView",
      "bar_color": null,
      "description_width": ""
     }
    },
    "ae2e54a21e744bf7b4c38e094df4ea59": {
     "model_module": "@jupyter-widgets/controls",
     "model_module_version": "1.5.0",
     "model_name": "DescriptionStyleModel",
     "state": {
      "_model_module": "@jupyter-widgets/controls",
      "_model_module_version": "1.5.0",
      "_model_name": "DescriptionStyleModel",
      "_view_count": null,
      "_view_module": "@jupyter-widgets/base",
      "_view_module_version": "1.2.0",
      "_view_name": "StyleView",
      "description_width": ""
     }
    },
    "b01f3c784bfc490396835db4cf44663b": {
     "model_module": "@jupyter-widgets/controls",
     "model_module_version": "1.5.0",
     "model_name": "HTMLModel",
     "state": {
      "_dom_classes": [],
      "_model_module": "@jupyter-widgets/controls",
      "_model_module_version": "1.5.0",
      "_model_name": "HTMLModel",
      "_view_count": null,
      "_view_module": "@jupyter-widgets/controls",
      "_view_module_version": "1.5.0",
      "_view_name": "HTMLView",
      "description": "",
      "description_tooltip": null,
      "layout": "IPY_MODEL_02064be8af8040c9a9810d52c415260d",
      "placeholder": "​",
      "style": "IPY_MODEL_6e9c3ec260a74328b268447b88ba09c7",
      "value": " 1/2 [00:03&lt;00:03,  3.21s/it, loss=0.131]"
     }
    },
    "b16d624a0697456ea851d13c491e0795": {
     "model_module": "@jupyter-widgets/controls",
     "model_module_version": "1.5.0",
     "model_name": "HTMLModel",
     "state": {
      "_dom_classes": [],
      "_model_module": "@jupyter-widgets/controls",
      "_model_module_version": "1.5.0",
      "_model_name": "HTMLModel",
      "_view_count": null,
      "_view_module": "@jupyter-widgets/controls",
      "_view_module_version": "1.5.0",
      "_view_name": "HTMLView",
      "description": "",
      "description_tooltip": null,
      "layout": "IPY_MODEL_d046e1dcebce46c7bc544d4fa38c2273",
      "placeholder": "​",
      "style": "IPY_MODEL_7e24c6cbd49248838796a8dd462dd297",
      "value": " 1/2 [00:03&lt;00:03,  3.32s/it, loss=0.195]"
     }
    },
    "b22b63691a554ffc991e04e38ebdb72d": {
     "model_module": "@jupyter-widgets/controls",
     "model_module_version": "1.5.0",
     "model_name": "ProgressStyleModel",
     "state": {
      "_model_module": "@jupyter-widgets/controls",
      "_model_module_version": "1.5.0",
      "_model_name": "ProgressStyleModel",
      "_view_count": null,
      "_view_module": "@jupyter-widgets/base",
      "_view_module_version": "1.2.0",
      "_view_name": "StyleView",
      "bar_color": null,
      "description_width": ""
     }
    },
    "b5f7806d475b48ba99011b7cb22bbcae": {
     "model_module": "@jupyter-widgets/controls",
     "model_module_version": "1.5.0",
     "model_name": "HBoxModel",
     "state": {
      "_dom_classes": [],
      "_model_module": "@jupyter-widgets/controls",
      "_model_module_version": "1.5.0",
      "_model_name": "HBoxModel",
      "_view_count": null,
      "_view_module": "@jupyter-widgets/controls",
      "_view_module_version": "1.5.0",
      "_view_name": "HBoxView",
      "box_style": "",
      "children": [
       "IPY_MODEL_e82202d8b493480eb1ce8200b03a37d2",
       "IPY_MODEL_555c2f474a6b4bd7a2e7daf42730a71e",
       "IPY_MODEL_0e3889ea43da463d84e4cae45e7e0869"
      ],
      "layout": "IPY_MODEL_224b1f5a76c54742991001999530e92d"
     }
    },
    "b630101f0bdb41bca7c7db52ac4bf979": {
     "model_module": "@jupyter-widgets/controls",
     "model_module_version": "1.5.0",
     "model_name": "FloatProgressModel",
     "state": {
      "_dom_classes": [],
      "_model_module": "@jupyter-widgets/controls",
      "_model_module_version": "1.5.0",
      "_model_name": "FloatProgressModel",
      "_view_count": null,
      "_view_module": "@jupyter-widgets/controls",
      "_view_module_version": "1.5.0",
      "_view_name": "ProgressView",
      "bar_style": "",
      "description": "",
      "description_tooltip": null,
      "layout": "IPY_MODEL_66785ea6333648ceb1af135d00bf86ea",
      "max": 2,
      "min": 0,
      "orientation": "horizontal",
      "style": "IPY_MODEL_abdbf15ee03647808fcaeb945b83edb4",
      "value": 2
     }
    },
    "b80d1dcc25b143e5ab9e479e39cf1549": {
     "model_module": "@jupyter-widgets/controls",
     "model_module_version": "1.5.0",
     "model_name": "HBoxModel",
     "state": {
      "_dom_classes": [],
      "_model_module": "@jupyter-widgets/controls",
      "_model_module_version": "1.5.0",
      "_model_name": "HBoxModel",
      "_view_count": null,
      "_view_module": "@jupyter-widgets/controls",
      "_view_module_version": "1.5.0",
      "_view_name": "HBoxView",
      "box_style": "",
      "children": [
       "IPY_MODEL_60a1e7e398394a3b896311ff5c906212",
       "IPY_MODEL_0216af7a1edd4f4d931daf73530fdc27",
       "IPY_MODEL_6cbdc46f634643b0aba4867df26c6266"
      ],
      "layout": "IPY_MODEL_bc20347a6a5b4d609974931f2bff91ec"
     }
    },
    "b8fd8e0ac6e341f2a2083cef713ff41e": {
     "model_module": "@jupyter-widgets/controls",
     "model_module_version": "1.5.0",
     "model_name": "FloatProgressModel",
     "state": {
      "_dom_classes": [],
      "_model_module": "@jupyter-widgets/controls",
      "_model_module_version": "1.5.0",
      "_model_name": "FloatProgressModel",
      "_view_count": null,
      "_view_module": "@jupyter-widgets/controls",
      "_view_module_version": "1.5.0",
      "_view_name": "ProgressView",
      "bar_style": "",
      "description": "",
      "description_tooltip": null,
      "layout": "IPY_MODEL_64fcd841f16449e19eac28752b1a3d56",
      "max": 2,
      "min": 0,
      "orientation": "horizontal",
      "style": "IPY_MODEL_6d0389d4c4ba4a3bbc4055f85deec892",
      "value": 2
     }
    },
    "bc20347a6a5b4d609974931f2bff91ec": {
     "model_module": "@jupyter-widgets/base",
     "model_module_version": "1.2.0",
     "model_name": "LayoutModel",
     "state": {
      "_model_module": "@jupyter-widgets/base",
      "_model_module_version": "1.2.0",
      "_model_name": "LayoutModel",
      "_view_count": null,
      "_view_module": "@jupyter-widgets/base",
      "_view_module_version": "1.2.0",
      "_view_name": "LayoutView",
      "align_content": null,
      "align_items": null,
      "align_self": null,
      "border": null,
      "bottom": null,
      "display": null,
      "flex": null,
      "flex_flow": null,
      "grid_area": null,
      "grid_auto_columns": null,
      "grid_auto_flow": null,
      "grid_auto_rows": null,
      "grid_column": null,
      "grid_gap": null,
      "grid_row": null,
      "grid_template_areas": null,
      "grid_template_columns": null,
      "grid_template_rows": null,
      "height": null,
      "justify_content": null,
      "justify_items": null,
      "left": null,
      "margin": null,
      "max_height": null,
      "max_width": null,
      "min_height": null,
      "min_width": null,
      "object_fit": null,
      "object_position": null,
      "order": null,
      "overflow": null,
      "overflow_x": null,
      "overflow_y": null,
      "padding": null,
      "right": null,
      "top": null,
      "visibility": "hidden",
      "width": null
     }
    },
    "bd02bf1f0c2645d1976e4cee786c597d": {
     "model_module": "@jupyter-widgets/controls",
     "model_module_version": "1.5.0",
     "model_name": "FloatProgressModel",
     "state": {
      "_dom_classes": [],
      "_model_module": "@jupyter-widgets/controls",
      "_model_module_version": "1.5.0",
      "_model_name": "FloatProgressModel",
      "_view_count": null,
      "_view_module": "@jupyter-widgets/controls",
      "_view_module_version": "1.5.0",
      "_view_name": "ProgressView",
      "bar_style": "",
      "description": "",
      "description_tooltip": null,
      "layout": "IPY_MODEL_7651d807478c41e5a9801947e03d7768",
      "max": 2,
      "min": 0,
      "orientation": "horizontal",
      "style": "IPY_MODEL_b22b63691a554ffc991e04e38ebdb72d",
      "value": 2
     }
    },
    "bedf0418d1a84ed99875a8397e9a2ad0": {
     "model_module": "@jupyter-widgets/controls",
     "model_module_version": "1.5.0",
     "model_name": "DescriptionStyleModel",
     "state": {
      "_model_module": "@jupyter-widgets/controls",
      "_model_module_version": "1.5.0",
      "_model_name": "DescriptionStyleModel",
      "_view_count": null,
      "_view_module": "@jupyter-widgets/base",
      "_view_module_version": "1.2.0",
      "_view_name": "StyleView",
      "description_width": ""
     }
    },
    "c13b7d77abe04ca19a4f456cbbb79766": {
     "model_module": "@jupyter-widgets/controls",
     "model_module_version": "1.5.0",
     "model_name": "ProgressStyleModel",
     "state": {
      "_model_module": "@jupyter-widgets/controls",
      "_model_module_version": "1.5.0",
      "_model_name": "ProgressStyleModel",
      "_view_count": null,
      "_view_module": "@jupyter-widgets/base",
      "_view_module_version": "1.2.0",
      "_view_name": "StyleView",
      "bar_color": null,
      "description_width": ""
     }
    },
    "c9c45f3be878462cb29c88599e471751": {
     "model_module": "@jupyter-widgets/base",
     "model_module_version": "1.2.0",
     "model_name": "LayoutModel",
     "state": {
      "_model_module": "@jupyter-widgets/base",
      "_model_module_version": "1.2.0",
      "_model_name": "LayoutModel",
      "_view_count": null,
      "_view_module": "@jupyter-widgets/base",
      "_view_module_version": "1.2.0",
      "_view_name": "LayoutView",
      "align_content": null,
      "align_items": null,
      "align_self": null,
      "border": null,
      "bottom": null,
      "display": null,
      "flex": null,
      "flex_flow": null,
      "grid_area": null,
      "grid_auto_columns": null,
      "grid_auto_flow": null,
      "grid_auto_rows": null,
      "grid_column": null,
      "grid_gap": null,
      "grid_row": null,
      "grid_template_areas": null,
      "grid_template_columns": null,
      "grid_template_rows": null,
      "height": null,
      "justify_content": null,
      "justify_items": null,
      "left": null,
      "margin": null,
      "max_height": null,
      "max_width": null,
      "min_height": null,
      "min_width": null,
      "object_fit": null,
      "object_position": null,
      "order": null,
      "overflow": null,
      "overflow_x": null,
      "overflow_y": null,
      "padding": null,
      "right": null,
      "top": null,
      "visibility": "hidden",
      "width": null
     }
    },
    "cb8ce45aa6164fa78e81e4e389b70541": {
     "model_module": "@jupyter-widgets/base",
     "model_module_version": "1.2.0",
     "model_name": "LayoutModel",
     "state": {
      "_model_module": "@jupyter-widgets/base",
      "_model_module_version": "1.2.0",
      "_model_name": "LayoutModel",
      "_view_count": null,
      "_view_module": "@jupyter-widgets/base",
      "_view_module_version": "1.2.0",
      "_view_name": "LayoutView",
      "align_content": null,
      "align_items": null,
      "align_self": null,
      "border": null,
      "bottom": null,
      "display": null,
      "flex": null,
      "flex_flow": null,
      "grid_area": null,
      "grid_auto_columns": null,
      "grid_auto_flow": null,
      "grid_auto_rows": null,
      "grid_column": null,
      "grid_gap": null,
      "grid_row": null,
      "grid_template_areas": null,
      "grid_template_columns": null,
      "grid_template_rows": null,
      "height": null,
      "justify_content": null,
      "justify_items": null,
      "left": null,
      "margin": null,
      "max_height": null,
      "max_width": null,
      "min_height": null,
      "min_width": null,
      "object_fit": null,
      "object_position": null,
      "order": null,
      "overflow": null,
      "overflow_x": null,
      "overflow_y": null,
      "padding": null,
      "right": null,
      "top": null,
      "visibility": null,
      "width": null
     }
    },
    "cbca1e1a0986456dab9057cecddb4959": {
     "model_module": "@jupyter-widgets/controls",
     "model_module_version": "1.5.0",
     "model_name": "HTMLModel",
     "state": {
      "_dom_classes": [],
      "_model_module": "@jupyter-widgets/controls",
      "_model_module_version": "1.5.0",
      "_model_name": "HTMLModel",
      "_view_count": null,
      "_view_module": "@jupyter-widgets/controls",
      "_view_module_version": "1.5.0",
      "_view_name": "HTMLView",
      "description": "",
      "description_tooltip": null,
      "layout": "IPY_MODEL_ab9a42b5b94f446d866e64f421b55b56",
      "placeholder": "​",
      "style": "IPY_MODEL_a46d1d2633bf4a40877bf6820aad7967",
      "value": "Epoch 5/10:  50%"
     }
    },
    "d046e1dcebce46c7bc544d4fa38c2273": {
     "model_module": "@jupyter-widgets/base",
     "model_module_version": "1.2.0",
     "model_name": "LayoutModel",
     "state": {
      "_model_module": "@jupyter-widgets/base",
      "_model_module_version": "1.2.0",
      "_model_name": "LayoutModel",
      "_view_count": null,
      "_view_module": "@jupyter-widgets/base",
      "_view_module_version": "1.2.0",
      "_view_name": "LayoutView",
      "align_content": null,
      "align_items": null,
      "align_self": null,
      "border": null,
      "bottom": null,
      "display": null,
      "flex": null,
      "flex_flow": null,
      "grid_area": null,
      "grid_auto_columns": null,
      "grid_auto_flow": null,
      "grid_auto_rows": null,
      "grid_column": null,
      "grid_gap": null,
      "grid_row": null,
      "grid_template_areas": null,
      "grid_template_columns": null,
      "grid_template_rows": null,
      "height": null,
      "justify_content": null,
      "justify_items": null,
      "left": null,
      "margin": null,
      "max_height": null,
      "max_width": null,
      "min_height": null,
      "min_width": null,
      "object_fit": null,
      "object_position": null,
      "order": null,
      "overflow": null,
      "overflow_x": null,
      "overflow_y": null,
      "padding": null,
      "right": null,
      "top": null,
      "visibility": null,
      "width": null
     }
    },
    "d44ca3b0864141c298cdd6033c124d43": {
     "model_module": "@jupyter-widgets/controls",
     "model_module_version": "1.5.0",
     "model_name": "HTMLModel",
     "state": {
      "_dom_classes": [],
      "_model_module": "@jupyter-widgets/controls",
      "_model_module_version": "1.5.0",
      "_model_name": "HTMLModel",
      "_view_count": null,
      "_view_module": "@jupyter-widgets/controls",
      "_view_module_version": "1.5.0",
      "_view_name": "HTMLView",
      "description": "",
      "description_tooltip": null,
      "layout": "IPY_MODEL_87536a50750249c499a316a91e129f13",
      "placeholder": "​",
      "style": "IPY_MODEL_9c60aab6cd654869aee622b402a731e2",
      "value": " 1/2 [00:03&lt;00:03,  3.74s/it, loss=0.142]"
     }
    },
    "d5cc6b5083b04385acaf1c6e5a5dd0a2": {
     "model_module": "@jupyter-widgets/controls",
     "model_module_version": "1.5.0",
     "model_name": "ProgressStyleModel",
     "state": {
      "_model_module": "@jupyter-widgets/controls",
      "_model_module_version": "1.5.0",
      "_model_name": "ProgressStyleModel",
      "_view_count": null,
      "_view_module": "@jupyter-widgets/base",
      "_view_module_version": "1.2.0",
      "_view_name": "StyleView",
      "bar_color": null,
      "description_width": ""
     }
    },
    "d78589f1c21247ddb1397b62219fb0ae": {
     "model_module": "@jupyter-widgets/controls",
     "model_module_version": "1.5.0",
     "model_name": "ProgressStyleModel",
     "state": {
      "_model_module": "@jupyter-widgets/controls",
      "_model_module_version": "1.5.0",
      "_model_name": "ProgressStyleModel",
      "_view_count": null,
      "_view_module": "@jupyter-widgets/base",
      "_view_module_version": "1.2.0",
      "_view_name": "StyleView",
      "bar_color": null,
      "description_width": ""
     }
    },
    "d940fcf646c241a1815a06fa894501a8": {
     "model_module": "@jupyter-widgets/controls",
     "model_module_version": "1.5.0",
     "model_name": "HTMLModel",
     "state": {
      "_dom_classes": [],
      "_model_module": "@jupyter-widgets/controls",
      "_model_module_version": "1.5.0",
      "_model_name": "HTMLModel",
      "_view_count": null,
      "_view_module": "@jupyter-widgets/controls",
      "_view_module_version": "1.5.0",
      "_view_name": "HTMLView",
      "description": "",
      "description_tooltip": null,
      "layout": "IPY_MODEL_21b959811b3f4ba2ae6758d4d8726c26",
      "placeholder": "​",
      "style": "IPY_MODEL_292130b8271d4fa48fabc7e64a0646f0",
      "value": "Epoch 1/10: 100%"
     }
    },
    "dad27de1ebc643fe9316b4cf1a9d40d2": {
     "model_module": "@jupyter-widgets/base",
     "model_module_version": "1.2.0",
     "model_name": "LayoutModel",
     "state": {
      "_model_module": "@jupyter-widgets/base",
      "_model_module_version": "1.2.0",
      "_model_name": "LayoutModel",
      "_view_count": null,
      "_view_module": "@jupyter-widgets/base",
      "_view_module_version": "1.2.0",
      "_view_name": "LayoutView",
      "align_content": null,
      "align_items": null,
      "align_self": null,
      "border": null,
      "bottom": null,
      "display": null,
      "flex": null,
      "flex_flow": null,
      "grid_area": null,
      "grid_auto_columns": null,
      "grid_auto_flow": null,
      "grid_auto_rows": null,
      "grid_column": null,
      "grid_gap": null,
      "grid_row": null,
      "grid_template_areas": null,
      "grid_template_columns": null,
      "grid_template_rows": null,
      "height": null,
      "justify_content": null,
      "justify_items": null,
      "left": null,
      "margin": null,
      "max_height": null,
      "max_width": null,
      "min_height": null,
      "min_width": null,
      "object_fit": null,
      "object_position": null,
      "order": null,
      "overflow": null,
      "overflow_x": null,
      "overflow_y": null,
      "padding": null,
      "right": null,
      "top": null,
      "visibility": "hidden",
      "width": null
     }
    },
    "dff0065cc3fb4968a616006a3bc5c994": {
     "model_module": "@jupyter-widgets/controls",
     "model_module_version": "1.5.0",
     "model_name": "ProgressStyleModel",
     "state": {
      "_model_module": "@jupyter-widgets/controls",
      "_model_module_version": "1.5.0",
      "_model_name": "ProgressStyleModel",
      "_view_count": null,
      "_view_module": "@jupyter-widgets/base",
      "_view_module_version": "1.2.0",
      "_view_name": "StyleView",
      "bar_color": null,
      "description_width": ""
     }
    },
    "e0945e41bb90410dabd50893902fc635": {
     "model_module": "@jupyter-widgets/controls",
     "model_module_version": "1.5.0",
     "model_name": "DescriptionStyleModel",
     "state": {
      "_model_module": "@jupyter-widgets/controls",
      "_model_module_version": "1.5.0",
      "_model_name": "DescriptionStyleModel",
      "_view_count": null,
      "_view_module": "@jupyter-widgets/base",
      "_view_module_version": "1.2.0",
      "_view_name": "StyleView",
      "description_width": ""
     }
    },
    "e16f730eb6c64f5199af87d7c9f40493": {
     "model_module": "@jupyter-widgets/controls",
     "model_module_version": "1.5.0",
     "model_name": "DescriptionStyleModel",
     "state": {
      "_model_module": "@jupyter-widgets/controls",
      "_model_module_version": "1.5.0",
      "_model_name": "DescriptionStyleModel",
      "_view_count": null,
      "_view_module": "@jupyter-widgets/base",
      "_view_module_version": "1.2.0",
      "_view_name": "StyleView",
      "description_width": ""
     }
    },
    "e2646a1249be4b7b8aaf882a55bc827f": {
     "model_module": "@jupyter-widgets/controls",
     "model_module_version": "1.5.0",
     "model_name": "HBoxModel",
     "state": {
      "_dom_classes": [],
      "_model_module": "@jupyter-widgets/controls",
      "_model_module_version": "1.5.0",
      "_model_name": "HBoxModel",
      "_view_count": null,
      "_view_module": "@jupyter-widgets/controls",
      "_view_module_version": "1.5.0",
      "_view_name": "HBoxView",
      "box_style": "",
      "children": [
       "IPY_MODEL_f0976bd017cb4ec78c6d7de83c7bf6e4",
       "IPY_MODEL_3b94a14962de4b50978e55f9ab481a98",
       "IPY_MODEL_f21ba90e23d54a6c8275ee69333429fa"
      ],
      "layout": "IPY_MODEL_9e45d414ce4048ffb4198745a6d9fecc"
     }
    },
    "e5588530bd7f43a58544050433da28a5": {
     "model_module": "@jupyter-widgets/base",
     "model_module_version": "1.2.0",
     "model_name": "LayoutModel",
     "state": {
      "_model_module": "@jupyter-widgets/base",
      "_model_module_version": "1.2.0",
      "_model_name": "LayoutModel",
      "_view_count": null,
      "_view_module": "@jupyter-widgets/base",
      "_view_module_version": "1.2.0",
      "_view_name": "LayoutView",
      "align_content": null,
      "align_items": null,
      "align_self": null,
      "border": null,
      "bottom": null,
      "display": null,
      "flex": null,
      "flex_flow": null,
      "grid_area": null,
      "grid_auto_columns": null,
      "grid_auto_flow": null,
      "grid_auto_rows": null,
      "grid_column": null,
      "grid_gap": null,
      "grid_row": null,
      "grid_template_areas": null,
      "grid_template_columns": null,
      "grid_template_rows": null,
      "height": null,
      "justify_content": null,
      "justify_items": null,
      "left": null,
      "margin": null,
      "max_height": null,
      "max_width": null,
      "min_height": null,
      "min_width": null,
      "object_fit": null,
      "object_position": null,
      "order": null,
      "overflow": null,
      "overflow_x": null,
      "overflow_y": null,
      "padding": null,
      "right": null,
      "top": null,
      "visibility": null,
      "width": null
     }
    },
    "e7b12082db10412795b9f4faee70982a": {
     "model_module": "@jupyter-widgets/controls",
     "model_module_version": "1.5.0",
     "model_name": "DescriptionStyleModel",
     "state": {
      "_model_module": "@jupyter-widgets/controls",
      "_model_module_version": "1.5.0",
      "_model_name": "DescriptionStyleModel",
      "_view_count": null,
      "_view_module": "@jupyter-widgets/base",
      "_view_module_version": "1.2.0",
      "_view_name": "StyleView",
      "description_width": ""
     }
    },
    "e82202d8b493480eb1ce8200b03a37d2": {
     "model_module": "@jupyter-widgets/controls",
     "model_module_version": "1.5.0",
     "model_name": "HTMLModel",
     "state": {
      "_dom_classes": [],
      "_model_module": "@jupyter-widgets/controls",
      "_model_module_version": "1.5.0",
      "_model_name": "HTMLModel",
      "_view_count": null,
      "_view_module": "@jupyter-widgets/controls",
      "_view_module_version": "1.5.0",
      "_view_name": "HTMLView",
      "description": "",
      "description_tooltip": null,
      "layout": "IPY_MODEL_3e4dcff607914fe993a71d20dbb12a33",
      "placeholder": "​",
      "style": "IPY_MODEL_2b27206bdd4c444c883ec6d26a29a4af",
      "value": "Epoch 9/10:  50%"
     }
    },
    "ebc5da7747e04f569f678458e0abd241": {
     "model_module": "@jupyter-widgets/base",
     "model_module_version": "1.2.0",
     "model_name": "LayoutModel",
     "state": {
      "_model_module": "@jupyter-widgets/base",
      "_model_module_version": "1.2.0",
      "_model_name": "LayoutModel",
      "_view_count": null,
      "_view_module": "@jupyter-widgets/base",
      "_view_module_version": "1.2.0",
      "_view_name": "LayoutView",
      "align_content": null,
      "align_items": null,
      "align_self": null,
      "border": null,
      "bottom": null,
      "display": null,
      "flex": null,
      "flex_flow": null,
      "grid_area": null,
      "grid_auto_columns": null,
      "grid_auto_flow": null,
      "grid_auto_rows": null,
      "grid_column": null,
      "grid_gap": null,
      "grid_row": null,
      "grid_template_areas": null,
      "grid_template_columns": null,
      "grid_template_rows": null,
      "height": null,
      "justify_content": null,
      "justify_items": null,
      "left": null,
      "margin": null,
      "max_height": null,
      "max_width": null,
      "min_height": null,
      "min_width": null,
      "object_fit": null,
      "object_position": null,
      "order": null,
      "overflow": null,
      "overflow_x": null,
      "overflow_y": null,
      "padding": null,
      "right": null,
      "top": null,
      "visibility": null,
      "width": null
     }
    },
    "f05626765a5c44979892b83bc3ea9390": {
     "model_module": "@jupyter-widgets/base",
     "model_module_version": "1.2.0",
     "model_name": "LayoutModel",
     "state": {
      "_model_module": "@jupyter-widgets/base",
      "_model_module_version": "1.2.0",
      "_model_name": "LayoutModel",
      "_view_count": null,
      "_view_module": "@jupyter-widgets/base",
      "_view_module_version": "1.2.0",
      "_view_name": "LayoutView",
      "align_content": null,
      "align_items": null,
      "align_self": null,
      "border": null,
      "bottom": null,
      "display": null,
      "flex": null,
      "flex_flow": null,
      "grid_area": null,
      "grid_auto_columns": null,
      "grid_auto_flow": null,
      "grid_auto_rows": null,
      "grid_column": null,
      "grid_gap": null,
      "grid_row": null,
      "grid_template_areas": null,
      "grid_template_columns": null,
      "grid_template_rows": null,
      "height": null,
      "justify_content": null,
      "justify_items": null,
      "left": null,
      "margin": null,
      "max_height": null,
      "max_width": null,
      "min_height": null,
      "min_width": null,
      "object_fit": null,
      "object_position": null,
      "order": null,
      "overflow": null,
      "overflow_x": null,
      "overflow_y": null,
      "padding": null,
      "right": null,
      "top": null,
      "visibility": null,
      "width": null
     }
    },
    "f0976bd017cb4ec78c6d7de83c7bf6e4": {
     "model_module": "@jupyter-widgets/controls",
     "model_module_version": "1.5.0",
     "model_name": "HTMLModel",
     "state": {
      "_dom_classes": [],
      "_model_module": "@jupyter-widgets/controls",
      "_model_module_version": "1.5.0",
      "_model_name": "HTMLModel",
      "_view_count": null,
      "_view_module": "@jupyter-widgets/controls",
      "_view_module_version": "1.5.0",
      "_view_name": "HTMLView",
      "description": "",
      "description_tooltip": null,
      "layout": "IPY_MODEL_cb8ce45aa6164fa78e81e4e389b70541",
      "placeholder": "​",
      "style": "IPY_MODEL_27e9aa707f2a4955b8cadd0462adde23",
      "value": "Epoch 7/10:  50%"
     }
    },
    "f21ba90e23d54a6c8275ee69333429fa": {
     "model_module": "@jupyter-widgets/controls",
     "model_module_version": "1.5.0",
     "model_name": "HTMLModel",
     "state": {
      "_dom_classes": [],
      "_model_module": "@jupyter-widgets/controls",
      "_model_module_version": "1.5.0",
      "_model_name": "HTMLModel",
      "_view_count": null,
      "_view_module": "@jupyter-widgets/controls",
      "_view_module_version": "1.5.0",
      "_view_name": "HTMLView",
      "description": "",
      "description_tooltip": null,
      "layout": "IPY_MODEL_48cc17dce4e64dca941370f033b68322",
      "placeholder": "​",
      "style": "IPY_MODEL_4bb069fa05d24193a715e19463454838",
      "value": " 1/2 [00:02&lt;00:02,  2.67s/it, loss=0.105]"
     }
    },
    "f786985069664a2fb078e944816be074": {
     "model_module": "@jupyter-widgets/base",
     "model_module_version": "1.2.0",
     "model_name": "LayoutModel",
     "state": {
      "_model_module": "@jupyter-widgets/base",
      "_model_module_version": "1.2.0",
      "_model_name": "LayoutModel",
      "_view_count": null,
      "_view_module": "@jupyter-widgets/base",
      "_view_module_version": "1.2.0",
      "_view_name": "LayoutView",
      "align_content": null,
      "align_items": null,
      "align_self": null,
      "border": null,
      "bottom": null,
      "display": null,
      "flex": null,
      "flex_flow": null,
      "grid_area": null,
      "grid_auto_columns": null,
      "grid_auto_flow": null,
      "grid_auto_rows": null,
      "grid_column": null,
      "grid_gap": null,
      "grid_row": null,
      "grid_template_areas": null,
      "grid_template_columns": null,
      "grid_template_rows": null,
      "height": null,
      "justify_content": null,
      "justify_items": null,
      "left": null,
      "margin": null,
      "max_height": null,
      "max_width": null,
      "min_height": null,
      "min_width": null,
      "object_fit": null,
      "object_position": null,
      "order": null,
      "overflow": null,
      "overflow_x": null,
      "overflow_y": null,
      "padding": null,
      "right": null,
      "top": null,
      "visibility": null,
      "width": null
     }
    },
    "f8407cef6eaa43f1a353b6c467e4c1a1": {
     "model_module": "@jupyter-widgets/base",
     "model_module_version": "1.2.0",
     "model_name": "LayoutModel",
     "state": {
      "_model_module": "@jupyter-widgets/base",
      "_model_module_version": "1.2.0",
      "_model_name": "LayoutModel",
      "_view_count": null,
      "_view_module": "@jupyter-widgets/base",
      "_view_module_version": "1.2.0",
      "_view_name": "LayoutView",
      "align_content": null,
      "align_items": null,
      "align_self": null,
      "border": null,
      "bottom": null,
      "display": null,
      "flex": null,
      "flex_flow": null,
      "grid_area": null,
      "grid_auto_columns": null,
      "grid_auto_flow": null,
      "grid_auto_rows": null,
      "grid_column": null,
      "grid_gap": null,
      "grid_row": null,
      "grid_template_areas": null,
      "grid_template_columns": null,
      "grid_template_rows": null,
      "height": null,
      "justify_content": null,
      "justify_items": null,
      "left": null,
      "margin": null,
      "max_height": null,
      "max_width": null,
      "min_height": null,
      "min_width": null,
      "object_fit": null,
      "object_position": null,
      "order": null,
      "overflow": null,
      "overflow_x": null,
      "overflow_y": null,
      "padding": null,
      "right": null,
      "top": null,
      "visibility": "hidden",
      "width": null
     }
    },
    "fde31fb02ac74404800697f3a9641b5b": {
     "model_module": "@jupyter-widgets/controls",
     "model_module_version": "1.5.0",
     "model_name": "FloatProgressModel",
     "state": {
      "_dom_classes": [],
      "_model_module": "@jupyter-widgets/controls",
      "_model_module_version": "1.5.0",
      "_model_name": "FloatProgressModel",
      "_view_count": null,
      "_view_module": "@jupyter-widgets/controls",
      "_view_module_version": "1.5.0",
      "_view_name": "ProgressView",
      "bar_style": "",
      "description": "",
      "description_tooltip": null,
      "layout": "IPY_MODEL_e5588530bd7f43a58544050433da28a5",
      "max": 2,
      "min": 0,
      "orientation": "horizontal",
      "style": "IPY_MODEL_00b84febfbd94f13898cb7daaf73a167",
      "value": 2
     }
    }
   }
  }
 },
 "nbformat": 4,
 "nbformat_minor": 5
}
