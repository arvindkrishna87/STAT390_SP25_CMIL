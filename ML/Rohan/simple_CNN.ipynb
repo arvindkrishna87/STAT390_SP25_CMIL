{
  "nbformat": 4,
  "nbformat_minor": 0,
  "metadata": {
    "colab": {
      "provenance": []
    },
    "kernelspec": {
      "name": "python3",
      "display_name": "Python 3"
    },
    "language_info": {
      "name": "python"
    }
  },
  "cells": [
    {
      "cell_type": "code",
      "execution_count": 2,
      "metadata": {
        "id": "Pxgob6iyESWn",
        "colab": {
          "base_uri": "https://localhost:8080/",
          "height": 329
        },
        "outputId": "8335b6c2-cc0f-4ecd-939f-de9bca02da5a"
      },
      "outputs": [
        {
          "output_type": "stream",
          "name": "stderr",
          "text": [
            "/usr/local/lib/python3.11/dist-packages/keras/src/layers/convolutional/base_conv.py:107: UserWarning: Do not pass an `input_shape`/`input_dim` argument to a layer. When using Sequential models, prefer using an `Input(shape)` object as the first layer in the model instead.\n",
            "  super().__init__(activity_regularizer=activity_regularizer, **kwargs)\n"
          ]
        },
        {
          "output_type": "display_data",
          "data": {
            "text/plain": [
              "\u001b[1mModel: \"sequential\"\u001b[0m\n"
            ],
            "text/html": [
              "<pre style=\"white-space:pre;overflow-x:auto;line-height:normal;font-family:Menlo,'DejaVu Sans Mono',consolas,'Courier New',monospace\"><span style=\"font-weight: bold\">Model: \"sequential\"</span>\n",
              "</pre>\n"
            ]
          },
          "metadata": {}
        },
        {
          "output_type": "display_data",
          "data": {
            "text/plain": [
              "┏━━━━━━━━━━━━━━━━━━━━━━━━━━━━━━━━━┳━━━━━━━━━━━━━━━━━━━━━━━━┳━━━━━━━━━━━━━━━┓\n",
              "┃\u001b[1m \u001b[0m\u001b[1mLayer (type)                   \u001b[0m\u001b[1m \u001b[0m┃\u001b[1m \u001b[0m\u001b[1mOutput Shape          \u001b[0m\u001b[1m \u001b[0m┃\u001b[1m \u001b[0m\u001b[1m      Param #\u001b[0m\u001b[1m \u001b[0m┃\n",
              "┡━━━━━━━━━━━━━━━━━━━━━━━━━━━━━━━━━╇━━━━━━━━━━━━━━━━━━━━━━━━╇━━━━━━━━━━━━━━━┩\n",
              "│ conv2d (\u001b[38;5;33mConv2D\u001b[0m)                 │ (\u001b[38;5;45mNone\u001b[0m, \u001b[38;5;34m224\u001b[0m, \u001b[38;5;34m224\u001b[0m, \u001b[38;5;34m8\u001b[0m)    │           \u001b[38;5;34m224\u001b[0m │\n",
              "├─────────────────────────────────┼────────────────────────┼───────────────┤\n",
              "│ global_average_pooling2d        │ (\u001b[38;5;45mNone\u001b[0m, \u001b[38;5;34m8\u001b[0m)              │             \u001b[38;5;34m0\u001b[0m │\n",
              "│ (\u001b[38;5;33mGlobalAveragePooling2D\u001b[0m)        │                        │               │\n",
              "├─────────────────────────────────┼────────────────────────┼───────────────┤\n",
              "│ flatten (\u001b[38;5;33mFlatten\u001b[0m)               │ (\u001b[38;5;45mNone\u001b[0m, \u001b[38;5;34m8\u001b[0m)              │             \u001b[38;5;34m0\u001b[0m │\n",
              "├─────────────────────────────────┼────────────────────────┼───────────────┤\n",
              "│ dense (\u001b[38;5;33mDense\u001b[0m)                   │ (\u001b[38;5;45mNone\u001b[0m, \u001b[38;5;34m1\u001b[0m)              │             \u001b[38;5;34m9\u001b[0m │\n",
              "└─────────────────────────────────┴────────────────────────┴───────────────┘\n"
            ],
            "text/html": [
              "<pre style=\"white-space:pre;overflow-x:auto;line-height:normal;font-family:Menlo,'DejaVu Sans Mono',consolas,'Courier New',monospace\">┏━━━━━━━━━━━━━━━━━━━━━━━━━━━━━━━━━┳━━━━━━━━━━━━━━━━━━━━━━━━┳━━━━━━━━━━━━━━━┓\n",
              "┃<span style=\"font-weight: bold\"> Layer (type)                    </span>┃<span style=\"font-weight: bold\"> Output Shape           </span>┃<span style=\"font-weight: bold\">       Param # </span>┃\n",
              "┡━━━━━━━━━━━━━━━━━━━━━━━━━━━━━━━━━╇━━━━━━━━━━━━━━━━━━━━━━━━╇━━━━━━━━━━━━━━━┩\n",
              "│ conv2d (<span style=\"color: #0087ff; text-decoration-color: #0087ff\">Conv2D</span>)                 │ (<span style=\"color: #00d7ff; text-decoration-color: #00d7ff\">None</span>, <span style=\"color: #00af00; text-decoration-color: #00af00\">224</span>, <span style=\"color: #00af00; text-decoration-color: #00af00\">224</span>, <span style=\"color: #00af00; text-decoration-color: #00af00\">8</span>)    │           <span style=\"color: #00af00; text-decoration-color: #00af00\">224</span> │\n",
              "├─────────────────────────────────┼────────────────────────┼───────────────┤\n",
              "│ global_average_pooling2d        │ (<span style=\"color: #00d7ff; text-decoration-color: #00d7ff\">None</span>, <span style=\"color: #00af00; text-decoration-color: #00af00\">8</span>)              │             <span style=\"color: #00af00; text-decoration-color: #00af00\">0</span> │\n",
              "│ (<span style=\"color: #0087ff; text-decoration-color: #0087ff\">GlobalAveragePooling2D</span>)        │                        │               │\n",
              "├─────────────────────────────────┼────────────────────────┼───────────────┤\n",
              "│ flatten (<span style=\"color: #0087ff; text-decoration-color: #0087ff\">Flatten</span>)               │ (<span style=\"color: #00d7ff; text-decoration-color: #00d7ff\">None</span>, <span style=\"color: #00af00; text-decoration-color: #00af00\">8</span>)              │             <span style=\"color: #00af00; text-decoration-color: #00af00\">0</span> │\n",
              "├─────────────────────────────────┼────────────────────────┼───────────────┤\n",
              "│ dense (<span style=\"color: #0087ff; text-decoration-color: #0087ff\">Dense</span>)                   │ (<span style=\"color: #00d7ff; text-decoration-color: #00d7ff\">None</span>, <span style=\"color: #00af00; text-decoration-color: #00af00\">1</span>)              │             <span style=\"color: #00af00; text-decoration-color: #00af00\">9</span> │\n",
              "└─────────────────────────────────┴────────────────────────┴───────────────┘\n",
              "</pre>\n"
            ]
          },
          "metadata": {}
        },
        {
          "output_type": "display_data",
          "data": {
            "text/plain": [
              "\u001b[1m Total params: \u001b[0m\u001b[38;5;34m233\u001b[0m (932.00 B)\n"
            ],
            "text/html": [
              "<pre style=\"white-space:pre;overflow-x:auto;line-height:normal;font-family:Menlo,'DejaVu Sans Mono',consolas,'Courier New',monospace\"><span style=\"font-weight: bold\"> Total params: </span><span style=\"color: #00af00; text-decoration-color: #00af00\">233</span> (932.00 B)\n",
              "</pre>\n"
            ]
          },
          "metadata": {}
        },
        {
          "output_type": "display_data",
          "data": {
            "text/plain": [
              "\u001b[1m Trainable params: \u001b[0m\u001b[38;5;34m233\u001b[0m (932.00 B)\n"
            ],
            "text/html": [
              "<pre style=\"white-space:pre;overflow-x:auto;line-height:normal;font-family:Menlo,'DejaVu Sans Mono',consolas,'Courier New',monospace\"><span style=\"font-weight: bold\"> Trainable params: </span><span style=\"color: #00af00; text-decoration-color: #00af00\">233</span> (932.00 B)\n",
              "</pre>\n"
            ]
          },
          "metadata": {}
        },
        {
          "output_type": "display_data",
          "data": {
            "text/plain": [
              "\u001b[1m Non-trainable params: \u001b[0m\u001b[38;5;34m0\u001b[0m (0.00 B)\n"
            ],
            "text/html": [
              "<pre style=\"white-space:pre;overflow-x:auto;line-height:normal;font-family:Menlo,'DejaVu Sans Mono',consolas,'Courier New',monospace\"><span style=\"font-weight: bold\"> Non-trainable params: </span><span style=\"color: #00af00; text-decoration-color: #00af00\">0</span> (0.00 B)\n",
              "</pre>\n"
            ]
          },
          "metadata": {}
        }
      ],
      "source": [
        "import numpy as np\n",
        "from keras import Sequential\n",
        "from keras.layers import Conv2D, GlobalAveragePooling2D, Dense, Flatten\n",
        "\n",
        "# Init model\n",
        "\n",
        "model = Sequential([\n",
        "  Conv2D(8, kernel_size=(3, 3), activation='relu', input_shape=(224, 224, 3), padding='same'),\n",
        "  GlobalAveragePooling2D(),\n",
        "  Flatten(),\n",
        "  Dense(1, activation='sigmoid'),\n",
        "])\n",
        "\n",
        "model.summary()\n",
        "model.compile(optimizer='adam', loss='binary_crossentropy', metrics = ['accuracy', 'precision', 'recall'])"
      ]
    },
    {
      "cell_type": "code",
      "source": [
        "from google.colab import drive\n",
        "drive.mount('/content/drive')"
      ],
      "metadata": {
        "id": "FjXT988c9Hxe",
        "outputId": "68c51545-c7a0-45bd-b37b-339f687af0c2",
        "colab": {
          "base_uri": "https://localhost:8080/"
        }
      },
      "execution_count": 3,
      "outputs": [
        {
          "output_type": "stream",
          "name": "stdout",
          "text": [
            "Mounted at /content/drive\n"
          ]
        }
      ]
    },
    {
      "cell_type": "code",
      "source": [
        "import os\n",
        "import re\n",
        "import pandas as pd\n",
        "import numpy as np\n",
        "from PIL import Image\n",
        "from sklearn.model_selection import train_test_split\n",
        "import matplotlib.pyplot as plt\n",
        "import tensorflow as tf\n",
        "\n",
        "# === 1. Load labels CSV ===\n",
        "labels = pd.read_csv('/content/drive/My Drive/case_grade_match.csv')  # Adjust path if needed\n",
        "\n",
        "# === 2. Group patches by case number ===\n",
        "def group_patches(patch_dir):\n",
        "    case_patches = {}\n",
        "    for filename in os.listdir(patch_dir):\n",
        "        match = re.search(r\"case_(\\d+)\", filename)\n",
        "        if match:\n",
        "            case_num = int(match.group(1))\n",
        "            case_patches.setdefault(case_num, []).append(os.path.join(patch_dir, filename))\n",
        "    return case_patches\n",
        "\n",
        "image_folder_path = '/content/drive/My Drive/filtered_patches'\n",
        "patches = group_patches(image_folder_path)\n",
        "\n",
        "# === 3. Filter out class == 2 ===\n",
        "case_nums = list(patches.keys())\n",
        "dataset = labels.loc[[(int(x)-1) for x in case_nums]]  # Adjusting for 0-indexing?\n",
        "\n",
        "filtered = dataset[dataset['Class'] != 2.0]\n",
        "X = filtered['Case'].reset_index(drop=True)\n",
        "y = filtered['Class'].reset_index(drop=True)\n",
        "\n",
        "# === 4. Train-test-validation split ===\n",
        "train_X, test_X, y_train, y_test = train_test_split(X, y, test_size=0.2, stratify=y, random_state=40)\n",
        "train_X, val_X, y_train, y_val = train_test_split(train_X, y_train, test_size=0.2, stratify=y_train, random_state=40)\n",
        "\n",
        "# === 5. Helper to create image-label pairs ===\n",
        "def make_image_label_list(case_ids, patch_dict, labels_df):\n",
        "    image_paths = []\n",
        "    image_labels = []\n",
        "\n",
        "    for case_num in case_ids:\n",
        "        label_row = labels_df[labels_df['Case'] == case_num]\n",
        "        if label_row.empty:\n",
        "            continue\n",
        "        label = label_row['Class'].values[0]\n",
        "        label = 0 if label == 1 else 1  # Re-labeling logic: 1 -> 0 (benign), others -> 1 (high-grade CMIL)\n",
        "        for path in patch_dict[int(case_num)]:\n",
        "            image_paths.append(path)\n",
        "            image_labels.append(label)\n",
        "\n",
        "    return image_paths, image_labels\n",
        "\n",
        "train_paths, train_labels = make_image_label_list(train_X, patches, labels)\n",
        "val_paths, val_labels = make_image_label_list(val_X, patches, labels)\n",
        "test_paths, test_labels = make_image_label_list(test_X, patches, labels)\n",
        "\n",
        "# === 6. Function to create a tf.data.Dataset ===\n",
        "def load_dataset(image_paths, labels, batch_size=32, shuffle=True):\n",
        "    def preprocess(image_path, label):\n",
        "        img = tf.io.read_file(image_path)\n",
        "        img = tf.image.decode_png(img, channels=3)\n",
        "        img = tf.image.resize(img, [256, 256])\n",
        "        img = tf.image.central_crop(img, central_fraction=224/256)\n",
        "        img = tf.cast(img, tf.float32) / 255.0\n",
        "        img = tf.image.per_image_standardization(img)\n",
        "        return img, label\n",
        "\n",
        "    path_ds = tf.data.Dataset.from_tensor_slices((image_paths, labels))\n",
        "    ds = path_ds.map(preprocess, num_parallel_calls=tf.data.AUTOTUNE)\n",
        "    if shuffle:\n",
        "        ds = ds.shuffle(buffer_size=len(image_paths))\n",
        "    return ds.batch(batch_size).prefetch(tf.data.AUTOTUNE)\n",
        "\n",
        "train_ds = load_dataset(train_paths, train_labels)\n",
        "val_ds = load_dataset(val_paths, val_labels)\n",
        "test_ds = load_dataset(test_paths, test_labels, shuffle=False)"
      ],
      "metadata": {
        "id": "EQqb8HioEr9_"
      },
      "execution_count": 4,
      "outputs": []
    },
    {
      "cell_type": "code",
      "source": [
        "history = model.fit(\n",
        "    train_ds,\n",
        "    validation_data=val_ds,\n",
        "    epochs=3\n",
        ")"
      ],
      "metadata": {
        "id": "xaSp5Mu_Fw6Q",
        "colab": {
          "base_uri": "https://localhost:8080/"
        },
        "outputId": "25af0bf0-6f1e-4440-a02c-844ef7ee6c2d"
      },
      "execution_count": 5,
      "outputs": [
        {
          "output_type": "stream",
          "name": "stdout",
          "text": [
            "Epoch 1/3\n",
            "\u001b[1m284/284\u001b[0m \u001b[32m━━━━━━━━━━━━━━━━━━━━\u001b[0m\u001b[37m\u001b[0m \u001b[1m13832s\u001b[0m 18s/step - accuracy: 0.6055 - loss: 0.6550 - precision: 0.7264 - recall: 0.7031 - val_accuracy: 0.8139 - val_loss: 0.4955 - val_precision: 0.8139 - val_recall: 1.0000\n",
            "Epoch 2/3\n",
            "\u001b[1m284/284\u001b[0m \u001b[32m━━━━━━━━━━━━━━━━━━━━\u001b[0m\u001b[37m\u001b[0m \u001b[1m306s\u001b[0m 651ms/step - accuracy: 0.7413 - loss: 0.5657 - precision: 0.7413 - recall: 1.0000 - val_accuracy: 0.8139 - val_loss: 0.4884 - val_precision: 0.8139 - val_recall: 1.0000\n",
            "Epoch 3/3\n",
            "\u001b[1m284/284\u001b[0m \u001b[32m━━━━━━━━━━━━━━━━━━━━\u001b[0m\u001b[37m\u001b[0m \u001b[1m262s\u001b[0m 656ms/step - accuracy: 0.7414 - loss: 0.5663 - precision: 0.7414 - recall: 1.0000 - val_accuracy: 0.8137 - val_loss: 0.4850 - val_precision: 0.8138 - val_recall: 0.9998\n"
          ]
        }
      ]
    },
    {
      "cell_type": "code",
      "source": [
        "loss, acc, prec, rec = model.evaluate(test_ds)\n",
        "print(f\"Loss: {loss}, Accuracy: {acc}, Precision: {prec}, Recall: {rec}\")"
      ],
      "metadata": {
        "id": "BY6oJd-lKGkq",
        "colab": {
          "base_uri": "https://localhost:8080/"
        },
        "outputId": "70133eb0-2858-4f75-87dd-a15d4c0d9460"
      },
      "execution_count": 6,
      "outputs": [
        {
          "output_type": "stream",
          "name": "stdout",
          "text": [
            "\u001b[1m82/82\u001b[0m \u001b[32m━━━━━━━━━━━━━━━━━━━━\u001b[0m\u001b[37m\u001b[0m \u001b[1m2489s\u001b[0m 30s/step - accuracy: 0.7834 - loss: 0.5487 - precision: 0.7834 - recall: 1.0000\n",
            "Loss: 0.5914034247398376, Accuracy: 0.7358490824699402, Precision: 0.7358490824699402, Recall: 1.0\n"
          ]
        }
      ]
    },
    {
      "cell_type": "code",
      "source": [
        "from sklearn.metrics import accuracy_score, recall_score, f1_score, confusion_matrix\n",
        "\n",
        "y_true = np.concatenate([y.numpy() for x, y in test_ds], axis=0)\n",
        "\n",
        "y_pred_probs = model.predict(test_ds)\n",
        "y_pred = (y_pred_probs > 0.5).astype(\"int32\").flatten()\n",
        "\n",
        "cm = confusion_matrix(y_true, y_pred)\n",
        "\n",
        "cm"
      ],
      "metadata": {
        "id": "Cjk6KrZcfudW",
        "outputId": "7df54a90-1510-4401-8b21-888408022a67",
        "colab": {
          "base_uri": "https://localhost:8080/"
        }
      },
      "execution_count": 9,
      "outputs": [
        {
          "output_type": "stream",
          "name": "stdout",
          "text": [
            "\u001b[1m82/82\u001b[0m \u001b[32m━━━━━━━━━━━━━━━━━━━━\u001b[0m\u001b[37m\u001b[0m \u001b[1m30s\u001b[0m 369ms/step\n"
          ]
        },
        {
          "output_type": "execute_result",
          "data": {
            "text/plain": [
              "array([[   0,  686],\n",
              "       [   0, 1911]])"
            ]
          },
          "metadata": {},
          "execution_count": 9
        }
      ]
    }
  ]
}