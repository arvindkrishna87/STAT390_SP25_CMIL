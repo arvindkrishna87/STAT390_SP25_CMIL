{
  "nbformat": 4,
  "nbformat_minor": 0,
  "metadata": {
    "colab": {
      "provenance": []
    },
    "kernelspec": {
      "name": "python3",
      "display_name": "Python 3"
    },
    "language_info": {
      "name": "python"
    }
  },
  "cells": [
    {
      "cell_type": "code",
      "execution_count": 2,
      "metadata": {
        "id": "pcWmbPLp_WKJ"
      },
      "outputs": [],
      "source": [
        "# stdlib\n",
        "import os\n",
        "import glob\n",
        "import re\n",
        "import struct\n",
        "from concurrent.futures import ThreadPoolExecutor, as_completed\n",
        "\n",
        "# data & imaging\n",
        "import pandas as pd\n",
        "from PIL import Image\n",
        "from tqdm.auto import tqdm\n",
        "\n",
        "# PyTorch\n",
        "import torch\n",
        "import torch.nn as nn\n",
        "import torch.optim as optim\n",
        "import torch.backends.cudnn as cudnn\n",
        "from torch.utils.data import Dataset, DataLoader\n",
        "\n",
        "# torchvision\n",
        "import torchvision\n",
        "from torchvision import transforms\n",
        "\n",
        "# metrics & plotting\n",
        "from sklearn.metrics import accuracy_score, precision_score, recall_score, f1_score, confusion_matrix\n",
        "import seaborn as sns\n",
        "import matplotlib.pyplot as plt\n",
        "\n",
        "# Colab\n",
        "from google.colab import drive"
      ]
    },
    {
      "cell_type": "code",
      "source": [
        "import torch.nn.functional as F\n",
        "from torchvision.ops import sigmoid_focal_loss"
      ],
      "metadata": {
        "id": "Vm8jCcwqCPN9"
      },
      "execution_count": 3,
      "outputs": []
    },
    {
      "cell_type": "code",
      "source": [
        "# ─── 1) MOUNT GOOGLE DRIVE ──────────────────────────────────────────────\n",
        "drive.mount('/content/drive', force_remount=True)\n",
        "\n",
        "# ─── 2) DEVICE & CUDNN ──────────────────────────────────────────────────\n",
        "device = torch.device('cuda' if torch.cuda.is_available() else 'cpu')\n",
        "cudnn.benchmark = True  # auto‐tune for fixed input sizes"
      ],
      "metadata": {
        "id": "TQSIdtnW_cyx",
        "colab": {
          "base_uri": "https://localhost:8080/"
        },
        "outputId": "bd8f8bed-cdb5-4011-f3f8-cdd8ebe9114a"
      },
      "execution_count": 4,
      "outputs": [
        {
          "output_type": "stream",
          "name": "stdout",
          "text": [
            "Mounted at /content/drive\n"
          ]
        }
      ]
    },
    {
      "cell_type": "code",
      "source": [
        "import os, re\n",
        "import numpy as np\n",
        "import pandas as pd\n",
        "from PIL import Image\n",
        "from tqdm import tqdm\n",
        "import torch\n",
        "from torch import nn, optim\n",
        "from torch.utils.data import Dataset, DataLoader, WeightedRandomSampler\n",
        "import torchvision\n",
        "from torchvision import transforms\n",
        "from sklearn.model_selection import train_test_split\n",
        "\n",
        "# ─── 1) CONFIG ──────────────────────────────────────────────────────────\n",
        "image_folder = \"/content/drive/MyDrive/patches_cross\"\n",
        "batch_size   = 64\n",
        "num_workers  = 4\n",
        "lr           = 1e-3\n",
        "num_epochs   = 10\n",
        "test_size    = 0.25\n",
        "device = torch.device('cuda' if torch.cuda.is_available() else 'cpu')\n",
        "\n",
        "# ─── 2) LABELS ───────────────────────────────────────────────────────────\n",
        "labels_df = pd.read_csv(\"/content/drive/MyDrive/case_grade_match.csv\")\n",
        "class_map = {int(r.Case): (0 if r.Class == 1 else 1) for _, r in labels_df.iterrows()}\n",
        "\n",
        "# ─── 3) BUILD ALL TRIPLETS ───────────────────────────────────────────────\n",
        "def get_all_triplets(patch_dir):\n",
        "    triplet_dict = {}\n",
        "    matched = 0\n",
        "\n",
        "    for fname in os.listdir(patch_dir):\n",
        "        low = fname.lower()\n",
        "        # Capture: case, match, patch index, stain\n",
        "        m = re.match(\n",
        "            r'case_(\\d+)_match_(\\d+)_h&e_patch(\\d+)_?(h&e|melan|sox10)\\.png',\n",
        "            low\n",
        "        )\n",
        "        if not m:\n",
        "            continue\n",
        "        matched += 1\n",
        "\n",
        "        cid, mid, pid, stain = int(m.group(1)), int(m.group(2)), int(m.group(3)), m.group(4)\n",
        "        if cid not in class_map:\n",
        "            continue\n",
        "\n",
        "        key = (cid, mid, pid)\n",
        "        triplet_dict.setdefault(key, {})[stain] = os.path.join(patch_dir, fname)\n",
        "\n",
        "    print(f\"🔍 Files matching pattern: {matched}\")\n",
        "    print(f\"🔍 Unique (case,match,patch) keys: {len(triplet_dict)}\")\n",
        "\n",
        "    # Now only keep those keys where all 3 stains are present\n",
        "    triplets, labels = [], []\n",
        "    for (cid, mid, pid), stains in triplet_dict.items():\n",
        "        if all(s in stains for s in ('h&e','melan','sox10')):\n",
        "            triplets.append([stains['h&e'], stains['melan'], stains['sox10']])\n",
        "            labels.append(class_map[cid])\n",
        "\n",
        "    print(f\"✅ Complete triplets formed: {len(triplets)}\")\n",
        "    return triplets, labels\n",
        "\n",
        "all_triplets, all_labels = get_all_triplets(image_folder)\n",
        "\n",
        "# ─── 3b) FILTER BY PATCH-SIZE P20–P80 ────────────────────────────────────\n",
        "# (we’ll use the H&E patch [0] as representative)\n",
        "areas = []\n",
        "for triplet in all_triplets:\n",
        "    he_path = triplet[0]\n",
        "    w, h = Image.open(he_path).size\n",
        "    areas.append(w * h)\n",
        "\n",
        "# compute the 20th and 80th percentiles\n",
        "p20, p80 = np.percentile(areas, [20, 80])\n",
        "print(f\"20th pct patch-area = {p20:.0f}px, 80th pct = {p80:.0f}px\")\n",
        "\n",
        "# now filter\n",
        "filtered_trips  = []\n",
        "filtered_labels = []\n",
        "for trip, lbl, area in zip(all_triplets, all_labels, areas):\n",
        "    if p20 <= area <= p80:\n",
        "        filtered_trips .append(trip)\n",
        "        filtered_labels.append(lbl)\n",
        "\n",
        "print(f\"Kept {len(filtered_trips)}/{len(all_triplets)} triplets after size filter\")\n",
        "\n",
        "# ─── 4) STRATIFIED SPLIT ─────────────────────────────────────────────────\n",
        "train_trips, test_trips, train_lbls, test_lbls = train_test_split(\n",
        "    all_triplets, all_labels, test_size=test_size, stratify=all_labels, random_state=42\n",
        ")\n",
        "\n",
        "# ─── 5) TRANSFORMS ───────────────────────────────────────────────────────\n",
        "transform = transforms.Compose([\n",
        "    transforms.Resize((224,224)),\n",
        "    transforms.ToTensor(),\n",
        "    transforms.Normalize([0.485,0.456,0.406], [0.229,0.224,0.225])\n",
        "])\n",
        "\n",
        "# ─── 6) DATASET ──────────────────────────────────────────────────────────\n",
        "class TripletAveragingDataset(Dataset):\n",
        "    def __init__(self, triplets, labels, transform=None):\n",
        "        self.samples = list(zip(triplets, labels))\n",
        "        self.transform = transform\n",
        "        self.resize_size = (224, 224)\n",
        "\n",
        "    def __len__(self):\n",
        "        return len(self.samples)\n",
        "\n",
        "    def __getitem__(self, idx):\n",
        "        paths, lbl = self.samples[idx]\n",
        "        imgs = [Image.open(p).convert('RGB').resize(self.resize_size) for p in paths]\n",
        "\n",
        "        if any(self.is_mostly_blank(img) for img in imgs):\n",
        "            # Instead of crashing or returning None, fallback to a black image or retry\n",
        "            return self.__getitem__((idx + 1) % len(self))\n",
        "\n",
        "        avg_img = self.average_images(imgs)\n",
        "        if self.transform:\n",
        "            avg_img = self.transform(avg_img)\n",
        "        return avg_img, lbl\n",
        "\n",
        "    def is_mostly_blank(self, img):\n",
        "        img_np = np.array(img)\n",
        "        white_mask = (img_np > 240).all(axis=-1)\n",
        "        return white_mask.sum() / white_mask.size > 0.9\n",
        "\n",
        "    def average_images(self, imgs):\n",
        "        imgs_np = [np.array(im, dtype=np.float32) for im in imgs]\n",
        "        avg = np.mean(imgs_np, axis=0).astype(np.uint8)\n",
        "        return Image.fromarray(avg)\n",
        "\n",
        "# ─── 7) DATA LOADERS ─────────────────────────────────────────────────────\n",
        "train_ds = TripletAveragingDataset(train_trips, train_lbls, transform=transform)\n",
        "test_ds  = TripletAveragingDataset(test_trips,  test_lbls,  transform=transform)\n",
        "\n",
        "train_labels_final = [lbl for _, lbl in train_ds]\n",
        "class_counts = np.bincount(train_labels_final)\n",
        "class_weights = [1.0 / c for c in class_counts]\n",
        "sample_weights = [class_weights[lbl] for lbl in train_labels_final]\n",
        "sampler = WeightedRandomSampler(sample_weights, num_samples=len(sample_weights), replacement=True)\n",
        "\n",
        "train_loader = DataLoader(train_ds, batch_size=batch_size, sampler=sampler,\n",
        "                          num_workers=num_workers, pin_memory=True, persistent_workers=True)\n",
        "test_loader  = DataLoader(test_ds, batch_size=batch_size, shuffle=False,\n",
        "                          num_workers=num_workers, pin_memory=True, persistent_workers=True)\n",
        "\n",
        "# ─── 8) MODEL ────────────────────────────────────────────────────────────\n",
        "model = torchvision.models.alexnet(pretrained=True)\n",
        "for param in model.parameters(): param.requires_grad = False\n",
        "model.classifier[6] = nn.Linear(model.classifier[6].in_features, 2)\n",
        "model = model.to(device)\n",
        "\n",
        "optimizer = optim.Adam(model.classifier[6].parameters(), lr=lr)\n",
        "scaler = torch.cuda.amp.GradScaler()\n",
        "focal_alpha = 0.70\n",
        "focal_gamma = 2.0\n",
        "\n",
        "optimizer = optim.Adam(model.classifier[6].parameters(), lr=lr)\n",
        "scaler    = torch.cuda.amp.GradScaler()\n",
        "\n",
        "# ─── 9) TRAIN LOOP with sigmoid_focal_loss ────────────────────────────────\n",
        "for epoch in range(1, num_epochs + 1):\n",
        "    model.train()\n",
        "    running_loss = 0.0\n",
        "    pbar = tqdm(train_loader, desc=f'Epoch {epoch}/{num_epochs}', leave=False)\n",
        "    for imgs, lbls in pbar:\n",
        "        imgs, lbls = imgs.to(device), lbls.to(device)\n",
        "\n",
        "        optimizer.zero_grad()\n",
        "        with torch.cuda.amp.autocast():\n",
        "            logits = model(imgs)                        # shape [B, 2]\n",
        "            # convert to one-hot float targets\n",
        "            targets = F.one_hot(lbls, num_classes=2).float()  # shape [B, 2]\n",
        "            loss = sigmoid_focal_loss(\n",
        "                logits,\n",
        "                targets,\n",
        "                alpha=focal_alpha,\n",
        "                gamma=focal_gamma,\n",
        "                reduction='mean'\n",
        "            )\n",
        "\n",
        "        scaler.scale(loss).backward()\n",
        "        scaler.step(optimizer)\n",
        "        scaler.update()\n",
        "\n",
        "        running_loss += loss.item() * lbls.size(0)\n",
        "        pbar.set_postfix(loss=running_loss / ((pbar.n + 1) * batch_size))\n",
        "\n",
        "    epoch_loss = running_loss / len(train_ds)\n",
        "    print(f\"Epoch {epoch}: Train Loss = {epoch_loss:.4f}\")\n",
        "\n",
        "# ─── 10) EVALUATION ──────────────────────────────────────────────────────\n",
        "model.eval()\n",
        "correct = total = 0\n",
        "with torch.no_grad():\n",
        "    for imgs, lbls in test_loader:\n",
        "        imgs, lbls = imgs.to(device), lbls.to(device)\n",
        "        preds = model(imgs).argmax(1)\n",
        "        correct += (preds == lbls).sum().item()\n",
        "        total += lbls.size(0)\n",
        "print(f'Test Accuracy: {100 * correct / total:.2f}%')"
      ],
      "metadata": {
        "id": "7sbn8loB_3c5",
        "colab": {
          "base_uri": "https://localhost:8080/"
        },
        "outputId": "c9a69aaf-78c8-4462-f581-f2a539142273"
      },
      "execution_count": 5,
      "outputs": [
        {
          "output_type": "stream",
          "name": "stdout",
          "text": [
            "🔍 Files matching pattern: 13242\n",
            "🔍 Unique (case,match,patch) keys: 4414\n",
            "✅ Complete triplets formed: 4414\n",
            "20th pct patch-area = 676px, 80th pct = 105106px\n",
            "Kept 2651/4414 triplets after size filter\n"
          ]
        },
        {
          "output_type": "stream",
          "name": "stderr",
          "text": [
            "/usr/local/lib/python3.11/dist-packages/torch/utils/data/dataloader.py:624: UserWarning: This DataLoader will create 4 worker processes in total. Our suggested max number of worker in current system is 2, which is smaller than what this DataLoader is going to create. Please be aware that excessive worker creation might get DataLoader running slow or even freeze, lower the worker number to avoid potential slowness/freeze if necessary.\n",
            "  warnings.warn(\n",
            "/usr/local/lib/python3.11/dist-packages/torchvision/models/_utils.py:208: UserWarning: The parameter 'pretrained' is deprecated since 0.13 and may be removed in the future, please use 'weights' instead.\n",
            "  warnings.warn(\n",
            "/usr/local/lib/python3.11/dist-packages/torchvision/models/_utils.py:223: UserWarning: Arguments other than a weight enum or `None` for 'weights' are deprecated since 0.13 and may be removed in the future. The current behavior is equivalent to passing `weights=AlexNet_Weights.IMAGENET1K_V1`. You can also use `weights=AlexNet_Weights.DEFAULT` to get the most up-to-date weights.\n",
            "  warnings.warn(msg)\n",
            "Downloading: \"https://download.pytorch.org/models/alexnet-owt-7be5be79.pth\" to /root/.cache/torch/hub/checkpoints/alexnet-owt-7be5be79.pth\n",
            "100%|██████████| 233M/233M [00:02<00:00, 101MB/s]\n",
            "<ipython-input-5-c32378679cb2>:153: FutureWarning: `torch.cuda.amp.GradScaler(args...)` is deprecated. Please use `torch.amp.GradScaler('cuda', args...)` instead.\n",
            "  scaler = torch.cuda.amp.GradScaler()\n",
            "/usr/local/lib/python3.11/dist-packages/torch/amp/grad_scaler.py:132: UserWarning: torch.cuda.amp.GradScaler is enabled, but CUDA is not available.  Disabling.\n",
            "  warnings.warn(\n",
            "<ipython-input-5-c32378679cb2>:158: FutureWarning: `torch.cuda.amp.GradScaler(args...)` is deprecated. Please use `torch.amp.GradScaler('cuda', args...)` instead.\n",
            "  scaler    = torch.cuda.amp.GradScaler()\n",
            "Epoch 1/10:   0%|          | 0/52 [00:00<?, ?it/s]<ipython-input-5-c32378679cb2>:169: FutureWarning: `torch.cuda.amp.autocast(args...)` is deprecated. Please use `torch.amp.autocast('cuda', args...)` instead.\n",
            "  with torch.cuda.amp.autocast():\n",
            "/usr/local/lib/python3.11/dist-packages/torch/amp/autocast_mode.py:266: UserWarning: User provided device_type of 'cuda', but CUDA is not available. Disabling\n",
            "  warnings.warn(\n"
          ]
        },
        {
          "output_type": "stream",
          "name": "stdout",
          "text": [
            "Epoch 1: Train Loss = 0.0518\n"
          ]
        },
        {
          "output_type": "stream",
          "name": "stderr",
          "text": []
        },
        {
          "output_type": "stream",
          "name": "stdout",
          "text": [
            "Epoch 2: Train Loss = 0.0398\n"
          ]
        },
        {
          "output_type": "stream",
          "name": "stderr",
          "text": []
        },
        {
          "output_type": "stream",
          "name": "stdout",
          "text": [
            "Epoch 3: Train Loss = 0.0400\n"
          ]
        },
        {
          "output_type": "stream",
          "name": "stderr",
          "text": []
        },
        {
          "output_type": "stream",
          "name": "stdout",
          "text": [
            "Epoch 4: Train Loss = 0.0413\n"
          ]
        },
        {
          "output_type": "stream",
          "name": "stderr",
          "text": []
        },
        {
          "output_type": "stream",
          "name": "stdout",
          "text": [
            "Epoch 5: Train Loss = 0.0369\n"
          ]
        },
        {
          "output_type": "stream",
          "name": "stderr",
          "text": []
        },
        {
          "output_type": "stream",
          "name": "stdout",
          "text": [
            "Epoch 6: Train Loss = 0.0355\n"
          ]
        },
        {
          "output_type": "stream",
          "name": "stderr",
          "text": []
        },
        {
          "output_type": "stream",
          "name": "stdout",
          "text": [
            "Epoch 7: Train Loss = 0.0343\n"
          ]
        },
        {
          "output_type": "stream",
          "name": "stderr",
          "text": []
        },
        {
          "output_type": "stream",
          "name": "stdout",
          "text": [
            "Epoch 8: Train Loss = 0.0366\n"
          ]
        },
        {
          "output_type": "stream",
          "name": "stderr",
          "text": []
        },
        {
          "output_type": "stream",
          "name": "stdout",
          "text": [
            "Epoch 9: Train Loss = 0.0362\n"
          ]
        },
        {
          "output_type": "stream",
          "name": "stderr",
          "text": [
            "                                                                         "
          ]
        },
        {
          "output_type": "stream",
          "name": "stdout",
          "text": [
            "Epoch 10: Train Loss = 0.0330\n"
          ]
        },
        {
          "output_type": "stream",
          "name": "stderr",
          "text": [
            "\r"
          ]
        },
        {
          "output_type": "stream",
          "name": "stdout",
          "text": [
            "Test Accuracy: 87.95%\n"
          ]
        }
      ]
    },
    {
      "cell_type": "code",
      "source": [
        "from collections import Counter\n",
        "\n",
        "# pull all labels out of the dataset\n",
        "train_labels = [lbl for _, lbl in train_ds]\n",
        "\n",
        "# 12/22 cases are high-grade\n",
        "\n",
        "# count how many 0’s vs 1’s\n",
        "counts = Counter(train_labels)\n",
        "print(\"Class counts:\", counts)\n",
        "print(f\"Fraction class 0: {counts[0]/len(train_ds):.2%}\")\n",
        "print(f\"Fraction class 1: {counts[1]/len(train_ds):.2%}\")"
      ],
      "metadata": {
        "colab": {
          "base_uri": "https://localhost:8080/"
        },
        "id": "FpVmfEGloEMj",
        "outputId": "e9bf7ff5-e7f8-4926-9c1b-038bf03218f6"
      },
      "execution_count": 6,
      "outputs": [
        {
          "output_type": "stream",
          "name": "stdout",
          "text": [
            "Class counts: Counter({1: 2328, 0: 982})\n",
            "Fraction class 0: 29.67%\n",
            "Fraction class 1: 70.33%\n"
          ]
        }
      ]
    },
    {
      "cell_type": "code",
      "source": [
        "# ─── 9) PATCH‐LEVEL EVALUATION ───────────────────────────────────────────\n",
        "model.eval()\n",
        "all_preds, all_labels = [], []\n",
        "correct, total = 0, 0\n",
        "\n",
        "with torch.no_grad():\n",
        "    for images, labels in test_loader:\n",
        "        images, labels = (images.to(device, non_blocking=True),\n",
        "                          labels.to(device, non_blocking=True))\n",
        "        outputs = model(images)\n",
        "        preds   = outputs.argmax(dim=1)\n",
        "\n",
        "        all_preds.extend(preds.cpu().numpy())\n",
        "        all_labels.extend(labels.cpu().numpy())\n",
        "        correct += (preds == labels).sum().item()\n",
        "        total   += labels.size(0)\n",
        "\n",
        "accuracy  = 100 * correct / total\n",
        "precision = precision_score(all_labels, all_preds)\n",
        "recall    = recall_score(all_labels, all_preds)\n",
        "f1        = f1_score(all_labels, all_preds)\n",
        "\n",
        "print(f\"Test Patch‐level Accuracy : {accuracy:.2f}%\")\n",
        "print(f\"Precision                : {precision:.4f}\")\n",
        "print(f\"Recall                   : {recall:.4f}\")\n",
        "print(f\"F1 Score                 : {f1:.4f}\")"
      ],
      "metadata": {
        "id": "VR87JPXdAd6A",
        "colab": {
          "base_uri": "https://localhost:8080/"
        },
        "outputId": "33c33147-2d75-48e1-983d-f60860cd3e87"
      },
      "execution_count": 7,
      "outputs": [
        {
          "output_type": "stream",
          "name": "stdout",
          "text": [
            "Test Patch‐level Accuracy : 87.95%\n",
            "Precision                : 0.9181\n",
            "Recall                   : 0.9098\n",
            "F1 Score                 : 0.9139\n"
          ]
        }
      ]
    },
    {
      "cell_type": "code",
      "source": [
        "# ─── CONFUSION MATRIX ────────────────────────────────────────────────────\n",
        "cm = confusion_matrix(all_labels, all_preds)\n",
        "labels = ['Benign', 'High-grade']\n",
        "\n",
        "plt.figure(figsize=(6, 5))\n",
        "sns.heatmap(cm, annot=True, fmt=\"d\", cmap=\"Blues\", xticklabels=labels, yticklabels=labels)\n",
        "plt.xlabel(\"Predicted Label\")\n",
        "plt.ylabel(\"True Label\")\n",
        "plt.title(\"Confusion Matrix\")\n",
        "plt.tight_layout()\n",
        "plt.show()"
      ],
      "metadata": {
        "id": "XWJJRkYmAiqq",
        "colab": {
          "base_uri": "https://localhost:8080/",
          "height": 507
        },
        "outputId": "399fea20-3554-4a56-85d9-823a17a43853"
      },
      "execution_count": 8,
      "outputs": [
        {
          "output_type": "display_data",
          "data": {
            "text/plain": [
              "<Figure size 600x500 with 2 Axes>"
            ],
            "image/png": "[encoded data removed]"
          },
          "metadata": {}
        }
      ]
    }
  ]
}