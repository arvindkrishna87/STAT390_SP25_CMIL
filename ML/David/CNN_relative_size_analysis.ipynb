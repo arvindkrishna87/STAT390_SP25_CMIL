{
  "cells": [
    {
      "cell_type": "markdown",
      "source": [
        "Description: This script uses [this](https://github.com/arvindkrishna87/STAT390_WI2025/blob/a90ac97e593db9953ff84f22a33382476c8faeb6/Presentation%205/Coders/Nathan%20Jung/CNN%20model.ipynb) CNN model made last quarter by Nathan and evaluates how the model performs on different image size quantiles relative to the image sizes within each case\n",
        "\n",
        "Author: David Gormley\n",
        "\n",
        "Last Modified: 5/5/25\n",
        "\n",
        "Structure\n",
        "\n",
        "1) Import Dependencies and mount drive\n",
        "\n",
        "2) Train Model\n",
        "\n",
        "3) Evaluate Model\n",
        "\n",
        "4) Exploring Performance by Case"
      ],
      "metadata": {
        "id": "8XZVbqKdZXYX"
      },
      "id": "8XZVbqKdZXYX"
    },
    {
      "cell_type": "markdown",
      "source": [
        "**1) Import Dependencies and mount drive**"
      ],
      "metadata": {
        "id": "FcfjBWuOaDG9"
      },
      "id": "FcfjBWuOaDG9"
    },
    {
      "cell_type": "code",
      "source": [
        "# stdlib\n",
        "import os\n",
        "import glob\n",
        "import re\n",
        "import struct\n",
        "from concurrent.futures import ThreadPoolExecutor, as_completed\n",
        "\n",
        "# data & imaging\n",
        "import pandas as pd\n",
        "from PIL import Image\n",
        "from tqdm.auto import tqdm\n",
        "\n",
        "# PyTorch\n",
        "import torch\n",
        "import torch.nn as nn\n",
        "import torch.optim as optim\n",
        "import torch.backends.cudnn as cudnn\n",
        "from torch.utils.data import Dataset, DataLoader\n",
        "\n",
        "# torchvision\n",
        "import torchvision\n",
        "from torchvision import transforms\n",
        "\n",
        "# metrics & plotting\n",
        "from sklearn.metrics import accuracy_score, precision_score, recall_score, f1_score, confusion_matrix\n",
        "import seaborn as sns\n",
        "import matplotlib.pyplot as plt\n",
        "\n",
        "# Colab\n",
        "from google.colab import drive"
      ],
      "metadata": {
        "id": "Ltck71bOCMrq"
      },
      "id": "Ltck71bOCMrq",
      "execution_count": null,
      "outputs": []
    },
    {
      "cell_type": "code",
      "source": [
        "# ─── 1) MOUNT GOOGLE DRIVE ──────────────────────────────────────────────\n",
        "drive.mount('/content/drive', force_remount=True)\n",
        "\n",
        "# ─── 2) DEVICE & CUDNN ──────────────────────────────────────────────────\n",
        "device = torch.device('cuda' if torch.cuda.is_available() else 'cpu')\n",
        "cudnn.benchmark = True  # auto‐tune for fixed input sizes"
      ],
      "metadata": {
        "colab": {
          "base_uri": "https://localhost:8080/"
        },
        "id": "2ER8V-OcCPS7",
        "outputId": "94aa21af-5f3b-469b-c531-c33689699371"
      },
      "id": "2ER8V-OcCPS7",
      "execution_count": null,
      "outputs": [
        {
          "output_type": "stream",
          "name": "stdout",
          "text": [
            "Mounted at /content/drive\n"
          ]
        }
      ]
    },
    {
      "cell_type": "markdown",
      "source": [
        "**2. Train Model**\n",
        "- We can adjust the following\n",
        "    - Restricting image size: min and max image width quantile (within case). This restriction applies to both training and evaluation\n",
        "    - Stain type\n",
        "    - Train and test cases"
      ],
      "metadata": {
        "id": "8_PH8UCdaHRR"
      },
      "id": "8_PH8UCdaHRR"
    },
    {
      "cell_type": "code",
      "source": [
        "import os, re, struct\n",
        "import pandas as pd\n",
        "import numpy as np\n",
        "from PIL import Image\n",
        "from concurrent.futures import ThreadPoolExecutor\n",
        "import torch\n",
        "import torch.nn as nn\n",
        "import torch.optim as optim\n",
        "from torch.utils.data import Dataset, DataLoader, WeightedRandomSampler\n",
        "import torchvision\n",
        "from torchvision import transforms\n",
        "from tqdm import tqdm\n",
        "\n",
        "# ─── 1) CONFIG ──────────────────────────────────────────────────────────\n",
        "image_folder = \"/content/drive/MyDrive/'25 Spring/390/CMIL_SP2025_Patches_Apr16\"\n",
        "train_cases  = [2,1,22,9,34,38,53,55,78,62,85,89,21,3,45,49]\n",
        "test_cases   = [77,60,79,70,90,92,25,12]\n",
        "batch_size   = 64\n",
        "num_workers  = 4\n",
        "lr           = 1e-3\n",
        "num_epochs   = 10\n",
        "stains       = ['h&e']\n",
        "min_width_quantile = 0.2\n",
        "max_width_quantile = 0.8\n",
        "meta_csv     = '/content/drive/MyDrive/patch_metadata.csv'\n",
        "device = torch.device('cuda' if torch.cuda.is_available() else 'cpu')\n",
        "\n",
        "# ─── 2) LABEL CSV & MAP ─────────────────────────────────────────────────\n",
        "labels_df = pd.read_csv(\"/content/drive/MyDrive/'25 Spring/390/case_grade_match.csv\") \\\n",
        "              .drop(index=64, errors='ignore').reset_index(drop=True)\n",
        "class_map = {int(r.Case): (0 if r.Class == 1 else 1) for _, r in labels_df.iterrows()}\n",
        "\n",
        "# ─── 3) METADATA BUILD/LOAD ──────────────────────────────────────────────\n",
        "def build_metadata():\n",
        "    if os.path.exists(meta_csv):\n",
        "        return pd.read_csv(meta_csv)\n",
        "    all_files = [os.path.join(dp, f)\n",
        "                 for dp, _, fs in os.walk(image_folder)\n",
        "                 for f in fs if f.lower().endswith('.png')]\n",
        "\n",
        "    def process(p):\n",
        "        basename = os.path.basename(p)\n",
        "        m = re.search(r'case_(\\d+)_', basename, re.IGNORECASE)\n",
        "        if not m: return None\n",
        "        cid = int(m.group(1))\n",
        "        if cid not in set(train_cases + test_cases): return None\n",
        "        stain = next((s for s in stains if s in basename.lower()), None)\n",
        "        if not stain: return None\n",
        "        try:\n",
        "            with open(p, 'rb') as f: hdr = f.read(24)\n",
        "            w = struct.unpack('>I', hdr[16:20])[0]\n",
        "            h = struct.unpack('>I', hdr[20:24])[0]\n",
        "        except:\n",
        "            return None\n",
        "        label = class_map.get(cid)\n",
        "        return {'path': p, 'case_number': cid, 'stain': stain,\n",
        "                'width': w, 'height': h, 'label': label}\n",
        "\n",
        "    with ThreadPoolExecutor(max_workers=8) as exe:\n",
        "        results = list(exe.map(process, all_files))\n",
        "    df = pd.DataFrame([r for r in results if r])\n",
        "    df.to_csv(meta_csv, index=False)\n",
        "    return df\n",
        "\n",
        "df_meta = build_metadata()\n",
        "\n",
        "# ─── 3b) COMPUTE PER-CASE QUANTILE THRESHOLDS ─────────────────────────────\n",
        "q = df_meta.groupby('case_number')['width'] \\\n",
        "           .quantile([min_width_quantile, max_width_quantile]) \\\n",
        "           .unstack(level=1) \\\n",
        "           .rename(columns={min_width_quantile: 'low', max_width_quantile: 'high'}) \\\n",
        "           .reset_index()\n",
        "df_meta = df_meta.merge(q, on='case_number', how='left')\n",
        "\n",
        "# ─── 4) FILTER FOR TRAIN/TEST ────────────────────────────────────────────\n",
        "def filter_meta(df, cases):\n",
        "    df2 = df[df.case_number.isin(cases)]\n",
        "    df2 = df2[df2.width.between(df2.low, df2.high)]\n",
        "    df2 = df2[df2.stain.isin(stains)]\n",
        "    return df2\n",
        "\n",
        "df_train = filter_meta(df_meta, train_cases)\n",
        "df_test  = filter_meta(df_meta, test_cases)\n",
        "\n",
        "train_paths = df_train['path'].tolist()\n",
        "test_paths  = df_test['path'].tolist()\n",
        "\n",
        "# ─── 4b) CASE USAGE SUMMARY (FIXED) ────────────────────────────────────────\n",
        "all_cases = sorted(set(train_cases + test_cases))\n",
        "summary = []\n",
        "for cid in all_cases:\n",
        "    # count how many images from this case made it into train vs test\n",
        "    count_train = int((df_train.case_number == cid).sum())\n",
        "    count_test  = int((df_test.case_number  == cid).sum())\n",
        "    summary.append({\n",
        "        'case_number':      cid,\n",
        "        'train':            1 if count_train>0 else 0,\n",
        "        'test':             1 if count_test>0  else 0,\n",
        "        'number_of_images': count_train + count_test\n",
        "    })\n",
        "\n",
        "df_summary = pd.DataFrame(summary, columns=['case_number','train','test','number_of_images'])\n",
        "print(df_summary)\n",
        "\n",
        "# ─── 5) TRANSFORMS & DATASETS ─────────────────────────────────────────────\n",
        "train_transform = transforms.Compose([\n",
        "    transforms.Resize((224,224)),\n",
        "    transforms.RandomHorizontalFlip(0.5),\n",
        "    transforms.ToTensor(),\n",
        "    transforms.Normalize([0.485,0.456,0.406],[0.229,0.224,0.225])\n",
        "])\n",
        "test_transform = transforms.Compose([\n",
        "    transforms.Resize((224,224)),\n",
        "    transforms.ToTensor(),\n",
        "    transforms.Normalize([0.485,0.456,0.406],[0.229,0.224,0.225])\n",
        "])\n",
        "\n",
        "class CaseDataset(Dataset):\n",
        "    def __init__(self, paths, transform=None):\n",
        "        self.paths = paths\n",
        "        self.transform = transform\n",
        "    def __len__(self):\n",
        "        return len(self.paths)\n",
        "    def __getitem__(self, idx):\n",
        "        p = self.paths[idx]\n",
        "        img = Image.open(p).convert('RGB')\n",
        "        if self.transform: img = self.transform(img)\n",
        "        cid = int(re.search(r'case_(\\d+)_', os.path.basename(p), re.IGNORECASE).group(1))\n",
        "        lbl = class_map[cid]\n",
        "        return img, lbl\n",
        "\n",
        "train_ds = CaseDataset(train_paths, transform=train_transform)\n",
        "test_ds  = CaseDataset(test_paths,  transform=test_transform)\n",
        "\n",
        "# ─── 6) HANDLE CLASS IMBALANCE ────────────────────────────────────────────\n",
        "labels = df_train['label'].values\n",
        "class_counts = np.bincount(labels)\n",
        "class_weights = [1.0/count for count in class_counts]\n",
        "\n",
        "# build sample_weights via list comprehension\n",
        "sample_weights = [class_weights[lbl] for lbl in labels]\n",
        "sampler = WeightedRandomSampler(\n",
        "    weights=sample_weights,\n",
        "    num_samples=len(sample_weights),\n",
        "    replacement=True\n",
        ")\n",
        "\n",
        "# ─── 7) DATALOADERS ───────────────────────────────────────────────────────\n",
        "train_loader = DataLoader(train_ds, batch_size=batch_size, sampler=sampler,\n",
        "                          num_workers=num_workers, pin_memory=True, persistent_workers=True)\n",
        "test_loader  = DataLoader(test_ds,  batch_size=batch_size, shuffle=False,\n",
        "                          num_workers=num_workers, pin_memory=True, persistent_workers=True)\n",
        "\n",
        "# ─── 8) MODEL SETUP ──────────────────────────────────────────────────────\n",
        "model = torchvision.models.alexnet(pretrained=True)\n",
        "for param in model.parameters(): param.requires_grad=False\n",
        "in_ftrs = model.classifier[6].in_features\n",
        "model.classifier[6] = nn.Linear(in_ftrs, 2)\n",
        "model = model.to(device)\n",
        "\n",
        "cw_tensor = torch.tensor(class_weights, dtype=torch.float32).to(device)\n",
        "criterion = nn.CrossEntropyLoss(weight=cw_tensor)\n",
        "optimizer = optim.Adam(model.classifier[6].parameters(), lr=lr)\n",
        "scaler = torch.cuda.amp.GradScaler()\n",
        "\n",
        "# ─── 9) TRAIN LOOP ───────────────────────────────────────────────────────\n",
        "for epoch in range(1, num_epochs+1):\n",
        "    model.train()\n",
        "    running = 0.0\n",
        "    pbar = tqdm(train_loader, desc=f'Epoch {epoch}/{num_epochs}', leave=False)\n",
        "    for imgs, lbls in pbar:\n",
        "        imgs, lbls = imgs.to(device), lbls.to(device)\n",
        "        optimizer.zero_grad()\n",
        "        with torch.cuda.amp.autocast():\n",
        "            outputs = model(imgs)\n",
        "            loss = criterion(outputs, lbls)\n",
        "        scaler.scale(loss).backward()\n",
        "        scaler.step(optimizer)\n",
        "        scaler.update()\n",
        "        running += loss.item() * lbls.size(0)\n",
        "        pbar.set_postfix(loss=running/((pbar.n+1)*batch_size))\n",
        "    print(f'Epoch {epoch}: Train Loss = {running/len(train_ds):.4f}')\n",
        "\n",
        "# ─── 10) EVALUATION ───────────────────────────────────────────────────────\n",
        "model.eval()\n",
        "correct = total = 0\n",
        "with torch.no_grad():\n",
        "    for imgs, lbls in test_loader:\n",
        "        imgs, lbls = imgs.to(device), lbls.to(device)\n",
        "        preds = model(imgs).argmax(1)\n",
        "        correct += (preds==lbls).sum().item()\n",
        "        total += lbls.size(0)\n",
        "print(f'Test Accuracy: {100*correct/total:.2f}%')\n"
      ],
      "metadata": {
        "colab": {
          "base_uri": "https://localhost:8080/"
        },
        "id": "VrpkXhHMS9aF",
        "outputId": "97040ead-0b2b-4d1d-9648-03c50d014897"
      },
      "id": "VrpkXhHMS9aF",
      "execution_count": null,
      "outputs": [
        {
          "output_type": "stream",
          "name": "stdout",
          "text": [
            "    case_number  train  test  number_of_images\n",
            "0             1      1     0                29\n",
            "1             2      1     0                68\n",
            "2             3      1     0                63\n",
            "3             9      1     0                33\n",
            "4            12      0     1                61\n",
            "5            21      0     0                 0\n",
            "6            22      0     0                 0\n",
            "7            25      0     0                 0\n",
            "8            34      0     0                 0\n",
            "9            38      0     0                 0\n",
            "10           45      0     0                 0\n",
            "11           49      0     0                 0\n",
            "12           53      1     0                 4\n",
            "13           55      1     0                 9\n",
            "14           60      0     1                18\n",
            "15           62      0     0                 0\n",
            "16           70      0     0                 0\n",
            "17           77      0     1                49\n",
            "18           78      1     0                78\n",
            "19           79      0     1               234\n",
            "20           85      1     0                61\n",
            "21           89      1     0               104\n",
            "22           90      0     1                60\n",
            "23           92      0     1                99\n"
          ]
        },
        {
          "output_type": "stream",
          "name": "stderr",
          "text": [
            "/usr/local/lib/python3.11/dist-packages/torch/utils/data/dataloader.py:624: UserWarning: This DataLoader will create 4 worker processes in total. Our suggested max number of worker in current system is 2, which is smaller than what this DataLoader is going to create. Please be aware that excessive worker creation might get DataLoader running slow or even freeze, lower the worker number to avoid potential slowness/freeze if necessary.\n",
            "  warnings.warn(\n",
            "/usr/local/lib/python3.11/dist-packages/torchvision/models/_utils.py:208: UserWarning: The parameter 'pretrained' is deprecated since 0.13 and may be removed in the future, please use 'weights' instead.\n",
            "  warnings.warn(\n",
            "/usr/local/lib/python3.11/dist-packages/torchvision/models/_utils.py:223: UserWarning: Arguments other than a weight enum or `None` for 'weights' are deprecated since 0.13 and may be removed in the future. The current behavior is equivalent to passing `weights=AlexNet_Weights.IMAGENET1K_V1`. You can also use `weights=AlexNet_Weights.DEFAULT` to get the most up-to-date weights.\n",
            "  warnings.warn(msg)\n",
            "<ipython-input-29-451983db1c87>:164: FutureWarning: `torch.cuda.amp.GradScaler(args...)` is deprecated. Please use `torch.amp.GradScaler('cuda', args...)` instead.\n",
            "  scaler = torch.cuda.amp.GradScaler()\n",
            "/usr/local/lib/python3.11/dist-packages/torch/amp/grad_scaler.py:132: UserWarning: torch.cuda.amp.GradScaler is enabled, but CUDA is not available.  Disabling.\n",
            "  warnings.warn(\n",
            "Epoch 1/10:   0%|          | 0/8 [00:00<?, ?it/s]<ipython-input-29-451983db1c87>:174: FutureWarning: `torch.cuda.amp.autocast(args...)` is deprecated. Please use `torch.amp.autocast('cuda', args...)` instead.\n",
            "  with torch.cuda.amp.autocast():\n",
            "/usr/local/lib/python3.11/dist-packages/torch/amp/autocast_mode.py:266: UserWarning: User provided device_type of 'cuda', but CUDA is not available. Disabling\n",
            "  warnings.warn(\n"
          ]
        },
        {
          "output_type": "stream",
          "name": "stdout",
          "text": [
            "Epoch 1: Train Loss = 0.4236\n"
          ]
        },
        {
          "output_type": "stream",
          "name": "stderr",
          "text": []
        },
        {
          "output_type": "stream",
          "name": "stdout",
          "text": [
            "Epoch 2: Train Loss = 0.2231\n"
          ]
        },
        {
          "output_type": "stream",
          "name": "stderr",
          "text": []
        },
        {
          "output_type": "stream",
          "name": "stdout",
          "text": [
            "Epoch 3: Train Loss = 0.1912\n"
          ]
        },
        {
          "output_type": "stream",
          "name": "stderr",
          "text": []
        },
        {
          "output_type": "stream",
          "name": "stdout",
          "text": [
            "Epoch 4: Train Loss = 0.1903\n"
          ]
        },
        {
          "output_type": "stream",
          "name": "stderr",
          "text": []
        },
        {
          "output_type": "stream",
          "name": "stdout",
          "text": [
            "Epoch 5: Train Loss = 0.1662\n"
          ]
        },
        {
          "output_type": "stream",
          "name": "stderr",
          "text": []
        },
        {
          "output_type": "stream",
          "name": "stdout",
          "text": [
            "Epoch 6: Train Loss = 0.1254\n"
          ]
        },
        {
          "output_type": "stream",
          "name": "stderr",
          "text": []
        },
        {
          "output_type": "stream",
          "name": "stdout",
          "text": [
            "Epoch 7: Train Loss = 0.1041\n"
          ]
        },
        {
          "output_type": "stream",
          "name": "stderr",
          "text": []
        },
        {
          "output_type": "stream",
          "name": "stdout",
          "text": [
            "Epoch 8: Train Loss = 0.1180\n"
          ]
        },
        {
          "output_type": "stream",
          "name": "stderr",
          "text": []
        },
        {
          "output_type": "stream",
          "name": "stdout",
          "text": [
            "Epoch 9: Train Loss = 0.1397\n"
          ]
        },
        {
          "output_type": "stream",
          "name": "stderr",
          "text": [
            "                                                                       "
          ]
        },
        {
          "output_type": "stream",
          "name": "stdout",
          "text": [
            "Epoch 10: Train Loss = 0.1041\n"
          ]
        },
        {
          "output_type": "stream",
          "name": "stderr",
          "text": [
            "\r"
          ]
        },
        {
          "output_type": "stream",
          "name": "stdout",
          "text": [
            "Test Accuracy: 90.40%\n"
          ]
        }
      ]
    },
    {
      "cell_type": "markdown",
      "source": [
        "**3) Evaluate Model**"
      ],
      "metadata": {
        "id": "7akEnTfdaJ0F"
      },
      "id": "7akEnTfdaJ0F"
    },
    {
      "cell_type": "code",
      "source": [
        "# ─── 9) PATCH‐LEVEL EVALUATION ───────────────────────────────────────────\n",
        "model.eval()\n",
        "all_preds, all_labels = [], []\n",
        "correct, total = 0, 0\n",
        "\n",
        "with torch.no_grad():\n",
        "    for images, labels in test_loader:\n",
        "        images, labels = (images.to(device, non_blocking=True),\n",
        "                          labels.to(device, non_blocking=True))\n",
        "        outputs = model(images)\n",
        "        preds   = outputs.argmax(dim=1)\n",
        "\n",
        "        all_preds.extend(preds.cpu().numpy())\n",
        "        all_labels.extend(labels.cpu().numpy())\n",
        "        correct += (preds == labels).sum().item()\n",
        "        total   += labels.size(0)\n",
        "\n",
        "accuracy  = 100 * correct / total\n",
        "precision = precision_score(all_labels, all_preds)\n",
        "recall    = recall_score(all_labels, all_preds)\n",
        "f1        = f1_score(all_labels, all_preds)\n",
        "\n",
        "print(f\"Test Patch‐level Accuracy : {accuracy:.2f}%\")\n",
        "print(f\"Precision                : {precision:.4f}\")\n",
        "print(f\"Recall                   : {recall:.4f}\")\n",
        "print(f\"F1 Score                 : {f1:.4f}\")"
      ],
      "metadata": {
        "colab": {
          "base_uri": "https://localhost:8080/"
        },
        "id": "GxYYTCi0FQQD",
        "outputId": "1c68acc3-4249-4aec-d434-bdab37f612c7"
      },
      "id": "GxYYTCi0FQQD",
      "execution_count": null,
      "outputs": [
        {
          "output_type": "stream",
          "name": "stdout",
          "text": [
            "Test Patch‐level Accuracy : 90.40%\n",
            "Precision                : 0.8596\n",
            "Recall                   : 0.8596\n",
            "F1 Score                 : 0.8596\n"
          ]
        }
      ]
    },
    {
      "cell_type": "code",
      "source": [
        "# ─── CONFUSION MATRIX ────────────────────────────────────────────────────\n",
        "cm = confusion_matrix(all_labels, all_preds)\n",
        "labels = ['Benign', 'High-grade']\n",
        "\n",
        "plt.figure(figsize=(6, 5))\n",
        "sns.heatmap(cm, annot=True, fmt=\"d\", cmap=\"Blues\", xticklabels=labels, yticklabels=labels)\n",
        "plt.xlabel(\"Predicted Label\")\n",
        "plt.ylabel(\"True Label\")\n",
        "plt.title(\"Confusion Matrix\")\n",
        "plt.tight_layout()\n",
        "plt.show()"
      ],
      "metadata": {
        "colab": {
          "base_uri": "https://localhost:8080/",
          "height": 507
        },
        "id": "4E3JbFcoRu5k",
        "outputId": "500be01d-1604-4129-de28-56c24fbca694"
      },
      "id": "4E3JbFcoRu5k",
      "execution_count": null,
      "outputs": [
        {
          "output_type": "display_data",
          "data": {
            "text/plain": [
              "<Figure size 600x500 with 2 Axes>"
            ],
            "image/png": "[encoded data removed]"
          },
          "metadata": {}
        }
      ]
    },
    {
      "cell_type": "markdown",
      "source": [
        "**4) Exploring Performance by Case**\n",
        "- Use this code to evaluate how the model is doing at the case level"
      ],
      "metadata": {
        "id": "cE8AvQucVqTX"
      },
      "id": "cE8AvQucVqTX"
    },
    {
      "cell_type": "code",
      "source": [
        "# ─── (1) Update your Dataset ───────────────────────────────────────────────\n",
        "class CaseDataset(Dataset):\n",
        "    def __init__(self, paths, class_map, transform=None):\n",
        "        self.paths     = paths\n",
        "        self.class_map = class_map\n",
        "        self.transform = transform\n",
        "\n",
        "    def __len__(self):\n",
        "        return len(self.paths)\n",
        "\n",
        "    def __getitem__(self, idx):\n",
        "        p = self.paths[idx]\n",
        "        img = Image.open(p).convert('RGB')\n",
        "        if self.transform:\n",
        "            img = self.transform(img)\n",
        "\n",
        "        basename = os.path.basename(p)\n",
        "        case_id  = int(re.search(r\"case_(\\d+)_\", basename, flags=re.IGNORECASE).group(1))\n",
        "        label    = self.class_map[case_id]\n",
        "        return img, label, case_id\n",
        "\n",
        "# Re-instantiate your test dataset & loader:\n",
        "test_ds = CaseDataset(test_paths, class_map, transform=test_transform)\n",
        "test_loader = DataLoader(\n",
        "    test_ds, batch_size=batch_size, shuffle=False,\n",
        "    num_workers=num_workers, pin_memory=True, persistent_workers=True\n",
        ")\n",
        "\n",
        "# ─── (2) Patch-level evaluation collecting case_ids ──────────────────────\n",
        "model.eval()\n",
        "records = []\n",
        "with torch.no_grad():\n",
        "    for images, labels, case_ids in test_loader:\n",
        "        images, labels = images.to(device), labels.to(device)\n",
        "        outputs = model(images)\n",
        "        preds = outputs.argmax(dim=1)\n",
        "\n",
        "        # move back to CPU and iterate\n",
        "        for pred, true, cid in zip(preds.cpu().numpy(),\n",
        "                                   labels.cpu().numpy(),\n",
        "                                   case_ids.cpu().numpy()):\n",
        "            records.append({\n",
        "                'case_number': cid,\n",
        "                'pred':        pred,\n",
        "                'label':       true\n",
        "            })\n",
        "\n",
        "# ─── (3) Build DataFrame & compute per-case metrics ──────────────────────\n",
        "df_eval = pd.DataFrame(records)\n",
        "\n",
        "results = []\n",
        "for case, group in df_eval.groupby('case_number'):\n",
        "    y_true = group['label']\n",
        "    y_pred = group['pred']\n",
        "    results.append({\n",
        "        'case_number': case,\n",
        "        'n_patches':   len(group),\n",
        "        'accuracy':    accuracy_score(y_true, y_pred),\n",
        "        'precision':   precision_score(y_true, y_pred, zero_division=0),\n",
        "        'recall':      recall_score(y_true, y_pred, zero_division=0),\n",
        "        'f1_score':    f1_score(y_true, y_pred, zero_division=0),\n",
        "    })\n",
        "\n",
        "df_results = pd.DataFrame(results).sort_values('case_number').reset_index(drop=True)\n",
        "print(df_results)\n"
      ],
      "metadata": {
        "colab": {
          "base_uri": "https://localhost:8080/"
        },
        "id": "z1fU8H_BVrYD",
        "outputId": "982e511d-35a1-4abf-94d2-20071cbe89b7"
      },
      "id": "z1fU8H_BVrYD",
      "execution_count": null,
      "outputs": [
        {
          "output_type": "stream",
          "name": "stderr",
          "text": [
            "/usr/local/lib/python3.11/dist-packages/torch/utils/data/dataloader.py:624: UserWarning: This DataLoader will create 4 worker processes in total. Our suggested max number of worker in current system is 2, which is smaller than what this DataLoader is going to create. Please be aware that excessive worker creation might get DataLoader running slow or even freeze, lower the worker number to avoid potential slowness/freeze if necessary.\n",
            "  warnings.warn(\n"
          ]
        },
        {
          "output_type": "stream",
          "name": "stdout",
          "text": [
            "   case_number  n_patches  accuracy  precision    recall  f1_score\n",
            "0           12         61  1.000000        1.0  1.000000  1.000000\n",
            "1           60         18  0.000000        0.0  0.000000  0.000000\n",
            "2           77         49  1.000000        0.0  0.000000  0.000000\n",
            "3           79        234  0.927350        0.0  0.000000  0.000000\n",
            "4           90         60  0.866667        0.0  0.000000  0.000000\n",
            "5           92         99  0.929293        1.0  0.929293  0.963351\n"
          ]
        }
      ]
    }
  ],
  "metadata": {
    "kernelspec": {
      "display_name": "Python 3",
      "name": "python3"
    },
    "language_info": {
      "codemirror_mode": {
        "name": "ipython",
        "version": 3
      },
      "file_extension": ".py",
      "mimetype": "text/x-python",
      "name": "python",
      "nbconvert_exporter": "python",
      "pygments_lexer": "ipython3",
      "version": "3.12.7"
    },
    "colab": {
      "provenance": [],
      "gpuType": "T4"
    },
    "accelerator": "GPU"
  },
  "nbformat": 4,
  "nbformat_minor": 5
}