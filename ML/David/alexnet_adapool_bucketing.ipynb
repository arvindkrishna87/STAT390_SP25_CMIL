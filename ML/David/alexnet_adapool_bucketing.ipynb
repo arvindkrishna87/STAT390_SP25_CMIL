{
  "cells": [
    {
      "cell_type": "markdown",
      "id": "8XZVbqKdZXYX",
      "metadata": {
        "id": "8XZVbqKdZXYX"
      },
      "source": [
        "Goal: This script adds an adaptive pooling layer to [this](https://github.com/arvindkrishna87/STAT390_WI2025/blob/a90ac97e593db9953ff84f22a33382476c8faeb6/Presentation%205/Coders/Nathan%20Jung/CNN%20model.ipynb) CNN model made last quarter by Nathan and evaluates how the model performs relative to the model without an adaptive pooling layer.\n",
        "\n",
        "Author: David Gormley\n",
        "\n",
        "Last Modified: 5/13/25\n",
        "\n",
        "Structure\n",
        "\n",
        "1) Import Dependencies and mount drive\n",
        "\n",
        "2) Train Model\n",
        "\n",
        "3) Evaluate Model\n",
        "\n",
        "4) Adjust Threshold"
      ]
    },
    {
      "cell_type": "markdown",
      "id": "qJ_s1AnQGexm",
      "metadata": {
        "id": "qJ_s1AnQGexm"
      },
      "source": [
        "Key Issue\n",
        "- Folder is missing some of the cases that Krish identified as good cases\n",
        "    - Here are the cases Krish identified as good\n",
        "      - train_cases  = [2,1,22,9,34,38,53,55,78,62,85,89,21,3,45,49]\n",
        "      - test_cases   = [77,60,79,70,90,92,25,12]\n",
        "\n",
        "    - Here are the cases that we actually have\n",
        "      - true_train = [1,2,3,9,53,55,78,85,89]\n",
        "      - true_test = [12,60,77,79,90,92]\n",
        "\n"
      ]
    },
    {
      "cell_type": "markdown",
      "id": "FcfjBWuOaDG9",
      "metadata": {
        "id": "FcfjBWuOaDG9"
      },
      "source": [
        "**1) Import Dependencies and mount drive**"
      ]
    },
    {
      "cell_type": "code",
      "execution_count": null,
      "id": "Ltck71bOCMrq",
      "metadata": {
        "id": "Ltck71bOCMrq"
      },
      "outputs": [],
      "source": [
        "# stdlib\n",
        "import os\n",
        "import glob\n",
        "import re\n",
        "import struct\n",
        "from concurrent.futures import ThreadPoolExecutor, as_completed\n",
        "\n",
        "# data & imaging\n",
        "import pandas as pd\n",
        "from PIL import Image\n",
        "from tqdm.auto import tqdm\n",
        "\n",
        "# PyTorch\n",
        "import torch\n",
        "import torch.nn as nn\n",
        "import torch.optim as optim\n",
        "import torch.backends.cudnn as cudnn\n",
        "from torch.utils.data import Dataset, DataLoader\n",
        "\n",
        "# torchvision\n",
        "import torchvision\n",
        "from torchvision import transforms\n",
        "\n",
        "# metrics & plotting\n",
        "from sklearn.metrics import accuracy_score, precision_score, recall_score, f1_score, confusion_matrix\n",
        "import seaborn as sns\n",
        "import matplotlib.pyplot as plt\n",
        "\n",
        "# Colab\n",
        "from google.colab import drive"
      ]
    },
    {
      "cell_type": "code",
      "execution_count": null,
      "id": "2ER8V-OcCPS7",
      "metadata": {
        "colab": {
          "base_uri": "https://localhost:8080/"
        },
        "id": "2ER8V-OcCPS7",
        "outputId": "44d665c5-6437-43ce-884b-67498f33ab1b"
      },
      "outputs": [
        {
          "name": "stdout",
          "output_type": "stream",
          "text": [
            "Mounted at /content/drive\n"
          ]
        }
      ],
      "source": [
        "# ─── 1) MOUNT GOOGLE DRIVE ──────────────────────────────────────────────\n",
        "drive.mount('/content/drive', force_remount=True)\n",
        "\n",
        "# ─── 2) DEVICE & CUDNN ──────────────────────────────────────────────────\n",
        "device = torch.device('cuda' if torch.cuda.is_available() else 'cpu')\n",
        "cudnn.benchmark = True  # auto‐tune for fixed input sizes"
      ]
    },
    {
      "cell_type": "markdown",
      "id": "8_PH8UCdaHRR",
      "metadata": {
        "id": "8_PH8UCdaHRR"
      },
      "source": [
        "**2. Train Model**\n",
        "- We can adjust the following\n",
        "    - Restricting image size: min and max image width used for training and evaluation\n",
        "    - Stain type\n",
        "    - Train and test cases"
      ]
    },
    {
      "cell_type": "code",
      "source": [
        "import os\n",
        "import re\n",
        "import struct\n",
        "from concurrent.futures import ThreadPoolExecutor\n",
        "import pandas as pd\n",
        "import torch\n",
        "from torch import nn, optim\n",
        "from torch.utils.data import Dataset, DataLoader, Sampler\n",
        "from torchvision import transforms, models\n",
        "from torchvision.transforms import functional as VisionF # Renamed to avoid conflict\n",
        "from torchvision.transforms.functional import pad\n",
        "from PIL import Image, UnidentifiedImageError\n",
        "from tqdm import tqdm\n",
        "import numpy as np\n",
        "from sklearn.metrics import (\n",
        "    accuracy_score, precision_score, recall_score, f1_score,\n",
        "    confusion_matrix, ConfusionMatrixDisplay\n",
        ")\n",
        "import matplotlib.pyplot as plt\n",
        "\n",
        "# ─── A) HELPER: RESIZE LARGE IMAGES ──────────────────────────────────────\n",
        "class ResizeIfLarge:\n",
        "    def __init__(self, max_side=400):\n",
        "        self.max_side = max_side\n",
        "    def __call__(self, img):\n",
        "        w, h = img.size\n",
        "        if max(w, h) > self.max_side:\n",
        "            scale = self.max_side / max(w, h)\n",
        "            return VisionF.resize(img, (int(h*scale), int(w*scale)))\n",
        "        return img\n",
        "\n",
        "# ─── B) HELPER: BUCKET BATCH SAMPLER ─────────────────────────────────────\n",
        "class BucketBatchSampler(Sampler):\n",
        "    def __init__(self, data_source_sizes, batch_size, boundaries, shuffle=True):\n",
        "        self.batch_size = batch_size\n",
        "        self.shuffle = shuffle\n",
        "\n",
        "        bucket_indices = {i: [] for i in range(len(boundaries) + 1)}\n",
        "        for idx, size in enumerate(data_source_sizes):\n",
        "            bucket_num = sum(size > b for b in boundaries) # Determine bucket number\n",
        "            bucket_indices[bucket_num].append(idx)\n",
        "\n",
        "        self.batches = []\n",
        "        for bucket_num in sorted(bucket_indices.keys()): # Process buckets in order for reproducibility if shuffle is False\n",
        "            indices_in_bucket = bucket_indices[bucket_num]\n",
        "            if self.shuffle:\n",
        "                np.random.shuffle(indices_in_bucket)\n",
        "\n",
        "            for i in range(0, len(indices_in_bucket), batch_size):\n",
        "                batch = indices_in_bucket[i:i+batch_size]\n",
        "                if len(batch) > 0: # Ensure batch is not empty\n",
        "                    self.batches.append(batch)\n",
        "\n",
        "        if self.shuffle:\n",
        "            np.random.shuffle(self.batches) # Shuffle the order of batches\n",
        "\n",
        "    def __iter__(self):\n",
        "        return iter(self.batches)\n",
        "\n",
        "    def __len__(self):\n",
        "        return len(self.batches)\n",
        "\n",
        "# ─── C) HELPER: MAKE BUCKET BOUNDARIES ───────────────────────────────────\n",
        "def make_boundaries_from_sizes(sizes, n_buckets):\n",
        "    if not sizes:\n",
        "        return []\n",
        "    if n_buckets <= 1:\n",
        "        return []\n",
        "    qs = [100 * i / n_buckets for i in range(1, n_buckets)]\n",
        "    bounds = np.percentile(sizes, qs)\n",
        "    return sorted(list(set(int(b) for b in bounds))) # Ensure unique, sorted boundaries\n",
        "\n",
        "# ─── D) HELPER: GET IMAGE SIZES FOR BUCKETING ────────────────────────────\n",
        "def get_image_post_resize_max_dims(paths_list, path_to_dims_map, max_side_transform_limit):\n",
        "    sizes = []\n",
        "    valid_paths = []\n",
        "    for p in paths_list:\n",
        "        w, h = path_to_dims_map.get(p, (-1, -1))\n",
        "\n",
        "        if w <= 0 or h <= 0:\n",
        "            try:\n",
        "                with Image.open(p) as temp_img: # Use 'with' to ensure file is closed\n",
        "                    w_actual, h_actual = temp_img.size\n",
        "                current_max_dim = max(w_actual, h_actual)\n",
        "            except (UnidentifiedImageError, FileNotFoundError, OSError, Exception) as e:\n",
        "                # print(f\"Warning: Could not determine dimensions for {p}. Error: {e}. Skipping.\")\n",
        "                continue\n",
        "        else:\n",
        "            current_max_dim = max(w, h)\n",
        "\n",
        "        if current_max_dim > max_side_transform_limit:\n",
        "            sizes.append(max_side_transform_limit)\n",
        "        else:\n",
        "            sizes.append(current_max_dim)\n",
        "        valid_paths.append(p)\n",
        "    return sizes, valid_paths\n",
        "\n",
        "# ─── 1) CONFIG ──────────────────────────────────────────────────────────\n",
        "image_folder   = \"/content/drive/MyDrive/'25 Spring/390/CMIL_SP2025_Patches_Apr27\"\n",
        "train_cases    = [92,78,55,60,49,45,38,53,9,22,77,79,70]\n",
        "test_cases     = [34,1,99,62,89,2,12,90,21,3,85,25,98]\n",
        "all_cases      = set(train_cases + test_cases)\n",
        "batch_size     = 32\n",
        "num_workers    = 2\n",
        "lr             = 1e-3\n",
        "num_epochs     = 10\n",
        "min_width, max_width = 50, 10000\n",
        "meta_csv       = '/content/drive/MyDrive/patch_metadata.csv' # Stores results of build_metadata\n",
        "labels_csv     = \"/content/drive/MyDrive/'25 Spring/390/case_grade_match.csv\" # For labels\n",
        "force_rebuild_metadata = False # Set to True to rescan image folder\n",
        "device         = torch.device('cuda' if torch.cuda.is_available() else 'cpu')\n",
        "max_resize_side = 512 # Max side for ResizeIfLarge transform\n",
        "n_buckets      = 10   # Number of buckets for bucketing\n",
        "\n",
        "# ─── 2) LOAD LABELS ──────────────────────────────────────────────────────\n",
        "try:\n",
        "    labels_df = pd.read_csv(labels_csv)\n",
        "    # Original code had: .drop(index=64, errors='ignore').reset_index(drop=True)\n",
        "    # Ensure this is still relevant for your labels_csv\n",
        "    if 64 in labels_df.index: # Safely drop if index 64 exists\n",
        "         labels_df = labels_df.drop(index=64, errors='ignore')\n",
        "    labels_df = labels_df.reset_index(drop=True)\n",
        "\n",
        "    class_map = {int(r.Case): (0 if r.Class==1 else 1) for _,r in labels_df.iterrows()}\n",
        "except FileNotFoundError:\n",
        "    print(f\"Error: Labels CSV not found at {labels_csv}\")\n",
        "    exit()\n",
        "except Exception as e:\n",
        "    print(f\"Error loading labels: {e}\")\n",
        "    exit()\n",
        "\n",
        "# ─── 3) METADATA ─────────────────────────────────────────────────────────\n",
        "case_pat = re.compile(r'case_0*(\\d+)_(?:match|unmatched)_', re.IGNORECASE)\n",
        "\n",
        "def fast_scan(root):\n",
        "    for e in os.scandir(root):\n",
        "        if e.is_file() and e.name.endswith('.png'):\n",
        "            yield e.path\n",
        "        elif e.is_dir():\n",
        "            yield from fast_scan(e.path)\n",
        "\n",
        "def build_metadata():\n",
        "    if os.path.exists(meta_csv) and not force_rebuild_metadata:\n",
        "        try:\n",
        "            df = pd.read_csv(meta_csv)\n",
        "            if {'path','case_number','stain','width','height'}.issubset(df.columns):\n",
        "                print(f\"Loaded metadata from {meta_csv}\")\n",
        "                return df\n",
        "        except pd.errors.EmptyDataError:\n",
        "            print(f\"Warning: Metadata file {meta_csv} is empty. Rebuilding.\")\n",
        "        except Exception as e:\n",
        "            print(f\"Warning: Could not properly read {meta_csv}. Error: {e}. Rebuilding.\")\n",
        "\n",
        "\n",
        "    print(f\"Building metadata by scanning {image_folder}...\")\n",
        "    files = list(fast_scan(image_folder))\n",
        "    if not files:\n",
        "        print(f\"Error: No PNG files found in {image_folder}. Please check the path.\")\n",
        "        exit()\n",
        "\n",
        "    def proc(p):\n",
        "        m = case_pat.search(os.path.basename(p))\n",
        "        if not m: return None\n",
        "        cid = int(m.group(1))\n",
        "        # Only process cases that are in train_cases or test_cases and have labels\n",
        "        if cid not in all_cases or cid not in class_map: return None\n",
        "\n",
        "        stain = 'h&e' if 'h&e' in p.lower() else None # Assuming 'h&e' in path indicates stain\n",
        "        if not stain: return None # Filter out non-h&e stains if necessary\n",
        "\n",
        "        w,h = -1,-1\n",
        "        try:\n",
        "            # Attempt to read PNG dimensions quickly from header\n",
        "            with open(p,'rb') as f:\n",
        "                hdr = f.read(24)\n",
        "            if len(hdr)>=24 and hdr.startswith(b'\\x89PNG\\r\\n\\x1a\\n') and hdr[12:16] == b'IHDR':\n",
        "                w = struct.unpack('>I',hdr[16:20])[0]\n",
        "                h = struct.unpack('>I',hdr[20:24])[0]\n",
        "            else: # Fallback if not a standard PNG or header read fails\n",
        "                try:\n",
        "                    with Image.open(p) as img_pil:\n",
        "                        w, h = img_pil.size\n",
        "                except (UnidentifiedImageError, FileNotFoundError, OSError):\n",
        "                    pass # w,h remain -1\n",
        "        except Exception:\n",
        "            pass # w,h remain -1\n",
        "        return {'path':p,'case_number':cid,'stain':stain,'width':w,'height':h}\n",
        "\n",
        "    with ThreadPoolExecutor(max_workers=num_workers if num_workers > 0 else os.cpu_count()) as exe: # Use num_workers for executor\n",
        "        rows = list(tqdm(exe.map(proc, files), total=len(files), desc=\"Scanning image files\"))\n",
        "\n",
        "    df = pd.DataFrame([r for r in rows if r])\n",
        "    if df.empty:\n",
        "        print(\"Error: No valid image metadata could be built. Check paths, case numbers, and file types.\")\n",
        "        exit()\n",
        "\n",
        "    df.to_csv(meta_csv, index=False)\n",
        "    print(f\"Metadata built and saved to {meta_csv}\")\n",
        "    return df\n",
        "\n",
        "df_meta = build_metadata()\n",
        "\n",
        "# Filter metadata:\n",
        "# 1. Only cases in train_cases or test_cases (already partly handled in proc)\n",
        "df_meta = df_meta[df_meta.case_number.isin(all_cases)]\n",
        "# 2. Valid dimensions (width > min_width implicitly handles width > 0 if min_width > 0)\n",
        "#    Height also needs to be positive.\n",
        "df_meta = df_meta[\n",
        "    ((df_meta.width > min_width) & (df_meta.width < max_width) & (df_meta.height > 0)) |\n",
        "    ((df_meta.width == -1) & (df_meta.height == -1)) # Allow initially unknown, will try to load\n",
        "]\n",
        "df_meta = df_meta[df_meta.stain == 'h&e'] # Ensure H&E stain\n",
        "\n",
        "df_train_meta = df_meta[df_meta.case_number.isin(train_cases)].copy() # Use .copy() to avoid SettingWithCopyWarning\n",
        "df_test_meta  = df_meta[df_meta.case_number.isin(test_cases)].copy()\n",
        "\n",
        "initial_train_paths = df_train_meta.path.tolist()\n",
        "initial_test_paths  = df_test_meta.path.tolist()\n",
        "\n",
        "# Precompute map from path to original w,h for efficiency\n",
        "path_to_dims_map = {row['path']: (row['width'], row['height'])\n",
        "                    for _, row in df_meta.iterrows()}\n",
        "\n",
        "# Get image dimensions for bucketing (after considering ResizeIfLarge)\n",
        "# This also filters out paths that are unreadable or have issues determining dimensions\n",
        "train_max_dims, train_paths = get_image_post_resize_max_dims(initial_train_paths, path_to_dims_map, max_resize_side)\n",
        "test_max_dims, test_paths = get_image_post_resize_max_dims(initial_test_paths, path_to_dims_map, max_resize_side)\n",
        "\n",
        "if not train_paths:\n",
        "    print(\"Error: No valid training images found after dimension checking. Exiting.\")\n",
        "    exit()\n",
        "if not test_paths:\n",
        "    print(\"Warning: No valid test images found after dimension checking.\")\n",
        "    # Depending on requirements, you might exit or just proceed without testing.\n",
        "    # For now, we'll let it potentially create an empty test loader.\n",
        "\n",
        "# Create bucket boundaries using training data sizes\n",
        "train_boundaries = make_boundaries_from_sizes(train_max_dims, n_buckets)\n",
        "\n",
        "# Create samplers\n",
        "train_batch_sampler = BucketBatchSampler(train_max_dims, batch_size, train_boundaries, shuffle=True)\n",
        "if test_max_dims: # Only create test sampler if there are test images\n",
        "    test_batch_sampler = BucketBatchSampler(test_max_dims, batch_size, train_boundaries, shuffle=False) # Use train boundaries, no shuffle for test\n",
        "else:\n",
        "    test_batch_sampler = None\n",
        "\n",
        "# ─── 4) TRANSFORMS ────────────────────────────────────────────────────────\n",
        "train_transform = transforms.Compose([\n",
        "    ResizeIfLarge(max_resize_side),\n",
        "    transforms.RandomHorizontalFlip(0.5),\n",
        "    transforms.RandomRotation(15),\n",
        "    transforms.ColorJitter(brightness=0.1, contrast=0.1, saturation=0.1, hue=0.05),\n",
        "    transforms.ToTensor(),\n",
        "    transforms.Normalize([0.485,0.456,0.406],[0.229,0.224,0.225]),\n",
        "])\n",
        "test_transform = transforms.Compose([\n",
        "    ResizeIfLarge(max_resize_side),\n",
        "    transforms.ToTensor(),\n",
        "    transforms.Normalize([0.485,0.456,0.406],[0.229,0.224,0.225]),\n",
        "])\n",
        "\n",
        "# ─── 5) DATASET & PAD-COLLATE ────────────────────────────────────────────\n",
        "class CaseDataset(Dataset):\n",
        "    def __init__(self, paths, cmap, transform):\n",
        "        self.paths = paths # Already filtered valid paths\n",
        "        self.cmap = cmap\n",
        "        self.transform = transform\n",
        "    def __len__(self):\n",
        "        return len(self.paths)\n",
        "    def __getitem__(self, i): # i is an index from BucketBatchSampler\n",
        "        p = self.paths[i]\n",
        "        try:\n",
        "            img = Image.open(p).convert('RGB')\n",
        "        except (UnidentifiedImageError, FileNotFoundError, OSError, Exception) as e:\n",
        "            # This should ideally not happen often if paths are pre-filtered by get_image_post_resize_max_dims\n",
        "            # print(f\"Error opening image {p} in dataset: {e}. Returning None.\")\n",
        "            return None\n",
        "\n",
        "        img = self.transform(img)\n",
        "\n",
        "        match = case_pat.search(os.path.basename(p))\n",
        "        if not match: # Should not happen if paths are from metadata\n",
        "            return None\n",
        "        cid = int(match.group(1))\n",
        "\n",
        "        if cid not in self.cmap: # Case ID not in label map\n",
        "            # print(f\"Warning: Case ID {cid} for path {p} not found in class_map. Skipping.\")\n",
        "            return None\n",
        "        lbl = self.cmap[cid]\n",
        "\n",
        "        return img, lbl, cid\n",
        "\n",
        "def collate_fn(batch):\n",
        "    batch = [b for b in batch if b is not None] # Filter out None items from dataset __getitem__\n",
        "    if not batch:\n",
        "        return None, None, None # Return None if batch is empty after filtering\n",
        "\n",
        "    imgs, lbls, cids = zip(*batch)\n",
        "\n",
        "    H = max(img.shape[1] for img in imgs)\n",
        "    W = max(img.shape[2] for img in imgs)\n",
        "\n",
        "    padded_imgs = []\n",
        "    for img in imgs:\n",
        "        padding = (0, 0, W - img.shape[2], H - img.shape[1]) # left, top, right, bottom\n",
        "        padded_imgs.append(pad(img, padding))\n",
        "\n",
        "    return torch.stack(padded_imgs), torch.tensor(lbls, dtype=torch.long), torch.tensor(cids)\n",
        "\n",
        "\n",
        "train_ds = CaseDataset(train_paths, class_map, train_transform)\n",
        "train_loader = DataLoader(train_ds,\n",
        "                          batch_sampler=train_batch_sampler, # Use batch_sampler\n",
        "                          num_workers=num_workers,\n",
        "                          pin_memory=True if device.type == 'cuda' else False, # pin_memory if cuda\n",
        "                          collate_fn=collate_fn)\n",
        "\n",
        "if test_paths and test_batch_sampler:\n",
        "    test_ds = CaseDataset(test_paths, class_map, test_transform)\n",
        "    test_loader = DataLoader(test_ds,\n",
        "                             batch_sampler=test_batch_sampler, # Use batch_sampler\n",
        "                             num_workers=num_workers,\n",
        "                             pin_memory=True if device.type == 'cuda' else False,\n",
        "                             collate_fn=collate_fn)\n",
        "else:\n",
        "    test_loader = None\n",
        "    print(\"Test loader not created as there are no valid test images or sampler.\")\n",
        "\n",
        "# ─── 6) MODEL SETUP ─────────────────────────────────────────────────────\n",
        "model = models.alexnet(weights=models.AlexNet_Weights.DEFAULT) # Use updated weights API\n",
        "for p in model.parameters(): p.requires_grad=False\n",
        "\n",
        "# Modify features to ensure output size compatibility with classifier\n",
        "# AlexNet default output before classifier is (batch_size, 256, 6, 6)\n",
        "# Adding AdaptiveAvgPool2d((6,6)) is redundant if the feature output is already 6x6.\n",
        "# Let's confirm AlexNet's feature output size. It is indeed 256x6x6.\n",
        "# So, the original model.features is fine, just need to ensure the classifier input matches.\n",
        "# model.features = nn.Sequential(*list(model.features), nn.AdaptiveAvgPool2d((6,6))) # This is fine\n",
        "in_ftrs = 256*6*6 # Correct for AlexNet\n",
        "\n",
        "model.classifier = nn.Sequential(\n",
        "    nn.Dropout(p=0.5), # Standard dropout rates for AlexNet\n",
        "    nn.Linear(in_ftrs, 4096), nn.ReLU(inplace=True),\n",
        "    nn.Dropout(p=0.5),\n",
        "    nn.Linear(4096, 4096), nn.ReLU(inplace=True),\n",
        "    nn.Linear(4096, len(labels_df['Class'].unique())) # Output layer size based on number of unique classes in CSV\n",
        ")\n",
        "model.to(device)\n",
        "opt = optim.Adam(model.classifier.parameters(), lr=lr) # Only train classifier\n",
        "crit = nn.CrossEntropyLoss()\n",
        "scaler = torch.cuda.amp.GradScaler(enabled=(device.type == 'cuda')) # Enable scaler only for CUDA\n",
        "if device.type == 'cuda':\n",
        "    torch.backends.cudnn.benchmark = True\n",
        "\n",
        "# ─── 7) TRAIN ────────────────────────────────────────────────────────────\n",
        "print(f\"Using device: {device}\")\n",
        "print(f\"Number of training images: {len(train_paths)}\")\n",
        "if test_paths:\n",
        "    print(f\"Number of testing images: {len(test_paths)}\")\n",
        "else:\n",
        "    print(\"No testing images.\")\n",
        "\n",
        "for epoch in range(1, num_epochs+1):\n",
        "    model.train()\n",
        "    total_loss = 0; total_n = 0\n",
        "    pbar = tqdm(train_loader, desc=f\"Epoch {epoch}/{num_epochs}\", leave=True) # leave=True\n",
        "    for batch_data in pbar:\n",
        "        if batch_data[0] is None: # Skip if collate_fn returned None due to empty batch\n",
        "            continue\n",
        "        imgs, lbls, _ = batch_data\n",
        "        imgs, lbls = imgs.to(device), lbls.to(device)\n",
        "\n",
        "        opt.zero_grad()\n",
        "        with torch.cuda.amp.autocast(enabled=(device.type == 'cuda')): # Enable autocast only for CUDA\n",
        "            output = model(imgs)\n",
        "            loss = crit(output, lbls)\n",
        "\n",
        "        if device.type == 'cuda':\n",
        "            scaler.scale(loss).backward()\n",
        "            scaler.step(opt)\n",
        "            scaler.update()\n",
        "        else: # For CPU\n",
        "            loss.backward()\n",
        "            opt.step()\n",
        "\n",
        "        total_loss += loss.item()*imgs.size(0)\n",
        "        total_n += imgs.size(0)\n",
        "        if total_n > 0:\n",
        "             pbar.set_postfix(loss=f\"{total_loss/total_n:.4f}\")\n",
        "        else:\n",
        "             pbar.set_postfix(loss=\"N/A\")\n",
        "\n",
        "\n",
        "    if total_n > 0:\n",
        "        print(f\"Epoch {epoch} Avg Loss: {total_loss/total_n:.4f}\")\n",
        "    else:\n",
        "        print(f\"Epoch {epoch} - No data processed.\")\n",
        "\n",
        "\n",
        "# ─── 8) EVAL + THRESHOLD SWEEP ───────────────────────────────────────────\n",
        "if test_loader:\n",
        "    model.eval()\n",
        "    probs_list, labels_list = [], []\n",
        "    with torch.no_grad():\n",
        "        for batch_data in tqdm(test_loader, desc=\"Evaluating\", leave=True):\n",
        "            if batch_data[0] is None: # Skip if collate_fn returned None\n",
        "                continue\n",
        "            imgs, lbls, _ = batch_data\n",
        "            imgs = imgs.to(device)\n",
        "\n",
        "            with torch.cuda.amp.autocast(enabled=(device.type == 'cuda')):\n",
        "                logits = model(imgs)\n",
        "\n",
        "            # Assuming binary classification, probs for the positive class (label 1)\n",
        "            # The class_map is {Case: (0 if Class==1 else 1)}. So Class 1 -> label 0, Other Class -> label 1.\n",
        "            # Softmax output will be [prob_for_label_0, prob_for_label_1]\n",
        "            # We want probability of label 1.\n",
        "            probs = torch.softmax(logits,dim=1)[:,1]\n",
        "            probs_list.append(probs.cpu())\n",
        "            labels_list.extend(lbls.cpu().tolist()) # Move labels to CPU before extending\n",
        "\n",
        "    if not probs_list or not labels_list:\n",
        "        print(\"No evaluation data processed or available.\")\n",
        "    else:\n",
        "        probs = torch.cat(probs_list)\n",
        "        labels = np.array(labels_list, dtype=int)\n",
        "\n",
        "        # find threshold maximizing accuracy\n",
        "        thresholds = torch.linspace(0,1,101) # 201 points for thresholds 0.000, 0.005, ..., 1.000\n",
        "        best_acc, best_t_acc = 0, 0\n",
        "        best_f1, best_t_f1 = 0, 0\n",
        "\n",
        "        for t_val in thresholds:\n",
        "            t = t_val.item()\n",
        "            preds = (probs > t).int().numpy()\n",
        "            acc = accuracy_score(labels, preds)\n",
        "            f1 = f1_score(labels, preds, zero_division=0) # Handle zero division for F1\n",
        "\n",
        "            if acc > best_acc:\n",
        "                best_acc, best_t_acc = acc, t\n",
        "            if f1 > best_f1:\n",
        "                best_f1, best_t_f1 = f1, t\n",
        "\n",
        "        print(f\"Best threshold for Accuracy: {best_t_acc:.3f} (Accuracy = {best_acc:.4f})\")\n",
        "        print(f\"Best threshold for F1-Score: {best_t_f1:.3f} (F1-Score = {best_f1:.4f})\")\n",
        "\n",
        "        # Use F1-optimized threshold for final metrics as it's often better for imbalanced classes\n",
        "        final_preds = (probs > best_t_f1).int().numpy()\n",
        "        print(f\"\\nMetrics using F1-optimized threshold (t={best_t_f1:.3f}):\")\n",
        "        print(f\"Accuracy:  {accuracy_score(labels, final_preds):.4f}\")\n",
        "        print(f\"Precision: {precision_score(labels, final_preds, zero_division=0):.4f}\")\n",
        "        print(f\"Recall:    {recall_score(labels, final_preds, zero_division=0):.4f}\")\n",
        "        print(f\"F1 Score:  {f1_score(labels, final_preds, zero_division=0):.4f}\")\n",
        "\n",
        "        cm = confusion_matrix(labels, final_preds)\n",
        "        disp = ConfusionMatrixDisplay(cm, display_labels=[str(i) for i in range(len(labels_df['Class'].unique()))]) # Dynamic display labels\n",
        "        disp.plot(cmap='Blues', values_format='d')\n",
        "        plt.title(f\"Confusion Matrix @ t={best_t_f1:.3f}\")\n",
        "        # Save the plot instead of showing if running in a non-interactive environment\n",
        "        plt.savefig(\"confusion_matrix.png\")\n",
        "        print(\"Confusion matrix saved to confusion_matrix.png\")\n",
        "        # plt.show() # plt.show() might not work in all environments like Colab background tasks\n",
        "else:\n",
        "    print(\"Skipping evaluation as no test data is available.\")\n",
        "\n",
        "print(\"Script finished.\")"
      ],
      "metadata": {
        "colab": {
          "base_uri": "https://localhost:8080/",
          "height": 1000
        },
        "id": "JE8purJhzzEO",
        "outputId": "2524e407-dcb4-4bd4-95ea-196f7d8931f8"
      },
      "id": "JE8purJhzzEO",
      "execution_count": null,
      "outputs": [
        {
          "output_type": "stream",
          "name": "stdout",
          "text": [
            "Loaded metadata from /content/drive/MyDrive/patch_metadata.csv\n"
          ]
        },
        {
          "output_type": "stream",
          "name": "stderr",
          "text": [
            "<ipython-input-28-9ac20a93a717>:351: FutureWarning: `torch.cuda.amp.GradScaler(args...)` is deprecated. Please use `torch.amp.GradScaler('cuda', args...)` instead.\n",
            "  scaler = torch.cuda.amp.GradScaler(enabled=(device.type == 'cuda')) # Enable scaler only for CUDA\n"
          ]
        },
        {
          "output_type": "stream",
          "name": "stdout",
          "text": [
            "Using device: cpu\n",
            "Number of training images: 804\n",
            "Number of testing images: 633\n"
          ]
        },
        {
          "output_type": "stream",
          "name": "stderr",
          "text": [
            "\rEpoch 1/10:   0%|          | 0/30 [00:00<?, ?it/s]<ipython-input-28-9ac20a93a717>:374: FutureWarning: `torch.cuda.amp.autocast(args...)` is deprecated. Please use `torch.amp.autocast('cuda', args...)` instead.\n",
            "  with torch.cuda.amp.autocast(enabled=(device.type == 'cuda')): # Enable autocast only for CUDA\n",
            "Epoch 1/10: 100%|██████████| 30/30 [01:15<00:00,  2.51s/it, loss=3.0298]\n"
          ]
        },
        {
          "output_type": "stream",
          "name": "stdout",
          "text": [
            "Epoch 1 Avg Loss: 3.0298\n"
          ]
        },
        {
          "output_type": "stream",
          "name": "stderr",
          "text": [
            "Epoch 2/10: 100%|██████████| 30/30 [01:08<00:00,  2.28s/it, loss=0.5348]\n"
          ]
        },
        {
          "output_type": "stream",
          "name": "stdout",
          "text": [
            "Epoch 2 Avg Loss: 0.5348\n"
          ]
        },
        {
          "output_type": "stream",
          "name": "stderr",
          "text": [
            "Epoch 3/10: 100%|██████████| 30/30 [01:10<00:00,  2.36s/it, loss=0.3583]\n"
          ]
        },
        {
          "output_type": "stream",
          "name": "stdout",
          "text": [
            "Epoch 3 Avg Loss: 0.3583\n"
          ]
        },
        {
          "output_type": "stream",
          "name": "stderr",
          "text": [
            "Epoch 4/10: 100%|██████████| 30/30 [01:09<00:00,  2.33s/it, loss=0.2498]\n"
          ]
        },
        {
          "output_type": "stream",
          "name": "stdout",
          "text": [
            "Epoch 4 Avg Loss: 0.2498\n"
          ]
        },
        {
          "output_type": "stream",
          "name": "stderr",
          "text": [
            "Epoch 5/10: 100%|██████████| 30/30 [01:10<00:00,  2.35s/it, loss=0.2497]\n"
          ]
        },
        {
          "output_type": "stream",
          "name": "stdout",
          "text": [
            "Epoch 5 Avg Loss: 0.2497\n"
          ]
        },
        {
          "output_type": "stream",
          "name": "stderr",
          "text": [
            "Epoch 6/10: 100%|██████████| 30/30 [01:08<00:00,  2.29s/it, loss=0.2231]\n"
          ]
        },
        {
          "output_type": "stream",
          "name": "stdout",
          "text": [
            "Epoch 6 Avg Loss: 0.2231\n"
          ]
        },
        {
          "output_type": "stream",
          "name": "stderr",
          "text": [
            "Epoch 7/10: 100%|██████████| 30/30 [01:09<00:00,  2.31s/it, loss=0.1849]\n"
          ]
        },
        {
          "output_type": "stream",
          "name": "stdout",
          "text": [
            "Epoch 7 Avg Loss: 0.1849\n"
          ]
        },
        {
          "output_type": "stream",
          "name": "stderr",
          "text": [
            "Epoch 8/10: 100%|██████████| 30/30 [01:10<00:00,  2.34s/it, loss=0.1636]\n"
          ]
        },
        {
          "output_type": "stream",
          "name": "stdout",
          "text": [
            "Epoch 8 Avg Loss: 0.1636\n"
          ]
        },
        {
          "output_type": "stream",
          "name": "stderr",
          "text": [
            "Epoch 9/10: 100%|██████████| 30/30 [01:15<00:00,  2.52s/it, loss=0.2283]\n"
          ]
        },
        {
          "output_type": "stream",
          "name": "stdout",
          "text": [
            "Epoch 9 Avg Loss: 0.2283\n"
          ]
        },
        {
          "output_type": "stream",
          "name": "stderr",
          "text": [
            "Epoch 10/10: 100%|██████████| 30/30 [01:17<00:00,  2.58s/it, loss=0.1455]\n"
          ]
        },
        {
          "output_type": "stream",
          "name": "stdout",
          "text": [
            "Epoch 10 Avg Loss: 0.1455\n"
          ]
        },
        {
          "output_type": "stream",
          "name": "stderr",
          "text": [
            "\rEvaluating:   0%|          | 0/25 [00:00<?, ?it/s]<ipython-input-28-9ac20a93a717>:411: FutureWarning: `torch.cuda.amp.autocast(args...)` is deprecated. Please use `torch.amp.autocast('cuda', args...)` instead.\n",
            "  with torch.cuda.amp.autocast(enabled=(device.type == 'cuda')):\n",
            "Evaluating: 100%|██████████| 25/25 [00:38<00:00,  1.55s/it]\n"
          ]
        },
        {
          "output_type": "stream",
          "name": "stdout",
          "text": [
            "Best threshold for Accuracy: 0.380 (Accuracy = 0.8973)\n",
            "Best threshold for F1-Score: 0.380 (F1-Score = 0.9017)\n",
            "\n",
            "Metrics using F1-optimized threshold (t=0.380):\n",
            "Accuracy:  0.8973\n",
            "Precision: 0.8869\n",
            "Recall:    0.9169\n",
            "F1 Score:  0.9017\n"
          ]
        },
        {
          "output_type": "error",
          "ename": "ValueError",
          "evalue": "The number of FixedLocator locations (2), usually from a call to set_ticks, does not match the number of labels (4).",
          "traceback": [
            "\u001b[0;31m---------------------------------------------------------------------------\u001b[0m",
            "\u001b[0;31mValueError\u001b[0m                                Traceback (most recent call last)",
            "\u001b[0;32m<ipython-input-28-9ac20a93a717>\u001b[0m in \u001b[0;36m<cell line: 0>\u001b[0;34m()\u001b[0m\n\u001b[1;32m    455\u001b[0m         \u001b[0mcm\u001b[0m \u001b[0;34m=\u001b[0m \u001b[0mconfusion_matrix\u001b[0m\u001b[0;34m(\u001b[0m\u001b[0mlabels\u001b[0m\u001b[0;34m,\u001b[0m \u001b[0mfinal_preds\u001b[0m\u001b[0;34m)\u001b[0m\u001b[0;34m\u001b[0m\u001b[0;34m\u001b[0m\u001b[0m\n\u001b[1;32m    456\u001b[0m         \u001b[0mdisp\u001b[0m \u001b[0;34m=\u001b[0m \u001b[0mConfusionMatrixDisplay\u001b[0m\u001b[0;34m(\u001b[0m\u001b[0mcm\u001b[0m\u001b[0;34m,\u001b[0m \u001b[0mdisplay_labels\u001b[0m\u001b[0;34m=\u001b[0m\u001b[0;34m[\u001b[0m\u001b[0mstr\u001b[0m\u001b[0;34m(\u001b[0m\u001b[0mi\u001b[0m\u001b[0;34m)\u001b[0m \u001b[0;32mfor\u001b[0m \u001b[0mi\u001b[0m \u001b[0;32min\u001b[0m \u001b[0mrange\u001b[0m\u001b[0;34m(\u001b[0m\u001b[0mlen\u001b[0m\u001b[0;34m(\u001b[0m\u001b[0mlabels_df\u001b[0m\u001b[0;34m[\u001b[0m\u001b[0;34m'Class'\u001b[0m\u001b[0;34m]\u001b[0m\u001b[0;34m.\u001b[0m\u001b[0munique\u001b[0m\u001b[0;34m(\u001b[0m\u001b[0;34m)\u001b[0m\u001b[0;34m)\u001b[0m\u001b[0;34m)\u001b[0m\u001b[0;34m]\u001b[0m\u001b[0;34m)\u001b[0m \u001b[0;31m# Dynamic display labels\u001b[0m\u001b[0;34m\u001b[0m\u001b[0;34m\u001b[0m\u001b[0m\n\u001b[0;32m--> 457\u001b[0;31m         \u001b[0mdisp\u001b[0m\u001b[0;34m.\u001b[0m\u001b[0mplot\u001b[0m\u001b[0;34m(\u001b[0m\u001b[0mcmap\u001b[0m\u001b[0;34m=\u001b[0m\u001b[0;34m'Blues'\u001b[0m\u001b[0;34m,\u001b[0m \u001b[0mvalues_format\u001b[0m\u001b[0;34m=\u001b[0m\u001b[0;34m'd'\u001b[0m\u001b[0;34m)\u001b[0m\u001b[0;34m\u001b[0m\u001b[0;34m\u001b[0m\u001b[0m\n\u001b[0m\u001b[1;32m    458\u001b[0m         \u001b[0mplt\u001b[0m\u001b[0;34m.\u001b[0m\u001b[0mtitle\u001b[0m\u001b[0;34m(\u001b[0m\u001b[0;34mf\"Confusion Matrix @ t={best_t_f1:.3f}\"\u001b[0m\u001b[0;34m)\u001b[0m\u001b[0;34m\u001b[0m\u001b[0;34m\u001b[0m\u001b[0m\n\u001b[1;32m    459\u001b[0m         \u001b[0;31m# Save the plot instead of showing if running in a non-interactive environment\u001b[0m\u001b[0;34m\u001b[0m\u001b[0;34m\u001b[0m\u001b[0m\n",
            "\u001b[0;32m/usr/local/lib/python3.11/dist-packages/sklearn/metrics/_plot/confusion_matrix.py\u001b[0m in \u001b[0;36mplot\u001b[0;34m(self, include_values, cmap, xticks_rotation, values_format, ax, colorbar, im_kw, text_kw)\u001b[0m\n\u001b[1;32m    183\u001b[0m         \u001b[0;32mif\u001b[0m \u001b[0mcolorbar\u001b[0m\u001b[0;34m:\u001b[0m\u001b[0;34m\u001b[0m\u001b[0;34m\u001b[0m\u001b[0m\n\u001b[1;32m    184\u001b[0m             \u001b[0mfig\u001b[0m\u001b[0;34m.\u001b[0m\u001b[0mcolorbar\u001b[0m\u001b[0;34m(\u001b[0m\u001b[0mself\u001b[0m\u001b[0;34m.\u001b[0m\u001b[0mim_\u001b[0m\u001b[0;34m,\u001b[0m \u001b[0max\u001b[0m\u001b[0;34m=\u001b[0m\u001b[0max\u001b[0m\u001b[0;34m)\u001b[0m\u001b[0;34m\u001b[0m\u001b[0;34m\u001b[0m\u001b[0m\n\u001b[0;32m--> 185\u001b[0;31m         ax.set(\n\u001b[0m\u001b[1;32m    186\u001b[0m             \u001b[0mxticks\u001b[0m\u001b[0;34m=\u001b[0m\u001b[0mnp\u001b[0m\u001b[0;34m.\u001b[0m\u001b[0marange\u001b[0m\u001b[0;34m(\u001b[0m\u001b[0mn_classes\u001b[0m\u001b[0;34m)\u001b[0m\u001b[0;34m,\u001b[0m\u001b[0;34m\u001b[0m\u001b[0;34m\u001b[0m\u001b[0m\n\u001b[1;32m    187\u001b[0m             \u001b[0myticks\u001b[0m\u001b[0;34m=\u001b[0m\u001b[0mnp\u001b[0m\u001b[0;34m.\u001b[0m\u001b[0marange\u001b[0m\u001b[0;34m(\u001b[0m\u001b[0mn_classes\u001b[0m\u001b[0;34m)\u001b[0m\u001b[0;34m,\u001b[0m\u001b[0;34m\u001b[0m\u001b[0;34m\u001b[0m\u001b[0m\n",
            "\u001b[0;32m/usr/local/lib/python3.11/dist-packages/matplotlib/artist.py\u001b[0m in \u001b[0;36m<lambda>\u001b[0;34m(self, **kwargs)\u001b[0m\n\u001b[1;32m    144\u001b[0m             \u001b[0;32mreturn\u001b[0m\u001b[0;34m\u001b[0m\u001b[0;34m\u001b[0m\u001b[0m\n\u001b[1;32m    145\u001b[0m \u001b[0;34m\u001b[0m\u001b[0m\n\u001b[0;32m--> 146\u001b[0;31m         \u001b[0mcls\u001b[0m\u001b[0;34m.\u001b[0m\u001b[0mset\u001b[0m \u001b[0;34m=\u001b[0m \u001b[0;32mlambda\u001b[0m \u001b[0mself\u001b[0m\u001b[0;34m,\u001b[0m \u001b[0;34m**\u001b[0m\u001b[0mkwargs\u001b[0m\u001b[0;34m:\u001b[0m \u001b[0mArtist\u001b[0m\u001b[0;34m.\u001b[0m\u001b[0mset\u001b[0m\u001b[0;34m(\u001b[0m\u001b[0mself\u001b[0m\u001b[0;34m,\u001b[0m \u001b[0;34m**\u001b[0m\u001b[0mkwargs\u001b[0m\u001b[0;34m)\u001b[0m\u001b[0;34m\u001b[0m\u001b[0;34m\u001b[0m\u001b[0m\n\u001b[0m\u001b[1;32m    147\u001b[0m         \u001b[0mcls\u001b[0m\u001b[0;34m.\u001b[0m\u001b[0mset\u001b[0m\u001b[0;34m.\u001b[0m\u001b[0m__name__\u001b[0m \u001b[0;34m=\u001b[0m \u001b[0;34m\"set\"\u001b[0m\u001b[0;34m\u001b[0m\u001b[0;34m\u001b[0m\u001b[0m\n\u001b[1;32m    148\u001b[0m         \u001b[0mcls\u001b[0m\u001b[0;34m.\u001b[0m\u001b[0mset\u001b[0m\u001b[0;34m.\u001b[0m\u001b[0m__qualname__\u001b[0m \u001b[0;34m=\u001b[0m \u001b[0;34mf\"{cls.__qualname__}.set\"\u001b[0m\u001b[0;34m\u001b[0m\u001b[0;34m\u001b[0m\u001b[0m\n",
            "\u001b[0;32m/usr/local/lib/python3.11/dist-packages/matplotlib/artist.py\u001b[0m in \u001b[0;36mset\u001b[0;34m(self, **kwargs)\u001b[0m\n\u001b[1;32m   1239\u001b[0m         \u001b[0;31m# Artist._update_set_signature_and_docstring() at the end of the\u001b[0m\u001b[0;34m\u001b[0m\u001b[0;34m\u001b[0m\u001b[0m\n\u001b[1;32m   1240\u001b[0m         \u001b[0;31m# module.\u001b[0m\u001b[0;34m\u001b[0m\u001b[0;34m\u001b[0m\u001b[0m\n\u001b[0;32m-> 1241\u001b[0;31m         \u001b[0;32mreturn\u001b[0m \u001b[0mself\u001b[0m\u001b[0;34m.\u001b[0m\u001b[0m_internal_update\u001b[0m\u001b[0;34m(\u001b[0m\u001b[0mcbook\u001b[0m\u001b[0;34m.\u001b[0m\u001b[0mnormalize_kwargs\u001b[0m\u001b[0;34m(\u001b[0m\u001b[0mkwargs\u001b[0m\u001b[0;34m,\u001b[0m \u001b[0mself\u001b[0m\u001b[0;34m)\u001b[0m\u001b[0;34m)\u001b[0m\u001b[0;34m\u001b[0m\u001b[0;34m\u001b[0m\u001b[0m\n\u001b[0m\u001b[1;32m   1242\u001b[0m \u001b[0;34m\u001b[0m\u001b[0m\n\u001b[1;32m   1243\u001b[0m     \u001b[0;34m@\u001b[0m\u001b[0mcontextlib\u001b[0m\u001b[0;34m.\u001b[0m\u001b[0mcontextmanager\u001b[0m\u001b[0;34m\u001b[0m\u001b[0;34m\u001b[0m\u001b[0m\n",
            "\u001b[0;32m/usr/local/lib/python3.11/dist-packages/matplotlib/artist.py\u001b[0m in \u001b[0;36m_internal_update\u001b[0;34m(self, kwargs)\u001b[0m\n\u001b[1;32m   1231\u001b[0m         \u001b[0mThe\u001b[0m \u001b[0mlack\u001b[0m \u001b[0mof\u001b[0m \u001b[0mprenormalization\u001b[0m \u001b[0;32mis\u001b[0m \u001b[0mto\u001b[0m \u001b[0mmaintain\u001b[0m \u001b[0mbackcompatibility\u001b[0m\u001b[0;34m.\u001b[0m\u001b[0;34m\u001b[0m\u001b[0;34m\u001b[0m\u001b[0m\n\u001b[1;32m   1232\u001b[0m         \"\"\"\n\u001b[0;32m-> 1233\u001b[0;31m         return self._update_props(\n\u001b[0m\u001b[1;32m   1234\u001b[0m             \u001b[0mkwargs\u001b[0m\u001b[0;34m,\u001b[0m \u001b[0;34m\"{cls.__name__}.set() got an unexpected keyword argument \"\u001b[0m\u001b[0;34m\u001b[0m\u001b[0;34m\u001b[0m\u001b[0m\n\u001b[1;32m   1235\u001b[0m             \"{prop_name!r}\")\n",
            "\u001b[0;32m/usr/local/lib/python3.11/dist-packages/matplotlib/artist.py\u001b[0m in \u001b[0;36m_update_props\u001b[0;34m(self, props, errfmt)\u001b[0m\n\u001b[1;32m   1207\u001b[0m                             \u001b[0merrfmt\u001b[0m\u001b[0;34m.\u001b[0m\u001b[0mformat\u001b[0m\u001b[0;34m(\u001b[0m\u001b[0mcls\u001b[0m\u001b[0;34m=\u001b[0m\u001b[0mtype\u001b[0m\u001b[0;34m(\u001b[0m\u001b[0mself\u001b[0m\u001b[0;34m)\u001b[0m\u001b[0;34m,\u001b[0m \u001b[0mprop_name\u001b[0m\u001b[0;34m=\u001b[0m\u001b[0mk\u001b[0m\u001b[0;34m)\u001b[0m\u001b[0;34m,\u001b[0m\u001b[0;34m\u001b[0m\u001b[0;34m\u001b[0m\u001b[0m\n\u001b[1;32m   1208\u001b[0m                             name=k)\n\u001b[0;32m-> 1209\u001b[0;31m                     \u001b[0mret\u001b[0m\u001b[0;34m.\u001b[0m\u001b[0mappend\u001b[0m\u001b[0;34m(\u001b[0m\u001b[0mfunc\u001b[0m\u001b[0;34m(\u001b[0m\u001b[0mv\u001b[0m\u001b[0;34m)\u001b[0m\u001b[0;34m)\u001b[0m\u001b[0;34m\u001b[0m\u001b[0;34m\u001b[0m\u001b[0m\n\u001b[0m\u001b[1;32m   1210\u001b[0m         \u001b[0;32mif\u001b[0m \u001b[0mret\u001b[0m\u001b[0;34m:\u001b[0m\u001b[0;34m\u001b[0m\u001b[0;34m\u001b[0m\u001b[0m\n\u001b[1;32m   1211\u001b[0m             \u001b[0mself\u001b[0m\u001b[0;34m.\u001b[0m\u001b[0mpchanged\u001b[0m\u001b[0;34m(\u001b[0m\u001b[0;34m)\u001b[0m\u001b[0;34m\u001b[0m\u001b[0;34m\u001b[0m\u001b[0m\n",
            "\u001b[0;32m/usr/local/lib/python3.11/dist-packages/matplotlib/axes/_base.py\u001b[0m in \u001b[0;36mwrapper\u001b[0;34m(self, *args, **kwargs)\u001b[0m\n\u001b[1;32m     72\u001b[0m \u001b[0;34m\u001b[0m\u001b[0m\n\u001b[1;32m     73\u001b[0m         \u001b[0;32mdef\u001b[0m \u001b[0mwrapper\u001b[0m\u001b[0;34m(\u001b[0m\u001b[0mself\u001b[0m\u001b[0;34m,\u001b[0m \u001b[0;34m*\u001b[0m\u001b[0margs\u001b[0m\u001b[0;34m,\u001b[0m \u001b[0;34m**\u001b[0m\u001b[0mkwargs\u001b[0m\u001b[0;34m)\u001b[0m\u001b[0;34m:\u001b[0m\u001b[0;34m\u001b[0m\u001b[0;34m\u001b[0m\u001b[0m\n\u001b[0;32m---> 74\u001b[0;31m             \u001b[0;32mreturn\u001b[0m \u001b[0mget_method\u001b[0m\u001b[0;34m(\u001b[0m\u001b[0mself\u001b[0m\u001b[0;34m)\u001b[0m\u001b[0;34m(\u001b[0m\u001b[0;34m*\u001b[0m\u001b[0margs\u001b[0m\u001b[0;34m,\u001b[0m \u001b[0;34m**\u001b[0m\u001b[0mkwargs\u001b[0m\u001b[0;34m)\u001b[0m\u001b[0;34m\u001b[0m\u001b[0;34m\u001b[0m\u001b[0m\n\u001b[0m\u001b[1;32m     75\u001b[0m \u001b[0;34m\u001b[0m\u001b[0m\n\u001b[1;32m     76\u001b[0m         \u001b[0mwrapper\u001b[0m\u001b[0;34m.\u001b[0m\u001b[0m__module__\u001b[0m \u001b[0;34m=\u001b[0m \u001b[0mowner\u001b[0m\u001b[0;34m.\u001b[0m\u001b[0m__module__\u001b[0m\u001b[0;34m\u001b[0m\u001b[0;34m\u001b[0m\u001b[0m\n",
            "\u001b[0;32m/usr/local/lib/python3.11/dist-packages/matplotlib/axis.py\u001b[0m in \u001b[0;36mset_ticklabels\u001b[0;34m(self, labels, minor, fontdict, **kwargs)\u001b[0m\n\u001b[1;32m   2115\u001b[0m             \u001b[0;31m# remove all tick labels, so only error for > 0 labels\u001b[0m\u001b[0;34m\u001b[0m\u001b[0;34m\u001b[0m\u001b[0m\n\u001b[1;32m   2116\u001b[0m             \u001b[0;32mif\u001b[0m \u001b[0mlen\u001b[0m\u001b[0;34m(\u001b[0m\u001b[0mlocator\u001b[0m\u001b[0;34m.\u001b[0m\u001b[0mlocs\u001b[0m\u001b[0;34m)\u001b[0m \u001b[0;34m!=\u001b[0m \u001b[0mlen\u001b[0m\u001b[0;34m(\u001b[0m\u001b[0mlabels\u001b[0m\u001b[0;34m)\u001b[0m \u001b[0;32mand\u001b[0m \u001b[0mlen\u001b[0m\u001b[0;34m(\u001b[0m\u001b[0mlabels\u001b[0m\u001b[0;34m)\u001b[0m \u001b[0;34m!=\u001b[0m \u001b[0;36m0\u001b[0m\u001b[0;34m:\u001b[0m\u001b[0;34m\u001b[0m\u001b[0;34m\u001b[0m\u001b[0m\n\u001b[0;32m-> 2117\u001b[0;31m                 raise ValueError(\n\u001b[0m\u001b[1;32m   2118\u001b[0m                     \u001b[0;34m\"The number of FixedLocator locations\"\u001b[0m\u001b[0;34m\u001b[0m\u001b[0;34m\u001b[0m\u001b[0m\n\u001b[1;32m   2119\u001b[0m                     \u001b[0;34mf\" ({len(locator.locs)}), usually from a call to\"\u001b[0m\u001b[0;34m\u001b[0m\u001b[0;34m\u001b[0m\u001b[0m\n",
            "\u001b[0;31mValueError\u001b[0m: The number of FixedLocator locations (2), usually from a call to set_ticks, does not match the number of labels (4)."
          ]
        },
        {
          "output_type": "display_data",
          "data": {
            "text/plain": [
              "<Figure size 640x480 with 2 Axes>"
            ],
            "image/png": "[encoded data removed]"
          },
          "metadata": {}
        }
      ]
    },
    {
      "cell_type": "markdown",
      "id": "7akEnTfdaJ0F",
      "metadata": {
        "id": "7akEnTfdaJ0F"
      },
      "source": [
        "**3) Evaluate Model**"
      ]
    },
    {
      "cell_type": "code",
      "execution_count": null,
      "id": "GxYYTCi0FQQD",
      "metadata": {
        "id": "GxYYTCi0FQQD"
      },
      "outputs": [],
      "source": [
        "# ─── 9) PATCH‐LEVEL EVALUATION ───────────────────────────────────────────\n",
        "model.eval()\n",
        "all_preds, all_labels = [], []\n",
        "correct, total = 0, 0\n",
        "\n",
        "with torch.no_grad():\n",
        "    # MODIFICATION: Unpack all three items from the test_loader\n",
        "    for images, labels, case_ids in test_loader:\n",
        "        # Handle potential None batch if using the collate_fn_skip_none\n",
        "        if images is None: # Check images as a proxy for the whole batch being None\n",
        "             # print(\"[WARN] Skipping an empty batch during evaluation.\") # Uncomment for debugging\n",
        "             continue # Skip this batch\n",
        "\n",
        "        images, labels = (images.to(device, non_blocking=True),\n",
        "                          labels.to(device, non_blocking=True))\n",
        "        outputs = model(images)\n",
        "        preds   = outputs.argmax(dim=1)\n",
        "\n",
        "        # You were already collecting preds and labels correctly after this\n",
        "        all_preds.extend(preds.cpu().numpy())\n",
        "        all_labels.extend(labels.cpu().numpy())\n",
        "        correct += (preds == labels).sum().item()\n",
        "        total   += labels.size(0) # Use labels.size(0) or preds.size(0) or images.size(0) for actual batch size\n",
        "\n",
        "# The rest of your code for calculating metrics is correct\n",
        "accuracy  = 100 * correct / total if total > 0 else 0 # Add check for total > 0\n",
        "precision = precision_score(all_labels, all_preds)\n",
        "recall    = recall_score(all_labels, all_preds)\n",
        "f1        = f1_score(all_labels, all_preds)\n",
        "\n",
        "print(f\"Test Patch‐level Accuracy : {accuracy:.2f}%\")\n",
        "print(f\"Precision                : {precision:.4f}\")\n",
        "print(f\"Recall                   : {recall:.4f}\")\n",
        "print(f\"F1 Score                 : {f1:.4f}\")\n",
        "\n",
        "print(f\"Total test patches evaluated: {total}\")\n",
        "print(f\"Correct predictions         : {correct}\")\n",
        "\n",
        "# Note: case_ids are available in the loop if you need them for per-patch analysis later,\n",
        "# but they are not used in this specific patch-level metric calculation block.\n",
        "# The per-case metrics calculation block you had previously *does* use case_ids.\n"
      ]
    },
    {
      "cell_type": "code",
      "execution_count": null,
      "id": "4E3JbFcoRu5k",
      "metadata": {
        "id": "4E3JbFcoRu5k"
      },
      "outputs": [],
      "source": [
        "# ─── CONFUSION MATRIX ────────────────────────────────────────────────────\n",
        "cm = confusion_matrix(all_labels, all_preds)\n",
        "labels = ['Benign', 'High-grade']\n",
        "\n",
        "plt.figure(figsize=(6, 5))\n",
        "sns.heatmap(cm, annot=True, fmt=\"d\", cmap=\"Blues\", xticklabels=labels, yticklabels=labels)\n",
        "plt.xlabel(\"Predicted Label\")\n",
        "plt.ylabel(\"True Label\")\n",
        "plt.title(\"Confusion Matrix\")\n",
        "plt.tight_layout()\n",
        "plt.show()"
      ]
    },
    {
      "cell_type": "markdown",
      "id": "6ggl1jne45Rv",
      "metadata": {
        "id": "6ggl1jne45Rv"
      },
      "source": [
        "**4) Adjusting Threshold**"
      ]
    },
    {
      "cell_type": "code",
      "execution_count": null,
      "id": "TupVQTqA6ZjX",
      "metadata": {
        "id": "TupVQTqA6ZjX"
      },
      "outputs": [],
      "source": [
        "model.eval()\n",
        "probs, labels = [], []\n",
        "\n",
        "with torch.no_grad():\n",
        "    for batch in test_loader:\n",
        "        if batch is None: continue\n",
        "        imgs, lbls, _ = batch\n",
        "        imgs = imgs.to(device)\n",
        "\n",
        "        outputs = model(imgs)\n",
        "        softmax_probs = torch.softmax(outputs, dim=1)[:, 1]  # probability of class 1\n",
        "\n",
        "        probs.append(softmax_probs.cpu())\n",
        "        labels.extend(lbls)  # Python list is OK here\n",
        "\n",
        "probs = torch.cat(probs)\n",
        "labels = torch.tensor(labels)\n"
      ]
    },
    {
      "cell_type": "code",
      "execution_count": null,
      "id": "3acfTHTl6o8y",
      "metadata": {
        "colab": {
          "base_uri": "https://localhost:8080/"
        },
        "id": "3acfTHTl6o8y",
        "outputId": "9129ba2b-f8b7-4f63-f7a3-349e7fbdcb37"
      },
      "outputs": [
        {
          "output_type": "stream",
          "name": "stdout",
          "text": [
            "✅ Best threshold for accuracy: 0.380\n",
            "🔍 Accuracy at best threshold: 0.8973\n"
          ]
        }
      ],
      "source": [
        "import numpy as np\n",
        "from sklearn.metrics import accuracy_score\n",
        "\n",
        "thresholds = torch.linspace(0, 1, 201)\n",
        "best_acc = 0\n",
        "best_thresh = 0\n",
        "\n",
        "for t in thresholds:\n",
        "    preds = (probs > t).int().numpy()\n",
        "    acc = accuracy_score(labels.numpy(), preds)\n",
        "    if acc > best_acc:\n",
        "        best_acc = acc\n",
        "        best_thresh = t.item()\n",
        "\n",
        "print(f\"✅ Best threshold for accuracy: {best_thresh:.3f}\")\n",
        "print(f\"🔍 Accuracy at best threshold: {best_acc:.4f}\")\n"
      ]
    },
    {
      "cell_type": "code",
      "execution_count": null,
      "id": "jQq1J9ne6qR_",
      "metadata": {
        "id": "jQq1J9ne6qR_"
      },
      "outputs": [],
      "source": [
        "from sklearn.metrics import confusion_matrix, ConfusionMatrixDisplay\n",
        "\n",
        "# Convert predictions and labels to NumPy arrays\n",
        "final_preds = (probs > best_thresh).int().numpy()\n",
        "true_labels = labels.numpy()\n"
      ]
    },
    {
      "cell_type": "code",
      "execution_count": null,
      "id": "yb4PPwWT7Cz-",
      "metadata": {
        "colab": {
          "base_uri": "https://localhost:8080/",
          "height": 466
        },
        "id": "yb4PPwWT7Cz-",
        "outputId": "714e4a03-98d2-4e77-ba66-027258056ede"
      },
      "outputs": [
        {
          "output_type": "execute_result",
          "data": {
            "text/plain": [
              "<sklearn.metrics._plot.confusion_matrix.ConfusionMatrixDisplay at 0x79a80d1e0f50>"
            ]
          },
          "metadata": {},
          "execution_count": 32
        },
        {
          "output_type": "display_data",
          "data": {
            "text/plain": [
              "<Figure size 640x480 with 2 Axes>"
            ],
            "image/png": "[encoded data removed]"
          },
          "metadata": {}
        }
      ],
      "source": [
        "cm = confusion_matrix(true_labels, final_preds)\n",
        "disp = ConfusionMatrixDisplay(confusion_matrix=cm, display_labels=[\"Class 0\", \"Class 1\"])\n",
        "disp.plot(cmap='Blues', values_format='d')\n"
      ]
    },
    {
      "cell_type": "code",
      "execution_count": null,
      "id": "684wXgUx7Dot",
      "metadata": {
        "colab": {
          "base_uri": "https://localhost:8080/",
          "height": 553
        },
        "id": "684wXgUx7Dot",
        "outputId": "55923cef-ee74-464c-b4d3-2198bc994e9d"
      },
      "outputs": [
        {
          "output_type": "stream",
          "name": "stdout",
          "text": [
            "Best Threshold: 0.38\n",
            "Accuracy:  0.8973\n",
            "Precision: 0.8869\n",
            "Recall:    0.9169\n",
            "F1 Score:  0.9017\n"
          ]
        },
        {
          "output_type": "execute_result",
          "data": {
            "text/plain": [
              "<sklearn.metrics._plot.confusion_matrix.ConfusionMatrixDisplay at 0x79a80b662bd0>"
            ]
          },
          "metadata": {},
          "execution_count": 33
        },
        {
          "output_type": "display_data",
          "data": {
            "text/plain": [
              "<Figure size 640x480 with 2 Axes>"
            ],
            "image/png": "[encoded data removed]"
          },
          "metadata": {}
        }
      ],
      "source": [
        "\n",
        "from sklearn.metrics import accuracy_score, precision_score, recall_score, f1_score, confusion_matrix, ConfusionMatrixDisplay\n",
        "\n",
        "# Step 1: Apply threshold\n",
        "final_preds = (probs > best_thresh).int().numpy()\n",
        "true_labels = labels.numpy()\n",
        "\n",
        "# Step 2: Compute metrics\n",
        "acc  = accuracy_score(true_labels, final_preds)\n",
        "prec = precision_score(true_labels, final_preds, zero_division=0)\n",
        "rec  = recall_score(true_labels, final_preds, zero_division=0)\n",
        "f1   = f1_score(true_labels, final_preds, zero_division=0)\n",
        "\n",
        "# Step 3: Print metrics\n",
        "print(f\"Best Threshold: {best_thresh:.2f}\")\n",
        "print(f\"Accuracy:  {acc:.4f}\")\n",
        "print(f\"Precision: {prec:.4f}\")\n",
        "print(f\"Recall:    {rec:.4f}\")\n",
        "print(f\"F1 Score:  {f1:.4f}\")\n",
        "\n",
        "# Step 4: Confusion matrix\n",
        "cm = confusion_matrix(true_labels, final_preds)\n",
        "disp = ConfusionMatrixDisplay(confusion_matrix=cm, display_labels=[\"Class 0\", \"Class 1\"])\n",
        "disp.plot(cmap='Blues', values_format='d')\n"
      ]
    },
    {
      "cell_type": "code",
      "execution_count": null,
      "id": "eA7i3OhQ7Pli",
      "metadata": {
        "id": "eA7i3OhQ7Pli"
      },
      "outputs": [],
      "source": []
    }
  ],
  "metadata": {
    "accelerator": "GPU",
    "colab": {
      "gpuType": "T4",
      "provenance": []
    },
    "kernelspec": {
      "display_name": "Python 3",
      "name": "python3"
    },
    "language_info": {
      "codemirror_mode": {
        "name": "ipython",
        "version": 3
      },
      "file_extension": ".py",
      "mimetype": "text/x-python",
      "name": "python",
      "nbconvert_exporter": "python",
      "pygments_lexer": "ipython3",
      "version": "3.12.7"
    }
  },
  "nbformat": 4,
  "nbformat_minor": 5
}