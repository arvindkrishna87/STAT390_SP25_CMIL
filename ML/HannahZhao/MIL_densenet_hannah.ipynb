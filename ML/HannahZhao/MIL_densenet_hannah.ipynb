{
 "cells": [
  {
   "cell_type": "markdown",
   "metadata": {},
   "source": [
    "# Hannah Zhao - Week 1 DenseNet Model with MIL\n",
    "## MIL (Multiple Instance Learning) stops you from punishing for “normal‐looking” patches in High-grade cases by moving supervision up to the case level\n",
    "#### changes include: MIL on H&E stained patches with Max-pooling for the bag-level pooling\n",
    "#### overall results:  not the best, but definitely requires more exploration (address class imbalance, try different bag-level pooling techniques)"
   ]
  },
  {
   "cell_type": "code",
   "execution_count": 2,
   "metadata": {},
   "outputs": [],
   "source": [
    "# Standard library imports\n",
    "import os\n",
    "import re\n",
    "import random\n",
    "import shutil\n",
    "from datetime import datetime\n",
    "from collections import OrderedDict\n",
    "\n",
    "# Data handling and visualization libraries\n",
    "import numpy as np\n",
    "import pandas as pd\n",
    "import matplotlib.pyplot as plt\n",
    "import seaborn as sns\n",
    "\n",
    "# PyTorch and TorchVision libraries for deep learning\n",
    "import torch\n",
    "import torch.nn as nn\n",
    "import torch.optim as optim\n",
    "from torch.utils.data import Dataset, DataLoader, random_split\n",
    "import torchvision\n",
    "import torchvision.models as models\n",
    "from torchvision import transforms, datasets\n",
    "from PIL import Image\n",
    "\n",
    "# Scikit-Learn for evaluation metrics and data splitting\n",
    "from sklearn.model_selection import train_test_split\n",
    "from sklearn.metrics import confusion_matrix, accuracy_score, classification_report\n",
    "\n",
    "# Imbalanced-learn for oversampling to address class imbalance\n",
    "from imblearn.over_sampling import RandomOverSampler\n",
    "\n",
    "from torchvision import transforms\n",
    "from torchvision.transforms import functional as F\n",
    "from PIL import Image"
   ]
  },
  {
   "cell_type": "code",
   "execution_count": 3,
   "metadata": {},
   "outputs": [],
   "source": [
    "# Define local file paths\n",
    "\n",
    "# Define your Desktop folder based on your OS; this uses the user's home directory.\n",
    "desktop = os.path.join(os.path.expanduser(\"~\"), \"Desktop\")\n",
    "\n",
    "# Path to the filtered patches folder on your Desktop\n",
    "filtered_patches_dir = os.path.join(desktop, \"uni\", \"STAT 390\", \"Hannah Zhao\", \"filtered_patches\")\n",
    "\n",
    "# Path to the CSV file inside Desktop/uni/STAT 390/Hannah Zhao\n",
    "csv_file_path = os.path.join(desktop, \"uni\", \"STAT 390\", \"Hannah Zhao\", \"case_grade_match.csv\")\n",
    "\n",
    "# Directory to store model checkpoints\n",
    "checkpoint_dir = os.path.join(desktop, \"uni\", \"STAT 390\", \"Hannah Zhao\", \"Checkpoints\")\n",
    "os.makedirs(checkpoint_dir, exist_ok=True)  # Create the directory if it doesn't exist"
   ]
  },
  {
   "cell_type": "code",
   "execution_count": 4,
   "metadata": {},
   "outputs": [],
   "source": [
    "# load labels \n",
    "labels = pd.read_csv(csv_file_path)"
   ]
  },
  {
   "cell_type": "code",
   "execution_count": 5,
   "metadata": {},
   "outputs": [],
   "source": [
    "def group_patches(patch_dir):\n",
    "    case_patches = {}\n",
    "    for filename in os.listdir(patch_dir):\n",
    "        match = re.search(r\"case_(\\d+)\", filename)  # Using regex for case number extraction\n",
    "        if match:\n",
    "            case_num = int(match.group(1))\n",
    "            if case_num not in case_patches:\n",
    "                case_patches[case_num] = []\n",
    "            case_patches[case_num].append(os.path.join(patch_dir, filename))\n",
    "    return case_patches\n",
    "\n",
    "patches = group_patches(filtered_patches_dir)\n",
    "\n",
    "from PIL import Image, ImageStat\n",
    "\n",
    "# attempting to filter out images that may be mostly white with irrelevent information\n",
    "def is_tissue_patch(img: Image.Image, bg_thresh: float = 0.85) -> bool:\n",
    "    \"\"\"\n",
    "    Return True if less than bg_thresh fraction of this patch is background.\n",
    "    We approximate “background” as “very white” by looking at the mean intensity\n",
    "    in the grayscale image.\n",
    "    \"\"\"\n",
    "    gray = img.convert(\"L\")\n",
    "    stat = ImageStat.Stat(gray)\n",
    "    mean_intensity = stat.mean[0] / 255.0\n",
    "    return mean_intensity < bg_thresh\n"
   ]
  },
  {
   "cell_type": "code",
   "execution_count": 6,
   "metadata": {},
   "outputs": [],
   "source": [
    "# ---------------------------\n",
    "# Transforms\n",
    "# ---------------------------\n",
    "class PadToSquare:\n",
    "    def __call__(self, img: Image.Image) -> Image.Image:\n",
    "        w,h = img.size\n",
    "        if w==h: return img\n",
    "        diff = abs(w-h)\n",
    "        if w<h:\n",
    "            left, right = diff//2, diff-diff//2\n",
    "            pad = (left,0,right,0)\n",
    "        else:\n",
    "            top, bottom = diff//2, diff-diff//2\n",
    "            pad = (0,top,0,bottom)\n",
    "        return F.pad(img, pad, fill=0)\n",
    "\n",
    "transform = transforms.Compose([\n",
    "    PadToSquare(),\n",
    "    transforms.Resize((224,224)),\n",
    "    transforms.ColorJitter(0.2,0.2,0.2),\n",
    "    transforms.ToTensor(),\n",
    "    transforms.Normalize([0.485,0.456,0.406],[0.229,0.224,0.225])\n",
    "])"
   ]
  },
  {
   "cell_type": "code",
   "execution_count": 7,
   "metadata": {},
   "outputs": [],
   "source": [
    "# ---------------------------\n",
    "# Prepare case split\n",
    "# ---------------------------\n",
    "case_nums = list(patches.keys())\n",
    "# align CSV indexing if needed\n",
    "dataset = labels.loc[[(x-1) for x in case_nums]]\n",
    "mask = dataset['Class'] != 2.0\n",
    "X = dataset[mask].Case.reset_index(drop=True)\n",
    "y = dataset[mask].Class.reset_index(drop=True)\n",
    "\n",
    "train_X, test_X, y_train, y_test = train_test_split(X,y,test_size=0.2,stratify=y,random_state=40)\n",
    "train_X, val_X, y_train, y_val = train_test_split(train_X,y_train,test_size=0.2,stratify=y_train,random_state=40)\n",
    "\n",
    "train_patches = {c:patches[int(c)] for c in train_X}\n",
    "val_patches   = {c:patches[int(c)] for c in val_X}\n",
    "test_patches  = {c:patches[int(c)] for c in test_X}\n",
    "\n",
    "# optional: filter to just one stain\n",
    "stain=\"h&e\"\n",
    "def filter_by_stain(d,kw):\n",
    "    out={}\n",
    "    for c,paths in d.items():\n",
    "        f=[p for p in paths if kw.lower() in os.path.basename(p).lower()]\n",
    "        if f: out[c]=f\n",
    "    return out\n",
    "\n",
    "train_patches = filter_by_stain(train_patches, stain)\n",
    "val_patches   = filter_by_stain(val_patches,   stain)\n",
    "test_patches  = filter_by_stain(test_patches,  stain)"
   ]
  },
  {
   "cell_type": "code",
   "execution_count": 8,
   "metadata": {},
   "outputs": [],
   "source": [
    "# ---------------------------\n",
    "# MIL Dataset & Model\n",
    "# ---------------------------\n",
    "class MILDataset(Dataset):\n",
    "    def __init__(self, case_patches, labels_df, transform=None, bg_thresh=0.85):\n",
    "        self.transform = transform\n",
    "        self.bags, self.labels = [], []\n",
    "        for case, paths in case_patches.items():\n",
    "            raw = labels_df.loc[labels_df['Case']==case,'Class'].item()\n",
    "            bag_lbl = 0 if raw==1 else 1\n",
    "            keep=[]\n",
    "            for p in paths:\n",
    "                img=Image.open(p).convert('RGB')\n",
    "                if is_tissue_patch(img,bg_thresh): keep.append(p)\n",
    "            if keep:\n",
    "                self.bags.append(keep)\n",
    "                self.labels.append(bag_lbl)\n",
    "    def __len__(self): return len(self.bags)\n",
    "    def __getitem__(self, idx):\n",
    "        paths = self.bags[idx]\n",
    "        imgs = []\n",
    "        for p in paths:\n",
    "            img = Image.open(p).convert('RGB')\n",
    "            if self.transform: img = self.transform(img)\n",
    "            imgs.append(img)\n",
    "        return torch.stack(imgs), torch.tensor(self.labels[idx],dtype=torch.long)\n",
    "\n",
    "class MILDenseNet(nn.Module):\n",
    "    def __init__(self, num_classes=2):\n",
    "        super().__init__()\n",
    "        base = models.densenet121(pretrained=True)\n",
    "        self.features   = base.features\n",
    "        self.pool       = nn.AdaptiveAvgPool2d(1)\n",
    "        self.classifier = nn.Linear(base.classifier.in_features, num_classes)\n",
    "    def forward(self, x):\n",
    "        # x: [B, M, 3, H, W]\n",
    "        B,M,C,H,W = x.shape\n",
    "        x = x.view(B*M, C, H, W)\n",
    "        f = self.features(x)\n",
    "        f = self.pool(f).view(B*M, -1)\n",
    "        logit = self.classifier(f).view(B, M, -1)\n",
    "        bag_logit, _ = logit.max(dim=1)\n",
    "        return bag_logit"
   ]
  },
  {
   "cell_type": "code",
   "execution_count": 9,
   "metadata": {},
   "outputs": [],
   "source": [
    "# ---------------------------\n",
    "# DataLoaders\n",
    "# ---------------------------\n",
    "train_ds = MILDataset(train_patches, labels, transform=transform)\n",
    "val_ds   = MILDataset(val_patches,   labels, transform=transform)\n",
    "test_ds  = MILDataset(test_patches,  labels, transform=transform)\n",
    "\n",
    "train_loader = DataLoader(train_ds, batch_size=1, shuffle=True)\n",
    "val_loader   = DataLoader(val_ds,   batch_size=1, shuffle=False)\n",
    "test_loader  = DataLoader(test_ds,  batch_size=1, shuffle=False)\n"
   ]
  },
  {
   "cell_type": "code",
   "execution_count": 25,
   "metadata": {},
   "outputs": [
    {
     "data": {
      "text/plain": [
       "23"
      ]
     },
     "execution_count": 25,
     "metadata": {},
     "output_type": "execute_result"
    }
   ],
   "source": [
    "# number of high grade cases in the training\n",
    "sum(train_ds.labels)"
   ]
  },
  {
   "cell_type": "code",
   "execution_count": 10,
   "metadata": {},
   "outputs": [
    {
     "data": {
      "text/plain": [
       "0.7419354838709677"
      ]
     },
     "execution_count": 10,
     "metadata": {},
     "output_type": "execute_result"
    }
   ],
   "source": [
    "sum(train_ds.labels)/len(train_ds.labels)"
   ]
  },
  {
   "cell_type": "code",
   "execution_count": 11,
   "metadata": {},
   "outputs": [
    {
     "data": {
      "text/plain": [
       "31"
      ]
     },
     "execution_count": 11,
     "metadata": {},
     "output_type": "execute_result"
    }
   ],
   "source": [
    "# number of total cases in the training \n",
    "len(train_ds)"
   ]
  },
  {
   "cell_type": "code",
   "execution_count": 12,
   "metadata": {},
   "outputs": [
    {
     "data": {
      "text/plain": [
       "(tensor([[[[-1.7240, -1.7240, -1.7240,  ..., -1.2274, -1.5699, -1.7240],\n",
       "           [-1.7240, -1.6213, -1.5528,  ..., -1.0219, -1.5699, -1.7240],\n",
       "           [-1.7240, -1.3987, -1.0390,  ..., -0.6623, -1.3987, -1.7240],\n",
       "           ...,\n",
       "           [-1.7240, -1.7240, -1.6727,  ..., -1.2445, -1.6727, -1.7240],\n",
       "           [-1.7240, -1.7240, -1.7240,  ..., -1.5699, -1.7240, -1.7240],\n",
       "           [-1.7240, -1.7240, -1.7240,  ..., -1.7240, -1.7240, -1.7240]],\n",
       " \n",
       "          [[-1.6331, -1.6331, -1.6331,  ..., -1.2654, -1.5105, -1.6331],\n",
       "           [-1.6331, -1.5280, -1.4755,  ..., -1.0728, -1.5105, -1.6331],\n",
       "           [-1.6331, -1.3529, -1.0378,  ..., -0.7927, -1.3704, -1.6331],\n",
       "           ...,\n",
       "           [-1.6331, -1.6331, -1.5805,  ..., -1.2479, -1.5805, -1.6331],\n",
       "           [-1.6331, -1.6331, -1.6331,  ..., -1.5105, -1.6331, -1.6331],\n",
       "           [-1.6331, -1.6331, -1.6331,  ..., -1.6331, -1.6331, -1.6331]],\n",
       " \n",
       "          [[-1.4036, -1.4036, -1.4036,  ..., -0.8284, -1.2293, -1.4036],\n",
       "           [-1.4036, -1.2641, -1.1770,  ..., -0.5844, -1.2119, -1.4036],\n",
       "           [-1.4036, -1.0027, -0.5321,  ..., -0.1661, -1.0376, -1.4036],\n",
       "           ...,\n",
       "           [-1.4036, -1.4036, -1.3513,  ..., -0.8458, -1.3513, -1.4036],\n",
       "           [-1.4036, -1.4036, -1.4036,  ..., -1.2293, -1.4036, -1.4036],\n",
       "           [-1.4036, -1.4036, -1.4036,  ..., -1.4036, -1.4036, -1.4036]]],\n",
       " \n",
       " \n",
       "         [[[-2.0494, -2.0494, -2.0494,  ..., -1.0904, -1.5699, -2.0494],\n",
       "           [-1.7240, -1.4843, -1.3987,  ..., -0.3541, -1.2103, -2.0494],\n",
       "           [-1.4158, -0.8849, -0.7822,  ..., -0.3027, -1.1589, -2.0494],\n",
       "           ...,\n",
       "           [-2.0494, -0.8335,  0.2624,  ...,  1.4954,  1.2043, -0.2856],\n",
       "           [-2.0494, -0.9020,  0.2111,  ...,  1.2385,  0.9474, -0.4226],\n",
       "           [-2.0494, -1.4158, -0.8164,  ..., -0.1828, -0.3027, -1.1247]],\n",
       " \n",
       "          [[-1.9657, -1.9657, -1.9657,  ..., -1.1779, -1.5805, -1.9657],\n",
       "           [-1.7906, -1.6331, -1.5980,  ..., -0.6001, -1.2654, -1.9657],\n",
       "           [-1.5980, -1.2829, -1.2304,  ..., -0.6527, -1.2654, -1.9657],\n",
       "           ...,\n",
       "           [-1.9657, -0.8452,  0.1702,  ...,  1.6057,  1.3081, -0.1800],\n",
       "           [-1.9657, -0.8803,  0.1176,  ...,  1.3256,  1.0455, -0.3550],\n",
       "           [-1.9657, -1.3880, -0.8277,  ..., -0.0749, -0.2500, -1.0203]],\n",
       " \n",
       "          [[-1.7347, -1.7347, -1.7347,  ..., -0.5321, -1.1421, -1.7347],\n",
       "           [-1.3861, -1.0724, -0.9853,  ...,  0.4091, -0.6715, -1.7347],\n",
       "           [-1.0027, -0.4101, -0.3055,  ...,  0.4614, -0.6193, -1.7347],\n",
       "           ...,\n",
       "           [-1.7347, -0.3055,  1.0191,  ...,  1.8731,  1.5594,  0.0605],\n",
       "           [-1.7347, -0.3753,  0.9319,  ...,  1.5768,  1.2980, -0.0964],\n",
       "           [-1.7347, -0.9678, -0.2707,  ...,  0.1651,  0.0256, -0.7936]]],\n",
       " \n",
       " \n",
       "         [[[-2.0152, -2.0152, -1.2788,  ..., -2.0152, -2.0152, -2.0152],\n",
       "           [-2.0152, -1.9467, -0.4397,  ..., -1.4158, -2.0152, -2.0152],\n",
       "           [-2.0152, -1.7754,  0.2453,  ..., -0.5082, -1.4500, -2.0152],\n",
       "           ...,\n",
       "           [-2.0152, -1.6042, -1.4672,  ..., -1.2959, -2.0152, -2.0152],\n",
       "           [-2.0152, -2.0152, -2.0152,  ..., -2.0152, -2.0152, -2.0152],\n",
       "           [-2.0152, -2.0152, -2.0152,  ..., -2.0152, -2.0152, -2.0152]],\n",
       " \n",
       "          [[-1.9307, -1.9307, -1.1779,  ..., -1.9307, -1.9307, -1.9307],\n",
       "           [-1.9307, -1.8606, -0.3375,  ..., -1.4055, -1.9307, -1.9307],\n",
       "           [-1.9307, -1.6856,  0.3277,  ..., -0.6877, -1.4580, -1.9307],\n",
       "           ...,\n",
       "           [-1.9307, -1.6155, -1.5630,  ..., -1.1954, -1.9307, -1.9307],\n",
       "           [-1.9307, -1.9307, -1.9307,  ..., -1.9307, -1.9307, -1.9307],\n",
       "           [-1.9307, -1.9307, -1.9307,  ..., -1.9307, -1.9307, -1.9307]],\n",
       " \n",
       "          [[-1.6999, -1.6999, -0.9504,  ..., -1.6999, -1.6999, -1.6999],\n",
       "           [-1.6999, -1.6302, -0.0964,  ..., -0.9853, -1.6999, -1.6999],\n",
       "           [-1.6999, -1.4559,  0.6008,  ...,  0.1128, -1.0201, -1.6999],\n",
       "           ...,\n",
       "           [-1.6999, -1.2467, -1.1073,  ..., -0.9678, -1.6999, -1.6999],\n",
       "           [-1.6999, -1.6999, -1.6999,  ..., -1.6999, -1.6999, -1.6999],\n",
       "           [-1.6999, -1.6999, -1.6999,  ..., -1.6999, -1.6999, -1.6999]]],\n",
       " \n",
       " \n",
       "         ...,\n",
       " \n",
       " \n",
       "         [[[-2.1179, -2.1179, -2.1179,  ..., -2.1179, -2.1179, -2.1179],\n",
       "           [-2.1179, -2.1179, -2.1179,  ..., -2.0152, -2.1179, -2.1179],\n",
       "           [-2.1179, -2.1179, -2.0323,  ..., -0.2513, -0.6109, -2.1179],\n",
       "           ...,\n",
       "           [-2.1179, -0.4054, -0.0972,  ..., -0.8507, -2.1179, -2.1179],\n",
       "           [-2.1179, -2.1179, -2.1179,  ..., -2.1179, -2.1179, -2.1179],\n",
       "           [-2.1179, -2.1179, -2.1179,  ..., -2.1179, -2.1179, -2.1179]],\n",
       " \n",
       "          [[-2.0357, -2.0357, -2.0357,  ..., -2.0357, -2.0357, -2.0357],\n",
       "           [-2.0357, -2.0357, -2.0357,  ..., -2.0007, -2.0357, -2.0357],\n",
       "           [-2.0357, -2.0357, -2.0357,  ..., -0.5651, -0.8803, -2.0357],\n",
       "           ...,\n",
       "           [-2.0357, -0.7402, -0.4951,  ..., -1.1604, -2.0357, -2.0357],\n",
       "           [-2.0357, -2.0357, -2.0357,  ..., -2.0357, -2.0357, -2.0357],\n",
       "           [-2.0357, -2.0357, -2.0357,  ..., -2.0357, -2.0357, -2.0357]],\n",
       " \n",
       "          [[-1.8044, -1.8044, -1.8044,  ..., -1.8044, -1.8044, -1.8044],\n",
       "           [-1.8044, -1.8044, -1.8044,  ..., -1.6127, -1.8044, -1.8044],\n",
       "           [-1.8044, -1.8044, -1.6476,  ...,  0.5834,  0.1302, -1.8044],\n",
       "           ...,\n",
       "           [-1.8044,  0.1476,  0.5136,  ..., -0.3927, -1.8044, -1.8044],\n",
       "           [-1.8044, -1.8044, -1.8044,  ..., -1.8044, -1.8044, -1.8044],\n",
       "           [-1.8044, -1.8044, -1.8044,  ..., -1.8044, -1.8044, -1.8044]]],\n",
       " \n",
       " \n",
       "         [[[-2.1179, -2.1179, -2.1179,  ..., -2.1179, -2.1179, -2.1179],\n",
       "           [-2.1179, -2.1179, -2.1179,  ..., -2.1179, -2.1179, -2.1179],\n",
       "           [-2.1179, -2.1179, -2.1179,  ..., -1.4329, -1.9638, -2.1179],\n",
       "           ...,\n",
       "           [-2.1179, -2.1179, -1.9295,  ..., -2.1179, -2.1179, -2.1179],\n",
       "           [-2.1179, -2.1179, -2.1179,  ..., -2.1179, -2.1179, -2.1179],\n",
       "           [-2.1179, -2.1179, -2.1179,  ..., -2.1179, -2.1179, -2.1179]],\n",
       " \n",
       "          [[-2.0357, -2.0357, -2.0357,  ..., -2.0357, -2.0357, -2.0357],\n",
       "           [-2.0357, -2.0357, -2.0357,  ..., -2.0357, -2.0357, -2.0357],\n",
       "           [-2.0357, -2.0357, -2.0357,  ..., -1.5805, -2.0182, -2.0357],\n",
       "           ...,\n",
       "           [-2.0357, -2.0357, -1.9132,  ..., -2.0357, -2.0357, -2.0357],\n",
       "           [-2.0357, -2.0357, -2.0357,  ..., -2.0357, -2.0357, -2.0357],\n",
       "           [-2.0357, -2.0357, -2.0357,  ..., -2.0357, -2.0357, -2.0357]],\n",
       " \n",
       "          [[-1.8044, -1.8044, -1.8044,  ..., -1.8044, -1.8044, -1.8044],\n",
       "           [-1.8044, -1.8044, -1.8044,  ..., -1.8044, -1.8044, -1.8044],\n",
       "           [-1.8044, -1.8044, -1.8044,  ..., -0.9678, -1.5953, -1.8044],\n",
       "           ...,\n",
       "           [-1.8044, -1.7173, -1.3861,  ..., -1.8044, -1.8044, -1.8044],\n",
       "           [-1.8044, -1.8044, -1.8044,  ..., -1.8044, -1.8044, -1.8044],\n",
       "           [-1.8044, -1.8044, -1.8044,  ..., -1.8044, -1.8044, -1.8044]]],\n",
       " \n",
       " \n",
       "         [[[-1.9124, -1.9124, -1.9124,  ..., -1.9124, -1.9124, -1.9124],\n",
       "           [-1.9124, -1.9124, -1.7240,  ..., -1.3130, -1.7583, -1.9124],\n",
       "           [-1.9124, -1.3302, -0.4739,  ..., -0.6965, -1.4158, -1.9124],\n",
       "           ...,\n",
       "           [-1.9124, -1.9124, -1.8439,  ...,  0.3652, -0.3027, -1.7412],\n",
       "           [-1.9124, -1.9124, -1.9124,  ..., -1.1760, -1.5185, -1.9124],\n",
       "           [-1.9124, -1.9124, -1.9124,  ..., -1.9124, -1.9124, -1.9124]],\n",
       " \n",
       "          [[-1.8256, -1.8256, -1.8256,  ..., -1.8256, -1.8256, -1.8256],\n",
       "           [-1.8256, -1.8256, -1.6331,  ..., -1.4405, -1.7556, -1.8256],\n",
       "           [-1.8256, -1.2304, -0.3550,  ..., -0.9678, -1.4930, -1.8256],\n",
       "           ...,\n",
       "           [-1.8256, -1.8256, -1.8081,  ...,  0.2577, -0.3725, -1.6856],\n",
       "           [-1.8256, -1.8256, -1.8256,  ..., -1.1604, -1.4930, -1.8256],\n",
       "           [-1.8256, -1.8256, -1.8256,  ..., -1.8256, -1.8256, -1.8256]],\n",
       " \n",
       "          [[-1.5953, -1.5953, -1.5953,  ..., -1.5953, -1.5953, -1.5953],\n",
       "           [-1.5953, -1.5953, -1.4036,  ..., -0.8981, -1.4036, -1.5953],\n",
       "           [-1.5953, -1.0376, -0.1661,  ..., -0.1312, -1.0027, -1.5953],\n",
       "           ...,\n",
       "           [-1.5953, -1.5953, -1.5256,  ...,  0.9668,  0.1999, -1.4036],\n",
       "           [-1.5953, -1.5953, -1.5953,  ..., -0.7587, -1.1596, -1.5953],\n",
       "           [-1.5953, -1.5953, -1.5953,  ..., -1.5953, -1.5953, -1.5953]]]]),\n",
       " tensor(1))"
      ]
     },
     "execution_count": 12,
     "metadata": {},
     "output_type": "execute_result"
    }
   ],
   "source": [
    "train_ds[0]"
   ]
  },
  {
   "cell_type": "code",
   "execution_count": 13,
   "metadata": {},
   "outputs": [
    {
     "name": "stderr",
     "output_type": "stream",
     "text": [
      "/opt/anaconda3/lib/python3.12/site-packages/torchvision/models/_utils.py:208: UserWarning: The parameter 'pretrained' is deprecated since 0.13 and may be removed in the future, please use 'weights' instead.\n",
      "  warnings.warn(\n",
      "/opt/anaconda3/lib/python3.12/site-packages/torchvision/models/_utils.py:223: UserWarning: Arguments other than a weight enum or `None` for 'weights' are deprecated since 0.13 and may be removed in the future. The current behavior is equivalent to passing `weights=DenseNet121_Weights.IMAGENET1K_V1`. You can also use `weights=DenseNet121_Weights.DEFAULT` to get the most up-to-date weights.\n",
      "  warnings.warn(msg)\n"
     ]
    }
   ],
   "source": [
    "# ---------------------------\n",
    "# Train / Validate routines\n",
    "# ---------------------------\n",
    "device = torch.device(\"cuda\" if torch.cuda.is_available() else \"cpu\")\n",
    "model     = MILDenseNet(2).to(device)\n",
    "criterion = nn.CrossEntropyLoss()\n",
    "optimizer = optim.Adam(model.parameters(),lr=1e-3)\n",
    "\n",
    "def validation(model, crit, loader):\n",
    "    model.eval()\n",
    "    tot_loss, tot_acc = 0,0\n",
    "    with torch.no_grad():\n",
    "        for X_bag, y in loader:\n",
    "            X_bag, y = X_bag.to(device), y.to(device)\n",
    "            logits = model(X_bag)\n",
    "            tot_loss += crit(logits, y).item()\n",
    "            preds = logits.argmax(dim=1)\n",
    "            tot_acc  += (preds==y).float().mean().item()\n",
    "    return tot_loss/len(loader), tot_acc/len(loader)\n",
    "\n",
    "def train_model(model, opt, crit, tr_ld, val_ld, epochs=5):\n",
    "    for e in range(epochs):\n",
    "        model.train()\n",
    "        run_loss=0\n",
    "        for X_bag, y in tr_ld:\n",
    "            X_bag, y = X_bag.to(device), y.to(device)\n",
    "            opt.zero_grad()\n",
    "            logits = model(X_bag)\n",
    "            loss   = crit(logits, y)\n",
    "            loss.backward()\n",
    "            opt.step()\n",
    "            run_loss += loss.item()\n",
    "        vl, va = validation(model,crit,val_ld)\n",
    "        print(f\"Epoch {e+1}/{epochs}  TrainLoss={run_loss/len(tr_ld):.3f}  ValLoss={vl:.3f}  ValAcc={va:.3f}\")\n",
    "    return model"
   ]
  },
  {
   "cell_type": "code",
   "execution_count": 15,
   "metadata": {},
   "outputs": [
    {
     "name": "stdout",
     "output_type": "stream",
     "text": [
      "Epoch 1/5  TrainLoss=0.742  ValLoss=0.702  ValAcc=0.375\n",
      "Epoch 2/5  TrainLoss=0.646  ValLoss=0.695  ValAcc=0.625\n",
      "Epoch 3/5  TrainLoss=0.636  ValLoss=0.619  ValAcc=0.625\n",
      "Epoch 4/5  TrainLoss=0.630  ValLoss=0.539  ValAcc=0.750\n",
      "Epoch 5/5  TrainLoss=0.636  ValLoss=0.680  ValAcc=0.750\n"
     ]
    }
   ],
   "source": [
    "# ---------------------------\n",
    "# Run training\n",
    "# ---------------------------\n",
    "model = train_model(model, optimizer, criterion, train_loader, val_loader, epochs=5)"
   ]
  },
  {
   "cell_type": "code",
   "execution_count": 19,
   "metadata": {},
   "outputs": [],
   "source": [
    "model.eval()\n",
    "all_preds, all_trues = [], []\n",
    "\n",
    "with torch.no_grad():\n",
    "    for X_bag, y in test_loader:\n",
    "        # X_bag: [M, C, H, W]   y: tensor(label)\n",
    "        X_bag = X_bag.to(device)\n",
    "        y      = y.to(device)\n",
    "        \n",
    "        # make it [1, M, C, H, W] if needed\n",
    "        if X_bag.dim() == 4:\n",
    "            X_bag = X_bag.unsqueeze(0)\n",
    "        \n",
    "        # forward --> [1, num_classes]\n",
    "        logits = model(X_bag)\n",
    "        \n",
    "        # pick bag‐level prediction\n",
    "        pred = logits.argmax(dim=1).item()\n",
    "        \n",
    "        all_preds.append(pred)\n",
    "        all_trues.append(y.item())"
   ]
  },
  {
   "cell_type": "code",
   "execution_count": 20,
   "metadata": {},
   "outputs": [
    {
     "name": "stdout",
     "output_type": "stream",
     "text": [
      "                 precision    recall  f1-score   support\n",
      "\n",
      "         Benign       0.00      0.00      0.00         4\n",
      "High‐grade CMIL       0.56      0.83      0.67         6\n",
      "\n",
      "       accuracy                           0.50        10\n",
      "      macro avg       0.28      0.42      0.33        10\n",
      "   weighted avg       0.33      0.50      0.40        10\n",
      "\n"
     ]
    },
    {
     "data": {
      "image/png": "[encoded data removed]",
      "text/plain": [
       "<Figure size 600x500 with 2 Axes>"
      ]
     },
     "metadata": {},
     "output_type": "display_data"
    }
   ],
   "source": [
    "# classification report\n",
    "print(classification_report(all_trues, all_preds, target_names=['Benign','High‐grade CMIL']))\n",
    "\n",
    "# confusion matrix\n",
    "cm = confusion_matrix(all_trues, all_preds)\n",
    "plt.figure(figsize=(6,5))\n",
    "sns.heatmap(cm, annot=True, fmt='d', cmap='Blues',\n",
    "            xticklabels=['Benign','High‐grade CMIL'],\n",
    "            yticklabels=['Benign','High‐grade CMIL'])\n",
    "plt.xlabel(\"Predicted\")\n",
    "plt.ylabel(\"True\")\n",
    "plt.title(\"MIL Test Confusion Matrix\")\n",
    "plt.show()"
   ]
  }
 ],
 "metadata": {
  "kernelspec": {
   "display_name": "base",
   "language": "python",
   "name": "python3"
  },
  "language_info": {
   "codemirror_mode": {
    "name": "ipython",
    "version": 3
   },
   "file_extension": ".py",
   "mimetype": "text/x-python",
   "name": "python",
   "nbconvert_exporter": "python",
   "pygments_lexer": "ipython3",
   "version": "3.12.4"
  }
 },
 "nbformat": 4,
 "nbformat_minor": 2
}
