{
 "cells": [
  {
   "cell_type": "markdown",
   "metadata": {},
   "source": [
    "# Hannah Zhao - Week 2 DenseNet Model with MIL\n",
    "## MIL (Multiple Instance Learning) stops you from punishing for “normal‐looking” patches in High-grade cases by moving supervision up to the case level\n",
    "### Goal: to test the backbone of the MIL model, which is densenet and see if it could learn the patterns well, training a patch classifier model\n",
    "#### overall results:  not the best, realizing I need to do more inspection on just the densenet and core patch pattern learning model\n",
    "#### next step: "
   ]
  },
  {
   "cell_type": "markdown",
   "metadata": {},
   "source": []
  },
  {
   "cell_type": "code",
   "execution_count": 1,
   "metadata": {},
   "outputs": [],
   "source": [
    "# Standard library imports\n",
    "import os\n",
    "import re\n",
    "import random\n",
    "import shutil\n",
    "from datetime import datetime\n",
    "from collections import OrderedDict\n",
    "\n",
    "# Data handling and visualization libraries\n",
    "import numpy as np\n",
    "import pandas as pd\n",
    "import matplotlib.pyplot as plt\n",
    "import seaborn as sns\n",
    "\n",
    "# PyTorch and TorchVision libraries for deep learning\n",
    "import torch\n",
    "import torch.nn as nn\n",
    "import torch.optim as optim\n",
    "from torch.utils.data import Dataset, DataLoader, random_split\n",
    "import torchvision\n",
    "import torchvision.models as models\n",
    "from torchvision import transforms, datasets\n",
    "from PIL import Image\n",
    "\n",
    "# Scikit-Learn for evaluation metrics and data splitting\n",
    "from sklearn.model_selection import train_test_split\n",
    "from sklearn.metrics import confusion_matrix, accuracy_score, classification_report\n",
    "\n",
    "# Imbalanced-learn for oversampling to address class imbalance\n",
    "from imblearn.over_sampling import RandomOverSampler\n",
    "\n",
    "from torchvision import transforms\n",
    "from torchvision.transforms import functional as F\n",
    "from PIL import Image\n",
    "from PIL import Image\n",
    "from PIL import UnidentifiedImageError\n",
    "from tqdm import tqdm\n"
   ]
  },
  {
   "cell_type": "code",
   "execution_count": 2,
   "metadata": {},
   "outputs": [],
   "source": [
    "# Define local file paths\n",
    "\n",
    "# Define your Desktop folder based on your OS; this uses the user's home directory.\n",
    "desktop = os.path.join(os.path.expanduser(\"~\"), \"Desktop\")\n",
    "\n",
    "# Path to the filtered patches folder on your Desktop\n",
    "filtered_patches_dir = os.path.join(desktop, \"uni\", \"STAT 390\", \"Hannah Zhao\", \"CMIL_SP2025_Patches_Apr16\")\n",
    "\n",
    "# Path to the CSV file inside Desktop/uni/STAT 390/Hannah Zhao\n",
    "csv_file_path = os.path.join(desktop, \"uni\", \"STAT 390\", \"Hannah Zhao\", \"case_grade_match.csv\")\n",
    "\n",
    "# Directory to store model checkpoints\n",
    "checkpoint_dir = os.path.join(desktop, \"uni\", \"STAT 390\", \"Hannah Zhao\", \"Checkpoints\")\n",
    "os.makedirs(checkpoint_dir, exist_ok=True)  # Create the directory if it doesn't exist\n",
    "\n",
    "# load labels \n",
    "labels = pd.read_csv(csv_file_path)"
   ]
  },
  {
   "cell_type": "code",
   "execution_count": 3,
   "metadata": {},
   "outputs": [],
   "source": [
    "# === Helper: group patches\n",
    "def group_patches(patch_dir):\n",
    "    case_patches = {}\n",
    "    for filename in os.listdir(patch_dir):\n",
    "        match = re.search(r\"case_(\\d+)\", filename)\n",
    "        if match:\n",
    "            case_num = int(match.group(1))\n",
    "            if case_num not in case_patches:\n",
    "                case_patches[case_num] = []\n",
    "            case_patches[case_num].append(os.path.join(patch_dir, filename))\n",
    "    return case_patches\n",
    "\n",
    "patches = group_patches(filtered_patches_dir)\n",
    "\n",
    "# Validation / Test transform\n",
    "transform = transforms.Compose([\n",
    "    transforms.Resize((224, 224)),\n",
    "    transforms.ToTensor(),\n",
    "    transforms.Normalize(mean=[0.485, 0.456, 0.406],\n",
    "                         std=[0.229, 0.224, 0.225])\n",
    "])\n",
    "\n",
    "# Training transform (augmented)\n",
    "train_transform = transforms.Compose([\n",
    "    transforms.RandomResizedCrop(224),\n",
    "    transforms.RandomHorizontalFlip(),\n",
    "    transforms.RandomVerticalFlip(),\n",
    "    transforms.RandomRotation(15),\n",
    "    transforms.ColorJitter(brightness=0.2, contrast=0.2, saturation=0.2),\n",
    "    transforms.ToTensor(),\n",
    "    transforms.Normalize(mean=[0.485, 0.456, 0.406],\n",
    "                         std=[0.229, 0.224, 0.225])\n",
    "])"
   ]
  },
  {
   "cell_type": "code",
   "execution_count": 4,
   "metadata": {},
   "outputs": [],
   "source": [
    "# Prepare case split\n",
    "case_nums = list(patches.keys())\n",
    "dataset = labels.loc[[(x-1) for x in case_nums]]  # Adjust indexing\n",
    "valid_classes = [1.0, 3.0, 4.0]\n",
    "filtered_dataset = dataset[dataset['Class'].isin(valid_classes)]\n",
    "\n",
    "X = filtered_dataset.Case.reset_index(drop=True)\n",
    "y = filtered_dataset.Class.reset_index(drop=True)\n",
    "\n",
    "\n",
    "benign_cases = [2, 21, 22, 25, 34, 45, 53, 77, 78, 79, 85, 90]\n",
    "highgrade_cases = [1, 3, 9, 12, 38, 49, 55, 60, 62, 70, 89, 92, 98, 99]\n",
    "\n",
    "# Split manually or use random\n",
    "random.seed(42)\n",
    "random.shuffle(benign_cases)\n",
    "random.shuffle(highgrade_cases)\n",
    "\n",
    "# Choose 3 benign + 3 high-grade for training\n",
    "train_cases = benign_cases[:3] + highgrade_cases[:3]\n",
    "\n",
    "# Next 2 of each for validation\n",
    "val_cases = benign_cases[3:5] + highgrade_cases[3:5]\n",
    "\n",
    "# The rest for testing\n",
    "test_cases = benign_cases[5:] + highgrade_cases[5:]\n",
    "\n",
    "# # === No train_test_split ===\n",
    "# train_cases = [77, 34, 89, 9]  # 1 benign + 1 high-grade, 84 -- high grade, 86 -- benign\n",
    "# val_cases = [78, 1]        # 1 benign, 2, 92\n",
    "# test_cases = [3, 79]        # 1 high-grade\n",
    "\n",
    "train_patches = {c: patches[c] for c in train_cases if c in patches}\n",
    "val_patches   = {c: patches[c] for c in val_cases if c in patches}\n",
    "test_patches  = {c: patches[c] for c in test_cases if c in patches}\n",
    "\n",
    "# Optional: filter to just H&E stain\n",
    "def filter_by_stain(d, keyword):\n",
    "    out = {}\n",
    "    for c, paths in d.items():\n",
    "        f = [p for p in paths if keyword.lower() in os.path.basename(p).lower()]\n",
    "        if f:\n",
    "            out[c] = f\n",
    "    return out\n",
    "\n",
    "stain = \"h&e\"\n",
    "train_patches = filter_by_stain(train_patches, stain)\n",
    "val_patches = filter_by_stain(val_patches, stain)\n",
    "test_patches = filter_by_stain(test_patches, stain)"
   ]
  },
  {
   "cell_type": "code",
   "execution_count": 23,
   "metadata": {},
   "outputs": [
    {
     "name": "stdout",
     "output_type": "stream",
     "text": [
      "Original train_cases: [77, 45, 22, 9, 49, 60]\n",
      "Train cases with patches: [77, 9]\n",
      "Missing from train_cases: [45, 22, 49, 60]\n"
     ]
    }
   ],
   "source": [
    "print(\"Original train_cases:\", train_cases)\n",
    "print(\"Train cases with patches:\", list(train_patches.keys()))\n",
    "print(\"Missing from train_cases:\", [c for c in train_cases if c not in train_patches])\n"
   ]
  },
  {
   "cell_type": "code",
   "execution_count": 27,
   "metadata": {},
   "outputs": [],
   "source": [
    "class MILDataset(Dataset):\n",
    "    def __init__(self, case_patches, labels_df, transform=None, emergency_cap=800):\n",
    "        self.transform = transform\n",
    "        self.emergency_cap = emergency_cap  # only cap if massive\n",
    "        self.bags, self.labels = [], []\n",
    "        for case, paths in case_patches.items():\n",
    "            raw = labels_df.loc[labels_df['Case'] == case, 'Class'].item()\n",
    "            bag_lbl = 0 if raw == 1 else 1\n",
    "            self.bags.append(paths)\n",
    "            self.labels.append(bag_lbl)\n",
    "\n",
    "    def __len__(self): return len(self.bags)\n",
    "\n",
    "    def __getitem__(self, idx):\n",
    "        paths = self.bags[idx]\n",
    "        imgs = []\n",
    "        for p in paths:\n",
    "            try:\n",
    "                img = Image.open(p).convert('RGB')\n",
    "                if self.transform:\n",
    "                    img = self.transform(img)\n",
    "                imgs.append(img)\n",
    "            except:\n",
    "                continue\n",
    "\n",
    "        if len(imgs) == 0:\n",
    "            raise ValueError(f\"No good patches in case {paths}\")\n",
    "\n",
    "        # Only sample if emergency_cap is set\n",
    "        if self.emergency_cap is not None and len(imgs) > self.emergency_cap:\n",
    "            imgs = random.sample(imgs, self.emergency_cap)\n",
    "\n",
    "        return torch.stack(imgs), torch.tensor(self.labels[idx], dtype=torch.long)\n",
    "\n",
    "\n",
    "class PatchLevelDataset(Dataset):\n",
    "    def __init__(self, case_patches, labels_df, transform=None, balance=True):\n",
    "        self.data = []\n",
    "        self.transform = transform\n",
    "        self.label_map = {1.0: 0, 3.0: 1, 4.0: 1}\n",
    "        for case_id, patch_paths in case_patches.items():\n",
    "            raw_label = labels_df.loc[labels_df['Case'] == case_id, 'Class'].item()\n",
    "            label = self.label_map[raw_label]\n",
    "            for patch_path in patch_paths:\n",
    "                self.data.append((patch_path, label))\n",
    "        if balance:\n",
    "            from collections import Counter\n",
    "            counts = Counter([label for _, label in self.data])\n",
    "            min_count = min(counts.values())\n",
    "            balanced = {0: [], 1: []}\n",
    "            for path, label in self.data:\n",
    "                if len(balanced[label]) < min_count:\n",
    "                    balanced[label].append((path, label))\n",
    "            self.data = balanced[0] + balanced[1]\n",
    "\n",
    "    def __len__(self):\n",
    "        return len(self.data)\n",
    "\n",
    "    def __getitem__(self, idx):\n",
    "        path, label = self.data[idx]\n",
    "        img = Image.open(path).convert('RGB')\n",
    "        if self.transform:\n",
    "            img = self.transform(img)\n",
    "        return img, label\n",
    "\n",
    "\n",
    "class AttentionPool(nn.Module):\n",
    "    def __init__(self, input_dim, hidden_dim=128):\n",
    "        super().__init__()\n",
    "        self.attention = nn.Sequential(\n",
    "            nn.Linear(input_dim, hidden_dim),\n",
    "            nn.Tanh(),\n",
    "            nn.Linear(hidden_dim, 1)\n",
    "        )\n",
    "\n",
    "    def forward(self, x, return_weights=False):\n",
    "        weights = self.attention(x)     # (B, M, 1)\n",
    "        weights = torch.softmax(weights, dim=1)\n",
    "        weighted_x = (weights * x).sum(dim=1)  # (B, D)\n",
    "\n",
    "        if return_weights:\n",
    "            return weighted_x, weights.squeeze(-1)  # (B, D), (B, M)\n",
    "        return weighted_x\n",
    "\n",
    "class PatchClassifier(nn.Module):\n",
    "    def __init__(self):\n",
    "        super().__init__()\n",
    "        base = models.densenet121(weights=models.DenseNet121_Weights.DEFAULT)\n",
    "        self.features = base.features\n",
    "        self.pool = nn.AdaptiveAvgPool2d((2, 2))\n",
    "        self.classifier = nn.Linear(base.classifier.in_features * 4, 2)\n",
    "\n",
    "\n",
    "    def forward(self, x):\n",
    "        x = self.features(x)\n",
    "        x = self.pool(x).view(x.size(0), -1)  # Flatten 1024×2×2 → 4096\n",
    "        x = self.classifier(x)\n",
    "        return x\n",
    "\n",
    "# using Densenet to extract features at the patch-level, and adaptaive pooling for patch-level feature pooling\n",
    "# the patch features are passed into Attentionpool which learns the weights across patches and combines them into a single bag label\n",
    "\n",
    "class AttnMIL(nn.Module):\n",
    "    def __init__(self, base_model, num_classes=2, embed_dim=512):\n",
    "        super().__init__()\n",
    "        self.features = base_model.features\n",
    "        self.pool = nn.AdaptiveAvgPool2d((2,2))  # richer than (1,1)\n",
    "        self.patch_projector = nn.Linear(base_model.classifier.in_features * 4, embed_dim)\n",
    "        self.attention_pool = AttentionPool(embed_dim)\n",
    "        self.classifier = nn.Linear(embed_dim, num_classes)\n",
    "        \n",
    "    def forward(self, x, return_patch_logits=False, return_attn_weights=False):\n",
    "        if x.dim() == 4:\n",
    "            x = x.unsqueeze(0)\n",
    "        B, M, C, H, W = x.shape\n",
    "        x = x.view(B*M, C, H, W)\n",
    "\n",
    "        features = self.features(x)\n",
    "        pooled = self.pool(features).view(B*M, -1)\n",
    "        embedded = self.patch_projector(pooled).view(B, M, -1)\n",
    "\n",
    "        if return_patch_logits:\n",
    "            logits = self.classifier(embedded)  # (B, M, 2)\n",
    "            return logits\n",
    "\n",
    "        if return_attn_weights:\n",
    "            bag_emb, attn_weights = self.attention_pool(embedded, return_weights=True)\n",
    "            logits = self.classifier(bag_emb)\n",
    "            return logits, attn_weights  # bag prediction + per-patch attention scores\n",
    "\n",
    "        bag_emb = self.attention_pool(embedded)\n",
    "        logits = self.classifier(bag_emb)\n",
    "        return logits\n"
   ]
  },
  {
   "cell_type": "code",
   "execution_count": 6,
   "metadata": {},
   "outputs": [],
   "source": [
    "# Set up datasets\n",
    "train_ds = MILDataset(train_patches, labels, transform=train_transform)\n",
    "val_ds   = MILDataset(val_patches,   labels, transform=transform)\n",
    "test_ds  = MILDataset(test_patches,  labels, transform=transform, emergency_cap=None)\n",
    "\n",
    "train_loader = DataLoader(train_ds, batch_size=1, shuffle=True)\n",
    "val_loader   = DataLoader(val_ds, batch_size=1, shuffle=False)\n",
    "test_loader  = DataLoader(test_ds, batch_size=1, shuffle=False)"
   ]
  },
  {
   "cell_type": "code",
   "execution_count": 20,
   "metadata": {},
   "outputs": [
    {
     "name": "stdout",
     "output_type": "stream",
     "text": [
      "Benign patches (label=0): 83\n",
      "High-grade patches (label=1): 54\n"
     ]
    }
   ],
   "source": [
    "from collections import Counter\n",
    "\n",
    "def count_patches_by_class(dataset):\n",
    "    patch_counts = Counter()\n",
    "\n",
    "    for i in range(len(dataset)):\n",
    "        X_bag, label = dataset[i]\n",
    "        num_patches = X_bag.shape[0]\n",
    "        label = label.item()\n",
    "        patch_counts[label] += num_patches\n",
    "\n",
    "    return patch_counts\n",
    "\n",
    "counts = count_patches_by_class(train_ds)\n",
    "print(f\"Benign patches (label=0): {counts[0]}\")\n",
    "print(f\"High-grade patches (label=1): {counts[1]}\")"
   ]
  },
  {
   "cell_type": "code",
   "execution_count": 21,
   "metadata": {},
   "outputs": [
    {
     "name": "stdout",
     "output_type": "stream",
     "text": [
      "Number of training cases: 2\n",
      "Training case numbers: [77, 9]\n",
      "Validation cases: [78, 79]\n",
      "Test cases: [90, 34, 2, 85, 92, 98, 89, 12, 3, 99, 1]\n"
     ]
    }
   ],
   "source": [
    "train_case_ids = list(train_patches.keys())\n",
    "print(f\"Number of training cases: {len(train_case_ids)}\")\n",
    "print(f\"Training case numbers: {train_case_ids}\")\n",
    "\n",
    "val_case_ids = list(val_patches.keys())\n",
    "test_case_ids = list(test_patches.keys())\n",
    "\n",
    "print(f\"Validation cases: {val_case_ids}\")\n",
    "print(f\"Test cases: {test_case_ids}\")"
   ]
  },
  {
   "cell_type": "code",
   "execution_count": 22,
   "metadata": {},
   "outputs": [
    {
     "name": "stdout",
     "output_type": "stream",
     "text": [
      "Benign cases in training: [77] (1 total)\n",
      "High-grade cases in training: [9] (1 total)\n"
     ]
    }
   ],
   "source": [
    "benign_cases = []\n",
    "highgrade_cases = []\n",
    "\n",
    "for case in train_case_ids:\n",
    "    class_label = labels.loc[labels['Case'] == case, 'Class'].item()\n",
    "    if class_label == 1.0:\n",
    "        benign_cases.append(case)\n",
    "    else:\n",
    "        highgrade_cases.append(case)\n",
    "\n",
    "print(f\"Benign cases in training: {benign_cases} ({len(benign_cases)} total)\")\n",
    "print(f\"High-grade cases in training: {highgrade_cases} ({len(highgrade_cases)} total)\")"
   ]
  },
  {
   "cell_type": "code",
   "execution_count": 19,
   "metadata": {},
   "outputs": [],
   "source": [
    "def save_checkpoint(model, arch, checkpoint_dir, optimizer, epoch):\n",
    "    os.makedirs(checkpoint_dir, exist_ok=True)\n",
    "    timestamp = datetime.now().strftime(\"%Y%m%d_%H%M%S\")\n",
    "    filename = f\"{checkpoint_dir}/{timestamp}_{arch}_epoch{epoch}.pth\"\n",
    "    checkpoint = {\n",
    "        \"arch\": arch,\n",
    "        \"model_state_dict\": model.state_dict(),\n",
    "        \"epoch\": epoch,\n",
    "        \"optimizer_state_dict\": optimizer.state_dict(),\n",
    "    }\n",
    "    torch.save(checkpoint, filename)\n",
    "    print(f\"✅ Checkpoint saved: {filename}\")\n",
    "\n",
    "def validation(model, criterion, val_loader):\n",
    "    val_loss = 0\n",
    "    correct_total = 0\n",
    "    sample_total = 0\n",
    "    model.eval()\n",
    "    with torch.no_grad():\n",
    "        for bags, labels in val_loader:\n",
    "            bags = bags.to(device)\n",
    "            labels = labels.to(device)\n",
    "            outputs = model(bags)\n",
    "            loss = criterion(outputs, labels)\n",
    "            val_loss += loss.item() * labels.size(0)\n",
    "            preds = torch.argmax(outputs, dim=1)\n",
    "            correct_total += (preds == labels).sum().item()\n",
    "            sample_total += labels.size(0)\n",
    "    return val_loss / sample_total, correct_total / sample_total\n",
    "\n",
    "def train_model(model, optimizer, criterion, train_loader, val_loader, arch, checkpoint_dir, epochs=5):\n",
    "    for epoch in range(epochs):\n",
    "        model.train()\n",
    "        running_loss = 0\n",
    "        for bags, labels in tqdm(train_loader, desc=f\"Epoch {epoch+1}/{epochs}\"):\n",
    "            bags = bags.to(device)\n",
    "            labels = labels.to(device)\n",
    "            optimizer.zero_grad()\n",
    "            outputs = model(bags)\n",
    "            loss = criterion(outputs, labels)\n",
    "            loss.backward()\n",
    "            optimizer.step()\n",
    "            running_loss += loss.item()\n",
    "        val_loss, val_acc = validation(model, criterion, val_loader)\n",
    "        print(f\"Epoch {epoch+1}/{epochs}, Train Loss: {running_loss/len(train_loader):.3f}, Val Loss: {val_loss:.3f}, Val Acc: {val_acc:.3f}\")\n",
    "        save_checkpoint(model, arch, checkpoint_dir, optimizer, epoch+1)\n",
    "    return model"
   ]
  },
  {
   "cell_type": "code",
   "execution_count": 25,
   "metadata": {},
   "outputs": [],
   "source": [
    "def train_patch_classifier(model, train_loader, val_loader, criterion, optimizer, device, epochs=5):\n",
    "    model.to(device)\n",
    "    for epoch in range(epochs):\n",
    "        model.train()\n",
    "        running_loss = 0.0\n",
    "        for images, labels in tqdm(train_loader, desc=f\"[Patch] Epoch {epoch+1}/{epochs}\"):\n",
    "            images, labels = images.to(device), labels.to(device)\n",
    "            optimizer.zero_grad()\n",
    "            outputs = model(images)\n",
    "            loss = criterion(outputs, labels)\n",
    "            loss.backward()\n",
    "            optimizer.step()\n",
    "            running_loss += loss.item()\n",
    "        print(f\"[Patch] Epoch {epoch+1}, Training Loss: {running_loss / len(train_loader):.4f}\")\n",
    "        evaluate_patch_classifier(model, val_loader, device, title=\"Validation\")\n",
    "\n",
    "def evaluate_patch_classifier(model, loader, device, title=\"Test\"):\n",
    "    model.eval()\n",
    "    all_preds, all_trues = [], []\n",
    "    with torch.no_grad():\n",
    "        for images, labels in loader:\n",
    "            images = images.to(device)\n",
    "            outputs = model(images)\n",
    "            preds = outputs.argmax(dim=1).cpu().numpy()\n",
    "            all_preds.extend(preds)\n",
    "            all_trues.extend(labels.numpy())\n",
    "    print(f\"\\n=== {title} Patch-Level Classification Report ===\")\n",
    "    print(classification_report(all_trues, all_preds, target_names=['Benign', 'High-grade CMIL']))"
   ]
  },
  {
   "cell_type": "code",
   "execution_count": 8,
   "metadata": {},
   "outputs": [],
   "source": [
    "device = torch.device(\"cuda\" if torch.cuda.is_available() else \"cpu\")\n",
    "base_model = models.densenet121(weights=models.DenseNet121_Weights.DEFAULT)\n",
    "model = AttnMIL(base_model=base_model).to(device)\n",
    "\n",
    "optimizer = torch.optim.Adam(model.parameters(), lr=0.001)\n",
    "criterion = nn.CrossEntropyLoss()\n",
    "arch = \"densenet121_simplemil\"\n",
    "\n",
    "train_loader = DataLoader(train_ds, batch_size=1, shuffle=True)\n",
    "val_loader = DataLoader(val_ds, batch_size=1, shuffle=False)\n",
    "test_loader = DataLoader(test_ds, batch_size=1, shuffle=False)\n"
   ]
  },
  {
   "cell_type": "code",
   "execution_count": 9,
   "metadata": {},
   "outputs": [
    {
     "name": "stderr",
     "output_type": "stream",
     "text": [
      "Epoch 1/5: 100%|██████████| 2/2 [01:59<00:00, 59.64s/it]\n"
     ]
    },
    {
     "name": "stdout",
     "output_type": "stream",
     "text": [
      "Epoch 1/5, Train Loss: 9.013, Val Loss: 21.333, Val Acc: 0.000\n",
      "✅ Checkpoint saved: /Users/hannahzhao/Desktop/uni/STAT 390/Hannah Zhao/Checkpoints/20250430_004502_densenet121_simplemil_epoch1.pth\n"
     ]
    },
    {
     "name": "stderr",
     "output_type": "stream",
     "text": [
      "Epoch 2/5: 100%|██████████| 2/2 [01:47<00:00, 53.73s/it]\n"
     ]
    },
    {
     "name": "stdout",
     "output_type": "stream",
     "text": [
      "Epoch 2/5, Train Loss: 4.276, Val Loss: 0.946, Val Acc: 0.000\n",
      "✅ Checkpoint saved: /Users/hannahzhao/Desktop/uni/STAT 390/Hannah Zhao/Checkpoints/20250430_005126_densenet121_simplemil_epoch2.pth\n"
     ]
    },
    {
     "name": "stderr",
     "output_type": "stream",
     "text": [
      "Epoch 3/5: 100%|██████████| 2/2 [01:46<00:00, 53.44s/it]\n"
     ]
    },
    {
     "name": "stdout",
     "output_type": "stream",
     "text": [
      "Epoch 3/5, Train Loss: 4.434, Val Loss: 0.000, Val Acc: 1.000\n",
      "✅ Checkpoint saved: /Users/hannahzhao/Desktop/uni/STAT 390/Hannah Zhao/Checkpoints/20250430_005749_densenet121_simplemil_epoch3.pth\n"
     ]
    },
    {
     "name": "stderr",
     "output_type": "stream",
     "text": [
      "Epoch 4/5: 100%|██████████| 2/2 [01:51<00:00, 55.50s/it]\n"
     ]
    },
    {
     "name": "stdout",
     "output_type": "stream",
     "text": [
      "Epoch 4/5, Train Loss: 0.973, Val Loss: 0.003, Val Acc: 1.000\n",
      "✅ Checkpoint saved: /Users/hannahzhao/Desktop/uni/STAT 390/Hannah Zhao/Checkpoints/20250430_010414_densenet121_simplemil_epoch4.pth\n"
     ]
    },
    {
     "name": "stderr",
     "output_type": "stream",
     "text": [
      "Epoch 5/5: 100%|██████████| 2/2 [01:34<00:00, 47.37s/it]\n"
     ]
    },
    {
     "name": "stdout",
     "output_type": "stream",
     "text": [
      "Epoch 5/5, Train Loss: 1.777, Val Loss: 0.196, Val Acc: 1.000\n",
      "✅ Checkpoint saved: /Users/hannahzhao/Desktop/uni/STAT 390/Hannah Zhao/Checkpoints/20250430_011027_densenet121_simplemil_epoch5.pth\n"
     ]
    }
   ],
   "source": [
    "# Train model\n",
    "trained_model = train_model(\n",
    "    model=model,\n",
    "    optimizer=optimizer,\n",
    "    criterion=criterion,\n",
    "    train_loader=train_loader,\n",
    "    val_loader=val_loader,\n",
    "    arch=arch,\n",
    "    checkpoint_dir=checkpoint_dir,\n",
    "    epochs=5,\n",
    ")"
   ]
  },
  {
   "cell_type": "code",
   "execution_count": 28,
   "metadata": {},
   "outputs": [
    {
     "name": "stderr",
     "output_type": "stream",
     "text": [
      "[Patch] Epoch 1/5: 100%|██████████| 4/4 [02:28<00:00, 37.11s/it]\n"
     ]
    },
    {
     "name": "stdout",
     "output_type": "stream",
     "text": [
      "[Patch] Epoch 1, Training Loss: 0.5748\n"
     ]
    },
    {
     "name": "stderr",
     "output_type": "stream",
     "text": [
      "/opt/anaconda3/lib/python3.12/site-packages/sklearn/metrics/_classification.py:1509: UndefinedMetricWarning: Recall is ill-defined and being set to 0.0 in labels with no true samples. Use `zero_division` parameter to control this behavior.\n",
      "  _warn_prf(average, modifier, f\"{metric.capitalize()} is\", len(result))\n",
      "/opt/anaconda3/lib/python3.12/site-packages/sklearn/metrics/_classification.py:1509: UndefinedMetricWarning: Recall is ill-defined and being set to 0.0 in labels with no true samples. Use `zero_division` parameter to control this behavior.\n",
      "  _warn_prf(average, modifier, f\"{metric.capitalize()} is\", len(result))\n",
      "/opt/anaconda3/lib/python3.12/site-packages/sklearn/metrics/_classification.py:1509: UndefinedMetricWarning: Recall is ill-defined and being set to 0.0 in labels with no true samples. Use `zero_division` parameter to control this behavior.\n",
      "  _warn_prf(average, modifier, f\"{metric.capitalize()} is\", len(result))\n"
     ]
    },
    {
     "name": "stdout",
     "output_type": "stream",
     "text": [
      "\n",
      "=== Validation Patch-Level Classification Report ===\n",
      "                 precision    recall  f1-score   support\n",
      "\n",
      "         Benign       1.00      0.85      0.92       461\n",
      "High-grade CMIL       0.00      0.00      0.00         0\n",
      "\n",
      "       accuracy                           0.85       461\n",
      "      macro avg       0.50      0.42      0.46       461\n",
      "   weighted avg       1.00      0.85      0.92       461\n",
      "\n"
     ]
    },
    {
     "name": "stderr",
     "output_type": "stream",
     "text": [
      "[Patch] Epoch 2/5: 100%|██████████| 4/4 [01:34<00:00, 23.75s/it]\n"
     ]
    },
    {
     "name": "stdout",
     "output_type": "stream",
     "text": [
      "[Patch] Epoch 2, Training Loss: 0.2730\n"
     ]
    },
    {
     "name": "stderr",
     "output_type": "stream",
     "text": [
      "/opt/anaconda3/lib/python3.12/site-packages/sklearn/metrics/_classification.py:1509: UndefinedMetricWarning: Recall is ill-defined and being set to 0.0 in labels with no true samples. Use `zero_division` parameter to control this behavior.\n",
      "  _warn_prf(average, modifier, f\"{metric.capitalize()} is\", len(result))\n",
      "/opt/anaconda3/lib/python3.12/site-packages/sklearn/metrics/_classification.py:1509: UndefinedMetricWarning: Recall is ill-defined and being set to 0.0 in labels with no true samples. Use `zero_division` parameter to control this behavior.\n",
      "  _warn_prf(average, modifier, f\"{metric.capitalize()} is\", len(result))\n",
      "/opt/anaconda3/lib/python3.12/site-packages/sklearn/metrics/_classification.py:1509: UndefinedMetricWarning: Recall is ill-defined and being set to 0.0 in labels with no true samples. Use `zero_division` parameter to control this behavior.\n",
      "  _warn_prf(average, modifier, f\"{metric.capitalize()} is\", len(result))\n"
     ]
    },
    {
     "name": "stdout",
     "output_type": "stream",
     "text": [
      "\n",
      "=== Validation Patch-Level Classification Report ===\n",
      "                 precision    recall  f1-score   support\n",
      "\n",
      "         Benign       1.00      0.65      0.79       461\n",
      "High-grade CMIL       0.00      0.00      0.00         0\n",
      "\n",
      "       accuracy                           0.65       461\n",
      "      macro avg       0.50      0.32      0.39       461\n",
      "   weighted avg       1.00      0.65      0.79       461\n",
      "\n"
     ]
    },
    {
     "name": "stderr",
     "output_type": "stream",
     "text": [
      "[Patch] Epoch 3/5: 100%|██████████| 4/4 [02:01<00:00, 30.35s/it]\n"
     ]
    },
    {
     "name": "stdout",
     "output_type": "stream",
     "text": [
      "[Patch] Epoch 3, Training Loss: 0.1469\n"
     ]
    },
    {
     "name": "stderr",
     "output_type": "stream",
     "text": [
      "/opt/anaconda3/lib/python3.12/site-packages/sklearn/metrics/_classification.py:1509: UndefinedMetricWarning: Recall is ill-defined and being set to 0.0 in labels with no true samples. Use `zero_division` parameter to control this behavior.\n",
      "  _warn_prf(average, modifier, f\"{metric.capitalize()} is\", len(result))\n",
      "/opt/anaconda3/lib/python3.12/site-packages/sklearn/metrics/_classification.py:1509: UndefinedMetricWarning: Recall is ill-defined and being set to 0.0 in labels with no true samples. Use `zero_division` parameter to control this behavior.\n",
      "  _warn_prf(average, modifier, f\"{metric.capitalize()} is\", len(result))\n",
      "/opt/anaconda3/lib/python3.12/site-packages/sklearn/metrics/_classification.py:1509: UndefinedMetricWarning: Recall is ill-defined and being set to 0.0 in labels with no true samples. Use `zero_division` parameter to control this behavior.\n",
      "  _warn_prf(average, modifier, f\"{metric.capitalize()} is\", len(result))\n"
     ]
    },
    {
     "name": "stdout",
     "output_type": "stream",
     "text": [
      "\n",
      "=== Validation Patch-Level Classification Report ===\n",
      "                 precision    recall  f1-score   support\n",
      "\n",
      "         Benign       1.00      0.61      0.75       461\n",
      "High-grade CMIL       0.00      0.00      0.00         0\n",
      "\n",
      "       accuracy                           0.61       461\n",
      "      macro avg       0.50      0.30      0.38       461\n",
      "   weighted avg       1.00      0.61      0.75       461\n",
      "\n"
     ]
    },
    {
     "name": "stderr",
     "output_type": "stream",
     "text": [
      "[Patch] Epoch 4/5: 100%|██████████| 4/4 [01:31<00:00, 22.96s/it]\n"
     ]
    },
    {
     "name": "stdout",
     "output_type": "stream",
     "text": [
      "[Patch] Epoch 4, Training Loss: 0.1640\n"
     ]
    },
    {
     "name": "stderr",
     "output_type": "stream",
     "text": [
      "/opt/anaconda3/lib/python3.12/site-packages/sklearn/metrics/_classification.py:1509: UndefinedMetricWarning: Recall is ill-defined and being set to 0.0 in labels with no true samples. Use `zero_division` parameter to control this behavior.\n",
      "  _warn_prf(average, modifier, f\"{metric.capitalize()} is\", len(result))\n",
      "/opt/anaconda3/lib/python3.12/site-packages/sklearn/metrics/_classification.py:1509: UndefinedMetricWarning: Recall is ill-defined and being set to 0.0 in labels with no true samples. Use `zero_division` parameter to control this behavior.\n",
      "  _warn_prf(average, modifier, f\"{metric.capitalize()} is\", len(result))\n",
      "/opt/anaconda3/lib/python3.12/site-packages/sklearn/metrics/_classification.py:1509: UndefinedMetricWarning: Recall is ill-defined and being set to 0.0 in labels with no true samples. Use `zero_division` parameter to control this behavior.\n",
      "  _warn_prf(average, modifier, f\"{metric.capitalize()} is\", len(result))\n"
     ]
    },
    {
     "name": "stdout",
     "output_type": "stream",
     "text": [
      "\n",
      "=== Validation Patch-Level Classification Report ===\n",
      "                 precision    recall  f1-score   support\n",
      "\n",
      "         Benign       1.00      0.48      0.64       461\n",
      "High-grade CMIL       0.00      0.00      0.00         0\n",
      "\n",
      "       accuracy                           0.48       461\n",
      "      macro avg       0.50      0.24      0.32       461\n",
      "   weighted avg       1.00      0.48      0.64       461\n",
      "\n"
     ]
    },
    {
     "name": "stderr",
     "output_type": "stream",
     "text": [
      "[Patch] Epoch 5/5: 100%|██████████| 4/4 [01:34<00:00, 23.64s/it]\n"
     ]
    },
    {
     "name": "stdout",
     "output_type": "stream",
     "text": [
      "[Patch] Epoch 5, Training Loss: 0.0709\n",
      "\n",
      "=== Validation Patch-Level Classification Report ===\n",
      "                 precision    recall  f1-score   support\n",
      "\n",
      "         Benign       1.00      0.43      0.61       461\n",
      "High-grade CMIL       0.00      0.00      0.00         0\n",
      "\n",
      "       accuracy                           0.43       461\n",
      "      macro avg       0.50      0.22      0.30       461\n",
      "   weighted avg       1.00      0.43      0.61       461\n",
      "\n"
     ]
    },
    {
     "name": "stderr",
     "output_type": "stream",
     "text": [
      "/opt/anaconda3/lib/python3.12/site-packages/sklearn/metrics/_classification.py:1509: UndefinedMetricWarning: Recall is ill-defined and being set to 0.0 in labels with no true samples. Use `zero_division` parameter to control this behavior.\n",
      "  _warn_prf(average, modifier, f\"{metric.capitalize()} is\", len(result))\n",
      "/opt/anaconda3/lib/python3.12/site-packages/sklearn/metrics/_classification.py:1509: UndefinedMetricWarning: Recall is ill-defined and being set to 0.0 in labels with no true samples. Use `zero_division` parameter to control this behavior.\n",
      "  _warn_prf(average, modifier, f\"{metric.capitalize()} is\", len(result))\n",
      "/opt/anaconda3/lib/python3.12/site-packages/sklearn/metrics/_classification.py:1509: UndefinedMetricWarning: Recall is ill-defined and being set to 0.0 in labels with no true samples. Use `zero_division` parameter to control this behavior.\n",
      "  _warn_prf(average, modifier, f\"{metric.capitalize()} is\", len(result))\n"
     ]
    }
   ],
   "source": [
    "# === Run patch-level experiment ===\n",
    "patch_train_ds = PatchLevelDataset(train_patches, labels, transform=train_transform)\n",
    "patch_val_ds   = PatchLevelDataset(val_patches,   labels, transform=transform, balance=False)\n",
    "\n",
    "patch_train_loader = DataLoader(patch_train_ds, batch_size=32, shuffle=True)\n",
    "patch_val_loader   = DataLoader(patch_val_ds, batch_size=64, shuffle=False)\n",
    "\n",
    "patch_test_ds = PatchLevelDataset(test_patches, labels, transform=transform, balance=False)\n",
    "patch_test_loader = DataLoader(patch_test_ds, batch_size=64, shuffle=False)\n",
    "\n",
    "patch_model = PatchClassifier()\n",
    "patch_optimizer = torch.optim.Adam(patch_model.parameters(), lr=1e-4)\n",
    "patch_criterion = nn.CrossEntropyLoss()\n",
    "\n",
    "train_patch_classifier(\n",
    "    model=patch_model,\n",
    "    train_loader=patch_train_loader,\n",
    "    val_loader=patch_val_loader,\n",
    "    criterion=patch_criterion,\n",
    "    optimizer=patch_optimizer,\n",
    "    device=device,\n",
    "    epochs=5\n",
    ")"
   ]
  },
  {
   "cell_type": "code",
   "execution_count": 33,
   "metadata": {},
   "outputs": [
    {
     "name": "stdout",
     "output_type": "stream",
     "text": [
      "Patch counts in training set:\n",
      "Benign (0): 54\n",
      "High-grade (1): 54\n"
     ]
    }
   ],
   "source": [
    "# Count labels in training set\n",
    "label_counts = Counter([label for _, label in patch_train_ds])\n",
    "print(\"Patch counts in training set:\")\n",
    "print(f\"Benign (0): {label_counts[0]}\")\n",
    "print(f\"High-grade (1): {label_counts[1]}\")"
   ]
  },
  {
   "cell_type": "code",
   "execution_count": 35,
   "metadata": {},
   "outputs": [
    {
     "name": "stdout",
     "output_type": "stream",
     "text": [
      "Validation cases: [78, 79, 70, 55]\n",
      "val_patches keys: [78, 79]\n",
      "Counter({0: 461})\n"
     ]
    }
   ],
   "source": [
    "print(\"Validation cases:\", val_cases)\n",
    "print(\"val_patches keys:\", list(val_patches.keys()))\n",
    "\n",
    "print(Counter([label for _, label in patch_val_ds]))"
   ]
  },
  {
   "cell_type": "code",
   "execution_count": 10,
   "metadata": {},
   "outputs": [
    {
     "name": "stdout",
     "output_type": "stream",
     "text": [
      "=== Case-Level Classification Report ===\n",
      "                 precision    recall  f1-score   support\n",
      "\n",
      "         Benign       0.30      0.75      0.43         4\n",
      "High-grade CMIL       0.00      0.00      0.00         7\n",
      "\n",
      "       accuracy                           0.27        11\n",
      "      macro avg       0.15      0.38      0.21        11\n",
      "   weighted avg       0.11      0.27      0.16        11\n",
      "\n",
      "\n",
      "=== Patch-Level Classification Report (weak labels) ===\n",
      "                 precision    recall  f1-score   support\n",
      "\n",
      "         Benign       0.26      0.87      0.40       308\n",
      "High-grade CMIL       0.61      0.08      0.14       827\n",
      "\n",
      "       accuracy                           0.29      1135\n",
      "      macro avg       0.43      0.47      0.27      1135\n",
      "   weighted avg       0.51      0.29      0.21      1135\n",
      "\n"
     ]
    }
   ],
   "source": [
    "model.eval()\n",
    "all_preds, all_trues = [], []               # ← case-level\n",
    "all_patch_preds, all_patch_trues = [], []   # ← patch-level\n",
    "\n",
    "with torch.no_grad():\n",
    "    for X_bag, y in test_loader:\n",
    "        X_bag = X_bag.to(device)\n",
    "        y = y.to(device)\n",
    "\n",
    "        # Case-level prediction\n",
    "        bag_logits = model(X_bag)  # default forward, no flags\n",
    "        bag_pred = bag_logits.argmax(dim=1)\n",
    "        all_preds.extend(bag_pred.cpu().numpy())\n",
    "        all_trues.extend(y.cpu().numpy())\n",
    "\n",
    "        # Patch-level predictions\n",
    "        patch_logits = model(X_bag, return_patch_logits=True)  # (1, M, 2)\n",
    "        patch_pred = patch_logits.argmax(dim=2).squeeze(0).cpu().numpy()  # (M,)\n",
    "        patch_labels = y.cpu().item() * np.ones_like(patch_pred)         # weak label\n",
    "\n",
    "        all_patch_preds.extend(patch_pred)\n",
    "        all_patch_trues.extend(patch_labels)\n",
    "\n",
    "print(\"=== Case-Level Classification Report ===\")\n",
    "print(classification_report(all_trues, all_preds, target_names=['Benign', 'High-grade CMIL'], labels=[0,1]))\n",
    "\n",
    "print(\"\\n=== Patch-Level Classification Report (weak labels) ===\")\n",
    "print(classification_report(all_patch_trues, all_patch_preds, target_names=['Benign', 'High-grade CMIL'], labels=[0,1]))"
   ]
  },
  {
   "cell_type": "code",
   "execution_count": 17,
   "metadata": {},
   "outputs": [
    {
     "data": {
      "image/png": "[encoded data removed]",
      "text/plain": [
       "<Figure size 600x500 with 2 Axes>"
      ]
     },
     "metadata": {},
     "output_type": "display_data"
    },
    {
     "data": {
      "image/png": "[encoded data removed]",
      "text/plain": [
       "<Figure size 600x500 with 2 Axes>"
      ]
     },
     "metadata": {},
     "output_type": "display_data"
    }
   ],
   "source": [
    "# Plot confusion matrix\n",
    "cm = confusion_matrix(all_trues, all_preds)\n",
    "plt.figure(figsize=(6,5))\n",
    "sns.heatmap(cm, annot=True, fmt='d', cmap='Blues',\n",
    "            xticklabels=['Benign','High-grade CMIL'],\n",
    "            yticklabels=['Benign','High-grade CMIL'])\n",
    "plt.xlabel(\"Predicted\")\n",
    "plt.ylabel(\"True\")\n",
    "plt.title(\"TransMIL Test Confusion Matrix\")\n",
    "plt.show()\n",
    "\n",
    "# Plot confusion matrix\n",
    "cm = confusion_matrix(all_patch_trues, all_patch_preds)\n",
    "plt.figure(figsize=(6,5))\n",
    "sns.heatmap(cm, annot=True, fmt='d', cmap='Blues',\n",
    "            xticklabels=['Benign','High-grade CMIL'],\n",
    "            yticklabels=['Benign','High-grade CMIL'])\n",
    "plt.xlabel(\"Predicted\")\n",
    "plt.ylabel(\"True\")\n",
    "plt.title(\"TransMIL Test Confusion Matrix\")\n",
    "plt.show()\n",
    "\n",
    "\n"
   ]
  },
  {
   "cell_type": "code",
   "execution_count": 29,
   "metadata": {},
   "outputs": [
    {
     "name": "stdout",
     "output_type": "stream",
     "text": [
      "\n",
      "=== Patch-Level Classification Report (PatchClassifier) ===\n",
      "                 precision    recall  f1-score   support\n",
      "\n",
      "         Benign       0.36      0.29      0.32       308\n",
      "High-grade CMIL       0.75      0.81      0.78       827\n",
      "\n",
      "       accuracy                           0.67      1135\n",
      "      macro avg       0.56      0.55      0.55      1135\n",
      "   weighted avg       0.65      0.67      0.65      1135\n",
      "\n"
     ]
    },
    {
     "data": {
      "image/png": "[encoded data removed]",
      "text/plain": [
       "<Figure size 640x480 with 2 Axes>"
      ]
     },
     "metadata": {},
     "output_type": "display_data"
    }
   ],
   "source": [
    "from sklearn.metrics import confusion_matrix, ConfusionMatrixDisplay\n",
    "\n",
    "def evaluate_patch_model(model, test_loader, device):\n",
    "    model.eval()\n",
    "    all_preds, all_trues = [], []\n",
    "\n",
    "    with torch.no_grad():\n",
    "        for imgs, labels in test_loader:\n",
    "            imgs = imgs.to(device)\n",
    "            outputs = model(imgs)\n",
    "            preds = outputs.argmax(dim=1).cpu().numpy()\n",
    "            all_preds.extend(preds)\n",
    "            all_trues.extend(labels.numpy())\n",
    "\n",
    "    print(\"\\n=== Patch-Level Classification Report (PatchClassifier) ===\")\n",
    "    print(classification_report(all_trues, all_preds, target_names=['Benign', 'High-grade CMIL'], labels=[0,1]))\n",
    "\n",
    "    # Confusion Matrix\n",
    "    cm = confusion_matrix(all_trues, all_preds, labels=[0, 1])\n",
    "    disp = ConfusionMatrixDisplay(confusion_matrix=cm, display_labels=['Benign', 'High-grade CMIL'])\n",
    "    disp.plot(cmap=\"Blues\", values_format='d')\n",
    "    plt.title(\"Patch-Level Classifier Confusion Matrix\")\n",
    "    plt.show()\n",
    "\n",
    "evaluate_patch_model(patch_model, patch_test_loader, device)"
   ]
  }
 ],
 "metadata": {
  "kernelspec": {
   "display_name": "base",
   "language": "python",
   "name": "python3"
  },
  "language_info": {
   "codemirror_mode": {
    "name": "ipython",
    "version": 3
   },
   "file_extension": ".py",
   "mimetype": "text/x-python",
   "name": "python",
   "nbconvert_exporter": "python",
   "pygments_lexer": "ipython3",
   "version": "3.12.4"
  }
 },
 "nbformat": 4,
 "nbformat_minor": 2
}
