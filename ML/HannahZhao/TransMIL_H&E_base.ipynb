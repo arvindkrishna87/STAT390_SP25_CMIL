{
 "cells": [
  {
   "cell_type": "markdown",
   "metadata": {},
   "source": [
    "# Hannah Zhao - Week 2 DenseNet Model with MIL\n",
    "## MIL (Multiple Instance Learning) stops you from punishing for “normal‐looking” patches in High-grade cases by moving supervision up to the case level\n",
    "#### changes include: using TransMIL & self-learned attention & adaptive pooling adjustments & training on only handful of cases\n",
    "##### 1. patch feature extraction (adaptive pooling currently turning it into a single feature vector), 2. transformer encoder, \n",
    "#### overall results:  validation accuracy is very bad.. needs more adjustments, however cannot tell if it's my model's issue or if it's the data issue...\n",
    "#### next step: testing a simple MIL model to see if accuracy at the core is able to be good"
   ]
  },
  {
   "cell_type": "markdown",
   "metadata": {},
   "source": []
  },
  {
   "cell_type": "code",
   "execution_count": 1,
   "metadata": {},
   "outputs": [],
   "source": [
    "# Standard library imports\n",
    "import os\n",
    "import re\n",
    "import random\n",
    "import shutil\n",
    "from datetime import datetime\n",
    "from collections import OrderedDict\n",
    "\n",
    "# Data handling and visualization libraries\n",
    "import numpy as np\n",
    "import pandas as pd\n",
    "import matplotlib.pyplot as plt\n",
    "import seaborn as sns\n",
    "\n",
    "# PyTorch and TorchVision libraries for deep learning\n",
    "import torch\n",
    "import torch.nn as nn\n",
    "import torch.optim as optim\n",
    "from torch.utils.data import Dataset, DataLoader, random_split\n",
    "import torchvision\n",
    "import torchvision.models as models\n",
    "from torchvision import transforms, datasets\n",
    "from PIL import Image\n",
    "\n",
    "# Scikit-Learn for evaluation metrics and data splitting\n",
    "from sklearn.model_selection import train_test_split\n",
    "from sklearn.metrics import confusion_matrix, accuracy_score, classification_report\n",
    "\n",
    "# Imbalanced-learn for oversampling to address class imbalance\n",
    "from imblearn.over_sampling import RandomOverSampler\n",
    "\n",
    "from torchvision import transforms\n",
    "from torchvision.transforms import functional as F\n",
    "from PIL import Image\n",
    "from PIL import Image\n",
    "from PIL import UnidentifiedImageError\n",
    "from tqdm import tqdm\n"
   ]
  },
  {
   "cell_type": "code",
   "execution_count": 2,
   "metadata": {},
   "outputs": [],
   "source": [
    "# Define local file paths\n",
    "\n",
    "# Define your Desktop folder based on your OS; this uses the user's home directory.\n",
    "desktop = os.path.join(os.path.expanduser(\"~\"), \"Desktop\")\n",
    "\n",
    "# Path to the filtered patches folder on your Desktop\n",
    "filtered_patches_dir = os.path.join(desktop, \"uni\", \"STAT 390\", \"Hannah Zhao\", \"CMIL_SP2025_Patches_Apr16\")\n",
    "\n",
    "# Path to the CSV file inside Desktop/uni/STAT 390/Hannah Zhao\n",
    "csv_file_path = os.path.join(desktop, \"uni\", \"STAT 390\", \"Hannah Zhao\", \"case_grade_match.csv\")\n",
    "\n",
    "# Directory to store model checkpoints\n",
    "checkpoint_dir = os.path.join(desktop, \"uni\", \"STAT 390\", \"Hannah Zhao\", \"Checkpoints\")\n",
    "os.makedirs(checkpoint_dir, exist_ok=True)  # Create the directory if it doesn't exist\n",
    "\n",
    "# load labels \n",
    "labels = pd.read_csv(csv_file_path)"
   ]
  },
  {
   "cell_type": "code",
   "execution_count": 3,
   "metadata": {},
   "outputs": [],
   "source": [
    "# === Helper: group patches\n",
    "def group_patches(patch_dir):\n",
    "    case_patches = {}\n",
    "    for filename in os.listdir(patch_dir):\n",
    "        match = re.search(r\"case_(\\d+)\", filename)\n",
    "        if match:\n",
    "            case_num = int(match.group(1))\n",
    "            if case_num not in case_patches:\n",
    "                case_patches[case_num] = []\n",
    "            case_patches[case_num].append(os.path.join(patch_dir, filename))\n",
    "    return case_patches\n",
    "\n",
    "patches = group_patches(filtered_patches_dir)\n",
    "\n",
    "# Validation / Test transform\n",
    "transform = transforms.Compose([\n",
    "    transforms.Resize((224, 224)),\n",
    "    transforms.ToTensor(),\n",
    "    transforms.Normalize(mean=[0.485, 0.456, 0.406],\n",
    "                         std=[0.229, 0.224, 0.225])\n",
    "])\n",
    "\n",
    "# Training transform (augmented)\n",
    "train_transform = transforms.Compose([\n",
    "    transforms.RandomResizedCrop(224),\n",
    "    transforms.RandomHorizontalFlip(),\n",
    "    transforms.RandomVerticalFlip(),\n",
    "    transforms.RandomRotation(15),\n",
    "    transforms.ColorJitter(brightness=0.2, contrast=0.2, saturation=0.2),\n",
    "    transforms.ToTensor(),\n",
    "    transforms.Normalize(mean=[0.485, 0.456, 0.406],\n",
    "                         std=[0.229, 0.224, 0.225])\n",
    "])"
   ]
  },
  {
   "cell_type": "code",
   "execution_count": 4,
   "metadata": {},
   "outputs": [],
   "source": [
    "# Prepare case split\n",
    "case_nums = list(patches.keys())\n",
    "dataset = labels.loc[[(x-1) for x in case_nums]]  # Adjust indexing\n",
    "valid_classes = [1.0, 3.0, 4.0]\n",
    "filtered_dataset = dataset[dataset['Class'].isin(valid_classes)]\n",
    "\n",
    "X = filtered_dataset.Case.reset_index(drop=True)\n",
    "y = filtered_dataset.Class.reset_index(drop=True)\n",
    "\n",
    "\n",
    "#Benign: 2, 21, 22, 25, 34, 45, 53, 77, 78, 79, 85, 90\n",
    "#High grade: 1, 3, 9, 12, 38, 49, 55, 60, 62, 70, 89, 92, 98, 99\n",
    "\n",
    "# === No train_test_split ===\n",
    "train_cases = [77, 34, 89, 9]  # 1 benign + 1 high-grade, 84 -- high grade, 86 -- benign\n",
    "val_cases = [78, 1, 2, 92]        # 1 benign\n",
    "test_cases = [3, 79]        # 1 high-grade\n",
    "\n",
    "train_patches = {c: patches[c] for c in train_cases}\n",
    "val_patches = {c: patches[c] for c in val_cases}\n",
    "test_patches = {c: patches[c] for c in test_cases}\n",
    "\n",
    "# Optional: filter to just H&E stain\n",
    "def filter_by_stain(d, keyword):\n",
    "    out = {}\n",
    "    for c, paths in d.items():\n",
    "        f = [p for p in paths if keyword.lower() in os.path.basename(p).lower()]\n",
    "        if f:\n",
    "            out[c] = f\n",
    "    return out\n",
    "\n",
    "stain = \"h&e\"\n",
    "train_patches = filter_by_stain(train_patches, stain)\n",
    "val_patches = filter_by_stain(val_patches, stain)\n",
    "test_patches = filter_by_stain(test_patches, stain)"
   ]
  },
  {
   "cell_type": "code",
   "execution_count": 5,
   "metadata": {},
   "outputs": [],
   "source": [
    "class MILDataset(Dataset):\n",
    "    def __init__(self, case_patches, labels_df, transform=None, emergency_cap=800):\n",
    "        self.transform = transform\n",
    "        self.emergency_cap = emergency_cap  # only cap if massive\n",
    "        self.bags, self.labels = [], []\n",
    "        for case, paths in case_patches.items():\n",
    "            raw = labels_df.loc[labels_df['Case'] == case, 'Class'].item()\n",
    "            bag_lbl = 0 if raw == 1 else 1\n",
    "            self.bags.append(paths)\n",
    "            self.labels.append(bag_lbl)\n",
    "\n",
    "    def __len__(self): return len(self.bags)\n",
    "\n",
    "    def __getitem__(self, idx):\n",
    "        paths = self.bags[idx]\n",
    "        imgs = []\n",
    "        for p in paths:\n",
    "            try:\n",
    "                img = Image.open(p).convert('RGB')\n",
    "                if self.transform:\n",
    "                    img = self.transform(img)\n",
    "                imgs.append(img)\n",
    "            except:\n",
    "                continue\n",
    "\n",
    "        if len(imgs) == 0:\n",
    "            raise ValueError(f\"No good patches in case {paths}\")\n",
    "\n",
    "        # Only sample if emergency_cap is set\n",
    "        if self.emergency_cap is not None and len(imgs) > self.emergency_cap:\n",
    "            imgs = random.sample(imgs, self.emergency_cap)\n",
    "\n",
    "        return torch.stack(imgs), torch.tensor(self.labels[idx], dtype=torch.long)\n",
    "\n",
    "\n",
    "\n",
    "class AttentionPool(nn.Module):\n",
    "    def __init__(self, input_dim, hidden_dim=128):\n",
    "        super().__init__()\n",
    "        self.attention = nn.Sequential(\n",
    "            nn.Linear(input_dim, hidden_dim),\n",
    "            nn.Tanh(),\n",
    "            nn.Linear(hidden_dim, 1)\n",
    "        )\n",
    "\n",
    "    def forward(self, x):\n",
    "        # x shape: (B, M, D)\n",
    "        weights = self.attention(x)  # (B, M, 1)\n",
    "        weights = torch.softmax(weights, dim=1)  # softmax across patches\n",
    "        weighted_x = (weights * x).sum(dim=1)    # weighted sum of patches\n",
    "        return weighted_x\n",
    "    \n",
    "\n",
    "class TransMIL(nn.Module):\n",
    "    def __init__(self, base_model, num_classes=2, embed_dim=512, num_heads=8, num_layers=2):\n",
    "        super().__init__()\n",
    "        self.features = base_model.features\n",
    "        self.pool = nn.AdaptiveAvgPool2d((2,2))\n",
    "        self.patch_projector = nn.Linear(base_model.classifier.in_features * 4, embed_dim)\n",
    "        self.attention_pool = AttentionPool(embed_dim)\n",
    "        \n",
    "        # self-attention happens — each patch learns which other patches are important to it, happening internally\n",
    "        encoder_layer = nn.TransformerEncoderLayer(d_model=embed_dim, nhead=num_heads, batch_first=True)\n",
    "        self.transformer = nn.TransformerEncoder(encoder_layer, num_layers=num_layers)\n",
    "\n",
    "        self.classifier = nn.Linear(embed_dim, num_classes)\n",
    "\n",
    "    def forward(self, x):\n",
    "        if x.dim() == 4:\n",
    "            x = x.unsqueeze(0)\n",
    "        B, M, C, H, W = x.shape\n",
    "        x = x.view(B*M, C, H, W)\n",
    "\n",
    "        features = self.features(x)\n",
    "        pooled = self.pool(features).view(B*M, -1)\n",
    "        embeddings = self.patch_projector(pooled)\n",
    "        embeddings = embeddings.view(B, M, -1)  # (batch, sequence, embed_dim)\n",
    "\n",
    "        transformer_out = self.transformer(embeddings)  # No permute needed\n",
    "\n",
    "        bag_emb = self.attention_pool(transformer_out)  # replace mean pooling with the learned attention\n",
    "        logits = self.classifier(bag_emb)\n",
    "\n",
    "        return logits\n"
   ]
  },
  {
   "cell_type": "code",
   "execution_count": 6,
   "metadata": {},
   "outputs": [],
   "source": [
    "# Set up datasets\n",
    "train_ds = MILDataset(train_patches, labels, transform=train_transform, emergency_cap=250)\n",
    "val_ds   = MILDataset(val_patches,   labels, transform=transform, emergency_cap=250)\n",
    "test_ds  = MILDataset(test_patches,  labels, transform=transform, emergency_cap=None)\n",
    "\n",
    "train_loader = DataLoader(train_ds, batch_size=1, shuffle=True)\n",
    "val_loader   = DataLoader(val_ds, batch_size=1, shuffle=False)\n",
    "test_loader  = DataLoader(test_ds, batch_size=1, shuffle=False)"
   ]
  },
  {
   "cell_type": "code",
   "execution_count": 7,
   "metadata": {},
   "outputs": [],
   "source": [
    "def save_checkpoint(model, arch, checkpoint_dir, optimizer, epoch):\n",
    "    os.makedirs(checkpoint_dir, exist_ok=True)\n",
    "    timestamp = datetime.now().strftime(\"%Y%m%d_%H%M%S\")\n",
    "    filename = f\"{checkpoint_dir}/{timestamp}_{arch}_epoch{epoch}.pth\"\n",
    "    checkpoint = {\n",
    "        \"arch\": arch,\n",
    "        \"model_state_dict\": model.state_dict(),\n",
    "        \"epoch\": epoch,\n",
    "        \"optimizer_state_dict\": optimizer.state_dict(),\n",
    "    }\n",
    "    torch.save(checkpoint, filename)\n",
    "    print(f\"✅ Checkpoint saved: {filename}\")\n",
    "\n",
    "def validation(model, criterion, val_loader):\n",
    "    val_loss = 0\n",
    "    correct_total = 0\n",
    "    sample_total = 0\n",
    "    model.eval()\n",
    "    with torch.no_grad():\n",
    "        for bags, labels in val_loader:\n",
    "            bags = bags.to(device)\n",
    "            labels = labels.to(device)\n",
    "            outputs = model(bags)\n",
    "            loss = criterion(outputs, labels)\n",
    "            val_loss += loss.item() * labels.size(0)\n",
    "            preds = torch.argmax(outputs, dim=1)\n",
    "            correct_total += (preds == labels).sum().item()\n",
    "            sample_total += labels.size(0)\n",
    "    return val_loss / sample_total, correct_total / sample_total\n",
    "\n",
    "def train_model(model, optimizer, criterion, train_loader, val_loader, arch, checkpoint_dir, epochs=5):\n",
    "    for epoch in range(epochs):\n",
    "        model.train()\n",
    "        running_loss = 0\n",
    "        for bags, labels in tqdm(train_loader, desc=f\"Epoch {epoch+1}/{epochs}\"):\n",
    "            bags = bags.to(device)\n",
    "            labels = labels.to(device)\n",
    "            optimizer.zero_grad()\n",
    "            outputs = model(bags)\n",
    "            loss = criterion(outputs, labels)\n",
    "            loss.backward()\n",
    "            optimizer.step()\n",
    "            running_loss += loss.item()\n",
    "        val_loss, val_acc = validation(model, criterion, val_loader)\n",
    "        print(f\"Epoch {epoch+1}/{epochs}, Train Loss: {running_loss/len(train_loader):.3f}, Val Loss: {val_loss:.3f}, Val Acc: {val_acc:.3f}\")\n",
    "        save_checkpoint(model, arch, checkpoint_dir, optimizer, epoch+1)\n",
    "    return model"
   ]
  },
  {
   "cell_type": "code",
   "execution_count": 8,
   "metadata": {},
   "outputs": [],
   "source": [
    "device = torch.device(\"cuda\" if torch.cuda.is_available() else \"cpu\")\n",
    "base_model = models.densenet121(weights=models.DenseNet121_Weights.DEFAULT)\n",
    "model = TransMIL(base_model=base_model).to(device)\n",
    "\n",
    "optimizer = torch.optim.Adam(model.parameters(), lr=0.001)\n",
    "criterion = nn.CrossEntropyLoss()\n",
    "arch = \"densenet121_transmil\"\n",
    "\n",
    "train_loader = DataLoader(train_ds, batch_size=1, shuffle=True)\n",
    "val_loader = DataLoader(val_ds, batch_size=1, shuffle=False)\n",
    "test_loader = DataLoader(test_ds, batch_size=1, shuffle=False)\n"
   ]
  },
  {
   "cell_type": "code",
   "execution_count": 9,
   "metadata": {},
   "outputs": [
    {
     "name": "stderr",
     "output_type": "stream",
     "text": [
      "Epoch 1/5: 100%|██████████| 4/4 [02:46<00:00, 41.53s/it]\n"
     ]
    },
    {
     "name": "stdout",
     "output_type": "stream",
     "text": [
      "Epoch 1/5, Train Loss: 6.084, Val Loss: 0.930, Val Acc: 0.500\n",
      "✅ Checkpoint saved: /Users/hannahzhao/Desktop/uni/STAT 390/Hannah Zhao/Checkpoints/20250428_004329_densenet121_transmil_epoch1.pth\n"
     ]
    },
    {
     "name": "stderr",
     "output_type": "stream",
     "text": [
      "Epoch 2/5: 100%|██████████| 4/4 [02:35<00:00, 38.95s/it]\n"
     ]
    },
    {
     "name": "stdout",
     "output_type": "stream",
     "text": [
      "Epoch 2/5, Train Loss: 2.919, Val Loss: 1.158, Val Acc: 0.500\n",
      "✅ Checkpoint saved: /Users/hannahzhao/Desktop/uni/STAT 390/Hannah Zhao/Checkpoints/20250428_004729_densenet121_transmil_epoch2.pth\n"
     ]
    },
    {
     "name": "stderr",
     "output_type": "stream",
     "text": [
      "Epoch 3/5: 100%|██████████| 4/4 [02:48<00:00, 42.20s/it]\n"
     ]
    },
    {
     "name": "stdout",
     "output_type": "stream",
     "text": [
      "Epoch 3/5, Train Loss: 2.005, Val Loss: 1.482, Val Acc: 0.500\n",
      "✅ Checkpoint saved: /Users/hannahzhao/Desktop/uni/STAT 390/Hannah Zhao/Checkpoints/20250428_005142_densenet121_transmil_epoch3.pth\n"
     ]
    },
    {
     "name": "stderr",
     "output_type": "stream",
     "text": [
      "Epoch 4/5: 100%|██████████| 4/4 [02:41<00:00, 40.31s/it]\n"
     ]
    },
    {
     "name": "stdout",
     "output_type": "stream",
     "text": [
      "Epoch 4/5, Train Loss: 1.156, Val Loss: 0.770, Val Acc: 0.500\n",
      "✅ Checkpoint saved: /Users/hannahzhao/Desktop/uni/STAT 390/Hannah Zhao/Checkpoints/20250428_005549_densenet121_transmil_epoch4.pth\n"
     ]
    },
    {
     "name": "stderr",
     "output_type": "stream",
     "text": [
      "Epoch 5/5: 100%|██████████| 4/4 [02:46<00:00, 41.60s/it]\n"
     ]
    },
    {
     "name": "stdout",
     "output_type": "stream",
     "text": [
      "Epoch 5/5, Train Loss: 0.879, Val Loss: 0.815, Val Acc: 0.500\n",
      "✅ Checkpoint saved: /Users/hannahzhao/Desktop/uni/STAT 390/Hannah Zhao/Checkpoints/20250428_010002_densenet121_transmil_epoch5.pth\n"
     ]
    }
   ],
   "source": [
    "# Train model\n",
    "trained_model = train_model(\n",
    "    model=model,\n",
    "    optimizer=optimizer,\n",
    "    criterion=criterion,\n",
    "    train_loader=train_loader,\n",
    "    val_loader=val_loader,\n",
    "    arch=arch,\n",
    "    checkpoint_dir=checkpoint_dir,\n",
    "    epochs=5,\n",
    ")"
   ]
  },
  {
   "cell_type": "code",
   "execution_count": 10,
   "metadata": {},
   "outputs": [
    {
     "name": "stderr",
     "output_type": "stream",
     "text": [
      "/opt/anaconda3/lib/python3.12/site-packages/sklearn/metrics/_classification.py:1509: UndefinedMetricWarning: Precision is ill-defined and being set to 0.0 in labels with no predicted samples. Use `zero_division` parameter to control this behavior.\n",
      "  _warn_prf(average, modifier, f\"{metric.capitalize()} is\", len(result))\n",
      "/opt/anaconda3/lib/python3.12/site-packages/sklearn/metrics/_classification.py:1509: UndefinedMetricWarning: Precision is ill-defined and being set to 0.0 in labels with no predicted samples. Use `zero_division` parameter to control this behavior.\n",
      "  _warn_prf(average, modifier, f\"{metric.capitalize()} is\", len(result))\n",
      "/opt/anaconda3/lib/python3.12/site-packages/sklearn/metrics/_classification.py:1509: UndefinedMetricWarning: Precision is ill-defined and being set to 0.0 in labels with no predicted samples. Use `zero_division` parameter to control this behavior.\n",
      "  _warn_prf(average, modifier, f\"{metric.capitalize()} is\", len(result))\n"
     ]
    },
    {
     "name": "stdout",
     "output_type": "stream",
     "text": [
      "                 precision    recall  f1-score   support\n",
      "\n",
      "         Benign       0.00      0.00      0.00         1\n",
      "High-grade CMIL       0.50      1.00      0.67         1\n",
      "\n",
      "       accuracy                           0.50         2\n",
      "      macro avg       0.25      0.50      0.33         2\n",
      "   weighted avg       0.25      0.50      0.33         2\n",
      "\n"
     ]
    },
    {
     "data": {
      "image/png": "[encoded data removed]",
      "text/plain": [
       "<Figure size 600x500 with 2 Axes>"
      ]
     },
     "metadata": {},
     "output_type": "display_data"
    }
   ],
   "source": [
    "# Test\n",
    "model.eval()\n",
    "all_preds, all_trues = [], []\n",
    "with torch.no_grad():\n",
    "    for X_bag, y in test_loader:\n",
    "        X_bag = X_bag.to(device)\n",
    "        y = y.to(device)\n",
    "        logits = model(X_bag)\n",
    "        preds = logits.argmax(dim=1)\n",
    "        all_preds.extend(preds.cpu().numpy())\n",
    "        all_trues.extend(y.cpu().numpy())\n",
    "\n",
    "# Print classification report\n",
    "print(classification_report(all_trues, all_preds, target_names=['Benign', 'High-grade CMIL'], labels=[0,1]))\n",
    "\n",
    "# Plot confusion matrix\n",
    "cm = confusion_matrix(all_trues, all_preds)\n",
    "plt.figure(figsize=(6,5))\n",
    "sns.heatmap(cm, annot=True, fmt='d', cmap='Blues',\n",
    "            xticklabels=['Benign','High-grade CMIL'],\n",
    "            yticklabels=['Benign','High-grade CMIL'])\n",
    "plt.xlabel(\"Predicted\")\n",
    "plt.ylabel(\"True\")\n",
    "plt.title(\"TransMIL Test Confusion Matrix\")\n",
    "plt.show()\n",
    "\n"
   ]
  },
  {
   "cell_type": "code",
   "execution_count": null,
   "metadata": {},
   "outputs": [],
   "source": [
    "\n"
   ]
  },
  {
   "cell_type": "code",
   "execution_count": null,
   "metadata": {},
   "outputs": [],
   "source": []
  }
 ],
 "metadata": {
  "kernelspec": {
   "display_name": "base",
   "language": "python",
   "name": "python3"
  },
  "language_info": {
   "codemirror_mode": {
    "name": "ipython",
    "version": 3
   },
   "file_extension": ".py",
   "mimetype": "text/x-python",
   "name": "python",
   "nbconvert_exporter": "python",
   "pygments_lexer": "ipython3",
   "version": "3.12.4"
  }
 },
 "nbformat": 4,
 "nbformat_minor": 2
}
