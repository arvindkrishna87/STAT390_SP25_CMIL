{
  "cells": [
    {
      "cell_type": "markdown",
      "metadata": {
        "id": "e43ubn2pBYwn"
      },
      "source": [
        "**Model Skeleton**\n",
        "\n",
        "Click [here](https://docs.google.com/document/d/1v8xBxDOmItnDbMlbNnb4KsY-F7_jp1F9RJ-aIMr2KHA/edit?usp=sharing) for a detailed description of the purpose of every code chunk"
      ]
    },
    {
      "cell_type": "markdown",
      "metadata": {
        "id": "0LhkpQQTuXdi"
      },
      "source": [
        "**Make sure to run this script on Google Colab to ensure compatability with Drive mounting**"
      ]
    },
    {
      "cell_type": "markdown",
      "metadata": {
        "id": "wFI1p6ZX2UZS"
      },
      "source": [
        "**0) Import Dependencies and Mount Drive**"
      ]
    },
    {
      "cell_type": "code",
      "execution_count": 1,
      "metadata": {
        "colab": {
          "base_uri": "https://localhost:8080/"
        },
        "id": "Sri94yf43XZF",
        "outputId": "69aee281-e8bc-4289-c203-bd103b8f3d3c"
      },
      "outputs": [
        {
          "output_type": "execute_result",
          "data": {
            "text/plain": [
              "<torch._C.Generator at 0x7c1bce378d50>"
            ]
          },
          "metadata": {},
          "execution_count": 1
        }
      ],
      "source": [
        "# ─── Standard Library ───────────────────────────────────────────────────────\n",
        "import os\n",
        "import re\n",
        "import glob\n",
        "import time\n",
        "import struct\n",
        "import random\n",
        "import shutil\n",
        "from datetime import datetime\n",
        "from collections import Counter, OrderedDict\n",
        "from concurrent.futures import ThreadPoolExecutor, as_completed\n",
        "from pathlib import Path\n",
        "\n",
        "# ─── Data Handling ──────────────────────────────────────────────────────────\n",
        "import numpy as np\n",
        "import pandas as pd\n",
        "\n",
        "# ─── Visualization ──────────────────────────────────────────────────────────\n",
        "import matplotlib.pyplot as plt\n",
        "import seaborn as sns\n",
        "\n",
        "# ─── Machine Learning & PyTorch ─────────────────────────────────────────────\n",
        "import torch\n",
        "from torch import nn, optim\n",
        "from torch.nn import functional as F\n",
        "from torch.nn.functional import softmax\n",
        "from torch.utils.data import Dataset, DataLoader, Sampler, random_split\n",
        "import torch.backends.cudnn as cudnn\n",
        "from sklearn.svm import SVC, LinearSVC\n",
        "from sklearn.pipeline import make_pipeline, Pipeline\n",
        "from sklearn.preprocessing import StandardScaler\n",
        "from sklearn.model_selection import train_test_split, GridSearchCV\n",
        "\n",
        "# ─── Computer Vision ────────────────────────────────────────────────────────\n",
        "from torchvision import datasets, transforms, models\n",
        "from torchvision.transforms.functional import pad\n",
        "from torchvision.utils import save_image\n",
        "from PIL import Image, UnidentifiedImageError\n",
        "import cv2\n",
        "from skimage import io, color\n",
        "import timm  # For accessing pretrained models beyond torchvision\n",
        "\n",
        "# ─── Metrics & Evaluation ───────────────────────────────────────────────────\n",
        "from sklearn.model_selection import train_test_split\n",
        "from sklearn.metrics import (\n",
        "    accuracy_score, precision_score, recall_score,\n",
        "    f1_score, confusion_matrix, ConfusionMatrixDisplay,\n",
        "    classification_report\n",
        ")\n",
        "\n",
        "# ─── Progress Monitoring ────────────────────────────────────────────────────\n",
        "from tqdm.auto import tqdm\n",
        "import os, subprocess\n",
        "\n",
        "\n",
        "import os\n",
        "import shutil\n",
        "import torch\n",
        "import torchvision.transforms as transforms\n",
        "from torch.utils.data import Dataset, DataLoader, Sampler\n",
        "from PIL import Image\n",
        "import pandas as pd\n",
        "import re\n",
        "import time\n",
        "from concurrent.futures import ThreadPoolExecutor\n",
        "from tqdm import tqdm\n",
        "import struct\n",
        "import numpy as np\n",
        "from torch.nn.functional import pad\n",
        "import torchvision.models as models\n",
        "import torch.nn as nn\n",
        "import torch.optim as optim\n",
        "from collections import Counter\n",
        "\n",
        "\n",
        "# ─── Reproducibility ────────────────────────────────────────────────────────\n",
        "random.seed(42)\n",
        "np.random.seed(42)\n",
        "torch.manual_seed(42)"
      ]
    },
    {
      "cell_type": "code",
      "execution_count": 2,
      "metadata": {
        "colab": {
          "base_uri": "https://localhost:8080/"
        },
        "id": "JP30vFt72ILD",
        "outputId": "9d260ffc-1bfe-4736-8ba7-4208b4b70b1d"
      },
      "outputs": [
        {
          "output_type": "stream",
          "name": "stdout",
          "text": [
            "Drive not mounted, so nothing to flush and unmount.\n",
            "Mounted at /content/drive\n"
          ]
        }
      ],
      "source": [
        "# Connect to Google Drive - remember to make a shortcut of the \"Patches\" folder to \"My Drive\"\n",
        "from google.colab import drive\n",
        "drive.flush_and_unmount()\n",
        "drive.mount('/content/drive')"
      ]
    },
    {
      "cell_type": "code",
      "source": [
        "# 0. Variables from your unzipping script\n",
        "# These should match what you used for unzipping\n",
        "#zip_path = '/content/drive/MyDrive/Patches_Apr27.zip' # Source ZIP on Drive\n",
        "#extract_dir = '/content/Patches_Apr27' # Local extraction directory"
      ],
      "metadata": {
        "id": "JwPq2155lmBf"
      },
      "execution_count": 3,
      "outputs": []
    },
    {
      "cell_type": "code",
      "source": [
        "import os\n",
        "from google.colab import drive\n",
        "import shutil\n",
        "\n",
        "# 1. Mount Google Drive (skip remount warning)\n",
        "drive.mount('/content/drive')\n",
        "\n",
        "# 2. Paths\n",
        "zip_path = '/content/drive/MyDrive/Patches_Apr27.zip'\n",
        "extract_dir = '/content/Patches_Apr27'\n",
        "\n",
        "# 3. Remove any previous partial extraction\n",
        "if os.path.exists(extract_dir):\n",
        "    print(\"🗑️ Removing old extract folder...\")\n",
        "    shutil.rmtree(extract_dir)\n",
        "\n",
        "# 4. Re-unzip using shell unzip (handles large files better)\n",
        "print(\"📦 Re-unzipping ZIP to /content...\")\n",
        "!unzip -q -o \"$zip_path\" -d \"/content\"\n",
        "print(\"✅ Unzipping complete.\")\n",
        "\n",
        "# 5. Count image files\n",
        "image_exts = {'.jpg', '.jpeg', '.png', '.bmp', '.gif'}\n",
        "image_files = []\n",
        "for root, _, files in os.walk(extract_dir):\n",
        "    for f in files:\n",
        "        if os.path.splitext(f)[1].lower() in image_exts:\n",
        "            image_files.append(os.path.join(root, f))\n",
        "\n",
        "print(f\"📸 Total image files after fresh unzip: {len(image_files)}\")\n"
      ],
      "metadata": {
        "id": "MBrAXJSeikLB",
        "colab": {
          "base_uri": "https://localhost:8080/"
        },
        "outputId": "004cd9cd-2c93-4d51-e125-5aa6defac692"
      },
      "execution_count": 4,
      "outputs": [
        {
          "output_type": "stream",
          "name": "stdout",
          "text": [
            "Drive already mounted at /content/drive; to attempt to forcibly remount, call drive.mount(\"/content/drive\", force_remount=True).\n",
            "📦 Re-unzipping ZIP to /content...\n",
            "✅ Unzipping complete.\n",
            "📸 Total image files after fresh unzip: 73301\n"
          ]
        }
      ]
    },
    {
      "cell_type": "markdown",
      "metadata": {
        "id": "9nLbWSDm7870"
      },
      "source": [
        "**1. Configuration**\n",
        "\n",
        "*Contains everything we can change about the model besides the model itself. The only other part of the code you should need to modify is in the section \"Define Your Model and Train\"*\n",
        "\n",
        "- Paths to our data (**update these paths with the paths from your own drive**)\n",
        "    - drive_image_folder (this is the drive folder with all images)\n",
        "    - label_csv (this is the path with true labels \"case_grade_match.csv\")\n",
        "    - meta_csv_full_scan (this is the path where the metadata is saved)\n",
        "\n",
        "- Data to train on (**update these params with the cases you want to train on**)\n",
        "    - train_cases\n",
        "    - test_cases\n",
        "    - validation_cases\n",
        "\n",
        "- Filtering Parameters (**update these params with the stains and sizes you want to train on**)\n",
        "    - target_stain\n",
        "    - min_image_size\n",
        "    - max_image_size\n",
        "- Hyperparameters\n",
        "    - lr (learning rate)\n",
        "    - num_epochs (number of epochs)\n",
        "    - batch_size\n",
        "\n",
        "- Other Parameters\n",
        "    - force_rebuild_metadata_full\n",
        "        - This will rebuild the metadata each time\n",
        "        - **Only set to false if you have not changed any other parameters** (meaning that your filtering params and data to train on have not changed)\n",
        "\n",
        "    - Device\n",
        "        - Controls what hardware (GPU vs. CPU etc) we use (defualt GPU)\n",
        "    - num_workers\n",
        "        - Param for the data loader. If num_workers > 0, we load + preprocess data in parallel with model training.\n",
        "        - currently not in use bc data loading is fast\n",
        "\n",
        "\n"
      ]
    },
    {
      "cell_type": "code",
      "source": [
        "#Create train, test, and val lists\n",
        "#train_test_val_df = pd.read_csv(\"/content/drive/MyDrive/ML model comparison - Train-test split.csv\")\n",
        "#train_list = train_test_val_df[train_test_val_df.Data == \"Train\"].Case.to_list()\n",
        "#test_list = train_test_val_df[train_test_val_df.Data == \"Test\"].Case.to_list()\n",
        "#val_list = train_test_val_df[train_test_val_df.Data == \"Validate\"].Case.to_list()"
      ],
      "metadata": {
        "id": "K4SUjgYXMfpj"
      },
      "execution_count": 5,
      "outputs": []
    },
    {
      "cell_type": "markdown",
      "source": [],
      "metadata": {
        "id": "yOMe1XE7M7F7"
      }
    },
    {
      "cell_type": "code",
      "source": [
        "# ─── 1) CONFIG (Updated for Full Scan & Local Paths) ──────────────────────────────────\n",
        "CONFIG = {\n",
        "    #MODIFIED: Changed from 'drive_image_folder' and updated path\n",
        "    'local_image_folder': extract_dir,  # read directly from /content/Patches_Apr27\n",
        "    'label_csv': \"/content/drive/MyDrive/case_grade_match.csv\", # Assuming labels still on Drive\n",
        "    'meta_csv_full_scan': \"/content/metadata_full_scan_local_paths.csv\",  # Explicitly local\n",
        "    'batch_size': 32,\n",
        "    'num_workers': 4, # Adjusted for potentially faster local I/O\n",
        "    'lr': 1e-3,\n",
        "    'num_epochs': 20,\n",
        "    'device': torch.device('cuda' if torch.cuda.is_available() else 'cpu'),\n",
        "    'train_cases': [2,4,22,24,26,28,30,34,36,53,79,82,86,96,1,5,9,12,17,18,32,40,42,44,48,49,51,54,55,58,66,67,68,69,70,72,80,87,88,91,92,95,99,100,104,59,16],\n",
        "    'test_cases': [23,27,45,46,78,85,14,15,19,38,50,65,83,84,97],\n",
        "    'validation_cases':[21,25,43,56,93,94,3,7,11,47,57,64,73,75,98],\n",
        "    'force_rebuild_metadata_full': True, # Set to True for the first run with new paths\n",
        "    'min_image_size': 50,\n",
        "    'max_image_size': 100000,\n",
        "    'target_stain': 'melan'\n",
        "}\n",
        "\n",
        "# Combine all cases from train/val/test for the initial full metadata scan\n",
        "all_cases_for_scan = set(CONFIG['train_cases'] + CONFIG['test_cases'] + CONFIG['validation_cases'])\n",
        "print(f\"Cases included in initial full metadata scan: {len(all_cases_for_scan)}\")\n",
        "print(f\"Target stain for this run: {CONFIG['target_stain']}\")\n",
        "print(f\"🖼️ Image data will be read from: {CONFIG['local_image_folder']}\") # Verify local path\n",
        "if CONFIG['force_rebuild_metadata_full']:\n",
        "    print(\"❗ Metadata will be rebuilt.\")\n",
        "torch.backends.cudnn.benchmark = True\n"
      ],
      "metadata": {
        "id": "uWkY7vD7lwoG",
        "colab": {
          "base_uri": "https://localhost:8080/"
        },
        "outputId": "3b4c1d05-52df-4cbd-be55-ddecce11cf4a"
      },
      "execution_count": 6,
      "outputs": [
        {
          "output_type": "stream",
          "name": "stdout",
          "text": [
            "Cases included in initial full metadata scan: 77\n",
            "Target stain for this run: melan\n",
            "🖼️ Image data will be read from: /content/Patches_Apr27\n",
            "❗ Metadata will be rebuilt.\n"
          ]
        }
      ]
    },
    {
      "cell_type": "markdown",
      "metadata": {
        "id": "wzgeE3FiJcBr"
      },
      "source": [
        "**Note** – the ```n_buckets``` input for our bucketing logic is not included in the CONFIG. You'll have to manually change it the code chunk where we create the boundaries and data loaders (see below in section 6). The default is just to keep ```n_buckets``` = number of batches."
      ]
    },
    {
      "cell_type": "markdown",
      "metadata": {
        "id": "myeIdibM4Y4Q"
      },
      "source": [
        "**2) Build Metadata**\n",
        "\n",
        "Uses 3 code chunks\n",
        "\n",
        "1) Helper functions: help optimize build_metadata function\n",
        "\n",
        "2) Build metadata function: creates metadata\n",
        "\n",
        "3) Calling build metadata"
      ]
    },
    {
      "cell_type": "code",
      "source": [
        "# ─── 1) HELPERS ──────────────────────────────────────────────────────────────\n",
        "# Regex for filenames like \"case_001_match_…png\" or \"case_12_unmatched_…png\"\n",
        "case_pat = re.compile(r'case_0*(\\d+)_(?:match|unmatched)_', re.IGNORECASE)\n",
        "\n",
        "def fast_scan(root, max_retries=3, backoff=1.5):\n",
        "    \"\"\"\n",
        "    Efficiently and safely scans a directory tree for .png files.\n",
        "    Automatically retries failed directory reads (useful for Google Drive in Colab).\n",
        "    Args:\n",
        "        root (str): Root directory to scan.\n",
        "        max_retries (int): Max retries per failed directory.\n",
        "        backoff (float): Base multiplier for exponential delay between retries.\n",
        "    \"\"\"\n",
        "    def scan_dir(path, retries=0):\n",
        "        try:\n",
        "            # Check if path exists before scanning\n",
        "            if not os.path.exists(path):\n",
        "                print(f\"⚠️ Directory not found: {path}. Skipping scan for this path.\")\n",
        "                return [] # Return empty iterator if path doesn't exist\n",
        "\n",
        "            for entry in os.scandir(path):\n",
        "                if entry.is_file() and entry.name.lower().endswith('.png'):\n",
        "                    yield entry.path\n",
        "                elif entry.is_dir():\n",
        "                    yield from scan_dir(entry.path) # Recursive call\n",
        "        except OSError as e:\n",
        "            if retries < max_retries:\n",
        "                wait = backoff ** retries\n",
        "                print(f\"⚠️  I/O error on {path} (attempt {retries+1}/{max_retries}). Retrying in {wait:.1f}s...\")\n",
        "                time.sleep(wait)\n",
        "                yield from scan_dir(path, retries + 1)\n",
        "            else:\n",
        "                print(f\"❌ Skipping {path} after {max_retries} failed attempts due to OSError: {e}\")\n",
        "        except FileNotFoundError: # Explicitly handle FileNotFoundError during scandir\n",
        "             print(f\"⚠️ Directory not found during scandir: {path}. Skipping.\")\n",
        "             return []\n",
        "    return scan_dir(root)"
      ],
      "metadata": {
        "id": "pBhqhO1NmAOq"
      },
      "execution_count": 7,
      "outputs": []
    },
    {
      "cell_type": "code",
      "source": [
        "# ─── 2) OPTIMIZED METADATA BUILDER ───────────────────────────────────────────\n",
        "def build_metadata(image_folder, all_cases, meta_csv, stain,\n",
        "                   force_rebuild=False, min_width=0, max_width=float('inf'),\n",
        "                   num_workers=4):\n",
        "    \"\"\"\n",
        "    Builds or loads a filtered metadata DataFrame:\n",
        "      - only cases in `all_cases`\n",
        "      - only files whose paths contain `stain`\n",
        "      - only images with width/height in (min_width,max_width) or unknown dims (-1)\n",
        "    \"\"\"\n",
        "    # Try loading existing CSV\n",
        "    if os.path.exists(meta_csv) and not force_rebuild:\n",
        "        try:\n",
        "            df = pd.read_csv(meta_csv)\n",
        "            required = {'path','case_number','stain','width','height'}\n",
        "            if required.issubset(df.columns):\n",
        "                # apply filters\n",
        "                df = df[df.case_number.isin(all_cases)]\n",
        "                # Ensure width/height are numeric for filtering, coerce errors to NaN then fill with -1\n",
        "                df['width'] = pd.to_numeric(df['width'], errors='coerce').fillna(-1).astype(int)\n",
        "                df['height'] = pd.to_numeric(df['height'], errors='coerce').fillna(-1).astype(int)\n",
        "\n",
        "                df = df[((df.width  >= min_width) & (df.width  <= max_width)) | (df.width  == -1)] # inclusive min/max\n",
        "                df = df[df.stain.str.lower() == stain.lower()]\n",
        "                print(f\"Loaded & filtered {len(df)} rows from {meta_csv}\")\n",
        "                if not df.empty:\n",
        "                     # CRITICAL: Verify that paths are what you expect (local paths)\n",
        "                    print(f\"Example path from loaded metadata: {df['path'].iloc[0]}\")\n",
        "                return df\n",
        "        except Exception as e:\n",
        "            print(f\"❗ Error loading or filtering {meta_csv}: {e}; rebuilding…\")\n",
        "\n",
        "    # Full rescan\n",
        "    print(f\"🔍 Scanning {image_folder} for stain='{stain}'…\")\n",
        "    if not os.path.exists(image_folder):\n",
        "        print(f\"❌ Error: Image folder for scanning does not exist: {image_folder}\")\n",
        "        return pd.DataFrame(columns=['path','case_number','stain','width','height'])\n",
        "\n",
        "    files = list(fast_scan(image_folder))\n",
        "    if not files:\n",
        "        print(f\"⚠️  No PNG files found in {image_folder} or its subdirectories.\")\n",
        "        return pd.DataFrame(columns=['path','case_number','stain','width','height'])\n",
        "    print(f\"Found {len(files)} PNG files during scan.\")\n",
        "\n",
        "    def proc(p):\n",
        "        # p will be a full local path like /content/Patches_Apr27/case_001_match_xyz.png\n",
        "        m = case_pat.search(os.path.basename(p))\n",
        "        if not m:\n",
        "            return None\n",
        "        cid = int(m.group(1))\n",
        "\n",
        "        if cid not in all_cases:\n",
        "            return None\n",
        "        if stain.lower() not in p.lower(): # Simple substring check for stain in path\n",
        "            return None\n",
        "\n",
        "        w, h = -1, -1\n",
        "        try:\n",
        "            with open(p,'rb') as f:\n",
        "                hdr = f.read(24)\n",
        "            if hdr.startswith(b'\\x89PNG\\r\\n\\x1a\\n') and hdr[12:16] == b'IHDR':\n",
        "                w = struct.unpack('>I',hdr[16:20])[0]\n",
        "                h = struct.unpack('>I',hdr[20:24])[0]\n",
        "            else: # Fallback if not standard PNG header or IHDR not where expected\n",
        "                with Image.open(p) as img:\n",
        "                    w, h = img.size\n",
        "        except Exception as e:\n",
        "            # print(f\"Warning: Could not get dimensions for {p}: {e}\")\n",
        "            pass # Keep w,h as -1\n",
        "\n",
        "        # size filter (inclusive)\n",
        "        if w != -1 and not (min_width <= w <= max_width and min_width <= h <= max_width):\n",
        "            return None\n",
        "\n",
        "        return {\n",
        "            'path': p, # This path is now a local path\n",
        "            'case_number': cid,\n",
        "            'stain': stain.lower(), # Store the target stain\n",
        "            'width': w,\n",
        "            'height': h\n",
        "        }\n",
        "\n",
        "    with ThreadPoolExecutor(max_workers=num_workers) as exe:\n",
        "        rows = list(tqdm(exe.map(proc, files), total=len(files), desc=\"Processing files\"))\n",
        "\n",
        "    df = pd.DataFrame([r for r in rows if r])\n",
        "    if df.empty:\n",
        "        print(f\"⚠️  No metadata built for stain='{stain}' after filtering. Check scan and filters.\")\n",
        "        return df\n",
        "\n",
        "    df.to_csv(meta_csv, index=False)\n",
        "    print(f\"✅ Built & saved {len(df)} rows to {meta_csv}\")\n",
        "    if not df.empty:\n",
        "        print(f\"Example path from NEWLY BUILT metadata: {df['path'].iloc[0]}\")\n",
        "    return df"
      ],
      "metadata": {
        "id": "3nY6ryv8mFmr"
      },
      "execution_count": 8,
      "outputs": []
    },
    {
      "cell_type": "code",
      "execution_count": 9,
      "metadata": {
        "id": "tjcuRz21Zn7W",
        "colab": {
          "base_uri": "https://localhost:8080/"
        },
        "outputId": "0bc8d81f-aa71-4092-b086-c3ec6c6600d4"
      },
      "outputs": [
        {
          "output_type": "stream",
          "name": "stdout",
          "text": [
            "🔍 Scanning /content/Patches_Apr27 for stain='melan'…\n",
            "Found 73301 PNG files during scan.\n"
          ]
        },
        {
          "output_type": "stream",
          "name": "stderr",
          "text": [
            "Processing files: 100%|██████████| 73301/73301 [00:02<00:00, 34997.69it/s]\n"
          ]
        },
        {
          "output_type": "stream",
          "name": "stdout",
          "text": [
            "✅ Built & saved 18657 rows to /content/metadata_full_scan_local_paths.csv\n",
            "Example path from NEWLY BUILT metadata: /content/Patches_Apr27/case_38_match_8_melan_patch8.png\n"
          ]
        }
      ],
      "source": [
        "# create metadata\n",
        "full_meta_df = build_metadata(\n",
        "    image_folder=CONFIG['local_image_folder'], # MODIFIED: Use the local image folder\n",
        "    all_cases=all_cases_for_scan,\n",
        "    meta_csv=CONFIG['meta_csv_full_scan'],\n",
        "    stain=CONFIG['target_stain'],\n",
        "    force_rebuild=CONFIG['force_rebuild_metadata_full'],\n",
        "    min_width=CONFIG['min_image_size'],\n",
        "    max_width=CONFIG['max_image_size'],\n",
        "    num_workers=CONFIG['num_workers']\n",
        ")\n",
        "\n",
        "# Ensure full_meta_df is not empty before proceeding\n",
        "if full_meta_df.empty:\n",
        "    print(\"❌ Metadata DataFrame is empty. Cannot proceed. Please check previous steps, especially the image path and scan.\")\n",
        "    # exit() # Or handle appropriately"
      ]
    },
    {
      "cell_type": "markdown",
      "metadata": {
        "id": "LWkxBcdKL-5k"
      },
      "source": [
        "**Note**: You might get an I/O error upon running the create metadata code chunk. This is because of occasional timeout errors with connecting to Google Drive given how large our patches folder is. Rerun the code chunks until now if you face this error, and it should work after a few retries (this is assuming you haven't messed with the CONFIG settings or metadata file). You may also want to try restarting the runtime and re-running all the code chunks."
      ]
    },
    {
      "cell_type": "markdown",
      "metadata": {
        "id": "I3KhuAvdHOsw"
      },
      "source": [
        "**3. Load Labels**\n",
        "- This loads in the class labels and creates a labels map"
      ]
    },
    {
      "cell_type": "code",
      "execution_count": 10,
      "metadata": {
        "id": "pyodnHi0Gl8t",
        "colab": {
          "base_uri": "https://localhost:8080/"
        },
        "outputId": "4333a198-c6b7-4aa0-be17-5252442aa3a9"
      },
      "outputs": [
        {
          "output_type": "stream",
          "name": "stdout",
          "text": [
            "🗺️  Created labels_map for 105 cases\n"
          ]
        }
      ],
      "source": [
        "# ─── 3) LOAD LABELS_MAP ─────────────────────────────────────────────────────\n",
        "if not os.path.exists(CONFIG['label_csv']):\n",
        "    raise FileNotFoundError(f\"Labels CSV missing: {CONFIG['label_csv']}\")\n",
        "labels_df = (\n",
        "    pd.read_csv(CONFIG['label_csv'])\n",
        "      .drop(index=64, errors='ignore')\n",
        "      .reset_index(drop=True)\n",
        ")\n",
        "labels_map = {\n",
        "    int(r.Case): (0 if r.Class == 1 else 1)\n",
        "    for _, r in labels_df.iterrows()\n",
        "}\n",
        "print(f\"🗺️  Created labels_map for {len(labels_map)} cases\")\n"
      ]
    },
    {
      "cell_type": "markdown",
      "metadata": {
        "id": "8UT5mwUtEuuW"
      },
      "source": [
        "**4. Define Transforms**\n",
        "\n",
        "- **Important** The mean=[0.485, 0.456, 0.406] and std=[0.229, 0.224, 0.225] values are specific to models that are pretrained on ImageNet. If your model was pretrained on a different dataset, your mean and std values should be calculated based on the properties of that dataset\n",
        "- Adjust the transformations as per requirements of your specific model"
      ]
    },
    {
      "cell_type": "code",
      "execution_count": 11,
      "metadata": {
        "id": "0GNN4RCLGvJ1"
      },
      "outputs": [],
      "source": [
        "# ─── TRANSFORMS (Adaptive Pooling Approach) ───────────────────────────\n",
        "# These transforms are applied to individual images by the Dataset's __getitem__.\n",
        "\n",
        "train_transform = transforms.Compose([\n",
        "    transforms.Resize((224, 224)),\n",
        "    transforms.RandomHorizontalFlip(p=0.5), # Example augmentation\n",
        "    transforms.RandomRotation(15), # Example augmentation\n",
        "    transforms.ColorJitter(brightness=0.1, contrast=0.1, saturation=0.1, hue=0.05), # Example augmentation\n",
        "    transforms.ToTensor(), # Converts PIL Image to Tensor and scales [0, 1]\n",
        "    transforms.Normalize(mean=[0.485, 0.456, 0.406], # ImageNet mean\n",
        "                         std=[0.229, 0.224, 0.225])   # ImageNet standard deviation\n",
        "])\n",
        "\n",
        "eval_transform = transforms.Compose([\n",
        "    transforms.Resize((224, 224)),\n",
        "    transforms.ToTensor(), # Converts PIL Image to Tensor and scales [0, 1]\n",
        "    transforms.Normalize(mean=[0.485, 0.456, 0.406], # ImageNet mean\n",
        "                         std=[0.229, 0.224, 0.225])   # ImageNet standard deviation\n",
        "])"
      ]
    },
    {
      "cell_type": "markdown",
      "metadata": {
        "id": "OnDb-z-EHU5j"
      },
      "source": [
        "**5) Create Dataset Objects for Train, Test, and Validation**\n",
        "\n",
        "1) Define dataset class\n",
        "\n",
        "2) Create datasets for train, test, and val"
      ]
    },
    {
      "cell_type": "code",
      "execution_count": 12,
      "metadata": {
        "id": "LyDCAZF9ZhYI"
      },
      "outputs": [],
      "source": [
        "# --- Corrected PatchDataset Class ---\n",
        "class PatchDataset(Dataset):\n",
        "    def __init__(self, meta_df, labels_map, transform=None):\n",
        "        \"\"\"\n",
        "        Args:\n",
        "            meta_df (pd.DataFrame): Metadata DataFrame containing columns: path, case_number, stain, width, height\n",
        "            labels_map (dict): Mapping of case number to class label\n",
        "            transform (callable): Optional transform to apply to each image\n",
        "        \"\"\"\n",
        "        self.meta = meta_df\n",
        "\n",
        "        # Build list of (path, label) from filtered metadata\n",
        "        # THIS LINE MUST EXECUTE BEFORE you try to access self.samples\n",
        "        self.samples = [\n",
        "            (row.path, labels_map[int(row.case_number)])\n",
        "            for row in self.meta.itertuples()\n",
        "            if int(row.case_number) in labels_map\n",
        "        ]\n",
        "        self.transform = transform\n",
        "\n",
        "        # NOW it's safe to print the length of self.samples\n",
        "        print(f\"DEBUG: Dataset initialized with {len(self.samples)} total samples.\")\n",
        "\n",
        "    def __len__(self) -> int:\n",
        "        return len(self.samples)\n",
        "    def __getitem__(self, idx: int):\n",
        "            # The IndexError traceback means this 'idx' is out of range for 'self.samples'\n",
        "            # The primary fix for that is ensuring __len__ and __init__ are correct\n",
        "            # This print will help verify if it's still being called with bad indices\n",
        "            # print(f\"DEBUG: __getitem__ called with idx = {idx}. len(self.samples) = {len(self.samples)}\")\n",
        "\n",
        "            # Ensure idx is within bounds. If this check triggers, the problem is in __len__ or DataLoader\n",
        "            if not (0 <= idx < len(self.samples)):\n",
        "                raise IndexError(f\"__getitem__ called with invalid index {idx}. Valid range is [0, {len(self.samples)-1}]\")\n",
        "\n",
        "            path, label = self.samples[idx] # This is the line that errors\n",
        "\n",
        "            try:\n",
        "                img = Image.open(path).convert('RGB')\n",
        "                if self.transform:\n",
        "                    img = self.transform(img)\n",
        "                cid = int(case_pat.search(os.path.basename(path)).group(1))\n",
        "                return img, label, cid\n",
        "            except Exception as e:\n",
        "                # --- CRITICAL FIX HERE ---\n",
        "                # DO NOT return None. Instead, log the error and re-raise it.\n",
        "                # This will force the DataLoader to stop at the first genuinely problematic image file.\n",
        "                print(f\"ERROR: Failed to load or process image at index {idx} from path: '{path}'. Error: {e}\")\n",
        "                raise # Re-raise the exception to stop execution and debug the root cause"
      ]
    },
    {
      "cell_type": "code",
      "source": [
        "# --- Splitting metadata and creating datasets ---\n",
        "# (Small modifications to handle potentially empty full_meta_df)\n",
        "if not full_meta_df.empty:\n",
        "    train_meta = full_meta_df[full_meta_df['case_number'].isin(CONFIG['train_cases'])].reset_index(drop=True)\n",
        "    val_meta   = full_meta_df[full_meta_df['case_number'].isin(CONFIG['validation_cases'])].reset_index(drop=True)\n",
        "    test_meta  = full_meta_df[full_meta_df['case_number'].isin(CONFIG['test_cases'])].reset_index(drop=True)\n",
        "\n",
        "    if train_meta.empty or val_meta.empty or test_meta.empty:\n",
        "        print(\"⚠️ One or more metadata splits (train/val/test) are empty. Check case lists and filtering.\")\n",
        "\n",
        "    train_dataset = PatchDataset(train_meta, labels_map, transform=train_transform)\n",
        "    val_dataset   = PatchDataset(val_meta, labels_map, transform=eval_transform)\n",
        "    test_dataset  = PatchDataset(test_meta, labels_map, transform=eval_transform)\n",
        "\n",
        "    print(f\"✅ Train patches: {len(train_dataset)}\")\n",
        "    print(f\"✅ Val patches: {len(val_dataset)}\") # Fixed typo from Test to Val\n",
        "    print(f\"✅ Test patches: {len(test_dataset)}\")\n",
        "else:\n",
        "    print(\"❌ Skipping dataset creation due to empty full_meta_df.\")\n",
        "    # Initialize empty datasets or handle error\n",
        "    train_dataset, val_dataset, test_dataset = None, None, None"
      ],
      "metadata": {
        "id": "K_6dC-pdmQuz",
        "colab": {
          "base_uri": "https://localhost:8080/"
        },
        "outputId": "b7f89256-7feb-4d86-b288-41654b91c0aa"
      },
      "execution_count": 13,
      "outputs": [
        {
          "output_type": "stream",
          "name": "stdout",
          "text": [
            "DEBUG: Dataset initialized with 9705 total samples.\n",
            "DEBUG: Dataset initialized with 3746 total samples.\n",
            "DEBUG: Dataset initialized with 4166 total samples.\n",
            "✅ Train patches: 9705\n",
            "✅ Val patches: 3746\n",
            "✅ Test patches: 4166\n"
          ]
        }
      ]
    },
    {
      "cell_type": "markdown",
      "metadata": {
        "id": "2H4-WhEzH-pl"
      },
      "source": [
        "**6) Data Loader and Helper Functions**\n"
      ]
    },
    {
      "cell_type": "markdown",
      "metadata": {
        "id": "axK7ime5SzFY"
      },
      "source": [
        "There are 3 code chunks for 3 different helper functions:\n",
        "- BucketSampler: function behind our bucketing logic. It will group indices of similar-sized images together\n",
        "- make_boundaries_for_buckets: will calculate and define the actual size boundaries for our batches\n",
        "- collate_fn_pad: collate functions are used by the DataLoader object to group individual samples into a batch. Our custom function also performs the padding operation within each batch\n",
        "\n",
        "**Bucketing logic**: Because we have to pad images up to the size of the largest image within each batch, we want to make sure that images within the same batch are of similar sizes. To do this, we will first calculate the total_number_of_batches that will be used per epoch (total images/batch size). Then we will separate the images by width into total_number_of_batches number of bins (e.g. if total_number_of_batches = 40, then there will be 40 bins). Then each of these bins will be a batch and sent separately to be trained on — thus images within the same batch are of very similar sizes and the amount of padding needed is very negligible)."
      ]
    },
    {
      "cell_type": "code",
      "execution_count": 14,
      "metadata": {
        "id": "o1r0UQdySkUl"
      },
      "outputs": [],
      "source": [
        "\n",
        "# ─── HELPER: BUCKET BATCH SAMPLER ─────────────────────────────────────\n",
        "# This Sampler is responsible for the \"bucketing\" logic.\n",
        "# It groups indices of similar-sized images together.\n",
        "class BucketBatchSampler(Sampler):\n",
        "    \"\"\"\n",
        "    Samples batches by grouping indices into buckets based on data source sizes.\n",
        "    Batches are created from indices within the same bucket.\n",
        "    \"\"\"\n",
        "    def __init__(self, data_source_sizes, batch_size, boundaries, shuffle=True):\n",
        "        \"\"\"\n",
        "        Args:\n",
        "            data_source_sizes (list): List of sizes (e.g., max dimension after resize) for each item.\n",
        "            batch_size (int): The desired batch size.\n",
        "            boundaries (list): A sorted list of size thresholds defining the buckets.\n",
        "                               An item with size S falls into bucket i if boundaries[i-1] < S <= boundaries[i].\n",
        "            shuffle (bool): Whether to shuffle indices within buckets and the order of batches.\n",
        "        \"\"\"\n",
        "        self.batch_size = batch_size\n",
        "        self.shuffle = shuffle\n",
        "\n",
        "        # Create buckets based on boundaries\n",
        "        bucket_indices = {i: [] for i in range(len(boundaries) + 1)}\n",
        "        for idx, size in enumerate(data_source_sizes):\n",
        "            # Determine which bucket the size falls into\n",
        "            bucket_num = sum(size > b for b in boundaries)\n",
        "            bucket_indices[bucket_num].append(idx)\n",
        "\n",
        "        self.batches = []\n",
        "        # Create batches from indices within each bucket\n",
        "        for bucket_num in sorted(bucket_indices.keys()):\n",
        "            indices_in_bucket = bucket_indices[bucket_num]\n",
        "            if self.shuffle:\n",
        "                np.random.shuffle(indices_in_bucket)\n",
        "\n",
        "            for i in range(0, len(indices_in_bucket), batch_size):\n",
        "                batch = indices_in_bucket[i:i+batch_size]\n",
        "                if len(batch) > 0:\n",
        "                    self.batches.append(batch)\n",
        "\n",
        "        if self.shuffle:\n",
        "            np.random.shuffle(self.batches)\n",
        "\n",
        "    def __iter__(self):\n",
        "        return iter(self.batches)\n",
        "\n",
        "    def __len__(self):\n",
        "        return len(self.batches)"
      ]
    },
    {
      "cell_type": "code",
      "execution_count": 15,
      "metadata": {
        "id": "0KgyVcgVS3ug"
      },
      "outputs": [],
      "source": [
        "# ─── HELPER: MAKE BUCKET BOUNDARIES (Optimized for N Batches) ─────────\n",
        "# This helper is used to calculate the boundaries for the buckets.\n",
        "def make_boundaries_for_buckets(sizes, n_buckets):\n",
        "    \"\"\"\n",
        "    Creates bucket boundaries such that the data is split into approximately\n",
        "    n_buckets groups of equal size based on the sorted 'sizes'.\n",
        "    Returns n_buckets - 1 boundaries.\n",
        "    \"\"\"\n",
        "    #if not sizes or n_buckets <= 1:\n",
        "    if sizes is None or len(sizes) == 0 or n_buckets <= 1:\n",
        "        return []\n",
        "\n",
        "    # Convert to pandas Series to use quantile/percentile efficiently\n",
        "    sizes_series = pd.Series(sizes)\n",
        "    total_items = len(sizes_series)\n",
        "    boundaries = []\n",
        "\n",
        "    # Calculate quantiles to define boundaries\n",
        "    # We need n_buckets - 1 division points\n",
        "    quantiles = [(i / n_buckets) for i in range(1, n_buckets)]\n",
        "\n",
        "    # Calculate the boundary values using quantiles\n",
        "    # Handle potential errors if quantile calculation fails (e.g., not enough unique sizes)\n",
        "    try:\n",
        "        bounds = sizes_series.quantile(quantiles).tolist()\n",
        "    except Exception:\n",
        "        # Fallback to simpler percentile calculation if quantile fails\n",
        "        qs = [100 * i / n_buckets for i in range(1, n_buckets)]\n",
        "        bounds = np.percentile(sizes, qs).tolist()\n",
        "\n",
        "\n",
        "    # Ensure boundaries are unique, sorted, and integer\n",
        "    return sorted(list(set(int(b) for b in bounds)))"
      ]
    },
    {
      "cell_type": "code",
      "source": [
        "\n",
        "\n",
        "import torch\n",
        "import torchvision.transforms.functional as F_tv\n",
        "import numpy as np # For potential other data processing, though not strictly needed here\n",
        "\n",
        "def collate_fn_pad(batch):\n",
        "    # Separate images, labels, and cids from the batch\n",
        "    # batch is a list of (img_tensor, label, cid) tuples\n",
        "    imgs = [item[0] for item in batch]\n",
        "    lbls = [item[1] for item in batch]\n",
        "    cids = [item[2] for item in batch]\n",
        "\n",
        "    # --- Step 1: Determine the maximum height and width within the CURRENT BATCH ---\n",
        "    max_h_batch = 0\n",
        "    max_w_batch = 0\n",
        "\n",
        "    # Iterate through all images in the current batch to find max dimensions\n",
        "    for img_tensor in imgs:\n",
        "        # img_tensor.shape is (C, H, W)\n",
        "        h, w = img_tensor.shape[1], img_tensor.shape[2]\n",
        "        if h > max_h_batch:\n",
        "            max_h_batch = h\n",
        "        if w > max_w_batch:\n",
        "            max_w_batch = w\n",
        "\n",
        "    # --- Step 2: Pad each image in the current batch to these determined max dimensions ---\n",
        "    padded_imgs = []\n",
        "    for img_tensor in imgs:\n",
        "        h, w = img_tensor.shape[1], img_tensor.shape[2]\n",
        "\n",
        "        # Calculate padding amounts for this specific image to reach batch's max_h_batch and max_w_batch\n",
        "        # We'll pad to the bottom and right for simplicity (left/top padding can be added for centering)\n",
        "        pad_h_bottom = max_h_batch - h\n",
        "        pad_w_right = max_w_batch - w\n",
        "\n",
        "        # The pad function expects padding_left, padding_top, padding_right, padding_bottom\n",
        "        # For padding to bottom-right, padding_left and padding_top are 0\n",
        "        padding_amounts = (0, 0, pad_w_right, pad_h_bottom)\n",
        "\n",
        "        # Apply padding\n",
        "        padded_img = F_tv.pad(img_tensor, padding_amounts, fill=0) # fill=0 for black padding, or use mean/median\n",
        "        padded_imgs.append(padded_img)\n",
        "\n",
        "    # --- Step 3: Stack the padded images ---\n",
        "    # Now, all tensors in padded_imgs should have identical dimensions (C, max_h_batch, max_w_batch)\n",
        "    # torch.stack will work correctly.\n",
        "    return torch.stack(padded_imgs), torch.tensor(lbls, dtype=torch.long), torch.tensor(cids)\n"
      ],
      "metadata": {
        "id": "2sVtT6rjoZrD"
      },
      "execution_count": 16,
      "outputs": []
    },
    {
      "cell_type": "code",
      "source": [
        "# --- Create Samplers and DataLoaders ---\n",
        "# (Added checks for empty datasets/metadata before creating samplers/loaders)\n",
        "\n",
        "# Helper function to get filtered meta based on dataset's samples\n",
        "def get_filtered_meta_for_sampler(original_meta_df, dataset_samples):\n",
        "    # Get the paths that are actually in the dataset's samples\n",
        "    dataset_paths = {path for path, _ in dataset_samples}\n",
        "    # Filter the original meta_df to only include those paths\n",
        "    filtered_meta = original_meta_df[original_meta_df['path'].isin(dataset_paths)].reset_index(drop=True)\n",
        "    return filtered_meta\n",
        "\n",
        "# --- TRAIN LOADER ---\n",
        "if train_dataset and not train_meta.empty and len(train_dataset) > 0:\n",
        "    # Filter train_meta to match the actual samples in train_dataset\n",
        "    # This ensures len(filtered_train_meta) == len(train_dataset)\n",
        "    filtered_train_meta = get_filtered_meta_for_sampler(train_meta, train_dataset.samples)\n",
        "\n",
        "    train_widths = pd.to_numeric(filtered_train_meta['width'], errors='coerce').fillna(-1).astype(int)\n",
        "    train_widths = train_widths[train_widths != -1] # Filter out unknown dimensions for bucket boundaries\n",
        "\n",
        "    if not train_widths.empty:\n",
        "        train_boundaries = make_boundaries_for_buckets(train_widths.tolist(), n_buckets=max(1, int(len(train_dataset)/CONFIG['batch_size'])))\n",
        "        # Pass the widths from the FILTERED meta for the sampler\n",
        "        train_batch_sampler = BucketBatchSampler(\n",
        "            train_widths.tolist(), # Use the widths from the filtered meta\n",
        "            batch_size=CONFIG['batch_size'],\n",
        "            boundaries=train_boundaries\n",
        "        )\n",
        "        train_loader = DataLoader(\n",
        "            train_dataset, pin_memory=True, num_workers=0,\n",
        "            batch_sampler=train_batch_sampler, collate_fn=collate_fn_pad\n",
        "        )\n",
        "        print(f\"✅ Train DataLoader created with {len(train_loader)} batches.\")\n",
        "    else:\n",
        "        print(\"⚠️ Not enough valid width data to create train_loader with buckets. Consider standard DataLoader.\")\n",
        "        train_loader = None # Or fallback to standard DataLoader\n",
        "else:\n",
        "    print(\"❌ Train dataset is empty or metadata missing. Skipping Train DataLoader.\")\n",
        "    train_loader = None\n",
        "\n",
        "# --- VAL LOADER ---\n",
        "if val_dataset and not val_meta.empty and len(val_dataset) > 0:\n",
        "    filtered_val_meta = get_filtered_meta_for_sampler(val_meta, val_dataset.samples)\n",
        "    val_widths = pd.to_numeric(filtered_val_meta['width'], errors='coerce').fillna(-1).astype(int)\n",
        "    val_widths = val_widths[val_widths != -1]\n",
        "    if not val_widths.empty:\n",
        "        val_boundaries = make_boundaries_for_buckets(val_widths.tolist(), n_buckets=max(1, int(len(val_dataset)/CONFIG['batch_size'])))\n",
        "        val_batch_sampler = BucketBatchSampler(\n",
        "            val_widths.tolist(),\n",
        "            batch_size=CONFIG['batch_size'],\n",
        "            boundaries=val_boundaries\n",
        "        )\n",
        "        val_loader = DataLoader(\n",
        "            val_dataset, pin_memory=True, num_workers=0,\n",
        "            batch_sampler=val_batch_sampler, collate_fn=collate_fn_pad\n",
        "        )\n",
        "        print(f\"✅ Validation DataLoader created with {len(val_loader)} batches.\")\n",
        "    else:\n",
        "        print(\"⚠️ Not enough valid width data to create val_loader with buckets.\")\n",
        "        val_loader = None\n",
        "else:\n",
        "    print(\"❌ Validation dataset is empty or metadata missing. Skipping Val DataLoader.\")\n",
        "    val_loader = None\n",
        "\n",
        "# --- TEST LOADER ---\n",
        "if test_dataset and not test_meta.empty and len(test_dataset) > 0:\n",
        "    filtered_test_meta = get_filtered_meta_for_sampler(test_meta, test_dataset.samples)\n",
        "    test_widths = pd.to_numeric(filtered_test_meta['width'], errors='coerce').fillna(-1).astype(int)\n",
        "    test_widths = test_widths[test_widths != -1]\n",
        "    if not test_widths.empty:\n",
        "        test_boundaries = make_boundaries_for_buckets(test_widths.tolist(), n_buckets=max(1, int(len(test_dataset)/CONFIG['batch_size'])))\n",
        "        test_batch_sampler = BucketBatchSampler(\n",
        "            test_widths.tolist(), # Use the widths from the filtered meta\n",
        "            batch_size=CONFIG['batch_size'],\n",
        "            boundaries=test_boundaries\n",
        "        )\n",
        "        test_loader = DataLoader(\n",
        "            test_dataset, pin_memory=True, num_workers=0,\n",
        "            batch_sampler=test_batch_sampler, collate_fn=collate_fn_pad\n",
        "        )\n",
        "        print(f\"✅ Test DataLoader created with {len(test_loader)} batches.\")\n",
        "    else:\n",
        "        print(\"⚠️ Not enough valid width data to create test_loader with buckets.\")\n",
        "        test_loader = None\n",
        "else:\n",
        "    print(\"❌ Test dataset is empty or metadata missing. Skipping Test DataLoader.\")\n",
        "    test_loader = None"
      ],
      "metadata": {
        "colab": {
          "base_uri": "https://localhost:8080/"
        },
        "id": "DN9ZlOS403iC",
        "outputId": "7c34d003-2148-4617-b05e-01e3119dc618"
      },
      "execution_count": 17,
      "outputs": [
        {
          "output_type": "stream",
          "name": "stdout",
          "text": [
            "✅ Train DataLoader created with 400 batches.\n",
            "✅ Validation DataLoader created with 165 batches.\n",
            "✅ Test DataLoader created with 182 batches.\n"
          ]
        }
      ]
    },
    {
      "cell_type": "markdown",
      "metadata": {
        "id": "Ay5qS5XpNkVw"
      },
      "source": [
        "**Note** - be careful about the n_buckets input if you are using non-adaptive pooling layers in your model. The n_buckets parameter directly influences sizes of images being fed into the network, since the amount of padding varies based on distribution of image sizes in each bucket (and hence the resultant batches). If your model architecture has pooling layers with fixed kernel sizes, such as MaxPooling, you will have to be careful about what image sizes are fed into the network. This is not a problem with Adaptive Pooling since, as the name suggests, this layer adapts features such as kernel size in accordance to the desired output size."
      ]
    },
    {
      "cell_type": "markdown",
      "metadata": {
        "id": "YchkmDi9gsfl"
      },
      "source": [
        "**7) Data Visualization and Summary Statistics**"
      ]
    },
    {
      "cell_type": "code",
      "execution_count": 18,
      "metadata": {
        "colab": {
          "base_uri": "https://localhost:8080/",
          "height": 490
        },
        "id": "st1BRM_rguf7",
        "outputId": "58fb6fbf-7c5c-4e29-b824-5387e152893e"
      },
      "outputs": [
        {
          "output_type": "display_data",
          "data": {
            "text/plain": [
              "<Figure size 1000x400 with 5 Axes>"
            ],
            "image/png": "[encoded data removed]"
          },
          "metadata": {}
        },
        {
          "output_type": "stream",
          "name": "stdout",
          "text": [
            "\n",
            "Train Set: Total Patches = 9705\n",
            "  Benign (0):      4243\n",
            "  High-grade (1):  5462\n",
            "\n",
            "Validation Set: Total Patches = 3746\n",
            "  Benign (0):      1104\n",
            "  High-grade (1):  2642\n",
            "\n",
            "Test Set: Total Patches = 4166\n",
            "  Benign (0):      616\n",
            "  High-grade (1):  3550\n"
          ]
        }
      ],
      "source": [
        "def visualize_random_samples(meta_df, title=\"Samples\", n_samples=5, max_candidates=20, n_threads=5):\n",
        "    \"\"\"\n",
        "    Efficiently sample & plot `n_samples` images by:\n",
        "      - Sampling up to `max_candidates` rows\n",
        "      - Loading in parallel (ThreadPoolExecutor of size `n_threads`)\n",
        "      - Skipping unreadable files\n",
        "    \"\"\"\n",
        "    # 1) pick up to max_candidates random rows\n",
        "    sample_paths = meta_df.sample(\n",
        "        n=min(max_candidates, len(meta_df)),\n",
        "        random_state=42\n",
        "    ).path.tolist()\n",
        "\n",
        "    # 2) helper to try to open one image\n",
        "    def try_load(path):\n",
        "        try:\n",
        "            img = Image.open(path).convert('RGB')\n",
        "            arr = np.array(img) / 255.0\n",
        "            return path, arr\n",
        "        except Exception:\n",
        "            return None\n",
        "\n",
        "    # 3) load in parallel, stop once we have n_samples\n",
        "    loaded = []\n",
        "    with ThreadPoolExecutor(max_workers=n_threads) as exe:\n",
        "        futures = { exe.submit(try_load, p): p for p in sample_paths }\n",
        "        for fut in as_completed(futures):\n",
        "            res = fut.result()\n",
        "            if res:\n",
        "                loaded.append(res)\n",
        "            if len(loaded) >= n_samples:\n",
        "                break\n",
        "\n",
        "    if not loaded:\n",
        "        print(\"⚠️  Could not load any sample images.\")\n",
        "        return\n",
        "\n",
        "    # 4) plot however many we got (up to n_samples)\n",
        "    n = len(loaded)\n",
        "    fig, axes = plt.subplots(figsize=(10, 4), ncols=n)\n",
        "    fig.suptitle(title, fontsize=14)\n",
        "    for ax, (path, arr) in zip(axes, loaded):\n",
        "        ax.imshow(arr)\n",
        "        cid = int(case_pat.search(os.path.basename(path)).group(1))\n",
        "        cls = \"Benign\" if labels_map[cid] == 0 else \"High-grade CMIL\"\n",
        "        ax.set_title(cls)\n",
        "        ax.axis('off')\n",
        "    plt.tight_layout()\n",
        "    plt.show()\n",
        "\n",
        "\n",
        "# Usage – should now be under 15 seconds:\n",
        "visualize_random_samples(train_meta, title=\"Train Split Samples\")\n",
        "\n",
        "# ─── Step 10: Fast class-distribution counts ──────────────────────────────────\n",
        "def print_meta_stats(name, meta_df):\n",
        "    # count using metadata case_number → labels_map\n",
        "    lbls = [ labels_map[cid] for cid in meta_df.case_number if cid in labels_map ]\n",
        "    cnt = Counter(lbls)\n",
        "    total = len(lbls)\n",
        "    print(f\"\\n{name} Set: Total Patches = {total}\")\n",
        "    print(f\"  Benign (0):      {cnt.get(0,0)}\")\n",
        "    print(f\"  High-grade (1):  {cnt.get(1,0)}\")\n",
        "\n",
        "print_meta_stats(\"Train\",      train_meta)\n",
        "print_meta_stats(\"Validation\", val_meta)\n",
        "print_meta_stats(\"Test\",       test_meta)\n"
      ]
    },
    {
      "cell_type": "markdown",
      "metadata": {
        "id": "vaoV4FdCAnec"
      },
      "source": [
        "**8) Model Definition and Training**"
      ]
    },
    {
      "cell_type": "markdown",
      "metadata": {
        "id": "JPuTItoujM4N"
      },
      "source": [
        "**Define Generalized Model Traininng Function**"
      ]
    },
    {
      "cell_type": "code",
      "source": [
        "import os\n",
        "import torch\n",
        "from torch.cuda.amp import autocast, GradScaler\n",
        "import matplotlib.pyplot as plt\n",
        "from tqdm import tqdm\n",
        "import subprocess  # for querying nvidia-smi\n",
        "\n",
        "# Helper: move tensors or lists of tensors to device\n",
        "def move_batch_to_device(images, labels, device):\n",
        "    if isinstance(images, (list, tuple)):\n",
        "        images = torch.stack([img.to(device, non_blocking=True) for img in images])\n",
        "    else:\n",
        "        images = images.to(device, non_blocking=True)\n",
        "    labels = labels.to(device, non_blocking=True)\n",
        "    return images, labels\n",
        "\n",
        "# Core training function with AMP + GPU Utilization Check, now skipping empty batches\n",
        "def train_model(\n",
        "        model,\n",
        "        optimizer,\n",
        "        criterion,\n",
        "        train_loader,\n",
        "        val_loader,\n",
        "        epochs=3,\n",
        "        scheduler=None,\n",
        "        resume_from=None,\n",
        "        device=None\n",
        "    ):\n",
        "    \"\"\"\n",
        "    Trains `model` using AMP (automatic mixed precision), saves checkpoints,\n",
        "    and prints GPU utilization stats each epoch to verify A100 usage.\n",
        "    Now also skips any empty batch (i.e. collate_fn_pad returned []).\n",
        "    \"\"\"\n",
        "    if device is None:\n",
        "        device = torch.device('cuda' if torch.cuda.is_available() else 'cpu')\n",
        "\n",
        "    torch.backends.cudnn.benchmark = True\n",
        "    model.to(device)\n",
        "\n",
        "    # Use the new GradScaler signature to avoid FutureWarning\n",
        "    scaler = GradScaler()\n",
        "\n",
        "    model_dir = \"/content/drive/MyDrive/your_model_checkpoints\" # Choose a meaningful folder name\n",
        "    os.makedirs(model_dir, exist_ok=True)\n",
        "\n",
        "    best_acc = 0.0\n",
        "    start_epoch = 0\n",
        "\n",
        "    if resume_from is not None and os.path.exists(resume_from):\n",
        "        checkpoint = torch.load(resume_from, map_location=device)\n",
        "        model.load_state_dict(checkpoint['model_state_dict'])\n",
        "        optimizer.load_state_dict(checkpoint['optimizer_state_dict'])\n",
        "        start_epoch = checkpoint['epoch']\n",
        "        best_acc = checkpoint.get('val_accuracy', 0.0)\n",
        "        print(f\"🔁 Resumed from checkpoint at epoch {start_epoch} with accuracy {best_acc:.4f}\")\n",
        "\n",
        "    train_losses = []\n",
        "    val_losses = []\n",
        "    val_accuracies = []\n",
        "\n",
        "    for e in range(start_epoch, epochs):\n",
        "        model.train()\n",
        "        running_loss = 0.0\n",
        "\n",
        "        train_bar = tqdm(train_loader, desc=f\"Epoch {e+1}/{epochs}\", leave=True)\n",
        "        for batch in train_bar:\n",
        "            if not batch:\n",
        "                # skip empty batch\n",
        "                continue\n",
        "\n",
        "            images, labels, _ = batch  # `_` = case_ids (ignored)\n",
        "            images, labels = move_batch_to_device(images, labels, device)\n",
        "\n",
        "            optimizer.zero_grad()\n",
        "            with autocast():\n",
        "                outputs = model(images)\n",
        "                loss = criterion(outputs, labels)\n",
        "\n",
        "            scaler.scale(loss).backward()\n",
        "            scaler.step(optimizer)\n",
        "            scaler.update()\n",
        "\n",
        "            running_loss += loss.item()\n",
        "            train_bar.set_postfix(loss=running_loss / (train_bar.n + 1))\n",
        "\n",
        "        epoch_train_loss = running_loss / len(train_loader)\n",
        "        train_losses.append(epoch_train_loss)\n",
        "\n",
        "        if scheduler is not None:\n",
        "            scheduler.step()\n",
        "\n",
        "        # Print GPU stats after training phase\n",
        "        if torch.cuda.is_available():\n",
        "            try:\n",
        "                gpu_stats = subprocess.check_output(\n",
        "                    [\n",
        "                        \"nvidia-smi\",\n",
        "                        \"--query-gpu=utilization.gpu,utilization.memory,memory.used,memory.total\",\n",
        "                        \"--format=csv,nounits,noheader\"\n",
        "                    ],\n",
        "                    stderr=subprocess.DEVNULL\n",
        "                ).decode(\"utf-8\").strip()\n",
        "                gpu_util, mem_util, mem_used, mem_total = [x.strip() for x in gpu_stats.split(',')]\n",
        "                print(f\"🔍 [GPU Util] GPU: {gpu_util}% | Mem: {mem_util}% \"\n",
        "                      f\"({mem_used}/{mem_total} MiB)\")\n",
        "            except Exception:\n",
        "                print(f\"🔍 [CUDA] Alloc: {torch.cuda.memory_allocated(device)/1024**2:.1f} MiB | \"\n",
        "                      f\"Cached: {torch.cuda.memory_reserved(device)/1024**2:.1f} MiB\")\n",
        "\n",
        "        # Validation\n",
        "        model.eval()\n",
        "        validation_loss = 0.0\n",
        "        correct = 0\n",
        "        total = 0\n",
        "\n",
        "        with torch.no_grad():\n",
        "            for batch in val_loader:\n",
        "                if not batch:\n",
        "                    continue\n",
        "\n",
        "                images, labels, _ = batch\n",
        "                images, labels = move_batch_to_device(images, labels, device)\n",
        "\n",
        "                with autocast():\n",
        "                    outputs = model(images)\n",
        "                    loss = criterion(outputs, labels)\n",
        "\n",
        "                validation_loss += loss.item()\n",
        "                preds = outputs.argmax(dim=1)\n",
        "                correct += (preds == labels).sum().item()\n",
        "                total += labels.size(0)\n",
        "\n",
        "        avg_val_loss = validation_loss / len(val_loader)\n",
        "        val_accuracy = correct / total\n",
        "\n",
        "        val_losses.append(avg_val_loss)\n",
        "        val_accuracies.append(val_accuracy)\n",
        "\n",
        "        print(\n",
        "            f\"Epoch: {e+1}/{epochs}.. \"\n",
        "            f\"Train Loss: {epoch_train_loss:.4f}.. \"\n",
        "            f\"Val Loss: {avg_val_loss:.4f}.. \"\n",
        "            f\"Val Accuracy: {val_accuracy:.4f}\"\n",
        "        )\n",
        "\n",
        "        # Save checkpoint for this epoch\n",
        "        checkpoint_path = os.path.join(model_dir, f\"melan_no_weight_weight_decay_model_epoch_{e+1}.pth\")\n",
        "        torch.save({\n",
        "            'epoch': e + 1,\n",
        "            'model_state_dict': model.state_dict(),\n",
        "            'optimizer_state_dict': optimizer.state_dict(),\n",
        "            'train_loss': epoch_train_loss,\n",
        "            'val_loss': avg_val_loss,\n",
        "            'val_accuracy': val_accuracy\n",
        "        }, checkpoint_path)\n",
        "\n",
        "        if val_accuracy > best_acc:\n",
        "            best_acc = val_accuracy\n",
        "            best_path = os.path.join(model_dir, \"melan_no_weight_weight_decay_best_model.pth\")\n",
        "            torch.save(model.state_dict(), best_path)\n",
        "            print(f\"✅ New best model saved at epoch {e+1} with accuracy {val_accuracy:.4f}\")\n",
        "\n",
        "    # Plot metrics\n",
        "    epochs_range = list(range(1, epochs + 1))\n",
        "    plt.figure(figsize=(12, 5))\n",
        "\n",
        "    plt.subplot(1, 2, 1)\n",
        "    plt.plot(epochs_range, train_losses, label='Training Loss')\n",
        "    plt.plot(epochs_range, val_losses, label='Validation Loss')\n",
        "    plt.xlabel('Epoch')\n",
        "    plt.ylabel('Loss')\n",
        "    plt.title('Loss During Training')\n",
        "    plt.legend()\n",
        "\n",
        "    plt.subplot(1, 2, 2)\n",
        "    plt.plot(epochs_range, val_accuracies, label='Validation Accuracy', color='green')\n",
        "    plt.xlabel('Epoch')\n",
        "    plt.ylabel('Accuracy')\n",
        "    plt.title('Validation Accuracy During Training')\n",
        "    plt.legend()\n",
        "\n",
        "    plt.tight_layout()\n",
        "    plt.show()\n",
        "\n",
        "    return model\n"
      ],
      "metadata": {
        "id": "7eJ2EBqS_gNw"
      },
      "execution_count": 19,
      "outputs": []
    },
    {
      "cell_type": "markdown",
      "metadata": {
        "id": "Q9T9aR96jCqI"
      },
      "source": [
        "**Define Your Model and Train**\n",
        "\n",
        "You need to specify 5 things (Do not specify anything else - they are already specified in the config)\n",
        "\n",
        "1) Define your model object\n",
        "```\n",
        "model = models.alexnet(weights=models.AlexNet_Weights.DEFAULT) # Use updated weights API\n",
        "```\n",
        "2) Unfreeze any layers that you want\n",
        "```\n",
        "for p in model.parameters(): p.requires_grad=False\n",
        "```\n",
        "\n",
        "3) Replace the classifier head if you want and modify feature extractor to include AdaptivePooling\n",
        "\n",
        "\n",
        "\n",
        "```\n",
        "# Modify feature extractor to include AdaptiveAvgPool2d\n",
        "model.features = nn.Sequential(*list(model.features), nn.AdaptiveAvgPool2d((6, 6)))\n",
        "in_ftrs = 256 * 6 * 6\n",
        "\n",
        "# Custom classifier\n",
        "model.classifier = nn.Sequential(\n",
        "    nn.Dropout(), nn.Linear(in_ftrs, 4096), nn.ReLU(inplace=True),\n",
        "    nn.Dropout(), nn.Linear(4096, 4096), nn.ReLU(inplace=True),\n",
        "    nn.Linear(4096, 2)\n",
        ")\n",
        "```\n",
        "\n",
        "\n",
        "\n",
        "4) Define the optimizer and pass your trainable parameters\n",
        "\n",
        "```\n",
        "optimizer = optim.Adam(\n",
        "    filter(lambda p: p.requires_grad, model.parameters()),\n",
        "    lr=CONFIG[\"lr\"]\n",
        ")\n",
        "```\n",
        "\n",
        "5) Optional: Define your class weighting (for class imbalance) and update the criterion\n",
        "\n",
        "```\n",
        "from collections import Counter\n",
        "\n",
        "def compute_class_weights(meta_df, labels_map):\n",
        "    # Extract per‐patch labels\n",
        "    lbls = [\n",
        "        labels_map[int(cid)]\n",
        "        for cid in meta_df.case_number\n",
        "        if int(cid) in labels_map\n",
        "    ]\n",
        "    cnt = Counter(lbls)\n",
        "    total = sum(cnt.values())\n",
        "    # Inverse frequency: heavier weight for under-represented class\n",
        "    w0 = total / cnt.get(0, 1)\n",
        "    w1 = total / cnt.get(1, 1)\n",
        "    return [w0, w1]\n",
        "\n",
        "class_weights = compute_class_weights(train_meta, labels_map)\n",
        "\n",
        "# Then your weighted‐loss setup becomes:\n",
        "cw_tensor = torch.tensor(class_weights, dtype=torch.float32).to(device)\n",
        "criterion = nn.CrossEntropyLoss(weight=cw_tensor)\n",
        "\n",
        "```\n",
        "\n",
        "If you are having trouble implementing this, plug-in these instructions and your model into ChatGPT."
      ]
    },
    {
      "cell_type": "code",
      "source": [
        "import torch.nn as nn\n",
        "from torch.nn import functional as F\n",
        "from collections import Counter\n",
        "import timm\n",
        "# 1) Define your custom DeiT model\n",
        "class DeiTClassifier(nn.Module):\n",
        "    def __init__(self, num_classes=2, pretrained=True):\n",
        "        super(DeiTClassifier, self).__init__()\n",
        "        self.base_model = timm.create_model('deit_small_patch16_224', pretrained=pretrained)\n",
        "\n",
        "        # Freeze all parameters in the base model initially\n",
        "        for param in self.base_model.parameters():\n",
        "            param.requires_grad = False\n",
        "\n",
        "        # Replace the classifier head for your specific number of classes (2 in this case)\n",
        "        # DeiT models typically have a 'head' attribute for the classifier.\n",
        "        in_features = self.base_model.head.in_features\n",
        "        self.base_model.head = nn.Linear(in_features, num_classes)\n",
        "\n",
        "        # Unfreeze the new classifier head\n",
        "        for param in self.base_model.head.parameters():\n",
        "            param.requires_grad = True\n",
        "\n",
        "    def forward(self, x):\n",
        "        # The DeiT model internally handles its pooling and feature extraction\n",
        "        return self.base_model(x)\n",
        "\n",
        "# Instantiate the model\n",
        "model = DeiTClassifier(num_classes=2, pretrained=True)\n",
        "\n",
        "# 2) Unfreezing layers is handled within the DeiTClassifier's __init__ method by default\n",
        "# Only the new classifier head parameters are trainable.\n",
        "\n",
        "# 3) Replace the classifier head (already done in DeiTClassifier's __init__)\n",
        "# For DeiT, the model automatically handles the feature extraction and pooling before the head.\n",
        "# No explicit AdaptiveAvgPool2d needs to be added to `model.features` directly\n",
        "# as `timm` models are typically designed with their own internal pooling.\n",
        "\n",
        "# Move model to device\n",
        "device = CONFIG[\"device\"]\n",
        "model = model.to(device)\n",
        "\n",
        "# 4) Define the optimizer and pass your trainable parameters\n",
        "optimizer = optim.Adam(\n",
        "    filter(lambda p: p.requires_grad, model.parameters()),\n",
        "    lr=CONFIG[\"lr\"],\n",
        "    weight_decay=0.01\n",
        ")\n",
        "\n",
        "# 5) Optional: Define your class weighting (for class imbalance) and update the criterion\n",
        "# def compute_class_weights(meta_df, labels_map):\n",
        "#     # Extract per‐patch labels\n",
        "#     lbls = [\n",
        "#         labels_map[int(cid)]\n",
        "#         for cid in meta_df.case_number\n",
        "#         if int(cid) in labels_map\n",
        "#     ]\n",
        "#     cnt = Counter(lbls)\n",
        "#     total = sum(cnt.values())\n",
        "#     # Inverse frequency: heavier weight for under-represented class\n",
        "#     w0 = total / cnt.get(0, 1)\n",
        "#     w1 = total / cnt.get(1, 1)\n",
        "#     return [w0, w1]\n",
        "\n",
        "# class_weights = compute_class_weights(train_meta, labels_map)\n",
        "\n",
        "# # Then your weighted‐loss setup becomes:\n",
        "# cw_tensor = torch.tensor(class_weights, dtype=torch.float32).to(device)\n",
        "criterion = nn.CrossEntropyLoss()\n",
        "\n",
        "# --- Softmax fix for evaluate_model_case_level_svc ---\n",
        "# This part is a modification to the existing function from your notebook.\n",
        "# You'll need to ensure your `evaluate_model_case_level_svc` function uses\n",
        "# the imported `softmax` or `F.softmax`.\n",
        "# Example: `probs = softmax(outputs, dim=1)` or `probs = F.softmax(outputs, dim=1)`\n",
        "\n",
        "# You would then run your training and evaluation steps:\n",
        "# trained_model = train_model(\n",
        "#     model=model,\n",
        "#     optimizer=optimizer,\n",
        "#     criterion=criterion,\n",
        "#     train_loader=train_loader,\n",
        "#     val_loader=val_loader,\n",
        "#     epochs=CONFIG['num_epochs'],\n",
        "#     scheduler=None,\n",
        "#     resume_from=None,\n",
        "#     device=CONFIG['device']\n",
        "# )\n",
        "\n",
        "# evaluate_model_on_test(trained_model, test_loader, CONFIG['device'])\n",
        "# evaluate_model_case_level_svc(model, train_meta, test_meta, train_loader, test_loader, 25, tune_svc=False)"
      ],
      "metadata": {
        "colab": {
          "base_uri": "https://localhost:8080/",
          "height": 178,
          "referenced_widgets": [
            "a768f7cb3da5475c9fe540923c833545",
            "fc08eb7cc0a74dc9b497c435cad0eb09",
            "9df10bf375c346a58e2663bd7adbc3d2",
            "2472f7a48873480d99cc3723be6bb058",
            "820da902a505402588b58844699f4f64",
            "bbd7a31da91c441ba517611c61782709",
            "c145cdbec6a848f0bdb59d047deb3ed2",
            "d788ef9e4fad4f28b6cc96a89d01c3cb",
            "66e6ace0b41a4d55a74b023b488d6121",
            "58c1294ce3954d668564e095da7b9f82",
            "b23094d944004b6da5e9f63fa6879296"
          ]
        },
        "id": "ib_mq_5poO0Z",
        "outputId": "a59c5767-6dc3-430b-8d40-d64fb277d7b5"
      },
      "execution_count": 20,
      "outputs": [
        {
          "output_type": "stream",
          "name": "stderr",
          "text": [
            "/usr/local/lib/python3.11/dist-packages/huggingface_hub/utils/_auth.py:94: UserWarning: \n",
            "The secret `HF_TOKEN` does not exist in your Colab secrets.\n",
            "To authenticate with the Hugging Face Hub, create a token in your settings tab (https://huggingface.co/settings/tokens), set it as secret in your Google Colab and restart your session.\n",
            "You will be able to reuse this secret in all of your notebooks.\n",
            "Please note that authentication is recommended but still optional to access public models or datasets.\n",
            "  warnings.warn(\n"
          ]
        },
        {
          "output_type": "display_data",
          "data": {
            "text/plain": [
              "model.safetensors:   0%|          | 0.00/88.2M [00:00<?, ?B/s]"
            ],
            "application/vnd.jupyter.widget-view+json": {
              "version_major": 2,
              "version_minor": 0,
              "model_id": "a768f7cb3da5475c9fe540923c833545"
            }
          },
          "metadata": {}
        }
      ]
    },
    {
      "cell_type": "code",
      "execution_count": 21,
      "metadata": {
        "id": "8_qmwlBmJUJF"
      },
      "outputs": [],
      "source": [
        "# # 1) Define your custom AlexNet WITHOUT max pooling, but WITH adaptive pooling\n",
        "# model = models.alexnet(weights=models.AlexNet_Weights.DEFAULT)\n",
        "# for p in model.parameters():\n",
        "#     p.requires_grad = False\n",
        "\n",
        "# # Remove MaxPool layers from feature extractor\n",
        "# new_features = []\n",
        "# for layer in model.features:\n",
        "#     if not isinstance(layer, nn.MaxPool2d):  # Skip MaxPool layers\n",
        "#         new_features.append(layer)\n",
        "# # Add adaptive pooling to control final feature map size\n",
        "# new_features.append(nn.AdaptiveAvgPool2d((6, 6)))\n",
        "# model.features = nn.Sequential(*new_features)\n",
        "\n",
        "# # Define classifier with updated input size\n",
        "# in_ftrs = 256 * 6 * 6\n",
        "# model.classifier = nn.Sequential(\n",
        "#     nn.Dropout(), nn.Linear(in_ftrs, 4096), nn.ReLU(inplace=True),\n",
        "#     nn.Dropout(), nn.Linear(4096, 4096), nn.ReLU(inplace=True),\n",
        "#     nn.Linear(4096, 2)\n",
        "# )\n",
        "\n",
        "# # Move model to device\n",
        "# device = CONFIG[\"device\"]\n",
        "# model = model.to(device)\n",
        "\n",
        "# # 2) Optimizer over only trainable parameters\n",
        "# optimizer = optim.Adam(\n",
        "#     filter(lambda p: p.requires_grad, model.parameters()),\n",
        "#     lr=CONFIG[\"lr\"]\n",
        "# )\n",
        "\n",
        "# # 3) Compute class weights for imbalance\n",
        "# def compute_class_weights(meta_df, labels_map):\n",
        "#     lbls = [labels_map[int(cid)] for cid in meta_df.case_number if int(cid) in labels_map]\n",
        "#     cnt = Counter(lbls)\n",
        "#     total = sum(cnt.values())\n",
        "#     return [total / cnt.get(0, 1), total / cnt.get(1, 1)]\n",
        "\n",
        "# class_weights = compute_class_weights(train_meta, labels_map)\n",
        "# cw_tensor = torch.tensor(class_weights, dtype=torch.float32).to(device)\n",
        "# criterion = nn.CrossEntropyLoss(weight=cw_tensor)"
      ]
    },
    {
      "cell_type": "code",
      "execution_count": 22,
      "metadata": {
        "colab": {
          "base_uri": "https://localhost:8080/",
          "height": 1000
        },
        "id": "uSTLtBpLpOvD",
        "outputId": "8ba2cb2b-c2bc-4372-e964-8d5522b4c64e"
      },
      "outputs": [
        {
          "output_type": "stream",
          "name": "stderr",
          "text": [
            "<ipython-input-19-ae4a8515c974>:41: FutureWarning: `torch.cuda.amp.GradScaler(args...)` is deprecated. Please use `torch.amp.GradScaler('cuda', args...)` instead.\n",
            "  scaler = GradScaler()\n",
            "Epoch 1/20:   0%|          | 0/400 [00:00<?, ?it/s]<ipython-input-19-ae4a8515c974>:75: FutureWarning: `torch.cuda.amp.autocast(args...)` is deprecated. Please use `torch.amp.autocast('cuda', args...)` instead.\n",
            "  with autocast():\n",
            "Epoch 1/20: 100%|██████████| 400/400 [02:11<00:00,  3.04it/s, loss=0.418]\n",
            "<ipython-input-19-ae4a8515c974>:124: FutureWarning: `torch.cuda.amp.autocast(args...)` is deprecated. Please use `torch.amp.autocast('cuda', args...)` instead.\n",
            "  with autocast():\n"
          ]
        },
        {
          "output_type": "stream",
          "name": "stdout",
          "text": [
            "🔍 [GPU Util] GPU: 0% | Mem: 0% (499/23034 MiB)\n",
            "Epoch: 1/20.. Train Loss: 0.4183.. Val Loss: 0.6394.. Val Accuracy: 0.6321\n",
            "✅ New best model saved at epoch 1 with accuracy 0.6321\n"
          ]
        },
        {
          "output_type": "stream",
          "name": "stderr",
          "text": [
            "Epoch 2/20:   0%|          | 0/400 [00:00<?, ?it/s]<ipython-input-19-ae4a8515c974>:75: FutureWarning: `torch.cuda.amp.autocast(args...)` is deprecated. Please use `torch.amp.autocast('cuda', args...)` instead.\n",
            "  with autocast():\n",
            "Epoch 2/20: 100%|██████████| 400/400 [02:03<00:00,  3.23it/s, loss=0.34]\n",
            "<ipython-input-19-ae4a8515c974>:124: FutureWarning: `torch.cuda.amp.autocast(args...)` is deprecated. Please use `torch.amp.autocast('cuda', args...)` instead.\n",
            "  with autocast():\n"
          ]
        },
        {
          "output_type": "stream",
          "name": "stdout",
          "text": [
            "🔍 [GPU Util] GPU: 0% | Mem: 0% (499/23034 MiB)\n",
            "Epoch: 2/20.. Train Loss: 0.3399.. Val Loss: 0.5754.. Val Accuracy: 0.6855\n",
            "✅ New best model saved at epoch 2 with accuracy 0.6855\n"
          ]
        },
        {
          "output_type": "stream",
          "name": "stderr",
          "text": [
            "Epoch 3/20:   0%|          | 0/400 [00:00<?, ?it/s]<ipython-input-19-ae4a8515c974>:75: FutureWarning: `torch.cuda.amp.autocast(args...)` is deprecated. Please use `torch.amp.autocast('cuda', args...)` instead.\n",
            "  with autocast():\n",
            "Epoch 3/20: 100%|██████████| 400/400 [02:03<00:00,  3.23it/s, loss=0.313]\n",
            "<ipython-input-19-ae4a8515c974>:124: FutureWarning: `torch.cuda.amp.autocast(args...)` is deprecated. Please use `torch.amp.autocast('cuda', args...)` instead.\n",
            "  with autocast():\n"
          ]
        },
        {
          "output_type": "stream",
          "name": "stdout",
          "text": [
            "🔍 [GPU Util] GPU: 0% | Mem: 0% (499/23034 MiB)\n",
            "Epoch: 3/20.. Train Loss: 0.3133.. Val Loss: 0.5803.. Val Accuracy: 0.6922\n",
            "✅ New best model saved at epoch 3 with accuracy 0.6922\n"
          ]
        },
        {
          "output_type": "stream",
          "name": "stderr",
          "text": [
            "Epoch 4/20:   0%|          | 0/400 [00:00<?, ?it/s]<ipython-input-19-ae4a8515c974>:75: FutureWarning: `torch.cuda.amp.autocast(args...)` is deprecated. Please use `torch.amp.autocast('cuda', args...)` instead.\n",
            "  with autocast():\n",
            "Epoch 4/20: 100%|██████████| 400/400 [02:03<00:00,  3.23it/s, loss=0.309]\n",
            "<ipython-input-19-ae4a8515c974>:124: FutureWarning: `torch.cuda.amp.autocast(args...)` is deprecated. Please use `torch.amp.autocast('cuda', args...)` instead.\n",
            "  with autocast():\n"
          ]
        },
        {
          "output_type": "stream",
          "name": "stdout",
          "text": [
            "🔍 [GPU Util] GPU: 3% | Mem: 2% (501/23034 MiB)\n",
            "Epoch: 4/20.. Train Loss: 0.3090.. Val Loss: 0.5777.. Val Accuracy: 0.6935\n",
            "✅ New best model saved at epoch 4 with accuracy 0.6935\n"
          ]
        },
        {
          "output_type": "stream",
          "name": "stderr",
          "text": [
            "Epoch 5/20:   0%|          | 0/400 [00:00<?, ?it/s]<ipython-input-19-ae4a8515c974>:75: FutureWarning: `torch.cuda.amp.autocast(args...)` is deprecated. Please use `torch.amp.autocast('cuda', args...)` instead.\n",
            "  with autocast():\n",
            "Epoch 5/20: 100%|██████████| 400/400 [02:03<00:00,  3.23it/s, loss=0.299]\n",
            "<ipython-input-19-ae4a8515c974>:124: FutureWarning: `torch.cuda.amp.autocast(args...)` is deprecated. Please use `torch.amp.autocast('cuda', args...)` instead.\n",
            "  with autocast():\n"
          ]
        },
        {
          "output_type": "stream",
          "name": "stdout",
          "text": [
            "🔍 [GPU Util] GPU: 0% | Mem: 0% (501/23034 MiB)\n",
            "Epoch: 5/20.. Train Loss: 0.2986.. Val Loss: 0.5937.. Val Accuracy: 0.6869\n"
          ]
        },
        {
          "output_type": "stream",
          "name": "stderr",
          "text": [
            "Epoch 6/20:   0%|          | 0/400 [00:00<?, ?it/s]<ipython-input-19-ae4a8515c974>:75: FutureWarning: `torch.cuda.amp.autocast(args...)` is deprecated. Please use `torch.amp.autocast('cuda', args...)` instead.\n",
            "  with autocast():\n",
            "Epoch 6/20: 100%|██████████| 400/400 [02:03<00:00,  3.23it/s, loss=0.29]\n",
            "<ipython-input-19-ae4a8515c974>:124: FutureWarning: `torch.cuda.amp.autocast(args...)` is deprecated. Please use `torch.amp.autocast('cuda', args...)` instead.\n",
            "  with autocast():\n"
          ]
        },
        {
          "output_type": "stream",
          "name": "stdout",
          "text": [
            "🔍 [GPU Util] GPU: 3% | Mem: 2% (501/23034 MiB)\n",
            "Epoch: 6/20.. Train Loss: 0.2897.. Val Loss: 0.5809.. Val Accuracy: 0.6957\n",
            "✅ New best model saved at epoch 6 with accuracy 0.6957\n"
          ]
        },
        {
          "output_type": "stream",
          "name": "stderr",
          "text": [
            "Epoch 7/20:   0%|          | 0/400 [00:00<?, ?it/s]<ipython-input-19-ae4a8515c974>:75: FutureWarning: `torch.cuda.amp.autocast(args...)` is deprecated. Please use `torch.amp.autocast('cuda', args...)` instead.\n",
            "  with autocast():\n",
            "Epoch 7/20: 100%|██████████| 400/400 [02:03<00:00,  3.23it/s, loss=0.283]\n",
            "<ipython-input-19-ae4a8515c974>:124: FutureWarning: `torch.cuda.amp.autocast(args...)` is deprecated. Please use `torch.amp.autocast('cuda', args...)` instead.\n",
            "  with autocast():\n"
          ]
        },
        {
          "output_type": "stream",
          "name": "stdout",
          "text": [
            "🔍 [GPU Util] GPU: 3% | Mem: 2% (501/23034 MiB)\n",
            "Epoch: 7/20.. Train Loss: 0.2829.. Val Loss: 0.6149.. Val Accuracy: 0.6743\n"
          ]
        },
        {
          "output_type": "stream",
          "name": "stderr",
          "text": [
            "Epoch 8/20:   0%|          | 0/400 [00:00<?, ?it/s]<ipython-input-19-ae4a8515c974>:75: FutureWarning: `torch.cuda.amp.autocast(args...)` is deprecated. Please use `torch.amp.autocast('cuda', args...)` instead.\n",
            "  with autocast():\n",
            "Epoch 8/20: 100%|██████████| 400/400 [02:04<00:00,  3.21it/s, loss=0.278]\n",
            "<ipython-input-19-ae4a8515c974>:124: FutureWarning: `torch.cuda.amp.autocast(args...)` is deprecated. Please use `torch.amp.autocast('cuda', args...)` instead.\n",
            "  with autocast():\n"
          ]
        },
        {
          "output_type": "stream",
          "name": "stdout",
          "text": [
            "🔍 [GPU Util] GPU: 0% | Mem: 0% (501/23034 MiB)\n",
            "Epoch: 8/20.. Train Loss: 0.2776.. Val Loss: 0.5987.. Val Accuracy: 0.6930\n"
          ]
        },
        {
          "output_type": "stream",
          "name": "stderr",
          "text": [
            "Epoch 9/20:   0%|          | 0/400 [00:00<?, ?it/s]<ipython-input-19-ae4a8515c974>:75: FutureWarning: `torch.cuda.amp.autocast(args...)` is deprecated. Please use `torch.amp.autocast('cuda', args...)` instead.\n",
            "  with autocast():\n",
            "Epoch 9/20: 100%|██████████| 400/400 [02:06<00:00,  3.17it/s, loss=0.28]\n",
            "<ipython-input-19-ae4a8515c974>:124: FutureWarning: `torch.cuda.amp.autocast(args...)` is deprecated. Please use `torch.amp.autocast('cuda', args...)` instead.\n",
            "  with autocast():\n"
          ]
        },
        {
          "output_type": "stream",
          "name": "stdout",
          "text": [
            "🔍 [GPU Util] GPU: 6% | Mem: 5% (501/23034 MiB)\n",
            "Epoch: 9/20.. Train Loss: 0.2799.. Val Loss: 0.6993.. Val Accuracy: 0.6385\n"
          ]
        },
        {
          "output_type": "stream",
          "name": "stderr",
          "text": [
            "Epoch 10/20:   0%|          | 0/400 [00:00<?, ?it/s]<ipython-input-19-ae4a8515c974>:75: FutureWarning: `torch.cuda.amp.autocast(args...)` is deprecated. Please use `torch.amp.autocast('cuda', args...)` instead.\n",
            "  with autocast():\n",
            "Epoch 10/20: 100%|██████████| 400/400 [02:05<00:00,  3.18it/s, loss=0.268]\n",
            "<ipython-input-19-ae4a8515c974>:124: FutureWarning: `torch.cuda.amp.autocast(args...)` is deprecated. Please use `torch.amp.autocast('cuda', args...)` instead.\n",
            "  with autocast():\n"
          ]
        },
        {
          "output_type": "stream",
          "name": "stdout",
          "text": [
            "🔍 [GPU Util] GPU: 2% | Mem: 1% (501/23034 MiB)\n",
            "Epoch: 10/20.. Train Loss: 0.2685.. Val Loss: 0.5951.. Val Accuracy: 0.6959\n",
            "✅ New best model saved at epoch 10 with accuracy 0.6959\n"
          ]
        },
        {
          "output_type": "stream",
          "name": "stderr",
          "text": [
            "Epoch 11/20:   0%|          | 0/400 [00:00<?, ?it/s]<ipython-input-19-ae4a8515c974>:75: FutureWarning: `torch.cuda.amp.autocast(args...)` is deprecated. Please use `torch.amp.autocast('cuda', args...)` instead.\n",
            "  with autocast():\n",
            "Epoch 11/20: 100%|██████████| 400/400 [02:06<00:00,  3.17it/s, loss=0.275]\n",
            "<ipython-input-19-ae4a8515c974>:124: FutureWarning: `torch.cuda.amp.autocast(args...)` is deprecated. Please use `torch.amp.autocast('cuda', args...)` instead.\n",
            "  with autocast():\n"
          ]
        },
        {
          "output_type": "stream",
          "name": "stdout",
          "text": [
            "🔍 [GPU Util] GPU: 6% | Mem: 5% (501/23034 MiB)\n",
            "Epoch: 11/20.. Train Loss: 0.2748.. Val Loss: 0.5903.. Val Accuracy: 0.7015\n",
            "✅ New best model saved at epoch 11 with accuracy 0.7015\n"
          ]
        },
        {
          "output_type": "stream",
          "name": "stderr",
          "text": [
            "Epoch 12/20:   0%|          | 0/400 [00:00<?, ?it/s]<ipython-input-19-ae4a8515c974>:75: FutureWarning: `torch.cuda.amp.autocast(args...)` is deprecated. Please use `torch.amp.autocast('cuda', args...)` instead.\n",
            "  with autocast():\n",
            "Epoch 12/20: 100%|██████████| 400/400 [02:06<00:00,  3.17it/s, loss=0.268]\n",
            "<ipython-input-19-ae4a8515c974>:124: FutureWarning: `torch.cuda.amp.autocast(args...)` is deprecated. Please use `torch.amp.autocast('cuda', args...)` instead.\n",
            "  with autocast():\n"
          ]
        },
        {
          "output_type": "stream",
          "name": "stdout",
          "text": [
            "🔍 [GPU Util] GPU: 6% | Mem: 5% (501/23034 MiB)\n",
            "Epoch: 12/20.. Train Loss: 0.2685.. Val Loss: 0.6162.. Val Accuracy: 0.6877\n"
          ]
        },
        {
          "output_type": "stream",
          "name": "stderr",
          "text": [
            "Epoch 13/20:   0%|          | 0/400 [00:00<?, ?it/s]<ipython-input-19-ae4a8515c974>:75: FutureWarning: `torch.cuda.amp.autocast(args...)` is deprecated. Please use `torch.amp.autocast('cuda', args...)` instead.\n",
            "  with autocast():\n",
            "Epoch 13/20: 100%|██████████| 400/400 [02:05<00:00,  3.19it/s, loss=0.266]\n",
            "<ipython-input-19-ae4a8515c974>:124: FutureWarning: `torch.cuda.amp.autocast(args...)` is deprecated. Please use `torch.amp.autocast('cuda', args...)` instead.\n",
            "  with autocast():\n"
          ]
        },
        {
          "output_type": "stream",
          "name": "stdout",
          "text": [
            "🔍 [GPU Util] GPU: 0% | Mem: 0% (501/23034 MiB)\n",
            "Epoch: 13/20.. Train Loss: 0.2663.. Val Loss: 0.5978.. Val Accuracy: 0.6967\n"
          ]
        },
        {
          "output_type": "stream",
          "name": "stderr",
          "text": [
            "Epoch 14/20:   0%|          | 0/400 [00:00<?, ?it/s]<ipython-input-19-ae4a8515c974>:75: FutureWarning: `torch.cuda.amp.autocast(args...)` is deprecated. Please use `torch.amp.autocast('cuda', args...)` instead.\n",
            "  with autocast():\n",
            "Epoch 14/20: 100%|██████████| 400/400 [02:05<00:00,  3.18it/s, loss=0.272]\n",
            "<ipython-input-19-ae4a8515c974>:124: FutureWarning: `torch.cuda.amp.autocast(args...)` is deprecated. Please use `torch.amp.autocast('cuda', args...)` instead.\n",
            "  with autocast():\n"
          ]
        },
        {
          "output_type": "stream",
          "name": "stdout",
          "text": [
            "🔍 [GPU Util] GPU: 3% | Mem: 2% (501/23034 MiB)\n",
            "Epoch: 14/20.. Train Loss: 0.2722.. Val Loss: 0.5784.. Val Accuracy: 0.7136\n",
            "✅ New best model saved at epoch 14 with accuracy 0.7136\n"
          ]
        },
        {
          "output_type": "stream",
          "name": "stderr",
          "text": [
            "Epoch 15/20:   0%|          | 0/400 [00:00<?, ?it/s]<ipython-input-19-ae4a8515c974>:75: FutureWarning: `torch.cuda.amp.autocast(args...)` is deprecated. Please use `torch.amp.autocast('cuda', args...)` instead.\n",
            "  with autocast():\n",
            "Epoch 15/20: 100%|██████████| 400/400 [02:05<00:00,  3.19it/s, loss=0.282]\n",
            "<ipython-input-19-ae4a8515c974>:124: FutureWarning: `torch.cuda.amp.autocast(args...)` is deprecated. Please use `torch.amp.autocast('cuda', args...)` instead.\n",
            "  with autocast():\n"
          ]
        },
        {
          "output_type": "stream",
          "name": "stdout",
          "text": [
            "🔍 [GPU Util] GPU: 0% | Mem: 0% (501/23034 MiB)\n",
            "Epoch: 15/20.. Train Loss: 0.2820.. Val Loss: 0.6234.. Val Accuracy: 0.6874\n"
          ]
        },
        {
          "output_type": "stream",
          "name": "stderr",
          "text": [
            "Epoch 16/20:   0%|          | 0/400 [00:00<?, ?it/s]<ipython-input-19-ae4a8515c974>:75: FutureWarning: `torch.cuda.amp.autocast(args...)` is deprecated. Please use `torch.amp.autocast('cuda', args...)` instead.\n",
            "  with autocast():\n",
            "Epoch 16/20: 100%|██████████| 400/400 [02:06<00:00,  3.17it/s, loss=0.268]\n",
            "<ipython-input-19-ae4a8515c974>:124: FutureWarning: `torch.cuda.amp.autocast(args...)` is deprecated. Please use `torch.amp.autocast('cuda', args...)` instead.\n",
            "  with autocast():\n"
          ]
        },
        {
          "output_type": "stream",
          "name": "stdout",
          "text": [
            "🔍 [GPU Util] GPU: 0% | Mem: 0% (501/23034 MiB)\n",
            "Epoch: 16/20.. Train Loss: 0.2683.. Val Loss: 0.5950.. Val Accuracy: 0.6943\n"
          ]
        },
        {
          "output_type": "stream",
          "name": "stderr",
          "text": [
            "Epoch 17/20:   0%|          | 0/400 [00:00<?, ?it/s]<ipython-input-19-ae4a8515c974>:75: FutureWarning: `torch.cuda.amp.autocast(args...)` is deprecated. Please use `torch.amp.autocast('cuda', args...)` instead.\n",
            "  with autocast():\n",
            "Epoch 17/20: 100%|██████████| 400/400 [02:05<00:00,  3.18it/s, loss=0.273]\n",
            "<ipython-input-19-ae4a8515c974>:124: FutureWarning: `torch.cuda.amp.autocast(args...)` is deprecated. Please use `torch.amp.autocast('cuda', args...)` instead.\n",
            "  with autocast():\n"
          ]
        },
        {
          "output_type": "stream",
          "name": "stdout",
          "text": [
            "🔍 [GPU Util] GPU: 3% | Mem: 2% (501/23034 MiB)\n",
            "Epoch: 17/20.. Train Loss: 0.2728.. Val Loss: 0.5961.. Val Accuracy: 0.6975\n"
          ]
        },
        {
          "output_type": "stream",
          "name": "stderr",
          "text": [
            "Epoch 18/20:   0%|          | 0/400 [00:00<?, ?it/s]<ipython-input-19-ae4a8515c974>:75: FutureWarning: `torch.cuda.amp.autocast(args...)` is deprecated. Please use `torch.amp.autocast('cuda', args...)` instead.\n",
            "  with autocast():\n",
            "Epoch 18/20: 100%|██████████| 400/400 [02:05<00:00,  3.18it/s, loss=0.261]\n",
            "<ipython-input-19-ae4a8515c974>:124: FutureWarning: `torch.cuda.amp.autocast(args...)` is deprecated. Please use `torch.amp.autocast('cuda', args...)` instead.\n",
            "  with autocast():\n"
          ]
        },
        {
          "output_type": "stream",
          "name": "stdout",
          "text": [
            "🔍 [GPU Util] GPU: 0% | Mem: 0% (503/23034 MiB)\n",
            "Epoch: 18/20.. Train Loss: 0.2605.. Val Loss: 0.5977.. Val Accuracy: 0.6957\n"
          ]
        },
        {
          "output_type": "stream",
          "name": "stderr",
          "text": [
            "Epoch 19/20:   0%|          | 0/400 [00:00<?, ?it/s]<ipython-input-19-ae4a8515c974>:75: FutureWarning: `torch.cuda.amp.autocast(args...)` is deprecated. Please use `torch.amp.autocast('cuda', args...)` instead.\n",
            "  with autocast():\n",
            "Epoch 19/20: 100%|██████████| 400/400 [02:05<00:00,  3.18it/s, loss=0.266]\n",
            "<ipython-input-19-ae4a8515c974>:124: FutureWarning: `torch.cuda.amp.autocast(args...)` is deprecated. Please use `torch.amp.autocast('cuda', args...)` instead.\n",
            "  with autocast():\n"
          ]
        },
        {
          "output_type": "stream",
          "name": "stdout",
          "text": [
            "🔍 [GPU Util] GPU: 3% | Mem: 2% (503/23034 MiB)\n",
            "Epoch: 19/20.. Train Loss: 0.2658.. Val Loss: 0.6303.. Val Accuracy: 0.6791\n"
          ]
        },
        {
          "output_type": "stream",
          "name": "stderr",
          "text": [
            "Epoch 20/20:   0%|          | 0/400 [00:00<?, ?it/s]<ipython-input-19-ae4a8515c974>:75: FutureWarning: `torch.cuda.amp.autocast(args...)` is deprecated. Please use `torch.amp.autocast('cuda', args...)` instead.\n",
            "  with autocast():\n",
            "Epoch 20/20: 100%|██████████| 400/400 [02:05<00:00,  3.18it/s, loss=0.269]\n",
            "<ipython-input-19-ae4a8515c974>:124: FutureWarning: `torch.cuda.amp.autocast(args...)` is deprecated. Please use `torch.amp.autocast('cuda', args...)` instead.\n",
            "  with autocast():\n"
          ]
        },
        {
          "output_type": "stream",
          "name": "stdout",
          "text": [
            "🔍 [GPU Util] GPU: 3% | Mem: 2% (503/23034 MiB)\n",
            "Epoch: 20/20.. Train Loss: 0.2687.. Val Loss: 0.6014.. Val Accuracy: 0.6999\n"
          ]
        },
        {
          "output_type": "display_data",
          "data": {
            "text/plain": [
              "<Figure size 1200x500 with 2 Axes>"
            ],
            "image/png": "[encoded data removed]"
          },
          "metadata": {}
        }
      ],
      "source": [
        "# train model\n",
        "trained_model = train_model(\n",
        "    model=model,\n",
        "    optimizer=optimizer,\n",
        "    criterion=criterion,\n",
        "    train_loader=train_loader,\n",
        "    val_loader=val_loader,\n",
        "    epochs=CONFIG['num_epochs'],\n",
        "    scheduler=None,         # Optional: you can plug in a learning rate scheduler\n",
        "    resume_from=None,       # Optional: provide path to checkpoint if resuming\n",
        "    device=CONFIG['device'] # Uses GPU if available, otherwise CPU\n",
        ")"
      ]
    },
    {
      "cell_type": "markdown",
      "metadata": {
        "id": "vDL427_1uuUz"
      },
      "source": [
        "**9. Model Evaluation**"
      ]
    },
    {
      "cell_type": "code",
      "execution_count": 23,
      "metadata": {
        "id": "eJ0VsYr4sVXb",
        "colab": {
          "base_uri": "https://localhost:8080/",
          "height": 780
        },
        "outputId": "bf4817c0-0def-4b8c-baaf-38d57b0a7418"
      },
      "outputs": [
        {
          "output_type": "stream",
          "name": "stdout",
          "text": [
            "\n",
            "=== Test Set Performance ===\n",
            "Accuracy      : 0.6236\n",
            "Precision     : 0.9167\n",
            "Recall        : 0.6141\n",
            "F1 Score      : 0.7355\n",
            "\n",
            "Classification Report:\n",
            "                 precision    recall  f1-score   support\n",
            "\n",
            "         Benign       0.23      0.68      0.35       616\n",
            "High-grade CMIL       0.92      0.61      0.74      3550\n",
            "\n",
            "       accuracy                           0.62      4166\n",
            "      macro avg       0.58      0.65      0.54      4166\n",
            "   weighted avg       0.82      0.62      0.68      4166\n",
            "\n"
          ]
        },
        {
          "output_type": "display_data",
          "data": {
            "text/plain": [
              "<Figure size 640x480 with 2 Axes>"
            ],
            "image/png": "[encoded data removed]"
          },
          "metadata": {}
        }
      ],
      "source": [
        "def evaluate_model_on_test(model, test_loader, device):\n",
        "    model.eval()\n",
        "    all_preds = []\n",
        "    all_labels = []\n",
        "\n",
        "    with torch.no_grad():\n",
        "        for images, labels, _ in test_loader:  # `_` = case IDs (optional)\n",
        "            images = images.to(device)\n",
        "            labels = labels.to(device)\n",
        "\n",
        "            outputs = model(images)\n",
        "            preds = outputs.argmax(dim=1)\n",
        "\n",
        "            all_preds.extend(preds.cpu().numpy())\n",
        "            all_labels.extend(labels.cpu().numpy())\n",
        "\n",
        "    # === Compute Metrics ===\n",
        "    acc = accuracy_score(all_labels, all_preds)\n",
        "    prec = precision_score(all_labels, all_preds)\n",
        "    rec = recall_score(all_labels, all_preds)\n",
        "    f1 = f1_score(all_labels, all_preds)\n",
        "\n",
        "    print(\"\\n=== Test Set Performance ===\")\n",
        "    print(f\"Accuracy      : {acc:.4f}\")\n",
        "    print(f\"Precision     : {prec:.4f}\")\n",
        "    print(f\"Recall        : {rec:.4f}\")\n",
        "    print(f\"F1 Score      : {f1:.4f}\")\n",
        "    print(\"\\nClassification Report:\")\n",
        "    print(classification_report(all_labels, all_preds, target_names=[\"Benign\", \"High-grade CMIL\"]))\n",
        "\n",
        "    # === Plot Confusion Matrix ===\n",
        "    cm = confusion_matrix(all_labels, all_preds)\n",
        "    disp = ConfusionMatrixDisplay(confusion_matrix=cm, display_labels=[\"Benign\", \"High-grade CMIL\"])\n",
        "    disp.plot(cmap='Blues')\n",
        "    plt.title(\"Confusion Matrix - Test Set\")\n",
        "    plt.show()\n",
        "\n",
        "# === Run Evaluation ===\n",
        "evaluate_model_on_test(trained_model, test_loader, CONFIG['device'])\n"
      ]
    },
    {
      "cell_type": "markdown",
      "metadata": {
        "id": "vW4et0GBXD1i"
      },
      "source": [
        "**10. Patch Level to Case Level Prediction**"
      ]
    },
    {
      "cell_type": "code",
      "execution_count": 24,
      "metadata": {
        "id": "U7j7OEIWXJda"
      },
      "outputs": [],
      "source": [
        "from torch.nn.functional import softmax\n",
        "def evaluate_model_case_level_svc(model, df_train, df_test, train_loader, test_loader, k=25, tune_svc = False, return_pred = False):\n",
        "\n",
        "    # === Collect model predictions for train and test datasets ===\n",
        "\n",
        "    model.eval()\n",
        "    all_probs_tr, all_probs_tst = [], []\n",
        "    with torch.no_grad():\n",
        "        for images, labels, _ in train_loader:\n",
        "            images= (images.to(device))\n",
        "            outputs = model(images)\n",
        "            probs   = F.softmax(outputs, dim=1)\n",
        "            all_probs_tr.extend(probs.cpu().numpy())\n",
        "\n",
        "        for images, labels, _ in test_loader:\n",
        "            images = (images.to(device))\n",
        "            outputs = model(images)\n",
        "            probs   = F.softmax(outputs, dim=1)\n",
        "            all_probs_tst.extend(probs.cpu().numpy())\n",
        "    train_prob = [arr[0] for arr in all_probs_tr]\n",
        "    test_prob = [arr[0] for arr in all_probs_tst]\n",
        "\n",
        "    # === Produce top k predicted probability dataframe for train data ===\n",
        "    if df_train['stain'].nunique() > 1:\n",
        "        all_top_k = []\n",
        "        for stain in df_train['stain'].unique():\n",
        "            df_train_rs = df_train.reset_index(drop=True)\n",
        "            stain_df = df_train_rs[df_train_rs['stain']==stain]\n",
        "            stain_prob = [train_prob[x] for x in stain_df.index]\n",
        "            stain_top_k_prob = pd.DataFrame({'case_number': stain_df.case_number.values, 'prob': stain_prob}).groupby('case_number', group_keys=False)[['case_number','prob']].apply(lambda x: x.nlargest(25, columns='prob')).reset_index(drop=True)\n",
        "            stain_top_k_prob['rank'] = top_k_prob.groupby('case_number').cumcount()\n",
        "            stain_top_k_prob = top_k_prob.pivot(index='case_number', columns='rank', values='prob').dropna()\n",
        "            stain_top_k_prob.columns = [f'{stain}_prob_{col}' for col in stain_top_k_prob.columns]\n",
        "            all_top_k.append(stain_top_k_prob)\n",
        "        top_k_prob = pd.concat(all_top_k, axis=1).dropna(axis=0)\n",
        "        case_label = df_train[df_train.case_number.isin(top_k_prob.index)].groupby('case_number')['label'].mean()\n",
        "    else:\n",
        "        df_train['label'] = df_train['case_number'].map(labels_map)\n",
        "        top_k_prob = pd.DataFrame({'case_number': df_train.case_number.values, 'prob': train_prob}).groupby('case_number', group_keys=False)[['case_number','prob']].apply(lambda x: x.nlargest(k, columns='prob')).reset_index(drop=True)\n",
        "        top_k_prob['rank'] = top_k_prob.groupby('case_number').cumcount()\n",
        "        top_k_prob = top_k_prob.pivot(index='case_number', columns='rank', values='prob').dropna()\n",
        "        case_label = df_train[df_train.case_number.isin(top_k_prob.index)].groupby('case_number')['label'].mean()\n",
        "\n",
        "    # === Make and fit SVC to train predicted probabilities ===\n",
        "    if tune_svc:\n",
        "        pipeline = Pipeline([('scaler', StandardScaler()), ('svc', SVC())])\n",
        "        param_grid = [\n",
        "            {'svc__kernel': ['linear'], 'svc__C': [0.01, 0.1, 1, 10, 100]},\n",
        "            {'svc__kernel': ['rbf'], 'svc__C': [0.1, 1, 10], 'svc__gamma': ['scale', 0.01, 0.001, 0.0001]}\n",
        "        ]\n",
        "        svc = GridSearchCV(estimator=pipeline, param_grid=param_grid, cv=5, scoring='accuracy')\n",
        "        svc.fit(top_k_prob, case_label)\n",
        "        print('Selected parameters: ' + str(svc.best_params_))\n",
        "    else:\n",
        "        svc = make_pipeline(StandardScaler(), LinearSVC())\n",
        "        svc.fit(top_k_prob, case_label)\n",
        "\n",
        "    # === Produce top k predicted probability dataframe for test data ===\n",
        "    if df_train['stain'].nunique() > 1:\n",
        "        all_top_k = []\n",
        "        for stain in df_train['stain'].unique():\n",
        "            df_test_rs = df_test.reset_index(drop=True)\n",
        "            stain_df = df_test_rs[df_test_rs['stain']==stain]\n",
        "            stain_prob = [test_prob[x] for x in stain_df.index]\n",
        "            stain_top_k_prob_tst = pd.DataFrame({'case_number': stain_df.case_number.values, 'prob': stain_prob}).groupby('case_number', group_keys=False)[['case_number','prob']].apply(lambda x: x.nlargest(25, columns='prob')).reset_index(drop=True)\n",
        "            stain_top_k_prob_tst['rank'] = stain_top_k_prob_tst.groupby('case_number').cumcount()\n",
        "            stain_top_k_prob_tst = stain_top_k_prob_tst.pivot(index='case_number', columns='rank', values='prob').dropna()\n",
        "            stain_top_k_prob_tst.columns = [f'{stain}_prob_{col}' for col in top_k_prob_tst.columns]\n",
        "            all_top_k.append(stain_top_k_prob_tst)\n",
        "        top_k_prob_tst = pd.concat(all_top_k, axis=1).dropna(axis=0)\n",
        "        case_label_tst = df_test[df_test.case_number.isin(top_k_prob_tst.index)].groupby('case_number')['label'].mean()\n",
        "    else:\n",
        "        df_test['label'] = df_test['case_number'].map(labels_map)\n",
        "        top_k_prob_tst = pd.DataFrame({'case_number': df_test.case_number.values, 'prob': test_prob}).groupby('case_number', group_keys=False)[['case_number','prob']].apply(lambda x: x.nlargest(k, columns='prob')).reset_index(drop=True)\n",
        "        top_k_prob_tst['rank'] = top_k_prob_tst.groupby('case_number').cumcount()\n",
        "        top_k_prob_tst = top_k_prob_tst.pivot(index='case_number', columns='rank', values='prob').dropna()\n",
        "        case_label_tst = df_test[df_test.case_number.isin(top_k_prob_tst.index)].groupby('case_number')['label'].mean()\n",
        "\n",
        "    # === Calculate and print train metrics ===\n",
        "    train_pred = svc.predict(top_k_prob)\n",
        "    train_acc = accuracy_score(case_label, train_pred)\n",
        "    train_rec = recall_score(case_label, train_pred)\n",
        "    train_pre = precision_score(case_label, train_pred, zero_division=0)\n",
        "    train_f1 = f1_score(case_label, train_pred, zero_division=0)\n",
        "    print(\"\\n=== Train Set Performance ===\")\n",
        "    print('Train Accuracy: ' + str(train_acc))\n",
        "    print('Train Precision ' + str(train_pre))\n",
        "    print('Train Recall: ' + str(train_rec))\n",
        "    print('Train F1 Score: ' + str(train_f1))\n",
        "\n",
        "    # === Calculate and print test metrics ===\n",
        "    test_pred = svc.predict(top_k_prob_tst)\n",
        "    test_acc = accuracy_score(case_label_tst, test_pred)\n",
        "    test_rec = recall_score(case_label_tst, test_pred)\n",
        "    test_pre = precision_score(case_label_tst, test_pred, zero_division=0)\n",
        "    test_f1 = f1_score(case_label_tst, test_pred, zero_division=0)\n",
        "    print(\"\\n=== Test Set Performance ===\")\n",
        "    print('Test Accuracy: ' + str(test_acc))\n",
        "    print('Test Precision ' + str(test_pre))\n",
        "    print('Test Recall: ' + str(test_rec))\n",
        "    print('Test F1 Score: ' + str(test_f1))\n",
        "    print(\"\\nClassification Report:\")\n",
        "    print(classification_report(case_label_tst, test_pred, target_names=[\"Benign\", \"High-grade CMIL\"]))\n",
        "\n",
        "    # === Produce and plot confusion matrix for test data ===\n",
        "    cm = confusion_matrix(case_label_tst, test_pred)\n",
        "    disp = ConfusionMatrixDisplay(confusion_matrix=cm)\n",
        "    disp.plot(cmap='Blues')\n",
        "    plt.xticks(ticks=[0,1], labels=['Benign', 'High-grade CMIL'])\n",
        "    plt.yticks(ticks=[0,1], labels=['Benign', 'High-grade CMIL'])\n",
        "    plt.xlabel('Predicted Case Grade')\n",
        "    plt.ylabel('Actual Case Grade')\n",
        "    plt.title(\"Confusion Matrix - Test Set Case Level\")\n",
        "    plt.show()\n",
        "\n",
        "    if return_pred:\n",
        "        return svc.predict(top_k_prob_tst)\n",
        "    else:\n",
        "        return None"
      ]
    },
    {
      "cell_type": "code",
      "source": [
        "from torch.nn.functional import softmax\n",
        "import pandas as pd\n",
        "import numpy as np # Make sure numpy is imported\n",
        "from sklearn.svm import SVC, LinearSVC\n",
        "from sklearn.pipeline import make_pipeline, Pipeline\n",
        "from sklearn.preprocessing import StandardScaler\n",
        "from sklearn.model_selection import GridSearchCV\n",
        "from sklearn.metrics import accuracy_score, precision_score, recall_score, f1_score, confusion_matrix, ConfusionMatrixDisplay, classification_report\n",
        "from collections import Counter # Already imported at the top, but good to ensure\n",
        "\n",
        "def evaluate_model_case_level_svc(model, df_train_meta_orig, df_test_meta_orig, train_loader, test_loader, k=25, tune_svc=False, return_pred=False, labels_map=None): # Added labels_map here\n",
        "    device = CONFIG['device'] # Ensure device is accessible\n",
        "\n",
        "    # === Collect model predictions and case_numbers for train and test datasets ===\n",
        "    model.eval()\n",
        "\n",
        "    # For training data\n",
        "    all_probs_tr = []\n",
        "    all_cids_tr = [] # Collect case IDs for matching later\n",
        "    with torch.no_grad():\n",
        "        for images, labels, cids in train_loader: # Collect cids from DataLoader\n",
        "            if not (images.nelement() > 0):\n",
        "                continue\n",
        "            images = images.to(device)\n",
        "            outputs = model(images)\n",
        "            probs = F.softmax(outputs, dim=1)\n",
        "            all_probs_tr.extend(probs.cpu().numpy())\n",
        "            all_cids_tr.extend(cids.cpu().numpy()) # Store cids\n",
        "\n",
        "    # For testing data\n",
        "    all_probs_tst = []\n",
        "    all_cids_tst = [] # Collect case IDs for matching later\n",
        "    with torch.no_grad():\n",
        "        for images, labels, cids in test_loader: # Collect cids from DataLoader\n",
        "            if not (images.nelement() > 0):\n",
        "                continue\n",
        "            images = images.to(device)\n",
        "            outputs = model(images)\n",
        "            probs = F.softmax(outputs, dim=1)\n",
        "            all_probs_tst.extend(probs.cpu().numpy())\n",
        "            all_cids_tst.extend(cids.cpu().numpy()) # Store cids\n",
        "\n",
        "    # Extract probabilities for class 0 (Benign) - assuming class 0 is \"Benign\" as per your report\n",
        "    train_prob_class0 = [arr[0] for arr in all_probs_tr]\n",
        "    test_prob_class0 = [arr[0] for arr in all_probs_tst]\n",
        "\n",
        "    # === Prepare dataframes for top-k probabilities (Train) ===\n",
        "    # Create a DataFrame of all processed patches with their case_numbers and probabilities\n",
        "    processed_train_patches_df = pd.DataFrame({'case_number': all_cids_tr, 'prob': train_prob_class0})\n",
        "    processed_train_patches_df['label'] = processed_train_patches_df['case_number'].map(labels_map) # Map labels here\n",
        "\n",
        "    # Group by case_number and get top k probabilities\n",
        "    top_k_prob_train = processed_train_patches_df.groupby('case_number', group_keys=False)[['case_number', 'prob']]\\\n",
        "                                                    .apply(lambda x: x.nlargest(k, columns='prob')).reset_index(drop=True)\n",
        "    top_k_prob_train['rank'] = top_k_prob_train.groupby('case_number').cumcount()\n",
        "    top_k_prob_train = top_k_prob_train.pivot(index='case_number', columns='rank', values='prob').dropna()\n",
        "\n",
        "    # Get the corresponding case labels for the cases that have at least k patches\n",
        "    case_label_train = processed_train_patches_df[processed_train_patches_df.case_number.isin(top_k_prob_train.index)]\\\n",
        "                                                    .groupby('case_number')['label'].first() # Use first as all labels for a case should be same\n",
        "\n",
        "    # === Make and fit SVC to train predicted probabilities ===\n",
        "    if tune_svc:\n",
        "        pipeline = Pipeline([('scaler', StandardScaler()), ('svc', SVC())])\n",
        "        param_grid = [\n",
        "            {'svc__kernel': ['linear'], 'svc__C': [0.01, 0.1, 1, 10, 100]},\n",
        "            {'svc__kernel': ['rbf'], 'svc__C': [0.1, 1, 10], 'svc__gamma': ['scale', 0.01, 0.001, 0.0001]}\n",
        "        ]\n",
        "        svc = GridSearchCV(estimator=pipeline, param_grid=param_grid, cv=5, scoring='accuracy')\n",
        "        svc.fit(top_k_prob_train, case_label_train)\n",
        "        print('Selected parameters: ' + str(svc.best_params_))\n",
        "    else:\n",
        "        svc = make_pipeline(StandardScaler(), LinearSVC())\n",
        "        svc.fit(top_k_prob_train, case_label_train)\n",
        "\n",
        "    # === Prepare dataframes for top-k probabilities (Test) ===\n",
        "    # Create a DataFrame of all processed patches with their case_numbers and probabilities\n",
        "    processed_test_patches_df = pd.DataFrame({'case_number': all_cids_tst, 'prob': test_prob_class0})\n",
        "    processed_test_patches_df['label'] = processed_test_patches_df['case_number'].map(labels_map) # Map labels here\n",
        "\n",
        "    # Group by case_number and get top k probabilities\n",
        "    top_k_prob_test = processed_test_patches_df.groupby('case_number', group_keys=False)[['case_number', 'prob']]\\\n",
        "                                                .apply(lambda x: x.nlargest(k, columns='prob')).reset_index(drop=True)\n",
        "    top_k_prob_test['rank'] = top_k_prob_test.groupby('case_number').cumcount()\n",
        "    top_k_prob_test = top_k_prob_test.pivot(index='case_number', columns='rank', values='prob').dropna()\n",
        "\n",
        "    # Get the corresponding case labels for the cases that have at least k patches\n",
        "    case_label_test = processed_test_patches_df[processed_test_patches_df.case_number.isin(top_k_prob_test.index)]\\\n",
        "                                                .groupby('case_number')['label'].first() # Use first as all labels for a case should be same\n",
        "\n",
        "    # === Calculate and print train metrics ===\n",
        "    train_pred = svc.predict(top_k_prob_train)\n",
        "    train_acc = accuracy_score(case_label_train, train_pred)\n",
        "    train_rec = recall_score(case_label_train, train_pred, zero_division=0)\n",
        "    train_pre = precision_score(case_label_train, train_pred, zero_division=0)\n",
        "    train_f1 = f1_score(case_label_train, train_pred, zero_division=0)\n",
        "    print(\"\\n=== Train Set Performance (Case Level) ===\")\n",
        "    print(f'Train Accuracy: {train_acc:.4f}')\n",
        "    print(f'Train Precision: {train_pre:.4f}')\n",
        "    print(f'Train Recall: {train_rec:.4f}')\n",
        "    print(f'Train F1 Score: {train_f1:.4f}')\n",
        "\n",
        "    # === Calculate and print test metrics ===\n",
        "    test_pred = svc.predict(top_k_prob_test)\n",
        "    test_acc = accuracy_score(case_label_test, test_pred)\n",
        "    test_rec = recall_score(case_label_test, test_pred, zero_division=0)\n",
        "    test_pre = precision_score(case_label_test, test_pred, zero_division=0)\n",
        "    test_f1 = f1_score(case_label_test, test_pred, zero_division=0)\n",
        "    print(\"\\n=== Test Set Performance (Case Level) ===\")\n",
        "    print(f'Test Accuracy: {test_acc:.4f}')\n",
        "    print(f'Test Precision: {test_pre:.4f}')\n",
        "    print(f'Test Recall: {test_rec:.4f}')\n",
        "    print(f'Test F1 Score: {test_f1:.4f}')\n",
        "    print(\"\\nClassification Report (Case Level):\")\n",
        "    print(classification_report(case_label_test, test_pred, target_names=[\"Benign\", \"High-grade CMIL\"]))\n",
        "\n",
        "    # === Produce and plot confusion matrix for test data ===\n",
        "    cm = confusion_matrix(case_label_test, test_pred)\n",
        "    disp = ConfusionMatrixDisplay(confusion_matrix=cm, display_labels=[\"Benign\", \"High-grade CMIL\"])\n",
        "    disp.plot(cmap='Blues')\n",
        "    plt.title(\"Confusion Matrix - Test Set Case Level\")\n",
        "    plt.show()\n",
        "\n",
        "    if return_pred:\n",
        "        return test_pred\n",
        "    else:\n",
        "        return None"
      ],
      "metadata": {
        "id": "Q6ExLss-0FIe"
      },
      "execution_count": 25,
      "outputs": []
    },
    {
      "cell_type": "code",
      "execution_count": 26,
      "metadata": {
        "id": "EU-S6vrkXKua",
        "colab": {
          "base_uri": "https://localhost:8080/",
          "height": 888
        },
        "outputId": "7a4ec78e-e50b-4c68-d70e-6eb645280250"
      },
      "outputs": [
        {
          "output_type": "stream",
          "name": "stdout",
          "text": [
            "\n",
            "=== Train Set Performance (Case Level) ===\n",
            "Train Accuracy: 1.0000\n",
            "Train Precision: 1.0000\n",
            "Train Recall: 1.0000\n",
            "Train F1 Score: 1.0000\n",
            "\n",
            "=== Test Set Performance (Case Level) ===\n",
            "Test Accuracy: 0.5385\n",
            "Test Precision: 0.6667\n",
            "Test Recall: 0.5000\n",
            "Test F1 Score: 0.5714\n",
            "\n",
            "Classification Report (Case Level):\n",
            "                 precision    recall  f1-score   support\n",
            "\n",
            "         Benign       0.43      0.60      0.50         5\n",
            "High-grade CMIL       0.67      0.50      0.57         8\n",
            "\n",
            "       accuracy                           0.54        13\n",
            "      macro avg       0.55      0.55      0.54        13\n",
            "   weighted avg       0.58      0.54      0.54        13\n",
            "\n"
          ]
        },
        {
          "output_type": "display_data",
          "data": {
            "text/plain": [
              "<Figure size 640x480 with 2 Axes>"
            ],
            "image/png": "[encoded data removed]"
          },
          "metadata": {}
        }
      ],
      "source": [
        "# === Run Case-Level Model Evaluation ===\n",
        "evaluate_model_case_level_svc(model, train_meta, test_meta, train_loader, test_loader, 25, tune_svc=False, labels_map=labels_map)"
      ]
    },
    {
      "cell_type": "markdown",
      "metadata": {
        "id": "OgqLoGGtsH5u"
      },
      "source": [
        "**End of script – see below for other examples of correct model setups**"
      ]
    },
    {
      "cell_type": "code",
      "execution_count": 27,
      "metadata": {
        "id": "HuIm4YGkqI0E"
      },
      "outputs": [],
      "source": [
        "# # ─── 6) MODEL SETUP (KimiaNet) ───────────────────────────────────────────────\n",
        "\n",
        "# # 1) Define your model object (KimiaNet with Adaptive Pooling)\n",
        "# class KimiaNetClassifier(nn.Module):\n",
        "#     def __init__(self, num_classes=2):\n",
        "#         super(KimiaNetClassifier, self).__init__()\n",
        "#         base = models.densenet121(weights=None)  # No ImageNet weights\n",
        "#         self.features = base.features\n",
        "#         self.classifier = nn.Linear(1024, num_classes)  # DenseNet121 output is 1024-d\n",
        "\n",
        "#     def forward(self, x):\n",
        "#         x = self.features(x)\n",
        "#         x = nn.functional.relu(x, inplace=True)\n",
        "#         x = nn.functional.adaptive_avg_pool2d(x, (1, 1)).view(x.size(0), -1)\n",
        "#         return self.classifier(x)\n",
        "\n",
        "# model = KimiaNetClassifier(num_classes=2) # only doing binary classification right now\n",
        "\n",
        "# # 2) Load pretrained KimiaNet weights and freeze backbone\n",
        "# kimianet_path = '/content/drive/MyDrive/Junior Year/STAT 390/KimiaNetPyTorchWeights.pth'  # 🔁 Update to your local path\n",
        "# state_dict = torch.load(kimianet_path, map_location='cpu')\n",
        "# filtered_state_dict = {k: v for k, v in state_dict.items() if not k.startswith(\"classifier\")}\n",
        "# model.load_state_dict(filtered_state_dict, strict=False)\n",
        "# print(\"✅ Loaded KimiaNet backbone weights\")\n",
        "\n",
        "# for p in model.features.parameters():\n",
        "#     p.requires_grad = False  # Freeze feature extractor\n",
        "\n",
        "# # 3) (Already done above) Classifier head is defined as nn.Linear(1024, 2)\n",
        "\n",
        "# # 4) Define optimizer on trainable parameters\n",
        "# optimizer = optim.Adam(\n",
        "#     filter(lambda p: p.requires_grad, model.parameters()),\n",
        "#     lr=CONFIG[\"lr\"]\n",
        "# )\n",
        "\n",
        "# # 5) Optional class weights for imbalance\n",
        "# def compute_class_weights(meta_df, labels_map):\n",
        "#     lbls = [labels_map[int(cid)] for cid in meta_df.case_number if int(cid) in labels_map]\n",
        "#     cnt = Counter(lbls)\n",
        "#     total = sum(cnt.values())\n",
        "#     return [total / cnt.get(0, 1), total / cnt.get(1, 1)]\n",
        "\n",
        "# class_weights = compute_class_weights(train_meta, labels_map)\n",
        "# cw_tensor = torch.tensor(class_weights, dtype=torch.float32).to(CONFIG[\"device\"])\n",
        "# criterion = nn.CrossEntropyLoss(weight=cw_tensor)\n",
        "\n",
        "# # Move model to device\n",
        "# model.to(CONFIG[\"device\"])"
      ]
    },
    {
      "cell_type": "code",
      "execution_count": 28,
      "metadata": {
        "id": "FBzKtN97qKAG"
      },
      "outputs": [],
      "source": [
        "# trained_model = train_model(\n",
        "#     model=model,\n",
        "#     optimizer=optimizer,\n",
        "#     criterion=criterion,\n",
        "#     train_loader=train_loader,\n",
        "#     val_loader=val_loader,\n",
        "#     epochs=CONFIG['num_epochs'],s\n",
        "#     scheduler=None,\n",
        "#     resume_from=None,\n",
        "#     device=CONFIG['device']\n",
        "# )"
      ]
    },
    {
      "cell_type": "code",
      "execution_count": null,
      "metadata": {
        "id": "0a8VtkIRXBDi"
      },
      "outputs": [],
      "source": [
        "# # ─── 7) MODEL SETUP (ResNET w/ CBAM) ───────────────────────────────────────────────\n",
        "\n",
        "# # 0) Define CBAM Components. Please change ratio and kernel_size to tune\n",
        "\n",
        "# class ChannelAttention(nn.Module):\n",
        "#     def __init__(self, in_planes, ratio=16):\n",
        "#         super(ChannelAttention, self).__init__()\n",
        "#         self.avg_pool = nn.AdaptiveAvgPool2d(1)\n",
        "#         self.max_pool = nn.AdaptiveMaxPool2d(1)\n",
        "#         self.fc1 = nn.Conv2d(in_planes, in_planes // ratio, 1, bias=False)\n",
        "#         self.relu1 = nn.ReLU()\n",
        "#         self.fc2 = nn.Conv2d(in_planes // ratio, in_planes, 1, bias=False)\n",
        "#         self.sigmoid = nn.Sigmoid()\n",
        "\n",
        "#     def forward(self, x):\n",
        "#         avg_out = self.fc2(self.relu1(self.fc1(self.avg_pool(x))))\n",
        "#         max_out = self.fc2(self.relu1(self.fc1(self.max_pool(x))))\n",
        "#         return self.sigmoid(avg_out + max_out)\n",
        "\n",
        "# class SpatialAttention(nn.Module):\n",
        "#     def __init__(self, kernel_size=7):\n",
        "#         super(SpatialAttention, self).__init__()\n",
        "#         padding = 3 if kernel_size == 7 else 1\n",
        "#         self.conv1 = nn.Conv2d(2, 1, kernel_size, padding=padding, bias=False)\n",
        "#         self.sigmoid = nn.Sigmoid()\n",
        "\n",
        "#     def forward(self, x):\n",
        "#         avg_out = torch.mean(x, dim=1, keepdim=True)\n",
        "#         max_out, _ = torch.max(x, dim=1, keepdim=True)\n",
        "#         x = torch.cat([avg_out, max_out], dim=1)\n",
        "#         return self.sigmoid(self.conv1(x))\n",
        "\n",
        "# class CBAM(nn.Module):\n",
        "#     def __init__(self, channels):\n",
        "#         super(CBAM, self).__init__()\n",
        "#         self.ca = ChannelAttention(channels)\n",
        "#         self.sa = SpatialAttention()\n",
        "\n",
        "#     def forward(self, x):\n",
        "#         x = self.ca(x) * x\n",
        "#         x = self.sa(x) * x\n",
        "#         return x\n",
        "\n",
        "# class ResNetCBAM(nn.Module):\n",
        "#     def __init__(self, num_classes=2):\n",
        "#         super(ResNetCBAM, self).__init__()\n",
        "#         base = models.resnet50(weights=models.ResNet50_Weights.DEFAULT)\n",
        "#         self.features = nn.Sequential(\n",
        "#             base.conv1,\n",
        "#             base.bn1,\n",
        "#             base.relu,\n",
        "#             base.maxpool,\n",
        "#             base.layer1,\n",
        "#             CBAM(256),\n",
        "#             base.layer2,\n",
        "#             CBAM(512),\n",
        "#             base.layer3,\n",
        "#             CBAM(1024),\n",
        "#             base.layer4,\n",
        "#             CBAM(2048),\n",
        "#             nn.AdaptiveAvgPool2d((6, 6))  # Match AlexNet-style output shape\n",
        "#         )\n",
        "#         in_ftrs = 2048 * 6 * 6\n",
        "#         self.classifier = nn.Sequential(\n",
        "#             nn.Dropout(), nn.Linear(in_ftrs, 4096), nn.ReLU(inplace=True),\n",
        "#             nn.Dropout(), nn.Linear(4096, 4096), nn.ReLU(inplace=True),\n",
        "#             nn.Linear(4096, num_classes)\n",
        "#         )\n",
        "\n",
        "#     def forward(self, x):\n",
        "#         x = self.features(x)\n",
        "#         x = torch.flatten(x, 1)\n",
        "#         return self.classifier(x)\n",
        "\n",
        "\n",
        "# # 1) Define your model object\n",
        "# model = ResNetCBAM(num_classes=2)\n",
        "\n",
        "# # 2) Freeze pretrained layers\n",
        "# for p in model.parameters():\n",
        "#     p.requires_grad = False\n",
        "\n",
        "# # Optionally unfreeze the classifier\n",
        "# for p in model.classifier.parameters():\n",
        "#     p.requires_grad = True\n",
        "\n",
        "# # 3)  Feature extractor already includes AdaptiveAvgPool2d and custom classifier should already be set\n",
        "\n",
        "# # 4) Move model to device\n",
        "# device = CONFIG[\"device\"]\n",
        "# model = model.to(device)\n",
        "\n",
        "# # Optimizer over only trainable parameters\n",
        "# optimizer = optim.Adam(\n",
        "#     filter(lambda p: p.requires_grad, model.parameters()),\n",
        "#     lr=CONFIG[\"lr\"]\n",
        "# )\n",
        "\n",
        "# # 5) Compute class weights for imbalance\n",
        "# def compute_class_weights(meta_df, labels_map):\n",
        "#     lbls = [labels_map[int(cid)] for cid in meta_df.case_number if int(cid) in labels_map]\n",
        "#     cnt = Counter(lbls)\n",
        "#     total = sum(cnt.values())\n",
        "#     return [total / cnt.get(0, 1), total / cnt.get(1, 1)]\n",
        "\n",
        "# class_weights = compute_class_weights(train_meta, labels_map)\n",
        "# cw_tensor = torch.tensor(class_weights, dtype=torch.float32).to(device)\n",
        "# criterion = nn.CrossEntropyLoss(weight=cw_tensor)"
      ]
    },
    {
      "cell_type": "code",
      "source": [
        "import os\n",
        "os.kill(os.getpid(), 9)"
      ],
      "metadata": {
        "id": "ChLnJUZr26md"
      },
      "execution_count": null,
      "outputs": []
    },
    {
      "cell_type": "code",
      "source": [],
      "metadata": {
        "id": "oxnHDtgR44__"
      },
      "execution_count": null,
      "outputs": []
    }
  ],
  "metadata": {
    "colab": {
      "provenance": [],
      "machine_shape": "hm",
      "gpuType": "L4"
    },
    "kernelspec": {
      "display_name": "Python 3",
      "name": "python3"
    },
    "language_info": {
      "codemirror_mode": {
        "name": "ipython",
        "version": 3
      },
      "file_extension": ".py",
      "mimetype": "text/x-python",
      "name": "python",
      "nbconvert_exporter": "python",
      "pygments_lexer": "ipython3",
      "version": "3.12.4"
    },
    "widgets": {
      "application/vnd.jupyter.widget-state+json": {
        "a768f7cb3da5475c9fe540923c833545": {
          "model_module": "@jupyter-widgets/controls",
          "model_name": "HBoxModel",
          "model_module_version": "1.5.0",
          "state": {
            "_dom_classes": [],
            "_model_module": "@jupyter-widgets/controls",
            "_model_module_version": "1.5.0",
            "_model_name": "HBoxModel",
            "_view_count": null,
            "_view_module": "@jupyter-widgets/controls",
            "_view_module_version": "1.5.0",
            "_view_name": "HBoxView",
            "box_style": "",
            "children": [
              "IPY_MODEL_fc08eb7cc0a74dc9b497c435cad0eb09",
              "IPY_MODEL_9df10bf375c346a58e2663bd7adbc3d2",
              "IPY_MODEL_2472f7a48873480d99cc3723be6bb058"
            ],
            "layout": "IPY_MODEL_820da902a505402588b58844699f4f64"
          }
        },
        "fc08eb7cc0a74dc9b497c435cad0eb09": {
          "model_module": "@jupyter-widgets/controls",
          "model_name": "HTMLModel",
          "model_module_version": "1.5.0",
          "state": {
            "_dom_classes": [],
            "_model_module": "@jupyter-widgets/controls",
            "_model_module_version": "1.5.0",
            "_model_name": "HTMLModel",
            "_view_count": null,
            "_view_module": "@jupyter-widgets/controls",
            "_view_module_version": "1.5.0",
            "_view_name": "HTMLView",
            "description": "",
            "description_tooltip": null,
            "layout": "IPY_MODEL_bbd7a31da91c441ba517611c61782709",
            "placeholder": "​",
            "style": "IPY_MODEL_c145cdbec6a848f0bdb59d047deb3ed2",
            "value": "model.safetensors: 100%"
          }
        },
        "9df10bf375c346a58e2663bd7adbc3d2": {
          "model_module": "@jupyter-widgets/controls",
          "model_name": "FloatProgressModel",
          "model_module_version": "1.5.0",
          "state": {
            "_dom_classes": [],
            "_model_module": "@jupyter-widgets/controls",
            "_model_module_version": "1.5.0",
            "_model_name": "FloatProgressModel",
            "_view_count": null,
            "_view_module": "@jupyter-widgets/controls",
            "_view_module_version": "1.5.0",
            "_view_name": "ProgressView",
            "bar_style": "success",
            "description": "",
            "description_tooltip": null,
            "layout": "IPY_MODEL_d788ef9e4fad4f28b6cc96a89d01c3cb",
            "max": 88216496,
            "min": 0,
            "orientation": "horizontal",
            "style": "IPY_MODEL_66e6ace0b41a4d55a74b023b488d6121",
            "value": 88216496
          }
        },
        "2472f7a48873480d99cc3723be6bb058": {
          "model_module": "@jupyter-widgets/controls",
          "model_name": "HTMLModel",
          "model_module_version": "1.5.0",
          "state": {
            "_dom_classes": [],
            "_model_module": "@jupyter-widgets/controls",
            "_model_module_version": "1.5.0",
            "_model_name": "HTMLModel",
            "_view_count": null,
            "_view_module": "@jupyter-widgets/controls",
            "_view_module_version": "1.5.0",
            "_view_name": "HTMLView",
            "description": "",
            "description_tooltip": null,
            "layout": "IPY_MODEL_58c1294ce3954d668564e095da7b9f82",
            "placeholder": "​",
            "style": "IPY_MODEL_b23094d944004b6da5e9f63fa6879296",
            "value": " 88.2M/88.2M [00:00&lt;00:00, 419MB/s]"
          }
        },
        "820da902a505402588b58844699f4f64": {
          "model_module": "@jupyter-widgets/base",
          "model_name": "LayoutModel",
          "model_module_version": "1.2.0",
          "state": {
            "_model_module": "@jupyter-widgets/base",
            "_model_module_version": "1.2.0",
            "_model_name": "LayoutModel",
            "_view_count": null,
            "_view_module": "@jupyter-widgets/base",
            "_view_module_version": "1.2.0",
            "_view_name": "LayoutView",
            "align_content": null,
            "align_items": null,
            "align_self": null,
            "border": null,
            "bottom": null,
            "display": null,
            "flex": null,
            "flex_flow": null,
            "grid_area": null,
            "grid_auto_columns": null,
            "grid_auto_flow": null,
            "grid_auto_rows": null,
            "grid_column": null,
            "grid_gap": null,
            "grid_row": null,
            "grid_template_areas": null,
            "grid_template_columns": null,
            "grid_template_rows": null,
            "height": null,
            "justify_content": null,
            "justify_items": null,
            "left": null,
            "margin": null,
            "max_height": null,
            "max_width": null,
            "min_height": null,
            "min_width": null,
            "object_fit": null,
            "object_position": null,
            "order": null,
            "overflow": null,
            "overflow_x": null,
            "overflow_y": null,
            "padding": null,
            "right": null,
            "top": null,
            "visibility": null,
            "width": null
          }
        },
        "bbd7a31da91c441ba517611c61782709": {
          "model_module": "@jupyter-widgets/base",
          "model_name": "LayoutModel",
          "model_module_version": "1.2.0",
          "state": {
            "_model_module": "@jupyter-widgets/base",
            "_model_module_version": "1.2.0",
            "_model_name": "LayoutModel",
            "_view_count": null,
            "_view_module": "@jupyter-widgets/base",
            "_view_module_version": "1.2.0",
            "_view_name": "LayoutView",
            "align_content": null,
            "align_items": null,
            "align_self": null,
            "border": null,
            "bottom": null,
            "display": null,
            "flex": null,
            "flex_flow": null,
            "grid_area": null,
            "grid_auto_columns": null,
            "grid_auto_flow": null,
            "grid_auto_rows": null,
            "grid_column": null,
            "grid_gap": null,
            "grid_row": null,
            "grid_template_areas": null,
            "grid_template_columns": null,
            "grid_template_rows": null,
            "height": null,
            "justify_content": null,
            "justify_items": null,
            "left": null,
            "margin": null,
            "max_height": null,
            "max_width": null,
            "min_height": null,
            "min_width": null,
            "object_fit": null,
            "object_position": null,
            "order": null,
            "overflow": null,
            "overflow_x": null,
            "overflow_y": null,
            "padding": null,
            "right": null,
            "top": null,
            "visibility": null,
            "width": null
          }
        },
        "c145cdbec6a848f0bdb59d047deb3ed2": {
          "model_module": "@jupyter-widgets/controls",
          "model_name": "DescriptionStyleModel",
          "model_module_version": "1.5.0",
          "state": {
            "_model_module": "@jupyter-widgets/controls",
            "_model_module_version": "1.5.0",
            "_model_name": "DescriptionStyleModel",
            "_view_count": null,
            "_view_module": "@jupyter-widgets/base",
            "_view_module_version": "1.2.0",
            "_view_name": "StyleView",
            "description_width": ""
          }
        },
        "d788ef9e4fad4f28b6cc96a89d01c3cb": {
          "model_module": "@jupyter-widgets/base",
          "model_name": "LayoutModel",
          "model_module_version": "1.2.0",
          "state": {
            "_model_module": "@jupyter-widgets/base",
            "_model_module_version": "1.2.0",
            "_model_name": "LayoutModel",
            "_view_count": null,
            "_view_module": "@jupyter-widgets/base",
            "_view_module_version": "1.2.0",
            "_view_name": "LayoutView",
            "align_content": null,
            "align_items": null,
            "align_self": null,
            "border": null,
            "bottom": null,
            "display": null,
            "flex": null,
            "flex_flow": null,
            "grid_area": null,
            "grid_auto_columns": null,
            "grid_auto_flow": null,
            "grid_auto_rows": null,
            "grid_column": null,
            "grid_gap": null,
            "grid_row": null,
            "grid_template_areas": null,
            "grid_template_columns": null,
            "grid_template_rows": null,
            "height": null,
            "justify_content": null,
            "justify_items": null,
            "left": null,
            "margin": null,
            "max_height": null,
            "max_width": null,
            "min_height": null,
            "min_width": null,
            "object_fit": null,
            "object_position": null,
            "order": null,
            "overflow": null,
            "overflow_x": null,
            "overflow_y": null,
            "padding": null,
            "right": null,
            "top": null,
            "visibility": null,
            "width": null
          }
        },
        "66e6ace0b41a4d55a74b023b488d6121": {
          "model_module": "@jupyter-widgets/controls",
          "model_name": "ProgressStyleModel",
          "model_module_version": "1.5.0",
          "state": {
            "_model_module": "@jupyter-widgets/controls",
            "_model_module_version": "1.5.0",
            "_model_name": "ProgressStyleModel",
            "_view_count": null,
            "_view_module": "@jupyter-widgets/base",
            "_view_module_version": "1.2.0",
            "_view_name": "StyleView",
            "bar_color": null,
            "description_width": ""
          }
        },
        "58c1294ce3954d668564e095da7b9f82": {
          "model_module": "@jupyter-widgets/base",
          "model_name": "LayoutModel",
          "model_module_version": "1.2.0",
          "state": {
            "_model_module": "@jupyter-widgets/base",
            "_model_module_version": "1.2.0",
            "_model_name": "LayoutModel",
            "_view_count": null,
            "_view_module": "@jupyter-widgets/base",
            "_view_module_version": "1.2.0",
            "_view_name": "LayoutView",
            "align_content": null,
            "align_items": null,
            "align_self": null,
            "border": null,
            "bottom": null,
            "display": null,
            "flex": null,
            "flex_flow": null,
            "grid_area": null,
            "grid_auto_columns": null,
            "grid_auto_flow": null,
            "grid_auto_rows": null,
            "grid_column": null,
            "grid_gap": null,
            "grid_row": null,
            "grid_template_areas": null,
            "grid_template_columns": null,
            "grid_template_rows": null,
            "height": null,
            "justify_content": null,
            "justify_items": null,
            "left": null,
            "margin": null,
            "max_height": null,
            "max_width": null,
            "min_height": null,
            "min_width": null,
            "object_fit": null,
            "object_position": null,
            "order": null,
            "overflow": null,
            "overflow_x": null,
            "overflow_y": null,
            "padding": null,
            "right": null,
            "top": null,
            "visibility": null,
            "width": null
          }
        },
        "b23094d944004b6da5e9f63fa6879296": {
          "model_module": "@jupyter-widgets/controls",
          "model_name": "DescriptionStyleModel",
          "model_module_version": "1.5.0",
          "state": {
            "_model_module": "@jupyter-widgets/controls",
            "_model_module_version": "1.5.0",
            "_model_name": "DescriptionStyleModel",
            "_view_count": null,
            "_view_module": "@jupyter-widgets/base",
            "_view_module_version": "1.2.0",
            "_view_name": "StyleView",
            "description_width": ""
          }
        }
      }
    },
    "accelerator": "GPU"
  },
  "nbformat": 4,
  "nbformat_minor": 0
}